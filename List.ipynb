{
 "cells": [
  {
   "cell_type": "code",
   "execution_count": 5,
   "id": "29ebc25f",
   "metadata": {},
   "outputs": [
    {
     "name": "stdout",
     "output_type": "stream",
     "text": [
      "6\n"
     ]
    }
   ],
   "source": [
    "thislist=[\"adnan\",\"adnan\",\"moin\",\"asad\",\"shoaib\",\"abdul\"]\n",
    "print(len(thislist))"
   ]
  },
  {
   "cell_type": "code",
   "execution_count": 6,
   "id": "79c65edc",
   "metadata": {},
   "outputs": [
    {
     "name": "stdout",
     "output_type": "stream",
     "text": [
      "<class 'list'>\n"
     ]
    }
   ],
   "source": [
    "x=[\"apple\",\"banana\",\"cherry\"]\n",
    "print(type(x))"
   ]
  },
  {
   "cell_type": "code",
   "execution_count": 5,
   "id": "7a735855",
   "metadata": {},
   "outputs": [
    {
     "name": "stdout",
     "output_type": "stream",
     "text": [
      "['adnan', 'asad', 'shoaib', 'wasim']\n"
     ]
    }
   ],
   "source": [
    "x=[\"adnan\",\"asad\",\"abdul\",\"wasim\"]\n",
    "x[2]=\"shoaib\"\n",
    "print(x)"
   ]
  },
  {
   "cell_type": "code",
   "execution_count": 24,
   "id": "b8b8ea1c",
   "metadata": {},
   "outputs": [
    {
     "name": "stdout",
     "output_type": "stream",
     "text": [
      "['moin', 'akbar', 'asad', 'apple', 'abdul']\n"
     ]
    }
   ],
   "source": [
    "x=[\"adnan\",\"moin\",\"akbar\",\"asad\",\"apple\",\"abdul\"]\n",
    "print(x[1::])"
   ]
  },
  {
   "cell_type": "code",
   "execution_count": 21,
   "id": "e3350de0",
   "metadata": {},
   "outputs": [
    {
     "name": "stdout",
     "output_type": "stream",
     "text": [
      "['cherry', 'mango', 'kiwi', 'adnan']\n"
     ]
    }
   ],
   "source": [
    "x=[\"apple\",\"banana\",\"cherry\",\"mango\",\"kiwi\",\"adnan\",\"moin\",\"akbar\"]\n",
    "print(x[2:6])"
   ]
  },
  {
   "cell_type": "code",
   "execution_count": 70,
   "id": "b90d8108",
   "metadata": {
    "scrolled": true
   },
   "outputs": [
    {
     "name": "stdout",
     "output_type": "stream",
     "text": [
      "palindrome\n"
     ]
    }
   ],
   "source": [
    "x=\"assa\"\n",
    "y=x[0::]\n",
    "z=x[::]\n",
    "if y == z:\n",
    "    print(\"palindrome\")\n",
    "else: \n",
    "    print(\"no palindrome\")\n",
    "    \n"
   ]
  },
  {
   "cell_type": "code",
   "execution_count": null,
   "id": "4deb969a",
   "metadata": {},
   "outputs": [],
   "source": []
  },
  {
   "cell_type": "code",
   "execution_count": 46,
   "id": "39d5916c",
   "metadata": {
    "scrolled": true
   },
   "outputs": [
    {
     "name": "stdout",
     "output_type": "stream",
     "text": [
      "yes, in this list.\n"
     ]
    }
   ],
   "source": [
    "x=[\"adnan\",\"asad\",\"abdul\",\"moin\",\"shoaib\"]\n",
    "if \"adnan\" in x:\n",
    "    print(\"yes, in this list.\")"
   ]
  },
  {
   "cell_type": "code",
   "execution_count": 3,
   "id": "791a9d97",
   "metadata": {},
   "outputs": [
    {
     "name": "stdout",
     "output_type": "stream",
     "text": [
      "['adnan', 'watermelon']\n"
     ]
    }
   ],
   "source": [
    "x=[\"adnan\",\"asad\",\"moin\"]\n",
    "x[1:3]=[\"watermelon\"]\n",
    "print(x)"
   ]
  },
  {
   "cell_type": "code",
   "execution_count": 9,
   "id": "9697ee3b",
   "metadata": {},
   "outputs": [
    {
     "name": "stdout",
     "output_type": "stream",
     "text": [
      "['adnan', 'wasim', 'asad', 'moin']\n"
     ]
    }
   ],
   "source": [
    "x=[\"adnan\",\"wasim\",\"asad\",\"cherry\"]\n",
    "x[3:4]=[\"moin\"]\n",
    "print(x)"
   ]
  },
  {
   "cell_type": "code",
   "execution_count": 10,
   "id": "a8191fe8",
   "metadata": {},
   "outputs": [
    {
     "name": "stdout",
     "output_type": "stream",
     "text": [
      "['adnan', 'abdul', 'asad', 'moin', 'akbar']\n"
     ]
    }
   ],
   "source": [
    "thislist=[\"adnan\",\"abdul\",\"asad\",\"moin\",\"cherry\"]\n",
    "thislist[4:5]=[\"akbar\"]\n",
    "print(thislist)"
   ]
  },
  {
   "cell_type": "code",
   "execution_count": 11,
   "id": "c1bdc5a8",
   "metadata": {},
   "outputs": [
    {
     "name": "stdout",
     "output_type": "stream",
     "text": [
      "['adnan', 'akbar', 'moin']\n"
     ]
    }
   ],
   "source": [
    "thislist=[\"adnan\",\"apple\",\"banana\"]\n",
    "thislist[1:3]=[\"akbar\",\"moin\"]\n",
    "print(thislist)"
   ]
  },
  {
   "cell_type": "code",
   "execution_count": 16,
   "id": "9a2037ff",
   "metadata": {},
   "outputs": [
    {
     "name": "stdout",
     "output_type": "stream",
     "text": [
      "['asad', 'adnan', 'wasim', 'akbar', 'shoaib']\n"
     ]
    }
   ],
   "source": [
    "thislist=[\"adnan\",\"wasim\",\"akbar\",\"shoaib\"]\n",
    "thislist.insert(0,\"asad\")\n",
    "print(thislist)"
   ]
  },
  {
   "cell_type": "code",
   "execution_count": 20,
   "id": "ffb846bd",
   "metadata": {},
   "outputs": [
    {
     "name": "stdout",
     "output_type": "stream",
     "text": [
      "['adnan', 'wasim', 'akbar']\n"
     ]
    }
   ],
   "source": [
    "x=[\"adnan\",\"wasim\",\"asad\"]\n",
    "x[2:3]=[\"akbar\"]\n",
    "print(x)"
   ]
  },
  {
   "cell_type": "code",
   "execution_count": 21,
   "id": "3897d25e",
   "metadata": {},
   "outputs": [
    {
     "name": "stdout",
     "output_type": "stream",
     "text": [
      "['adnan', 'asad', 'wasim']\n"
     ]
    }
   ],
   "source": [
    "thislist=[\"adnan\",\"asad\",]\n",
    "thislist.append(\"wasim\")\n",
    "print(thislist)"
   ]
  },
  {
   "cell_type": "code",
   "execution_count": 23,
   "id": "11b9ffd3",
   "metadata": {},
   "outputs": [
    {
     "name": "stdout",
     "output_type": "stream",
     "text": [
      "['apple', 'bananan', 'cherry', 'kiwi', 'watermelon', 'orange']\n"
     ]
    }
   ],
   "source": [
    "thislist=[\"apple\",\"bananan\",\"cherry\",]\n",
    "x=[\"kiwi\",\"watermelon\",\"orange\"]\n",
    "thislist.extend(x)\n",
    "print(thislist)"
   ]
  },
  {
   "cell_type": "code",
   "execution_count": 1,
   "id": "36c2ba13",
   "metadata": {},
   "outputs": [
    {
     "name": "stdout",
     "output_type": "stream",
     "text": [
      "10\n",
      "7\n"
     ]
    }
   ],
   "source": [
    "a=range(10,4,-3)\n",
    "for x in a:\n",
    " print(x)"
   ]
  },
  {
   "cell_type": "code",
   "execution_count": 58,
   "id": "1d2b2130",
   "metadata": {},
   "outputs": [
    {
     "name": "stdout",
     "output_type": "stream",
     "text": [
      "['adnan', 'asad', 'wasim', 'moin']\n"
     ]
    }
   ],
   "source": [
    "x=[\"adnan\",\"asad\",\"wasim\"]\n",
    "x.insert(3, \"moin\")\n",
    "print(x)"
   ]
  },
  {
   "cell_type": "code",
   "execution_count": 59,
   "id": "79c6881f",
   "metadata": {},
   "outputs": [
    {
     "name": "stdout",
     "output_type": "stream",
     "text": [
      "['asad', 'wasim', 'adnan']\n"
     ]
    }
   ],
   "source": [
    "x=[\"asad\",\"wasim\",]\n",
    "x.append(\"adnan\")\n",
    "print(x)"
   ]
  },
  {
   "cell_type": "code",
   "execution_count": 63,
   "id": "59535464",
   "metadata": {},
   "outputs": [
    {
     "name": "stdout",
     "output_type": "stream",
     "text": [
      "['apple', 'banana', 'cherry', 'kiwi', 'watermelon', 'adnan', 'asad', 'wasim', 'shoaib']\n"
     ]
    }
   ],
   "source": [
    "x=[\"adnan\",\"asad\",\"wasim\",\"shoaib\"]\n",
    "a=[\"apple\",\"banana\",\"cherry\",\"kiwi\",\"watermelon\"]\n",
    "a.extend(x)\n",
    "print(a)"
   ]
  },
  {
   "cell_type": "code",
   "execution_count": 1,
   "id": "11930702",
   "metadata": {},
   "outputs": [
    {
     "name": "stdout",
     "output_type": "stream",
     "text": [
      "['adnan', 'asad', 'wasim']\n"
     ]
    }
   ],
   "source": [
    "a=[\"adnan\",\"asad\",\"wasim\",\"shoaib\"]\n",
    "a.remove(\"shoaib\")\n",
    "print(a)"
   ]
  },
  {
   "cell_type": "code",
   "execution_count": 2,
   "id": "8326953b",
   "metadata": {},
   "outputs": [
    {
     "name": "stdout",
     "output_type": "stream",
     "text": [
      "['adnan', 'asad', 'moin', 'akbar']\n"
     ]
    }
   ],
   "source": [
    "x=[\"adnan\",\"abdul\",\"asad\",\"moin\",\"akbar\"]\n",
    "x.pop(1)\n",
    "print(x)"
   ]
  },
  {
   "cell_type": "code",
   "execution_count": 5,
   "id": "d400bced",
   "metadata": {},
   "outputs": [
    {
     "name": "stdout",
     "output_type": "stream",
     "text": [
      "[]\n"
     ]
    }
   ],
   "source": [
    "y=[\"apple\",\"banana\",\"cherry\",\"kiwi\"]\n",
    "y.clear()\n",
    "print(y)"
   ]
  },
  {
   "cell_type": "code",
   "execution_count": 7,
   "id": "c5efbae3",
   "metadata": {},
   "outputs": [
    {
     "name": "stdout",
     "output_type": "stream",
     "text": [
      "adnan\n",
      "moin\n",
      "abdul\n"
     ]
    }
   ],
   "source": [
    "x=[\"adnan\",\"moin\",\"abdul\"]\n",
    "for i in x:\n",
    "    print(i)"
   ]
  },
  {
   "cell_type": "code",
   "execution_count": 11,
   "id": "e9ae187d",
   "metadata": {},
   "outputs": [
    {
     "name": "stdout",
     "output_type": "stream",
     "text": [
      "adnan\n",
      "wasim\n",
      "asad\n",
      "moin\n",
      "akbar\n"
     ]
    },
    {
     "data": {
      "text/plain": [
       "[None, None, None, None, None]"
      ]
     },
     "execution_count": 11,
     "metadata": {},
     "output_type": "execute_result"
    }
   ],
   "source": [
    "#shorthand \n",
    "x=[\"adnan\",\"wasim\",\"asad\",\"moin\",\"akbar\"]\n",
    "[print(i) for i in x]"
   ]
  },
  {
   "cell_type": "code",
   "execution_count": 15,
   "id": "9910a628",
   "metadata": {},
   "outputs": [
    {
     "name": "stdout",
     "output_type": "stream",
     "text": [
      "0\n",
      "1\n",
      "2\n",
      "3\n"
     ]
    }
   ],
   "source": [
    "a=[\"apple\",\"banana\",\"cherry\",\"banana\"]\n",
    "for i in range(4):\n",
    "    print(i)"
   ]
  },
  {
   "cell_type": "code",
   "execution_count": 33,
   "id": "39bc645b",
   "metadata": {},
   "outputs": [
    {
     "name": "stdout",
     "output_type": "stream",
     "text": [
      "['asad', 'wasim', 'shoaib']\n",
      "['adnan', 'asad', 'wasim', 'shoaib']\n"
     ]
    }
   ],
   "source": [
    "r=[\"adnan\",\"asad\",\"wasim\",\"shoaib\"]\n",
    "newlist=[]\n",
    "\n",
    "for x in r:\n",
    "    if \"s\" in x:\n",
    "        newlist.append(x)\n",
    "\n",
    "print(newlist)\n",
    "print(r)"
   ]
  },
  {
   "cell_type": "markdown",
   "id": "9aea0e8f",
   "metadata": {},
   "source": [
    "# sort list"
   ]
  },
  {
   "cell_type": "code",
   "execution_count": 34,
   "id": "bf2c9b06",
   "metadata": {},
   "outputs": [
    {
     "name": "stdout",
     "output_type": "stream",
     "text": [
      "['watermelon', 'mango', 'kiwi', 'banana', 'apple']\n"
     ]
    }
   ],
   "source": [
    "a=[\"apple\",\"mango\",\"banana\",\"kiwi\",\"watermelon\"]\n",
    "a.sort(reverse = True)\n",
    "print(a)"
   ]
  },
  {
   "cell_type": "code",
   "execution_count": 38,
   "id": "b6560a08",
   "metadata": {},
   "outputs": [
    {
     "name": "stdout",
     "output_type": "stream",
     "text": [
      "['kiwi', 'mango', 'pineapple', 'watermelon']\n"
     ]
    }
   ],
   "source": [
    "a=[\"mango\",\"watermelon\",\"kiwi\",\"pineapple\"]\n",
    "a.sort(reverse = False)\n",
    "print(a)"
   ]
  },
  {
   "cell_type": "markdown",
   "id": "24965449",
   "metadata": {},
   "source": [
    "# add list"
   ]
  },
  {
   "cell_type": "code",
   "execution_count": 39,
   "id": "9703e0c6",
   "metadata": {},
   "outputs": [
    {
     "name": "stdout",
     "output_type": "stream",
     "text": [
      "['a', 'b', 'c', 'd', 'e', 'f', 1, 2, 3]\n"
     ]
    }
   ],
   "source": [
    "u=[\"a\",\"b\",\"c\",\"d\",\"e\",\"f\"]\n",
    "l=[1,2,3]\n",
    "\n",
    "x=u + l\n",
    "print(x)"
   ]
  },
  {
   "cell_type": "code",
   "execution_count": 40,
   "id": "07c262de",
   "metadata": {},
   "outputs": [
    {
     "name": "stdout",
     "output_type": "stream",
     "text": [
      "[1, 2, 3, 4, 5, 'a', 'b', 'c', 'd', 'e', 'f']\n"
     ]
    }
   ],
   "source": [
    "# extend() method\n",
    "u=[\"a\",\"b\",\"c\",\"d\",\"e\",\"f\"]\n",
    "l=[1,2,3,4,5]\n",
    "for x in u:\n",
    "    l.extend(x)\n",
    "print(l)"
   ]
  },
  {
   "cell_type": "code",
   "execution_count": 32,
   "id": "36211bef",
   "metadata": {},
   "outputs": [
    {
     "name": "stdout",
     "output_type": "stream",
     "text": [
      "['apple', 'cherry']\n"
     ]
    }
   ],
   "source": [
    "x=[\"apple\",\"bannana\",\"mango\",\"cherry\",\"kiwi\"]\n",
    "newlist=[]\n",
    "for i in x:\n",
    "    if \"e\" in i:\n",
    "        newlist.append(i)\n",
    "print(newlist)"
   ]
  },
  {
   "cell_type": "code",
   "execution_count": 27,
   "id": "923cbf14",
   "metadata": {},
   "outputs": [
    {
     "name": "stdout",
     "output_type": "stream",
     "text": [
      "apple\n",
      "banana\n",
      "cherry\n",
      "kiwi\n"
     ]
    }
   ],
   "source": [
    "a=[\"apple\",\"banana\",\"cherry\",\"kiwi\",]\n",
    "i=0\n",
    "while i < len(a):\n",
    "    print(a[i])\n",
    "    i = i + 1"
   ]
  },
  {
   "cell_type": "markdown",
   "id": "008aa6df",
   "metadata": {},
   "source": [
    "# set"
   ]
  },
  {
   "cell_type": "code",
   "execution_count": 4,
   "id": "3b09146d",
   "metadata": {},
   "outputs": [
    {
     "name": "stdout",
     "output_type": "stream",
     "text": [
      "{'cherry', 'orange', 'apple', 'banan'}\n"
     ]
    }
   ],
   "source": [
    "# .add() method\n",
    "x={\"apple\",\"banan\",\"cherry\"}\n",
    "x.add(\"orange\")\n",
    "print(x)"
   ]
  },
  {
   "cell_type": "code",
   "execution_count": 8,
   "id": "dd36f410",
   "metadata": {},
   "outputs": [
    {
     "name": "stdout",
     "output_type": "stream",
     "text": [
      "{'watermelon', 'dinner', 'banana', 'luch', 'fruits', 'cherry', 'apple', 'vegetable'}\n"
     ]
    }
   ],
   "source": [
    "# .upadate method\n",
    "thisset={\"apple\",\"banana\",\"cherry\"}\n",
    "x={\"fruits\",\"vegetable\",\"watermelon\",\"luch\",\"dinner\"}\n",
    "thisset.update(x)\n",
    "print(thisset)"
   ]
  },
  {
   "cell_type": "code",
   "execution_count": 13,
   "id": "b0c62907",
   "metadata": {},
   "outputs": [
    {
     "name": "stdout",
     "output_type": "stream",
     "text": [
      "{'adnan', 'moin', 'wasim', 'asad'}\n"
     ]
    }
   ],
   "source": [
    "# .remove method\n",
    "thisset={\"adnan\",\"moin\",\"akbar\",\"asad\",\"wasim\"}\n",
    "thisset.remove(\"akbar\")\n",
    "print(thisset)"
   ]
  },
  {
   "cell_type": "code",
   "execution_count": 14,
   "id": "0f8388a6",
   "metadata": {},
   "outputs": [
    {
     "name": "stdout",
     "output_type": "stream",
     "text": [
      "{'adnan', 'wasim', 'asad', 'akbar'}\n"
     ]
    }
   ],
   "source": [
    "# .discard() method \n",
    "thisset={\"adnan\",\"moin\",\"akbar\",\"asad\",\"wasim\"}\n",
    "thisset.discard(\"moin\")\n",
    "print(thisset)"
   ]
  },
  {
   "cell_type": "code",
   "execution_count": 19,
   "id": "1d8687ed",
   "metadata": {},
   "outputs": [
    {
     "name": "stdout",
     "output_type": "stream",
     "text": [
      "adnan\n"
     ]
    }
   ],
   "source": [
    "# .pop() method\n",
    "x={\"apple\",\"adnan\",\"cherry\"}\n",
    "l=x.pop()\n",
    "print(l)"
   ]
  },
  {
   "cell_type": "code",
   "execution_count": 20,
   "id": "259d4357",
   "metadata": {},
   "outputs": [
    {
     "name": "stdout",
     "output_type": "stream",
     "text": [
      "set()\n"
     ]
    }
   ],
   "source": [
    "# .clear() method\n",
    "x={\"apple\",\"banan\",\"cherry\"}\n",
    "x.clear()\n",
    "print(x)"
   ]
  },
  {
   "cell_type": "code",
   "execution_count": 29,
   "id": "992a245b",
   "metadata": {},
   "outputs": [
    {
     "ename": "TypeError",
     "evalue": "'set' object is not subscriptable",
     "output_type": "error",
     "traceback": [
      "\u001b[1;31m---------------------------------------------------------------------------\u001b[0m",
      "\u001b[1;31mTypeError\u001b[0m                                 Traceback (most recent call last)",
      "Input \u001b[1;32mIn [29]\u001b[0m, in \u001b[0;36m<cell line: 3>\u001b[1;34m()\u001b[0m\n\u001b[0;32m      2\u001b[0m i\u001b[38;5;241m=\u001b[39m\u001b[38;5;241m0\u001b[39m\n\u001b[0;32m      3\u001b[0m \u001b[38;5;28;01mwhile\u001b[39;00m i \u001b[38;5;241m<\u001b[39m \u001b[38;5;28mlen\u001b[39m(thisset):\n\u001b[1;32m----> 4\u001b[0m     \u001b[38;5;28mprint\u001b[39m(\u001b[43mthisset\u001b[49m\u001b[43m[\u001b[49m\u001b[43mi\u001b[49m\u001b[43m]\u001b[49m)\n\u001b[0;32m      5\u001b[0m i\u001b[38;5;241m=\u001b[39m i \u001b[38;5;241m+\u001b[39m \u001b[38;5;241m1\u001b[39m\n",
      "\u001b[1;31mTypeError\u001b[0m: 'set' object is not subscriptable"
     ]
    }
   ],
   "source": [
    "thisset={\"apple\",\"banana\",\"cherry\"}\n",
    "i=0\n",
    "while i < len(thisset):\n",
    "    print(thisset[i])\n",
    "i= i + 1"
   ]
  },
  {
   "cell_type": "code",
   "execution_count": 4,
   "id": "a030cff2",
   "metadata": {},
   "outputs": [
    {
     "name": "stdout",
     "output_type": "stream",
     "text": [
      "Enter Your Age: 18\n",
      "congratulation are you selected.\n",
      "Thankyou\n"
     ]
    }
   ],
   "source": [
    "age=int(input(\"Enter Your Age: \"))\n",
    "\n",
    "if age >= 18:\n",
    "    print(\"congratulation are you selected.\")\n",
    "elif age < 18 and age > 3: \n",
    "    print(\"so sorry you are not selected.\")\n",
    "print(\"Thankyou\")    "
   ]
  },
  {
   "cell_type": "code",
   "execution_count": 31,
   "id": "84b69d35",
   "metadata": {},
   "outputs": [
    {
     "name": "stdout",
     "output_type": "stream",
     "text": [
      "{'moin', 'shoaib', 'banana', 'cherry', 'apple', 'kasif'}\n"
     ]
    }
   ],
   "source": [
    "# union method\n",
    "x={\"apple\",\"banana\",\"cherry\"}\n",
    "y={\"shoaib\",\"kasif\",\"moin\"}\n",
    "z=x.union(y)\n",
    "print(z)"
   ]
  },
  {
   "cell_type": "code",
   "execution_count": 35,
   "id": "722b53fd",
   "metadata": {},
   "outputs": [
    {
     "name": "stdout",
     "output_type": "stream",
     "text": [
      "{'fruits', 'banana', 'cherry', 'apple', 'mango', 'pienapple'}\n"
     ]
    }
   ],
   "source": [
    "# update method\n",
    "x={\"apple\",\"banana\",\"cherry\"}\n",
    "y={\"mango\",\"fruits\",\"pienapple\"}\n",
    "x.update(y)\n",
    "print(x)"
   ]
  },
  {
   "cell_type": "code",
   "execution_count": 73,
   "id": "48441c1c",
   "metadata": {},
   "outputs": [
    {
     "name": "stdout",
     "output_type": "stream",
     "text": [
      "('adnan', 'orange', 'cherry')\n"
     ]
    }
   ],
   "source": [
    "x=(\"adnan\",\"banana\",\"cherry\")\n",
    "y=list(x)\n",
    "y[1]=\"orange\"\n",
    "x=tuple(y)\n",
    "print(x)"
   ]
  },
  {
   "cell_type": "code",
   "execution_count": 75,
   "id": "d6f97395",
   "metadata": {},
   "outputs": [
    {
     "name": "stdout",
     "output_type": "stream",
     "text": [
      "[1, 4, 9, 16, 25]\n",
      "[256, 289, 324, 361, 400]\n"
     ]
    }
   ],
   "source": [
    "def printValues():\n",
    "    l = list()\n",
    "    for i in range(1,21):\n",
    "        l.append(i**2)\n",
    "    print(l[:5])\n",
    "    print(l[-5:])\n",
    "    \n",
    "printValues()   "
   ]
  },
  {
   "cell_type": "code",
   "execution_count": 79,
   "id": "82ec2daa",
   "metadata": {},
   "outputs": [
    {
     "name": "stdout",
     "output_type": "stream",
     "text": [
      "{'adnan'}\n"
     ]
    }
   ],
   "source": [
    "x={\"adnan\",\"asad\",\"shoaib\"}\n",
    "y={\"adnan\",\"akbar\",\"kasif\"}\n",
    "x.intersection_update(y)\n",
    "print(x)"
   ]
  },
  {
   "cell_type": "code",
   "execution_count": 91,
   "id": "7ae6755d",
   "metadata": {},
   "outputs": [
    {
     "name": "stdout",
     "output_type": "stream",
     "text": [
      "{'adnan', 'shoaib', 'asad'}\n"
     ]
    }
   ],
   "source": [
    "x={\"adnan\",\"asad\",\"shoaib\"}\n",
    "y={\"adnan\",\"shoaib\",\"kasif\"}\n",
    "x.symmetric_difference(y)\n",
    "print(x)"
   ]
  },
  {
   "cell_type": "markdown",
   "id": "8781ee92",
   "metadata": {},
   "source": [
    "# dictionary"
   ]
  },
  {
   "cell_type": "code",
   "execution_count": 103,
   "id": "d278137f",
   "metadata": {},
   "outputs": [
    {
     "name": "stdout",
     "output_type": "stream",
     "text": [
      "3\n"
     ]
    }
   ],
   "source": [
    "thisdic={\"brand\":\"ford\",\n",
    "        \"modal\":\"mustange\",\n",
    "        \"year\":\"2020\",}\n",
    "       # \"year\":\"2022\"\n",
    "print(len(thisdic))"
   ]
  },
  {
   "cell_type": "markdown",
   "id": "7e21a23d",
   "metadata": {},
   "source": [
    "# mutable - can change (list) (dict)\n",
    "# immutable- can't change (tuple) (set)"
   ]
  },
  {
   "cell_type": "code",
   "execution_count": 41,
   "id": "8d139553",
   "metadata": {},
   "outputs": [
    {
     "name": "stdout",
     "output_type": "stream",
     "text": [
      "{'moin': 'bruger', 'adnan': 'pizza', 'akbar': {'b': 'chaitoast', 'l': 'baalchawal', 'd': 'kabab'}, 'asad': ['mango']}\n"
     ]
    }
   ],
   "source": [
    "thisdict={\"moin\": \"bruger\",\n",
    "         \"adnan\": \"pizza\",\n",
    "         \"akbar\":{\"b\":\"chaitoast\",\"l\":\"baalchawal\",\"d\":\"kabab\"}}\n",
    "thisdict[\"asad\"] = [\"mango\"]\n",
    "#thisdict[\"shoaib\"]= [\"apple\"]\n",
    "print(thisdict)"
   ]
  },
  {
   "cell_type": "markdown",
   "id": "b21dc608",
   "metadata": {},
   "source": [
    "# tuple"
   ]
  },
  {
   "cell_type": "code",
   "execution_count": 124,
   "id": "d10d5822",
   "metadata": {},
   "outputs": [
    {
     "name": "stdout",
     "output_type": "stream",
     "text": [
      "('adnan', 'wasim', 'shoaib')\n"
     ]
    }
   ],
   "source": [
    "x=(\"adnan\",\"wasim\",\"asad\")\n",
    "y=list(x)\n",
    "y[2]=(\"shoaib\")\n",
    "x=tuple(y)\n",
    "print(x)"
   ]
  },
  {
   "cell_type": "code",
   "execution_count": 144,
   "id": "39b77c2d",
   "metadata": {},
   "outputs": [
    {
     "name": "stdout",
     "output_type": "stream",
     "text": [
      "('adnan', 'moin', 'akbar', 'asad', 'apple', 'banana', 'cherry', 'mango', 'abdul', 'orange', 'pienapple')\n"
     ]
    }
   ],
   "source": [
    "m=(\"adnan\",\"moin\",\"akbar\",\"asad\",\"apple\",\"banana\",\"cherry\",\"mango\",\"abdul\")\n",
    "y=list(m)\n",
    "y.append(\"orange\")\n",
    "y.append(\"pienapple\")\n",
    "\n",
    "t=tuple(y)\n",
    "print(t)\n"
   ]
  },
  {
   "cell_type": "code",
   "execution_count": 145,
   "id": "ba66d13e",
   "metadata": {},
   "outputs": [
    {
     "name": "stdout",
     "output_type": "stream",
     "text": [
      "('apple', 'orange', 'cherry')\n"
     ]
    }
   ],
   "source": [
    "x=(\"apple\",\"banana\",\"cherry\")\n",
    "z=list(x)\n",
    "z[1]=(\"orange\")\n",
    "y=tuple(z)\n",
    "print(y)"
   ]
  },
  {
   "cell_type": "code",
   "execution_count": 150,
   "id": "36544a1a",
   "metadata": {},
   "outputs": [
    {
     "name": "stdout",
     "output_type": "stream",
     "text": [
      "('mogodibi', 'apple', 'banana', 'cherry', 'mango', 'pienapple')\n"
     ]
    }
   ],
   "source": [
    "x=(\"apple\",\"banana\",\"cherry\",\"mango\",\"pienapple\")\n",
    "y=(\"mogodibi\",)\n",
    "y += x\n",
    "print(y)\n"
   ]
  },
  {
   "cell_type": "code",
   "execution_count": 155,
   "id": "37389042",
   "metadata": {},
   "outputs": [
    {
     "name": "stdout",
     "output_type": "stream",
     "text": [
      "('adnan', 'asad', 'akbar')\n"
     ]
    }
   ],
   "source": [
    "x=(\"adnan\",\"asad\",\"shoaib\",\"akbar\")\n",
    "y=list(x)\n",
    "y.remove(\"shoaib\")\n",
    "z=tuple(y)\n",
    "print(z)"
   ]
  },
  {
   "cell_type": "code",
   "execution_count": 174,
   "id": "b9eef9fd",
   "metadata": {},
   "outputs": [
    {
     "name": "stdout",
     "output_type": "stream",
     "text": [
      "21\n",
      "<class 'dict'>\n",
      "2\n",
      "dict_keys(['name', 'age'])\n"
     ]
    }
   ],
   "source": [
    "thisdict={\"name\": \"adnan\",\"age\": \"21\"}\n",
    "print(thisdict[\"age\"])\n",
    "print(type(thisdict))\n",
    "print(len(thisdict))\n",
    "x=thisdict.keys()\n",
    "print(x)"
   ]
  },
  {
   "cell_type": "code",
   "execution_count": 179,
   "id": "34253b6f",
   "metadata": {},
   "outputs": [
    {
     "name": "stdout",
     "output_type": "stream",
     "text": [
      "dict_keys(['moin', 'akbar', 'abdul', 'adnan'])\n"
     ]
    }
   ],
   "source": [
    "thisdic={\"moin\":\"pizza\",\n",
    "        \"akbar\" :\"burger\",\n",
    "        \"abdul\" : \"kababs\",\n",
    "        \"adnan\" : {\"b\":\"chaitoast\",\"l\" :\"daalchawal\",\"d\":\"butterchiken\"}}\n",
    "x=thisdic.keys()\n",
    "print(x)"
   ]
  },
  {
   "cell_type": "code",
   "execution_count": 28,
   "id": "c439b308",
   "metadata": {},
   "outputs": [
    {
     "ename": "SyntaxError",
     "evalue": "invalid syntax. Perhaps you forgot a comma? (2536240212.py, line 4)",
     "output_type": "error",
     "traceback": [
      "\u001b[1;36m  Input \u001b[1;32mIn [28]\u001b[1;36m\u001b[0m\n\u001b[1;33m    print(f {i} is even number)\u001b[0m\n\u001b[1;37m          ^\u001b[0m\n\u001b[1;31mSyntaxError\u001b[0m\u001b[1;31m:\u001b[0m invalid syntax. Perhaps you forgot a comma?\n"
     ]
    }
   ],
   "source": [
    "list1=[2,4,6,24,32]\n",
    "for i in list1:\n",
    "    if i%2 ==0:\n",
    "        print(f {i} is even number)\n",
    "        else:\n",
    "            "
   ]
  },
  {
   "cell_type": "code",
   "execution_count": 182,
   "id": "b34dbc8a",
   "metadata": {},
   "outputs": [
    {
     "name": "stdout",
     "output_type": "stream",
     "text": [
      "1\n",
      "0\n",
      "2\n",
      "4\n"
     ]
    }
   ],
   "source": [
    "a= '1024'\n",
    "for i in a :\n",
    "    print(i)"
   ]
  },
  {
   "cell_type": "code",
   "execution_count": 186,
   "id": "4369b991",
   "metadata": {},
   "outputs": [
    {
     "name": "stdout",
     "output_type": "stream",
     "text": [
      "malayala\n"
     ]
    }
   ],
   "source": [
    "x=\"malayalam\"\n",
    "b=x[:-1]\n",
    "print(b)"
   ]
  },
  {
   "cell_type": "code",
   "execution_count": 56,
   "id": "2c64e278",
   "metadata": {},
   "outputs": [
    {
     "name": "stdout",
     "output_type": "stream",
     "text": [
      "6\n"
     ]
    },
    {
     "data": {
      "text/plain": [
       "6"
      ]
     },
     "execution_count": 56,
     "metadata": {},
     "output_type": "execute_result"
    }
   ],
   "source": [
    "def add(b,a):\n",
    "    A=a+b\n",
    "    return A \n",
    "add(2,4)\n",
    "c=add(2,4)\n",
    "print(c)"
   ]
  },
  {
   "cell_type": "code",
   "execution_count": 22,
   "id": "82119214",
   "metadata": {},
   "outputs": [
    {
     "name": "stdout",
     "output_type": "stream",
     "text": [
      "ag\n"
     ]
    }
   ],
   "source": [
    "a=\"python program\"\n",
    "b=a[-2:9:-2]\n",
    "print(b)"
   ]
  },
  {
   "cell_type": "code",
   "execution_count": 11,
   "id": "76eeff9c",
   "metadata": {},
   "outputs": [
    {
     "name": "stdout",
     "output_type": "stream",
     "text": [
      "Akbar\n"
     ]
    }
   ],
   "source": [
    "x=\"akbar\"\n",
    "y=x.capitalize()\n",
    "print(y)"
   ]
  },
  {
   "cell_type": "code",
   "execution_count": 12,
   "id": "d37ee192",
   "metadata": {},
   "outputs": [
    {
     "name": "stdout",
     "output_type": "stream",
     "text": [
      "dict_values(['mustange', 'ford', '2022'])\n"
     ]
    }
   ],
   "source": [
    "car = {\"model\" : \"mustange\",\n",
    "       \"brand\" : \"ford\",\n",
    "       \"year\"  : \"2022\"\n",
    "}\n",
    "x=car.values()\n",
    "print(x)"
   ]
  },
  {
   "cell_type": "code",
   "execution_count": 39,
   "id": "e268f8a7",
   "metadata": {},
   "outputs": [
    {
     "name": "stdout",
     "output_type": "stream",
     "text": [
      "None\n"
     ]
    }
   ],
   "source": [
    "data={\"anam\" : 40, \"asif\":\"30\"}\n",
    "print(data.get(\"shoaib\"))"
   ]
  },
  {
   "cell_type": "code",
   "execution_count": 1,
   "id": "2991411e",
   "metadata": {},
   "outputs": [
    {
     "name": "stdout",
     "output_type": "stream",
     "text": [
      "40\n"
     ]
    }
   ],
   "source": [
    "data={\"anam\" : 40, \"asif\":\"30\",\"adnan\": 80}\n",
    "value=data.pop(\"anam\")\n",
    "print(value)"
   ]
  },
  {
   "cell_type": "code",
   "execution_count": 60,
   "id": "22ccff0f",
   "metadata": {},
   "outputs": [
    {
     "name": "stdout",
     "output_type": "stream",
     "text": [
      "[1, 2, 3, 4]\n"
     ]
    }
   ],
   "source": [
    "value=[1,1,2,3,4,3]\n",
    "print(value[1:5])"
   ]
  },
  {
   "cell_type": "code",
   "execution_count": 61,
   "id": "a9cc1120",
   "metadata": {},
   "outputs": [
    {
     "name": "stdout",
     "output_type": "stream",
     "text": [
      "[1, 2, 3, 4, 5]\n"
     ]
    }
   ],
   "source": [
    "value=[1,1,1,2,2,2,4,3,3,5,5,5]\n",
    "a=set(value)\n",
    "b=list(a)\n",
    "print(b)"
   ]
  },
  {
   "cell_type": "code",
   "execution_count": 3,
   "id": "48f0505b",
   "metadata": {},
   "outputs": [
    {
     "ename": "NameError",
     "evalue": "name 'a' is not defined",
     "output_type": "error",
     "traceback": [
      "\u001b[1;31m---------------------------------------------------------------------------\u001b[0m",
      "\u001b[1;31mNameError\u001b[0m                                 Traceback (most recent call last)",
      "Input \u001b[1;32mIn [3]\u001b[0m, in \u001b[0;36m<cell line: 6>\u001b[1;34m()\u001b[0m\n\u001b[0;32m      5\u001b[0m     \u001b[38;5;28mprint\u001b[39m(b)\n\u001b[0;32m      6\u001b[0m \u001b[38;5;28;01mfor\u001b[39;00m i \u001b[38;5;129;01min\u001b[39;00m \u001b[38;5;28mrange\u001b[39m(\u001b[38;5;241m2\u001b[39m,n):\n\u001b[1;32m----> 7\u001b[0m     c\u001b[38;5;241m=\u001b[39m\u001b[43ma\u001b[49m\u001b[38;5;241m+\u001b[39mb\n\u001b[0;32m      8\u001b[0m     a\u001b[38;5;241m=\u001b[39mb\n\u001b[0;32m      9\u001b[0m     a\u001b[38;5;241m=\u001b[39mc\n",
      "\u001b[1;31mNameError\u001b[0m: name 'a' is not defined"
     ]
    }
   ],
   "source": [
    "def fib(n):\n",
    "    a=0\n",
    "    b=1\n",
    "    print(a)\n",
    "    print(b)\n",
    "for i in range(2,n):\n",
    "    c=a+b\n",
    "    a=b\n",
    "    a=c\n",
    "    print(c)\n",
    "    fib(5)\n"
   ]
  },
  {
   "cell_type": "code",
   "execution_count": 9,
   "id": "ed2db14f",
   "metadata": {},
   "outputs": [
    {
     "name": "stdout",
     "output_type": "stream",
     "text": [
      "enter the number227\n",
      "0\n",
      "1\n",
      "1\n",
      "2\n",
      "3\n",
      "5\n",
      "8\n",
      "13\n",
      "21\n",
      "34\n",
      "55\n",
      "89\n",
      "144\n"
     ]
    }
   ],
   "source": [
    "#  0,1,1,2,3,5,8,,13,21\n",
    "n=int(input(\"enter the number\"))\n",
    "x=0\n",
    "y=1\n",
    "z=0\n",
    "while (z <=n):\n",
    "    print(z)\n",
    "    x=y\n",
    "    y=z\n",
    "    z=x+y"
   ]
  },
  {
   "cell_type": "code",
   "execution_count": 13,
   "id": "329714d6",
   "metadata": {},
   "outputs": [
    {
     "name": "stdout",
     "output_type": "stream",
     "text": [
      "[1, 2, 3, 4, 5]\n"
     ]
    }
   ],
   "source": [
    "value=[1,1,1,2,2,2,3,3,3,5,5,4,4]\n",
    "x=set(value)\n",
    "y=list(x)\n",
    "print(y)"
   ]
  },
  {
   "cell_type": "code",
   "execution_count": 36,
   "id": "9ccdc428",
   "metadata": {},
   "outputs": [
    {
     "name": "stdout",
     "output_type": "stream",
     "text": [
      "dict_values([80, 10, 40, 'mango'])\n",
      "{'adnan': 80, 'shoaib': 10, 'akbar': 40, 'jafar': 'mango'}\n"
     ]
    }
   ],
   "source": [
    "thisdic={\"adnan\":80,\"shoaib\":10,\"akbar\":40}\n",
    "thisdic[\"jafar\"]=\"mango\"\n",
    "print(thisdic.values())\n",
    "print(thisdic)"
   ]
  },
  {
   "cell_type": "code",
   "execution_count": 58,
   "id": "eb9614d8",
   "metadata": {},
   "outputs": [
    {
     "name": "stdout",
     "output_type": "stream",
     "text": [
      "{'adnan': 'mango', 'akbar': 'kiwi', 'fruits': ['apple', 'banana', 'cherry']}\n"
     ]
    }
   ],
   "source": [
    "thisdict={\"adnan\": \"mango\",\"akbar\":\"kiwi\",\"fruits\":[\"apple\",\"banana\",\"cherry\"]}\n",
    "'''x=thisdict.get(\"shoaib\")\n",
    "y=thisdict.keys()\n",
    "z=thisdict.values()\n",
    "\n",
    "print(y)\n",
    "print(x)\n",
    "print(z)'''\n",
    "#thisdict[\"adnan\"]=\"pienapple\"\n",
    "#thisdict.update({\"moin\":\"watermelon\"})\n",
    "#thisdict.popitem()\n",
    "#del thisdict[\"akbar\"]\n",
    "#thisdict.clear()\n",
    "print(thisdict)"
   ]
  },
  {
   "cell_type": "code",
   "execution_count": 75,
   "id": "88f42b98",
   "metadata": {},
   "outputs": [
    {
     "name": "stdout",
     "output_type": "stream",
     "text": [
      "('brand', 'ford')\n",
      "('model', 'mustang')\n",
      "('release', 2022)\n",
      "('adnan', 2021)\n"
     ]
    }
   ],
   "source": [
    "thisdict={\"brand\":\"ford\",\"model\":\"mustang\"}\n",
    "#x=thisdict.values()\n",
    "#for i in x:\n",
    " #   print(i)\n",
    "thisdict[\"release\"]=2022\n",
    "thisdict.update({\"adnan\":2021})\n",
    "x=thisdict.items()\n",
    "for i in x:\n",
    "    print(i)"
   ]
  },
  {
   "cell_type": "code",
   "execution_count": 73,
   "id": "3885d76e",
   "metadata": {},
   "outputs": [
    {
     "name": "stdout",
     "output_type": "stream",
     "text": [
      "{'child1': {'name': 'krk', 'roll': 36}, 'child2': {'name': 'adnan', 'roll': 35}}\n"
     ]
    }
   ],
   "source": [
    "ch1={\"name\":\"krk\",\"roll\":36}\n",
    "ch2={\"name\":\"adnan\",\"roll\":35}\n",
    "dicti={\"child1\":ch1,\n",
    "     \"child2\":ch2}\n",
    "print(dicti)"
   ]
  },
  {
   "cell_type": "code",
   "execution_count": 84,
   "id": "49ec1fcf",
   "metadata": {},
   "outputs": [
    {
     "name": "stdout",
     "output_type": "stream",
     "text": [
      "adnan mango\n",
      "asad kiwi\n",
      "fruits apple\n"
     ]
    }
   ],
   "source": [
    "thisdic={\"adnan\":\"mango\",\"asad\":\"kiwi\",\"fruits\":\"apple\"}\n",
    "for x,y in thisdic.items():\n",
    "    print(x,y)"
   ]
  },
  {
   "cell_type": "code",
   "execution_count": 112,
   "id": "eca41699",
   "metadata": {},
   "outputs": [
    {
     "name": "stdout",
     "output_type": "stream",
     "text": [
      "* \n",
      "* * \n",
      "* * * \n",
      "* * * * \n",
      "* * * * * \n"
     ]
    }
   ],
   "source": [
    "for i in range(1,6):\n",
    "    for j in range(1,i+1):\n",
    "        print(\"*\",end=\" \")\n",
    "    print()   "
   ]
  },
  {
   "cell_type": "code",
   "execution_count": 10,
   "id": "11106ab4",
   "metadata": {},
   "outputs": [
    {
     "name": "stdout",
     "output_type": "stream",
     "text": [
      "1\n",
      "2\n",
      "3\n",
      "4\n",
      "5\n"
     ]
    }
   ],
   "source": [
    "#i row\n",
    "i =1\n",
    "while i<=5:\n",
    "   # j=1\n",
    "   # while j <=i:\n",
    "    #    print(\"*\",end=\" \")\n",
    "     #   j=j+1\n",
    "    print(i)\n",
    "    i=i+1"
   ]
  },
  {
   "cell_type": "code",
   "execution_count": 5,
   "id": "241dfd68",
   "metadata": {},
   "outputs": [
    {
     "name": "stdout",
     "output_type": "stream",
     "text": [
      "1 \n",
      "2 3 \n",
      "4 5 6 \n",
      "7 8 9 10 \n",
      "11 12 13 14 15 \n"
     ]
    }
   ],
   "source": [
    "n=1\n",
    "for i in range(5):\n",
    "    for j in range(i+1):\n",
    "        print(n,end=\" \")\n",
    "        n+=1\n",
    "    print()"
   ]
  },
  {
   "cell_type": "code",
   "execution_count": 6,
   "id": "008568c1",
   "metadata": {},
   "outputs": [
    {
     "name": "stdout",
     "output_type": "stream",
     "text": [
      "1 \n",
      "1 2 \n",
      "1 2 3 \n",
      "1 2 3 4 \n",
      "1 2 3 4 5 \n"
     ]
    }
   ],
   "source": [
    "for i in range(5):\n",
    "    for j in range(i+1):\n",
    "        print(j+1,end=\" \")\n",
    "    print()"
   ]
  },
  {
   "cell_type": "code",
   "execution_count": 4,
   "id": "d5397263",
   "metadata": {},
   "outputs": [
    {
     "name": "stdout",
     "output_type": "stream",
     "text": [
      "****\n",
      "*********\n",
      "**********\n",
      "*******\n",
      "\n"
     ]
    }
   ],
   "source": [
    "for i in range(1,6):\n",
    "    for k in range(1,6-i):\n",
    "        print((''),end=\"\")\n",
    "        for j in range(1,(2*i-1)+1):\n",
    "            print('*',end =\"\")\n",
    "    print()\n",
    "    # empty string('')"
   ]
  },
  {
   "cell_type": "code",
   "execution_count": 130,
   "id": "a5cc0be8",
   "metadata": {},
   "outputs": [
    {
     "name": "stdout",
     "output_type": "stream",
     "text": [
      "buzz is 1\n",
      "buzz is 3\n",
      "fizz is 4\n",
      "buzz is 3\n",
      "fizz is 4\n",
      "buzz is 5\n",
      "buzz is 13\n",
      "fizz is 98\n",
      "fizz is 16\n"
     ]
    }
   ],
   "source": [
    "list1=[1,3,4,3,4,5,13,98,16]\n",
    "for i in list1:\n",
    "    if i % 2==0:\n",
    "        print(\"fizz is\",i)\n",
    "    else:\n",
    "        print(\"buzz is\",i)"
   ]
  },
  {
   "cell_type": "code",
   "execution_count": 147,
   "id": "0191a98c",
   "metadata": {},
   "outputs": [
    {
     "name": "stdout",
     "output_type": "stream",
     "text": [
      "yes,a and b are equal.\n"
     ]
    }
   ],
   "source": [
    "a=2\n",
    "b=2\n",
    "if a > b:\n",
    "    print(\"yes,a is greater then b\")\n",
    "elif a == b:\n",
    "        print(\"yes,a and b are equal.\")\n",
    "else:\n",
    "    print(\"none\")"
   ]
  },
  {
   "cell_type": "code",
   "execution_count": 149,
   "id": "09032fa0",
   "metadata": {},
   "outputs": [
    {
     "name": "stdout",
     "output_type": "stream",
     "text": [
      "yes shoaib is in this dict\n"
     ]
    }
   ],
   "source": [
    "x={\"adnan\":\"mango\",\n",
    "   \"shoaib\":\"apple\",\n",
    "   \"akbar\":\"banana\"}\n",
    "if \"shoaib\" in x:\n",
    "    print(\"yes shoaib is in this dict\")"
   ]
  },
  {
   "cell_type": "code",
   "execution_count": 154,
   "id": "2fee1d9b",
   "metadata": {},
   "outputs": [
    {
     "name": "stdout",
     "output_type": "stream",
     "text": [
      "both conditions are True.\n"
     ]
    }
   ],
   "source": [
    "a=200 \n",
    "b=33\n",
    "c=500\n",
    "if a > b and c > a:\n",
    "    print(\"both conditions are True.\")"
   ]
  },
  {
   "cell_type": "code",
   "execution_count": 3,
   "id": "da7c3e35",
   "metadata": {},
   "outputs": [
    {
     "name": "stdout",
     "output_type": "stream",
     "text": [
      "[1, 2, 3, 4, 5, [6, 7, 8, 9]]\n"
     ]
    }
   ],
   "source": [
    "x=[1,2,3,4,5]\n",
    "\n",
    "x.append([6,7,8,9])\n",
    "print(x)"
   ]
  },
  {
   "cell_type": "code",
   "execution_count": 2,
   "id": "6b65fc03",
   "metadata": {},
   "outputs": [
    {
     "name": "stdout",
     "output_type": "stream",
     "text": [
      "[1, 2, 3, 4, 5, 6, 7, 8, 9]\n"
     ]
    }
   ],
   "source": [
    "a=[1,2,3,4,5]\n",
    "a.extend([6,7,8,9])\n",
    "print(a)"
   ]
  },
  {
   "cell_type": "code",
   "execution_count": 8,
   "id": "90d17c41",
   "metadata": {},
   "outputs": [
    {
     "ename": "TypeError",
     "evalue": "list.remove() takes exactly one argument (0 given)",
     "output_type": "error",
     "traceback": [
      "\u001b[1;31m---------------------------------------------------------------------------\u001b[0m",
      "\u001b[1;31mTypeError\u001b[0m                                 Traceback (most recent call last)",
      "Input \u001b[1;32mIn [8]\u001b[0m, in \u001b[0;36m<cell line: 2>\u001b[1;34m()\u001b[0m\n\u001b[0;32m      1\u001b[0m x\u001b[38;5;241m=\u001b[39m[\u001b[38;5;124m\"\u001b[39m\u001b[38;5;124madnan\u001b[39m\u001b[38;5;124m\"\u001b[39m,\u001b[38;5;124m\"\u001b[39m\u001b[38;5;124makbar\u001b[39m\u001b[38;5;124m\"\u001b[39m,\u001b[38;5;124m\"\u001b[39m\u001b[38;5;124mmoin\u001b[39m\u001b[38;5;124m\"\u001b[39m,\u001b[38;5;124m\"\u001b[39m\u001b[38;5;124mabdul\u001b[39m\u001b[38;5;124m\"\u001b[39m]\n\u001b[1;32m----> 2\u001b[0m \u001b[43mx\u001b[49m\u001b[38;5;241;43m.\u001b[39;49m\u001b[43mremove\u001b[49m\u001b[43m(\u001b[49m\u001b[43m)\u001b[49m\n\u001b[0;32m      3\u001b[0m \u001b[38;5;28mprint\u001b[39m(x)\n",
      "\u001b[1;31mTypeError\u001b[0m: list.remove() takes exactly one argument (0 given)"
     ]
    }
   ],
   "source": [
    "x=[\"adnan\",\"akbar\",\"moin\",\"abdul\"]\n",
    "x.remove()\n",
    "print(x)\n",
    "#TypeError: list.remove() takes exactly one argument (0 given)"
   ]
  },
  {
   "cell_type": "code",
   "execution_count": 10,
   "id": "a5e0ff09",
   "metadata": {},
   "outputs": [
    {
     "name": "stdout",
     "output_type": "stream",
     "text": [
      "[1, 2, 4]\n"
     ]
    }
   ],
   "source": [
    "x=[1,2,3,4]\n",
    "x.pop(2)\n",
    "print(x)"
   ]
  },
  {
   "cell_type": "code",
   "execution_count": 14,
   "id": "52d1f9d8",
   "metadata": {},
   "outputs": [
    {
     "name": "stdout",
     "output_type": "stream",
     "text": [
      "[3, 5]\n"
     ]
    }
   ],
   "source": [
    "x=[1,2,3,4,5,6]\n",
    "y=x[2:6:2]\n",
    "print(y)"
   ]
  },
  {
   "cell_type": "code",
   "execution_count": 15,
   "id": "2b59ca16",
   "metadata": {},
   "outputs": [
    {
     "name": "stdout",
     "output_type": "stream",
     "text": [
      "[0, 1, 2, 3, 4, 6, 7]\n"
     ]
    }
   ],
   "source": [
    "# sort mthod is supported only by list\n",
    "# sorted function is supported by other iterables(string ,tuple,dictionary)\n",
    "x=[2,3,4,6,7,0,1]\n",
    "x.sort()\n",
    "print(x)"
   ]
  },
  {
   "cell_type": "code",
   "execution_count": 16,
   "id": "36df269f",
   "metadata": {},
   "outputs": [
    {
     "ename": "AttributeError",
     "evalue": "'list' object has no attribute 'sorted'",
     "output_type": "error",
     "traceback": [
      "\u001b[1;31m---------------------------------------------------------------------------\u001b[0m",
      "\u001b[1;31mAttributeError\u001b[0m                            Traceback (most recent call last)",
      "Input \u001b[1;32mIn [16]\u001b[0m, in \u001b[0;36m<cell line: 2>\u001b[1;34m()\u001b[0m\n\u001b[0;32m      1\u001b[0m x\u001b[38;5;241m=\u001b[39m[\u001b[38;5;241m2\u001b[39m,\u001b[38;5;241m3\u001b[39m,\u001b[38;5;241m4\u001b[39m,\u001b[38;5;241m6\u001b[39m,\u001b[38;5;241m7\u001b[39m,\u001b[38;5;241m0\u001b[39m,\u001b[38;5;241m1\u001b[39m]\n\u001b[1;32m----> 2\u001b[0m y\u001b[38;5;241m=\u001b[39m\u001b[43mx\u001b[49m\u001b[38;5;241;43m.\u001b[39;49m\u001b[43msorted\u001b[49m()\n\u001b[0;32m      3\u001b[0m \u001b[38;5;28mprint\u001b[39m(y)\n",
      "\u001b[1;31mAttributeError\u001b[0m: 'list' object has no attribute 'sorted'"
     ]
    }
   ],
   "source": [
    "x=[2,3,4,6,7,0,1]\n",
    "y=x.sorted()\n",
    "print(y)"
   ]
  },
  {
   "cell_type": "code",
   "execution_count": 4,
   "id": "e30fc2a7",
   "metadata": {},
   "outputs": [
    {
     "ename": "TypeError",
     "evalue": "insert expected 2 arguments, got 1",
     "output_type": "error",
     "traceback": [
      "\u001b[1;31m---------------------------------------------------------------------------\u001b[0m",
      "\u001b[1;31mTypeError\u001b[0m                                 Traceback (most recent call last)",
      "Input \u001b[1;32mIn [4]\u001b[0m, in \u001b[0;36m<cell line: 2>\u001b[1;34m()\u001b[0m\n\u001b[0;32m      1\u001b[0m a\u001b[38;5;241m=\u001b[39m[\u001b[38;5;241m1\u001b[39m,\u001b[38;5;241m2\u001b[39m,\u001b[38;5;241m3\u001b[39m,\u001b[38;5;241m4\u001b[39m,\u001b[38;5;241m5\u001b[39m]\n\u001b[1;32m----> 2\u001b[0m \u001b[43ma\u001b[49m\u001b[38;5;241;43m.\u001b[39;49m\u001b[43minsert\u001b[49m\u001b[43m(\u001b[49m\u001b[38;5;241;43m6\u001b[39;49m\u001b[43m)\u001b[49m\n\u001b[0;32m      3\u001b[0m \u001b[38;5;28mprint\u001b[39m(a)\n",
      "\u001b[1;31mTypeError\u001b[0m: insert expected 2 arguments, got 1"
     ]
    }
   ],
   "source": [
    "a=[1,2,3,4,5]\n",
    "a.insert()\n",
    "print(a)\n"
   ]
  },
  {
   "cell_type": "code",
   "execution_count": 11,
   "id": "17dacc35",
   "metadata": {},
   "outputs": [
    {
     "name": "stdout",
     "output_type": "stream",
     "text": [
      "5\n",
      "5 odd number\n"
     ]
    }
   ],
   "source": [
    "x=int(input())\n",
    "if x%2==0:\n",
    "    print(x,\"even number\")\n",
    "if x%2==1:\n",
    "    print(x,\"odd number\")"
   ]
  },
  {
   "cell_type": "code",
   "execution_count": 4,
   "id": "e14ac185",
   "metadata": {},
   "outputs": [
    {
     "name": "stdout",
     "output_type": "stream",
     "text": [
      "2\n",
      "2 even number\n",
      "2 even number\n"
     ]
    }
   ],
   "source": [
    "x=int(input())\n",
    "for i in range(x):\n",
    "    if x%2==0:\n",
    "        print(x,\"even number\")\n",
    "    else:\n",
    "        print(x,\"odd number\")\n"
   ]
  },
  {
   "cell_type": "code",
   "execution_count": 1,
   "id": "a1ada644",
   "metadata": {},
   "outputs": [
    {
     "name": "stdout",
     "output_type": "stream",
     "text": [
      "{1: 2, 'jafar': 1}\n"
     ]
    }
   ],
   "source": [
    "dic={1:2,\n",
    "    2:1}\n",
    "dic[\"jafar\"]=dic.pop(2)\n",
    "print(dic)"
   ]
  },
  {
   "cell_type": "code",
   "execution_count": 39,
   "id": "058d3c86",
   "metadata": {},
   "outputs": [
    {
     "name": "stdout",
     "output_type": "stream",
     "text": [
      "('name', 'Mark')\n",
      "('country', 'USA')\n",
      "('telephone', 1178)\n"
     ]
    }
   ],
   "source": [
    "person ={\"name\": \"Mark\",\n",
    "         \"country\": \"USA\",\n",
    "         \"telephone\": 1178}\n",
    "# print(person)\n",
    "for i in person.items():\n",
    "    print(i)"
   ]
  },
  {
   "cell_type": "code",
   "execution_count": 33,
   "id": "f25bf822",
   "metadata": {},
   "outputs": [
    {
     "name": "stdout",
     "output_type": "stream",
     "text": [
      "22\n",
      "adnan\n"
     ]
    }
   ],
   "source": [
    "class person:\n",
    "    def __init__(self,name):\n",
    "        self.name=name\n",
    "    def show(self,age):\n",
    "        self.age=age\n",
    "        print(self.age)\n",
    "s1=person(\"adnan\")\n",
    "s1.show(22) \n",
    "print(s1.name)"
   ]
  },
  {
   "cell_type": "code",
   "execution_count": 45,
   "id": "d2641764",
   "metadata": {},
   "outputs": [
    {
     "name": "stdout",
     "output_type": "stream",
     "text": [
      "['a', 'd', 'n', 'a', 'n', 2, 3, 4]\n"
     ]
    }
   ],
   "source": [
    "l=[1,2,3,4]\n",
    "l[0:1]=\"adnan\"\n",
    "print(l)"
   ]
  },
  {
   "cell_type": "code",
   "execution_count": 44,
   "id": "c6886cd8",
   "metadata": {},
   "outputs": [
    {
     "name": "stdout",
     "output_type": "stream",
     "text": [
      "5\n",
      "8\n",
      "Tom\n",
      "7.5\n",
      "Emma\n"
     ]
    }
   ],
   "source": [
    "my_list = [5, 8, 'Tom', 7.50, 'Emma']\n",
    "\n",
    "# iterate a list\n",
    "for item in my_list:\n",
    "    print(item)"
   ]
  },
  {
   "cell_type": "code",
   "execution_count": 47,
   "id": "638fd41b",
   "metadata": {},
   "outputs": [
    {
     "name": "stdout",
     "output_type": "stream",
     "text": [
      "{1: 2, 2: 3}\n",
      "{1: 2, 2: 3}\n"
     ]
    }
   ],
   "source": [
    "d={1:2,\n",
    "  2:3}\n",
    "print(d)\n",
    "print(d)"
   ]
  },
  {
   "cell_type": "code",
   "execution_count": 49,
   "id": "1c5bb48e",
   "metadata": {},
   "outputs": [
    {
     "ename": "AttributeError",
     "evalue": "'tuple' object has no attribute 'append'",
     "output_type": "error",
     "traceback": [
      "\u001b[1;31m---------------------------------------------------------------------------\u001b[0m",
      "\u001b[1;31mAttributeError\u001b[0m                            Traceback (most recent call last)",
      "Input \u001b[1;32mIn [49]\u001b[0m, in \u001b[0;36m<cell line: 2>\u001b[1;34m()\u001b[0m\n\u001b[0;32m      1\u001b[0m tu\u001b[38;5;241m=\u001b[39m(\u001b[38;5;241m1\u001b[39m,\u001b[38;5;241m2\u001b[39m,\u001b[38;5;241m3\u001b[39m,\u001b[38;5;241m4\u001b[39m)\n\u001b[1;32m----> 2\u001b[0m a\u001b[38;5;241m=\u001b[39m\u001b[43mtu\u001b[49m\u001b[38;5;241;43m.\u001b[39;49m\u001b[43mappend\u001b[49m(\u001b[38;5;241m2\u001b[39m)\n\u001b[0;32m      3\u001b[0m \u001b[38;5;28mprint\u001b[39m(a)\n",
      "\u001b[1;31mAttributeError\u001b[0m: 'tuple' object has no attribute 'append'"
     ]
    }
   ],
   "source": [
    "tu=(1,2,3,4)\n",
    "a=tu.append(2)\n",
    "print(a)"
   ]
  },
  {
   "cell_type": "code",
   "execution_count": 64,
   "id": "fa60e593",
   "metadata": {},
   "outputs": [
    {
     "name": "stdout",
     "output_type": "stream",
     "text": [
      "Finished 'calculator' in 0.0 secs\n",
      "Finished 'calculator' in 0.0 secs\n",
      "Finished 'calculator' in 0.0 secs\n",
      "Finished 'calculator' in 0.0 secs\n",
      "25\n",
      "15\n",
      "6\n",
      "12\n"
     ]
    }
   ],
   "source": [
    "def timer(func):\n",
    "    @functools.wraps(func)\n",
    "    def wrapper(*args, **kwargs):\n",
    "        start_time = time.perf_counter()\n",
    "        value = func(*args, **kwargs)\n",
    "        end_time = time.perf_counter()\n",
    "        run_time = end_time - start_time\n",
    "        print(\"Finished {} in {} secs\".format(repr(func.__name__), round(run_time, 3)))\n",
    "        return value\n",
    "\n",
    "    return wrapper\n",
    "@timer\n",
    "def calculator(a, b):\n",
    "    add = a + b\n",
    "    # return the addition\n",
    "    return add\n",
    "    sub = a - b\n",
    "    return sub\n",
    "    mul = a*b\n",
    "    return mul\n",
    "    div = a /b\n",
    "    return div\n",
    "\n",
    "# call function\n",
    "# take return value in variable\n",
    "res = calculator(20, 5)\n",
    "var = calculator(10,5)\n",
    "multiplication= calculator(2,4)\n",
    "divided=calculator(2,10)\n",
    "print(res)\n",
    "print(var)\n",
    "print(multiplication)\n",
    "print(divided)\n",
    "\n",
    "# print(\"Addition :\", res)"
   ]
  },
  {
   "cell_type": "code",
   "execution_count": 34,
   "id": "b4c2b315",
   "metadata": {},
   "outputs": [
    {
     "name": "stdout",
     "output_type": "stream",
     "text": [
      "25\n",
      "15\n",
      "6\n",
      "12\n"
     ]
    }
   ],
   "source": [
    "print(res)\n",
    "print(var)\n",
    "print(multiplication)\n",
    "print(divided)"
   ]
  },
  {
   "cell_type": "code",
   "execution_count": 37,
   "id": "59958b46",
   "metadata": {},
   "outputs": [
    {
     "name": "stdout",
     "output_type": "stream",
     "text": [
      "[]\n"
     ]
    }
   ],
   "source": [
    "x=list()\n",
    "print(x)"
   ]
  },
  {
   "cell_type": "code",
   "execution_count": 38,
   "id": "405f4d54",
   "metadata": {},
   "outputs": [
    {
     "name": "stdout",
     "output_type": "stream",
     "text": [
      "emp\n",
      "salary\n"
     ]
    }
   ],
   "source": [
    "def display(**kwargs):\n",
    "    for i in kwargs:\n",
    "        print(i)\n",
    "\n",
    "display(emp=\"Kelly\", salary=9000)"
   ]
  },
  {
   "cell_type": "code",
   "execution_count": 2,
   "id": "b50e764a",
   "metadata": {},
   "outputs": [
    {
     "name": "stdout",
     "output_type": "stream",
     "text": [
      "10\n"
     ]
    }
   ],
   "source": [
    "def timer(func):\n",
    "    @functools.wraps(func)\n",
    "    def wrapper(*args, **kwargs):\n",
    "        start_time = time.perf_counter()\n",
    "        value = func(*args, **kwargs)\n",
    "        end_time = time.perf_counter()\n",
    "        run_time = end_time - start_time\n",
    "        print(\"Finished {} in {} secs\".format(repr(func.__name__), round(run_time, 3)))\n",
    "        return value\n",
    "\n",
    "    return wrapper\n",
    "\n",
    "def myfunc(a,b):\n",
    "    c=a+b\n",
    "    return c\n",
    "obj=myfunc(5,5)\n",
    "print(obj)"
   ]
  },
  {
   "cell_type": "code",
   "execution_count": 61,
   "id": "9c582771",
   "metadata": {},
   "outputs": [
    {
     "name": "stdout",
     "output_type": "stream",
     "text": [
      "[1, 2, 3, 4, 5]\n"
     ]
    }
   ],
   "source": [
    "a=[5,4,3,1,2]\n",
    "for i in range(0,len(a)):\n",
    "    for j in range(i,len(a)):\n",
    "        if a[i] > a[j]:\n",
    "            a[i],a[j]=a[j],a[i]\n",
    "print(a)"
   ]
  },
  {
   "cell_type": "code",
   "execution_count": 32,
   "id": "5b4cd571",
   "metadata": {},
   "outputs": [
    {
     "data": {
      "text/plain": [
       "[3]"
      ]
     },
     "execution_count": 32,
     "metadata": {},
     "output_type": "execute_result"
    }
   ],
   "source": [
    "lst=[1,2,3,4,5]\n",
    "lst[2:3:3]"
   ]
  },
  {
   "cell_type": "code",
   "execution_count": 19,
   "id": "398f745e",
   "metadata": {},
   "outputs": [
    {
     "name": "stdout",
     "output_type": "stream",
     "text": [
      "Finished 'Samsung' in 0.0 secs\n",
      "This Samsung M30s is best in the world\n",
      "That is mind blowing price 13999 and battery 6000MAH\n",
      "Many color in this M30s phone but Blue is best\n"
     ]
    }
   ],
   "source": [
    "def timer(func):\n",
    "    @functools.wraps(func)\n",
    "    def wrapper(*args, **kwargs):\n",
    "        start_time = time.perf_counter()\n",
    "        value = func(*args, **kwargs)\n",
    "        end_time = time.perf_counter()\n",
    "        run_time = end_time - start_time\n",
    "        print(\"Finished {} in {} secs\".format(repr(func.__name__), round(run_time, 3)))\n",
    "        return value\n",
    "\n",
    "    return wrapper\n",
    "@timer\n",
    "class Samsung:\n",
    "    def __init__(self,name,price,color,modal,battary):\n",
    "        self.name=name\n",
    "        self.price=price\n",
    "        self.color=color\n",
    "        self.battary=battary\n",
    "        self.modal=modal\n",
    "        \n",
    "    def about_modal_name(self):\n",
    "        print('This {} {} is best in the world'.format(self.name,self.modal))\n",
    "        \n",
    "    def battary_experience_and_price(self):\n",
    "        print('That is mind blowing price {} and battery {}'.format(self.price,self.battary))\n",
    "    \n",
    "    def about_color(self):\n",
    "        print('Many color in this {} phone but {} is best'.format(self.modal,self.color))\n",
    "        \n",
    "end=time.time()\n",
    "        \n",
    "obj=Samsung('Samsung',13999,'Blue','M30s','6000MAH')\n",
    "obj.about_modal_name()\n",
    "obj.battary_experience_and_price()\n",
    "obj.about_color()\n",
    "        "
   ]
  },
  {
   "cell_type": "code",
   "execution_count": 26,
   "id": "04b64cb0",
   "metadata": {},
   "outputs": [
    {
     "name": "stdout",
     "output_type": "stream",
     "text": [
      "10000\n",
      "Finished 'myfunc' in 0.001 secs\n"
     ]
    }
   ],
   "source": [
    "import functools\n",
    "import time\n",
    "\n",
    "def timer(func):\n",
    "    @functools.wraps(func)\n",
    "    def wrapper(*args, **kwargs):\n",
    "        start_time = time.perf_counter()\n",
    "        value = func(*args, **kwargs)\n",
    "        end_time = time.perf_counter()\n",
    "        run_time = end_time - start_time\n",
    "        print(\"Finished {} in {} secs\".format(repr(func.__name__), round(run_time, 3)))\n",
    "        return value\n",
    "\n",
    "    return wrapper\n",
    "@timer\n",
    "def myfunc(x):\n",
    "    count=0\n",
    "    for i in range(10000):\n",
    "        count=count+1\n",
    "    print(count)\n",
    "myfunc(2)"
   ]
  },
  {
   "cell_type": "code",
   "execution_count": 65,
   "id": "99dd5f99",
   "metadata": {},
   "outputs": [
    {
     "name": "stdout",
     "output_type": "stream",
     "text": [
      "5\n"
     ]
    }
   ],
   "source": [
    "lst=[1,2,3,5,4]\n",
    "x=0\n",
    "for i in lst:\n",
    "    if i > x:\n",
    "        x=i\n",
    "print(x)"
   ]
  },
  {
   "cell_type": "code",
   "execution_count": 46,
   "id": "22085321",
   "metadata": {},
   "outputs": [
    {
     "name": "stdout",
     "output_type": "stream",
     "text": [
      "[1, 2, 3, 4, 5, 6, 7, 8, 9, 10]\n"
     ]
    }
   ],
   "source": [
    "lst=[2,1,4,3,6,5,8,7,10,9]\n",
    "for i in range(0,len(lst)-1,2):\n",
    "    lst[i],lst[i+1]=lst[i+1],lst[i]\n",
    "print(lst)\n",
    "    "
   ]
  },
  {
   "cell_type": "code",
   "execution_count": 60,
   "id": "825b9cf7",
   "metadata": {},
   "outputs": [
    {
     "name": "stdout",
     "output_type": "stream",
     "text": [
      "{'ali': 750}\n"
     ]
    }
   ],
   "source": [
    "d={'ali':{'score':750},'saurab':{'score':99},'jafar':{'score':89}}\n",
    "x=0\n",
    "st=''\n",
    "for i in d:\n",
    "    score=d.get(i)['score']\n",
    "    if score > x:\n",
    "        x=score\n",
    "        st=i\n",
    "print({st:x})"
   ]
  },
  {
   "cell_type": "code",
   "execution_count": 66,
   "id": "c7fc0f84",
   "metadata": {},
   "outputs": [
    {
     "name": "stdout",
     "output_type": "stream",
     "text": [
      "15 is greate then 10\n",
      "Finished 'myfunc' in 0.0 secs\n"
     ]
    }
   ],
   "source": [
    "import functools\n",
    "import time\n",
    "\n",
    "def timer(func):\n",
    "    @functools.wraps(func)\n",
    "    def wrapper(*args, **kwargs):\n",
    "        start_time = time.perf_counter()\n",
    "        value = func(*args, **kwargs)\n",
    "        end_time = time.perf_counter()\n",
    "        run_time = end_time - start_time\n",
    "        print(\"Finished {} in {} secs\".format(repr(func.__name__), round(run_time, 3)))\n",
    "        return value\n",
    "\n",
    "    return wrapper\n",
    "@timer\n",
    "def myfunc(a,b):\n",
    "    if a > b and b < a :\n",
    "        print(f'{a} is greate then {b}')\n",
    "myfunc(15,10)"
   ]
  },
  {
   "cell_type": "code",
   "execution_count": 5,
   "id": "523751d5",
   "metadata": {},
   "outputs": [
    {
     "name": "stdout",
     "output_type": "stream",
     "text": [
      "[(4, 7, 8), (1, 12), (6, 13)]\n"
     ]
    }
   ],
   "source": [
    "lst=[(1,12),(6,13),(4,7,8)]\n",
    "for i in range(len(lst)):\n",
    "    for j in range(i+1,len(lst)):\n",
    "        if lst[i][-1] > lst[j][-1]:\n",
    "            lst[i],lst[j]=lst[j],lst[i]\n",
    "print(lst)"
   ]
  },
  {
   "cell_type": "code",
   "execution_count": 1,
   "id": "46200d25",
   "metadata": {},
   "outputs": [
    {
     "name": "stdout",
     "output_type": "stream",
     "text": [
      "[-1, -1, -1, -1, -1, 0, 0, 0, 0, 0, 0, 1, 1]\n"
     ]
    }
   ],
   "source": [
    "lst=[-1,0,0,1,-1,-1,0,-1,-1,0,0,1,0]\n",
    "x=sorted(lst)\n",
    "print(x)"
   ]
  },
  {
   "cell_type": "code",
   "execution_count": 8,
   "id": "c4b15537",
   "metadata": {},
   "outputs": [
    {
     "name": "stdout",
     "output_type": "stream",
     "text": [
      "HANNAH\n",
      "Palindrome\n"
     ]
    }
   ],
   "source": [
    "x=input(\"\")\n",
    "y=\"\"\n",
    "for i in x:\n",
    "    y=i+y\n",
    "if x == y :\n",
    "    print(\"Palindrome\")\n",
    "else:\n",
    "    print(\"is not palindrome\")"
   ]
  },
  {
   "cell_type": "code",
   "execution_count": 19,
   "id": "a8f3060f",
   "metadata": {},
   "outputs": [
    {
     "ename": "SyntaxError",
     "evalue": "'(' was never closed (1697203359.py, line 10)",
     "output_type": "error",
     "traceback": [
      "\u001b[1;36m  Input \u001b[1;32mIn [19]\u001b[1;36m\u001b[0m\n\u001b[1;33m    result3 = (1 + (12 * 2\u001b[0m\n\u001b[1;37m                   ^\u001b[0m\n\u001b[1;31mSyntaxError\u001b[0m\u001b[1;31m:\u001b[0m '(' was never closed\n"
     ]
    }
   ],
   "source": [
    "result1 = 1 + 3\n",
    "print(\"1 + 3 = \", result1)\n",
    "\n",
    "# perform (1+3) * 2\n",
    "result2 = (1 + 3) * 2\n",
    "print(\"(1 + 3) * 2 = \", result2)\n",
    "\n",
    "# perform (1 +(12 *2) - this will raise an error\n",
    "try:\n",
    "    result3 = (1 + (12 * 2)\n",
    "    print(\"(1 + (12 * 2)) = \", result3)\n",
    "except:\n",
    "    print(\"Invalid expression - cannot perform (1 + (12 * 2))\")"
   ]
  },
  {
   "cell_type": "code",
   "execution_count": 20,
   "id": "8ebcb365",
   "metadata": {},
   "outputs": [
    {
     "ename": "ValueError",
     "evalue": "invalid literal for int() with base 10: '1+3'",
     "output_type": "error",
     "traceback": [
      "\u001b[1;31m---------------------------------------------------------------------------\u001b[0m",
      "\u001b[1;31mValueError\u001b[0m                                Traceback (most recent call last)",
      "Input \u001b[1;32mIn [20]\u001b[0m, in \u001b[0;36m<cell line: 9>\u001b[1;34m()\u001b[0m\n\u001b[0;32m      6\u001b[0m     s \u001b[38;5;241m=\u001b[39m [\u001b[38;5;28mint\u001b[39m(i) \u001b[38;5;28;01mfor\u001b[39;00m i \u001b[38;5;129;01min\u001b[39;00m s]\n\u001b[0;32m      7\u001b[0m     \u001b[38;5;28;01mreturn\u001b[39;00m s[\u001b[38;5;241m0\u001b[39m]\u001b[38;5;241m*\u001b[39ms[\u001b[38;5;241m1\u001b[39m]\n\u001b[1;32m----> 9\u001b[0m \u001b[38;5;28mprint\u001b[39m(\u001b[43mevaluate_string\u001b[49m\u001b[43m(\u001b[49m\u001b[38;5;124;43m\"\u001b[39;49m\u001b[38;5;124;43m(1 + 3) * 2\u001b[39;49m\u001b[38;5;124;43m\"\u001b[39;49m\u001b[43m)\u001b[49m)\n",
      "Input \u001b[1;32mIn [20]\u001b[0m, in \u001b[0;36mevaluate_string\u001b[1;34m(s)\u001b[0m\n\u001b[0;32m      4\u001b[0m s \u001b[38;5;241m=\u001b[39m s\u001b[38;5;241m.\u001b[39mreplace(\u001b[38;5;124m\"\u001b[39m\u001b[38;5;124m)\u001b[39m\u001b[38;5;124m\"\u001b[39m,\u001b[38;5;124m\"\u001b[39m\u001b[38;5;124m\"\u001b[39m)\n\u001b[0;32m      5\u001b[0m s \u001b[38;5;241m=\u001b[39m s\u001b[38;5;241m.\u001b[39msplit(\u001b[38;5;124m\"\u001b[39m\u001b[38;5;124m*\u001b[39m\u001b[38;5;124m\"\u001b[39m)\n\u001b[1;32m----> 6\u001b[0m s \u001b[38;5;241m=\u001b[39m [\u001b[38;5;28mint\u001b[39m(i) \u001b[38;5;28;01mfor\u001b[39;00m i \u001b[38;5;129;01min\u001b[39;00m s]\n\u001b[0;32m      7\u001b[0m \u001b[38;5;28;01mreturn\u001b[39;00m s[\u001b[38;5;241m0\u001b[39m]\u001b[38;5;241m*\u001b[39ms[\u001b[38;5;241m1\u001b[39m]\n",
      "Input \u001b[1;32mIn [20]\u001b[0m, in \u001b[0;36m<listcomp>\u001b[1;34m(.0)\u001b[0m\n\u001b[0;32m      4\u001b[0m s \u001b[38;5;241m=\u001b[39m s\u001b[38;5;241m.\u001b[39mreplace(\u001b[38;5;124m\"\u001b[39m\u001b[38;5;124m)\u001b[39m\u001b[38;5;124m\"\u001b[39m,\u001b[38;5;124m\"\u001b[39m\u001b[38;5;124m\"\u001b[39m)\n\u001b[0;32m      5\u001b[0m s \u001b[38;5;241m=\u001b[39m s\u001b[38;5;241m.\u001b[39msplit(\u001b[38;5;124m\"\u001b[39m\u001b[38;5;124m*\u001b[39m\u001b[38;5;124m\"\u001b[39m)\n\u001b[1;32m----> 6\u001b[0m s \u001b[38;5;241m=\u001b[39m [\u001b[38;5;28;43mint\u001b[39;49m\u001b[43m(\u001b[49m\u001b[43mi\u001b[49m\u001b[43m)\u001b[49m \u001b[38;5;28;01mfor\u001b[39;00m i \u001b[38;5;129;01min\u001b[39;00m s]\n\u001b[0;32m      7\u001b[0m \u001b[38;5;28;01mreturn\u001b[39;00m s[\u001b[38;5;241m0\u001b[39m]\u001b[38;5;241m*\u001b[39ms[\u001b[38;5;241m1\u001b[39m]\n",
      "\u001b[1;31mValueError\u001b[0m: invalid literal for int() with base 10: '1+3'"
     ]
    }
   ],
   "source": [
    "def evaluate_string(s):\n",
    "    s = s.replace(\" \",\"\") # remove spaces\n",
    "    s = s.replace(\"(\",\"\") # remove brackets\n",
    "    s = s.replace(\")\",\"\")\n",
    "    s = s.split(\"*\")\n",
    "    s = [int(i) for i in s]\n",
    "    return s[0]*s[1]\n",
    "\n",
    "print(evaluate_string(\"(1 + 3) * 2\")) # 8"
   ]
  },
  {
   "cell_type": "code",
   "execution_count": 23,
   "id": "67867db2",
   "metadata": {},
   "outputs": [
    {
     "name": "stdout",
     "output_type": "stream",
     "text": [
      "8\n"
     ]
    }
   ],
   "source": [
    "import operator\n",
    "\n",
    "def evaluate_string(s):\n",
    "    operations = {'+': operator.add, '-': operator.sub, '*': operator.mul, '/': operator.truediv}\n",
    "    numbers = []\n",
    "    operators = []\n",
    "    for i in s:\n",
    "        if i.isdigit():\n",
    "            numbers.append(int(i))\n",
    "        elif i in operations:\n",
    "            operators.append(i)\n",
    "    result = numbers[0]\n",
    "    for i in range(len(operators)):\n",
    "        result = operations[operators[i]](result, numbers[i + 1])\n",
    "    return result\n",
    "\n",
    "print(evaluate_string(\"(1 + 3) * 2\")) # 8"
   ]
  },
  {
   "cell_type": "code",
   "execution_count": null,
   "id": "5e839e2a",
   "metadata": {},
   "outputs": [],
   "source": []
  },
  {
   "cell_type": "code",
   "execution_count": null,
   "id": "02e5a739",
   "metadata": {},
   "outputs": [],
   "source": []
  },
  {
   "cell_type": "code",
   "execution_count": null,
   "id": "4cc772da",
   "metadata": {},
   "outputs": [],
   "source": []
  },
  {
   "cell_type": "code",
   "execution_count": null,
   "id": "2cfbd61e",
   "metadata": {},
   "outputs": [],
   "source": []
  }
 ],
 "metadata": {
  "kernelspec": {
   "display_name": "Python 3 (ipykernel)",
   "language": "python",
   "name": "python3"
  },
  "language_info": {
   "codemirror_mode": {
    "name": "ipython",
    "version": 3
   },
   "file_extension": ".py",
   "mimetype": "text/x-python",
   "name": "python",
   "nbconvert_exporter": "python",
   "pygments_lexer": "ipython3",
   "version": "3.10.4"
  }
 },
 "nbformat": 4,
 "nbformat_minor": 5
}
