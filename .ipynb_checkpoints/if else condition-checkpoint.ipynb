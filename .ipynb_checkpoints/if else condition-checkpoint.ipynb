{
 "cells": [
  {
   "cell_type": "code",
   "execution_count": 1,
   "id": "2a43f748",
   "metadata": {},
   "outputs": [
    {
     "name": "stdout",
     "output_type": "stream",
     "text": [
      "what is your age\n",
      "23\n",
      "you are selected in college.\n"
     ]
    }
   ],
   "source": [
    "print(\"what is your age\")\n",
    "age=int(input())\n",
    "if age > 18:\n",
    "    print(\"you are selected in college.\")\n",
    "elif age == 18:\n",
    "    print(\"equal\")\n",
    "elif age < 18 and age > 7:\n",
    "    print(\"not select in college.\")\n",
    "else:\n",
    "    print(\"better luck next time.\")"
   ]
  },
  {
   "cell_type": "code",
   "execution_count": 4,
   "id": "97b292de",
   "metadata": {},
   "outputs": [
    {
     "name": "stdout",
     "output_type": "stream",
     "text": [
      "55\n",
      "B\n"
     ]
    }
   ],
   "source": [
    "var1=6\n",
    "var2=56\n",
    "var3=int(input())\n",
    "if var3>=var2:\n",
    "    print(\"A\")\n",
    "elif var3>=var1:\n",
    "    print(\"B\")\n",
    "else:\n",
    "    print(\"error\")"
   ]
  },
  {
   "cell_type": "code",
   "execution_count": 5,
   "id": "9b94c5b4",
   "metadata": {},
   "outputs": [
    {
     "name": "stdout",
     "output_type": "stream",
     "text": [
      "this Age is smaller.\n"
     ]
    }
   ],
   "source": [
    "age=19\n",
    "Age=20\n",
    "if age < Age:\n",
    "    print(\"this Age is smaller.\")\n",
    "elif Age > age:\n",
    "    print(\"this age \")"
   ]
  },
  {
   "cell_type": "code",
   "execution_count": 6,
   "id": "f474eb4d",
   "metadata": {},
   "outputs": [
    {
     "name": "stdout",
     "output_type": "stream",
     "text": [
      "enter your first number.1234\n",
      "select operater(+,-,*,/,%)*\n",
      "enter your second number.20\n",
      "24680\n"
     ]
    }
   ],
   "source": [
    "firstnum=int(input(\"enter your first number.\"))\n",
    "operater=input(\"select operater(+,-,*,/,%)\")\n",
    "secondnum=int(input(\"enter your second number.\"))\n",
    "if operater == \"+\":\n",
    "    print(firstnum+secondnum)\n",
    "elif operater == \"-\":\n",
    "    print(firstnum-secondnum)\n",
    "elif operater == \"*\":\n",
    "    print(firstnum*secondnum)\n",
    "elif operater == \"/\":\n",
    "    print(firstnum/secondnum)\n",
    "elif operater == \"%\":\n",
    "    print(firstnum%secondnum)\n",
    "else:\n",
    "    print(\"Error\")"
   ]
  },
  {
   "cell_type": "code",
   "execution_count": 5,
   "id": "b38f25d7",
   "metadata": {},
   "outputs": [
    {
     "name": "stdout",
     "output_type": "stream",
     "text": [
      "60\n",
      "B\n"
     ]
    }
   ],
   "source": [
    "per=int(input())\n",
    "if per >= 90:\n",
    "    print(\"A+\")\n",
    "elif per < 90 and per >= 80:\n",
    "    print(\"A\")\n",
    "else:\n",
    "    print(\"B\")"
   ]
  },
  {
   "cell_type": "code",
   "execution_count": 4,
   "id": "26396d1e",
   "metadata": {},
   "outputs": [
    {
     "name": "stdout",
     "output_type": "stream",
     "text": [
      "6\n",
      "even number\n"
     ]
    }
   ],
   "source": [
    "num=int(input())\n",
    "if num%2 == 0:\n",
    "    print(\"even number\")\n",
    "else:\n",
    "    print(\"odd number\")"
   ]
  },
  {
   "cell_type": "code",
   "execution_count": 14,
   "id": "35b540d9",
   "metadata": {},
   "outputs": [
    {
     "name": "stdout",
     "output_type": "stream",
     "text": [
      "199\n",
      "amount to pay 495\n"
     ]
    }
   ],
   "source": [
    "# First 100 units        no charge\n",
    "# Next 100 units         Rs 5 per unit\n",
    "# After 200 units        Rs 10 per uni\n",
    "amt=0\n",
    "nu=int(input())\n",
    "if nu<=100:\n",
    "    amt=0\n",
    "if nu>100 and nu<=200:\n",
    "    amt=(nu-100)*5\n",
    "if nu > 200:\n",
    "    amt=500+(nu-100)*10\n",
    "print(\"amount to pay\",amt)"
   ]
  },
  {
   "cell_type": "code",
   "execution_count": 8,
   "id": "e0884a0a",
   "metadata": {},
   "outputs": [
    {
     "name": "stdout",
     "output_type": "stream",
     "text": [
      "34\n",
      "Fail\n"
     ]
    }
   ],
   "source": [
    "x=int(input())\n",
    "if x >= 90:\n",
    "    print(\"A\")\n",
    "elif x >= 80 and x <=90:\n",
    "    print(\"B\")\n",
    "elif x >= 60 and x <=80:\n",
    "    print(\"c\")\n",
    "elif x >=35 and x <=60:\n",
    "    print(\"D\")\n",
    "elif x <35:\n",
    "    print(\"Fail\")\n"
   ]
  },
  {
   "cell_type": "code",
   "execution_count": 16,
   "id": "8f713907",
   "metadata": {},
   "outputs": [
    {
     "name": "stdout",
     "output_type": "stream",
     "text": [
      "0\n",
      "1\n",
      "2\n",
      "3\n",
      "4\n",
      "5\n"
     ]
    }
   ],
   "source": [
    "for i in range(6):\n",
    "    print(i)"
   ]
  },
  {
   "cell_type": "code",
   "execution_count": 21,
   "id": "65dbe6f0",
   "metadata": {},
   "outputs": [
    {
     "name": "stdout",
     "output_type": "stream",
     "text": [
      "1 adnan\n",
      "2 adnan\n",
      "3 adnan\n",
      "4 adnan\n",
      "5 adnan\n"
     ]
    }
   ],
   "source": [
    "i=1\n",
    "while i < 6:\n",
    "    print(i,\"adnan\")\n",
    "    i=i+1"
   ]
  },
  {
   "cell_type": "code",
   "execution_count": null,
   "id": "13b8d7ed",
   "metadata": {},
   "outputs": [],
   "source": [
    "i=\n",
    "while i > 10:\n",
    "    print(i)\n",
    "    i=i+1"
   ]
  },
  {
   "cell_type": "code",
   "execution_count": 10,
   "id": "a628660b",
   "metadata": {},
   "outputs": [
    {
     "name": "stdout",
     "output_type": "stream",
     "text": [
      "4\n",
      "even number\n"
     ]
    }
   ],
   "source": [
    "x=int(input())\n",
    "if x%2==0:\n",
    "    print(\"even number\")\n",
    "else:\n",
    "    print(\"odd number\")"
   ]
  },
  {
   "cell_type": "code",
   "execution_count": 15,
   "id": "9a9632a3",
   "metadata": {},
   "outputs": [
    {
     "name": "stdout",
     "output_type": "stream",
     "text": [
      "5897\n",
      "\n",
      " nmuber of digits in a given number=4\n"
     ]
    }
   ],
   "source": [
    "number=int(input())\n",
    "count=0\n",
    "while  number>0:\n",
    "    number=number//10\n",
    "    count=count+1\n",
    "print(\"\\n nmuber of digits in a given number=%d\" %count)"
   ]
  },
  {
   "cell_type": "code",
   "execution_count": 2,
   "id": "e330d54e",
   "metadata": {},
   "outputs": [
    {
     "name": "stdout",
     "output_type": "stream",
     "text": [
      "odd 1\n",
      "even 2\n",
      "odd 3\n",
      "even 4\n",
      "odd 5\n",
      "even 6\n",
      "odd 7\n",
      "even 8\n",
      "odd 9\n",
      "even 10\n"
     ]
    }
   ],
   "source": [
    "x=1\n",
    "while(x<=10):\n",
    "    if(x%2==0):\n",
    "        print(\"even\",x)\n",
    "    else:\n",
    "        print(\"odd\",x)\n",
    "    x=x+1"
   ]
  },
  {
   "cell_type": "code",
   "execution_count": 6,
   "id": "a8d21cc9",
   "metadata": {},
   "outputs": [
    {
     "name": "stdout",
     "output_type": "stream",
     "text": [
      "20\n",
      "even 20\n"
     ]
    }
   ],
   "source": [
    "num=int(input())\n",
    "if (num %2)==0:\n",
    "    print(\"even\",num)\n",
    "else:\n",
    "    print(\"odd\",num)"
   ]
  },
  {
   "cell_type": "code",
   "execution_count": 1,
   "id": "4f49a08d",
   "metadata": {},
   "outputs": [
    {
     "name": "stdout",
     "output_type": "stream",
     "text": [
      "enter your lower number:2\n",
      "enter your upper number:30\n",
      "0 even\n",
      "2 even\n",
      "display the odd number between one two numbers are\n",
      "1 odd\n",
      "3 odd\n",
      "5 odd\n",
      "7 odd\n",
      "9 odd\n",
      "11 odd\n",
      "13 odd\n",
      "15 odd\n",
      "17 odd\n",
      "19 odd\n",
      "21 odd\n",
      "23 odd\n",
      "25 odd\n",
      "27 odd\n",
      "29 odd\n"
     ]
    }
   ],
   "source": [
    "lower_num=int(input(\"enter your lower number:\"))\n",
    "upper_num=int(input(\"enter your upper number:\"))\n",
    "#print(\"display the even number between two numbers are\")\n",
    "for i in range(lower_num+1):\n",
    "    if i%2==0:\n",
    "        print(i,\"even\")\n",
    "        \n",
    "        \n",
    "print(\"display the odd number between one two numbers are\")\n",
    "for i in range(upper_num+1):\n",
    "    if i%2==1:\n",
    "        print(i,\"odd\")\n",
    "\n",
    "\n"
   ]
  },
  {
   "cell_type": "code",
   "execution_count": 4,
   "id": "8bcbb100",
   "metadata": {},
   "outputs": [
    {
     "name": "stdout",
     "output_type": "stream",
     "text": [
      "1\n",
      "2\n",
      "4\n",
      "5\n",
      "6\n"
     ]
    }
   ],
   "source": [
    "i=0\n",
    "while i <6:\n",
    "    i+=1\n",
    "    if i ==3:\n",
    "        continue\n",
    "    print(i)"
   ]
  },
  {
   "cell_type": "code",
   "execution_count": 18,
   "id": "5f5cf70c",
   "metadata": {},
   "outputs": [
    {
     "name": "stdout",
     "output_type": "stream",
     "text": [
      "1\n",
      "2\n",
      "4\n"
     ]
    }
   ],
   "source": [
    "i=1\n",
    "while i<6:\n",
    "    print(i)\n",
    "    i=i+i"
   ]
  },
  {
   "cell_type": "code",
   "execution_count": 1,
   "id": "5928db67",
   "metadata": {},
   "outputs": [
    {
     "name": "stdout",
     "output_type": "stream",
     "text": [
      "odd 1\n",
      "even 2\n",
      "odd 3\n",
      "even 4\n",
      "odd 5\n",
      "even 6\n",
      "odd 7\n",
      "even 8\n",
      "odd 9\n",
      "even 10\n",
      "odd 11\n",
      "even 12\n",
      "odd 13\n",
      "even 14\n",
      "odd 15\n",
      "even 16\n",
      "odd 17\n",
      "even 18\n",
      "odd 19\n",
      "even 20\n"
     ]
    }
   ],
   "source": [
    "i=1\n",
    "while i<=20:\n",
    "    if i %2==0:\n",
    "        print(\"even\",i)\n",
    "    if i%2==1:\n",
    "        print(\"odd\",i)\n",
    "    i=i+1"
   ]
  },
  {
   "cell_type": "code",
   "execution_count": 8,
   "id": "4cd41495",
   "metadata": {},
   "outputs": [
    {
     "name": "stdout",
     "output_type": "stream",
     "text": [
      "1\n",
      "0 even\n",
      "1 odd\n",
      "2 even\n",
      "3 odd\n",
      "4 even\n",
      "5 odd\n",
      "6 even\n",
      "7 odd\n",
      "8 even\n",
      "9 odd\n",
      "10 even\n",
      "11 odd\n",
      "12 even\n",
      "13 odd\n",
      "14 even\n",
      "15 odd\n",
      "16 even\n",
      "17 odd\n",
      "18 even\n",
      "19 odd\n",
      "20 even\n",
      "21 odd\n"
     ]
    }
   ],
   "source": [
    "i=int(input())\n",
    "for i in range(22):\n",
    "    if i%2==0:\n",
    "        print(i,\"even\")\n",
    "    else:\n",
    "        print(i,\"odd\")"
   ]
  },
  {
   "cell_type": "code",
   "execution_count": 10,
   "id": "c6c13d97",
   "metadata": {},
   "outputs": [
    {
     "name": "stdout",
     "output_type": "stream",
     "text": [
      "2\n",
      "4\n",
      "6\n",
      "8\n",
      "10\n",
      "12\n",
      "14\n",
      "16\n",
      "18\n",
      "20\n",
      "22\n",
      "24\n",
      "26\n",
      "28\n",
      "30\n",
      "32\n",
      "34\n",
      "36\n",
      "38\n",
      "40\n",
      "42\n",
      "44\n",
      "46\n",
      "48\n",
      "50\n",
      "52\n",
      "54\n",
      "56\n",
      "58\n",
      "60\n",
      "62\n",
      "64\n",
      "66\n",
      "68\n",
      "70\n",
      "72\n",
      "74\n",
      "76\n",
      "78\n",
      "80\n",
      "82\n",
      "84\n",
      "86\n",
      "88\n",
      "90\n",
      "92\n",
      "94\n",
      "96\n",
      "98\n",
      "100\n"
     ]
    }
   ],
   "source": [
    "x=0\n",
    "while x<100:\n",
    "    x+=2\n",
    "    print(x)"
   ]
  },
  {
   "cell_type": "code",
   "execution_count": null,
   "id": "899c5557",
   "metadata": {},
   "outputs": [],
   "source": []
  },
  {
   "cell_type": "code",
   "execution_count": null,
   "id": "0fb86b34",
   "metadata": {},
   "outputs": [],
   "source": []
  },
  {
   "cell_type": "code",
   "execution_count": null,
   "id": "096bc68b",
   "metadata": {},
   "outputs": [],
   "source": []
  },
  {
   "cell_type": "code",
   "execution_count": null,
   "id": "0c7451f4",
   "metadata": {},
   "outputs": [],
   "source": []
  }
 ],
 "metadata": {
  "kernelspec": {
   "display_name": "Python 3 (ipykernel)",
   "language": "python",
   "name": "python3"
  },
  "language_info": {
   "codemirror_mode": {
    "name": "ipython",
    "version": 3
   },
   "file_extension": ".py",
   "mimetype": "text/x-python",
   "name": "python",
   "nbconvert_exporter": "python",
   "pygments_lexer": "ipython3",
   "version": "3.10.4"
  }
 },
 "nbformat": 4,
 "nbformat_minor": 5
}
