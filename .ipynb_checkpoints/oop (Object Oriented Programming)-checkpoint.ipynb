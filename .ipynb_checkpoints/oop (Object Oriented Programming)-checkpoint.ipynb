{
 "cells": [
  {
   "cell_type": "code",
   "execution_count": 8,
   "id": "c7eba818",
   "metadata": {},
   "outputs": [
    {
     "name": "stdout",
     "output_type": "stream",
     "text": [
      "(15, 5, 50, 2.0)\n"
     ]
    }
   ],
   "source": [
    "def name(x,y):\n",
    "    add=x+y\n",
    "    sub=x-y\n",
    "    mul=x*y\n",
    "    div=x/y\n",
    "    return add,sub,mul,div\n",
    "v=name(10,5)\n",
    "print(v)\n"
   ]
  },
  {
   "cell_type": "code",
   "execution_count": 19,
   "id": "76f1a40c",
   "metadata": {},
   "outputs": [
    {
     "name": "stdout",
     "output_type": "stream",
     "text": [
      "25\n",
      "-5\n",
      "150\n",
      "0.6666666666666666\n"
     ]
    }
   ],
   "source": [
    "class Myclass:\n",
    "    x=10\n",
    "    y=15\n",
    "    a=x+y\n",
    "    s=x-y\n",
    "    m=x*y\n",
    "    d=x/y    \n",
    "p=Myclass()\n",
    "print(p.a)\n",
    "print(p.s)\n",
    "print(p.m)\n",
    "print(p.d)"
   ]
  },
  {
   "cell_type": "code",
   "execution_count": 1,
   "id": "5c0cebbf",
   "metadata": {},
   "outputs": [
    {
     "name": "stdout",
     "output_type": "stream",
     "text": [
      "<__main__.Person object at 0x000001BC4D4DF580>\n",
      "22\n"
     ]
    }
   ],
   "source": [
    "class Person:\n",
    "    def __init__(self,name,age):\n",
    "        self.name=name\n",
    "        self.age=age\n",
    "p1=Person(\"adnan\",22)\n",
    "print(p1)\n",
    "print(p1.age)"
   ]
  },
  {
   "cell_type": "code",
   "execution_count": 35,
   "id": "adc83f6f",
   "metadata": {},
   "outputs": [
    {
     "name": "stdout",
     "output_type": "stream",
     "text": [
      "1\n",
      "2\n",
      "3\n",
      "4\n",
      "5\n",
      "6\n"
     ]
    }
   ],
   "source": [
    "li1=[1,2,3]\n",
    "li=[*li1,4,5,6,]\n",
    "def fun():\n",
    "    for i in li:\n",
    "        print(i)\n",
    "fun()"
   ]
  },
  {
   "cell_type": "code",
   "execution_count": 57,
   "id": "5177ef0c",
   "metadata": {},
   "outputs": [
    {
     "name": "stdout",
     "output_type": "stream",
     "text": [
      "My name is akbar\n",
      "I am 25 year old\n",
      "I am living in sakinaka\n"
     ]
    }
   ],
   "source": [
    "class Myclass:\n",
    "    def __init__(self,name,age,std): # attributes\n",
    "        self.name=name\n",
    "        self.age=age # instence method\n",
    "        self.std=std\n",
    "    def show(self):\n",
    "        print(\"My name is\",self.name)\n",
    "        print(\"I am\",self.age ,\"year old\")\n",
    "        print(\"I am living in\",self.std)\n",
    "p1=Myclass(\"akbar\",25,\"sakinaka\")\n",
    "p1.show()w  bbbbbbbbbbbbbbbbbbbb                                                                                                                                                                                                                                                                                                                                                                                                                                                                                                                                                                                                                                                                                                                                                                                                                                                                                                                                                       `\n",
    "def myfunc()"
   ]
  },
  {
   "cell_type": "code",
   "execution_count": 7,
   "id": "72a93c45",
   "metadata": {},
   "outputs": [
    {
     "name": "stdout",
     "output_type": "stream",
     "text": [
      "busha\n",
      "working as a Software Engineer\n",
      "Name: Adnan \n",
      "Gender: male \n",
      "profession: Software Engineer\n"
     ]
    }
   ],
   "source": [
    "class Myroom:\n",
    "# class variable    k_k='khanna'\n",
    "# constructor\n",
    "    def __init__(self,name,x,profession):\n",
    "#         instance variable\n",
    "        self.name=name\n",
    "        self.x=x\n",
    "        self.profession=profession\n",
    "        print('busha')\n",
    "#         behavior(instance method)\n",
    "    def show(self):\n",
    "        print(\"working as a\",self.profession,)\n",
    "        \n",
    "#         behavior (instance method)\n",
    "    def work(self):\n",
    "        print(\"Name:\",self.name,\"\\n\"\"Gender:\",self.x,\"\\n\"\"profession:\",self.profession)\n",
    "        \n",
    "#         create object of a class\n",
    "var=Myroom(\"Adnan\",\"male\",\"Software Engineer\")\n",
    "#         call method\n",
    "var.show()\n",
    "var.work()\n",
    " "
   ]
  },
  {
   "cell_type": "code",
   "execution_count": 4,
   "id": "708c7961",
   "metadata": {},
   "outputs": [
    {
     "name": "stdout",
     "output_type": "stream",
     "text": [
      "XYZ School\n",
      "My Name Is Harry ww ww\n",
      "My Name Is Harry ooo ww\n"
     ]
    }
   ],
   "source": [
    "class Student:\n",
    "    # class variables\n",
    "    school_name = 'ABC School'\n",
    "\n",
    "    # constructor\n",
    "    def __init__(self, name, age):\n",
    "        # instance variables\n",
    "        self.name = name\n",
    "        self.age = age\n",
    "    def show(self):\n",
    "        print(f\"My Name Is {self.name} {self.school_name} {Student.school_name}\")\n",
    "    @classmethod\n",
    "    def work(cls,new_school_name):\n",
    "        cls.school_name=new_school_name\n",
    "\n",
    "s1 = Student(\"Harry\", 12)\n",
    "\n",
    "# access instance variables\n",
    "\n",
    "# print('Student:', s1.name, s1.age)\n",
    "\n",
    "# # access class variable\n",
    "# print('School name:', Student.school_name)\n",
    "\n",
    "# Modify instance variables\n",
    "# s1.name = 'Jessa'\n",
    "# s1.age = 14\n",
    "# s1.pro=\"software Engineer\"\n",
    "# print('Student:', s1.name, s1.age,s1.pro)\n",
    "\n",
    "# Modify class variables\n",
    "Student.school_name = 'XYZ School'\n",
    "print(Student.school_name)\n",
    "Student.work(\"ww\")\n",
    "s1.show()\n",
    "s1.school_name=\"ooo\"\n",
    "s1.show()"
   ]
  },
  {
   "cell_type": "code",
   "execution_count": 57,
   "id": "9e909eda",
   "metadata": {},
   "outputs": [
    {
     "name": "stdout",
     "output_type": "stream",
     "text": [
      "student: akbar 25 male\n",
      "student name: adnan\n",
      "student: adnan 22 male\n",
      "student name: shoaib\n"
     ]
    }
   ],
   "source": [
    "class Person:\n",
    "    student_1=\"adnan\"\n",
    "    def __init__(self,name,age,sex):\n",
    "        self.name=name\n",
    "        self.age=age\n",
    "        self.sex=sex\n",
    "s1=Person(\"akbar\",25,\"male\")\n",
    "print(\"student:\",s1.name,s1.age,s1.sex)\n",
    "print(\"student name:\",Person.student_1)\n",
    "s1.name=\"adnan\"\n",
    "s1.age=\"22\"\n",
    "s1.sex=\"male\"\n",
    "print(\"student:\",s1.name,s1.age,s1.sex)\n",
    "Person.student_1=\"shoaib\"\n",
    "print(\"student name:\",Person.student_1)\n"
   ]
  },
  {
   "cell_type": "code",
   "execution_count": 6,
   "id": "78074205",
   "metadata": {},
   "outputs": [
    {
     "ename": "NameError",
     "evalue": "name 's1' is not defined",
     "output_type": "error",
     "traceback": [
      "\u001b[1;31m---------------------------------------------------------------------------\u001b[0m",
      "\u001b[1;31mNameError\u001b[0m                                 Traceback (most recent call last)",
      "Input \u001b[1;32mIn [6]\u001b[0m, in \u001b[0;36m<cell line: 17>\u001b[1;34m()\u001b[0m\n\u001b[0;32m     15\u001b[0m s2\u001b[38;5;241m=\u001b[39mStudent(\u001b[38;5;124m\"\u001b[39m\u001b[38;5;124makbar\u001b[39m\u001b[38;5;124m\"\u001b[39m,\u001b[38;5;241m30\u001b[39m)\n\u001b[0;32m     16\u001b[0m \u001b[38;5;28;01mdel\u001b[39;00m s1\n\u001b[1;32m---> 17\u001b[0m \u001b[38;5;28mprint\u001b[39m(\u001b[43ms1\u001b[49m\u001b[38;5;241m.\u001b[39mschool_name)\n\u001b[0;32m     18\u001b[0m \u001b[38;5;28mprint\u001b[39m(s2\u001b[38;5;241m.\u001b[39mschool_name)\n\u001b[0;32m     19\u001b[0m \u001b[38;5;28mprint\u001b[39m(Student\u001b[38;5;241m.\u001b[39mschool_name)\n",
      "\u001b[1;31mNameError\u001b[0m: name 's1' is not defined"
     ]
    }
   ],
   "source": [
    "class Student:\n",
    "    school_name=\"ABC school\"\n",
    "    def __init__(self,name,age):\n",
    "        self.name=name\n",
    "        self.age=age\n",
    "    def show(self):\n",
    "         print(\"student:\",self.name,self.age,self.school_name)\n",
    "#     def change_age(self,new_age):\n",
    "#         self.age=new_age\n",
    "# #        modify class method \n",
    "#     @classmethod\n",
    "#     def modify_school(cl,new_name):\n",
    "#         cl.school_name:new_name\n",
    "s1=Student(\"Harry\",14)\n",
    "s2=Student(\"akbar\",30)\n",
    "del s1\n",
    "print(s1.school_name)\n",
    "print(s2.school_name)\n",
    "print(Student.school_name)\n",
    "\n",
    "print(s1.name)\n",
    "print(s2.name)\n",
    "\n",
    "s1.show()\n",
    "# s1.change_age(12)\n",
    "# Student.modify_school(\"xyz school\")\n",
    "# s1.show()"
   ]
  },
  {
   "cell_type": "markdown",
   "id": "846ffdfa",
   "metadata": {},
   "source": [
    "# Default Constructor"
   ]
  },
  {
   "cell_type": "markdown",
   "id": "b988ba03",
   "metadata": {},
   "source": [
    "### Default Constructor\n",
    "class Defultes:     \n",
    "    def display(self):\n",
    "        self.name=name\n",
    "s1=Defult(\"akbar\")\n"
   ]
  },
  {
   "cell_type": "code",
   "execution_count": 37,
   "id": "a5ca72af",
   "metadata": {},
   "outputs": [
    {
     "name": "stdout",
     "output_type": "stream",
     "text": [
      "15\n",
      "5\n"
     ]
    }
   ],
   "source": [
    "class abc:\n",
    "    def add(self,a,b):\n",
    "        return(a+b)\n",
    "    def add(self,a,b,c=0):\n",
    "        return a+b+c\n",
    "v=abc()\n",
    "print(v.add(2,5,8))\n",
    "print(v.add(2,3))\n"
   ]
  },
  {
   "cell_type": "code",
   "execution_count": 5,
   "id": "42717e05",
   "metadata": {},
   "outputs": [
    {
     "name": "stdout",
     "output_type": "stream",
     "text": [
      "The number of Employee: 4\n"
     ]
    }
   ],
   "source": [
    "class Employee:\n",
    "    count = 0\n",
    "    def __init__(self):\n",
    "        Employee.count = Employee.count + 1\n",
    "\n",
    "\n",
    "# creating objects\n",
    "e1 = Employee()\n",
    "e2 = Employee()\n",
    "e2 = Employee()\n",
    "e2 = Employee()\n",
    "print(\"The number of Employee:\", Employee.count)"
   ]
  },
  {
   "cell_type": "code",
   "execution_count": 5,
   "id": "f5da92f9",
   "metadata": {},
   "outputs": [
    {
     "name": "stdout",
     "output_type": "stream",
     "text": [
      "engine=1500cc,max speed=240,km range=750\n"
     ]
    }
   ],
   "source": [
    "class vehicle:\n",
    "#     constructor of vehicle\n",
    "    def __init__(self,engine):\n",
    "        self.engine=engine\n",
    "class car(vehicle):\n",
    "#     constructor of car\n",
    "    def __init__(self,engine,max_speed):\n",
    "        super().__init__(engine)\n",
    "        self.max_speed=max_speed\n",
    "class Electric_car(car):\n",
    "#     constructor of Electric_car\n",
    "    def __init__(self,engine,max_speed,km_range):\n",
    "        super().__init__(engine,max_speed)\n",
    "        self.km_range=km_range\n",
    "var=Electric_car(\"1500cc\",240,750)\n",
    "print(f'engine={var.engine},max speed={var.max_speed},km range={var.km_range}')\n",
    "\n"
   ]
  },
  {
   "cell_type": "code",
   "execution_count": 7,
   "id": "3440deb5",
   "metadata": {},
   "outputs": [
    {
     "name": "stdout",
     "output_type": "stream",
     "text": [
      "Inside Constructor\n",
      "Object initialized\n",
      "Inside destructor\n",
      "Object destroyed\n"
     ]
    },
    {
     "ename": "NameError",
     "evalue": "name 's1' is not defined",
     "output_type": "error",
     "traceback": [
      "\u001b[1;31m---------------------------------------------------------------------------\u001b[0m",
      "\u001b[1;31mNameError\u001b[0m                                 Traceback (most recent call last)",
      "Input \u001b[1;32mIn [7]\u001b[0m, in \u001b[0;36m<cell line: 21>\u001b[1;34m()\u001b[0m\n\u001b[0;32m     19\u001b[0m s1 \u001b[38;5;241m=\u001b[39m Student(\u001b[38;5;124m'\u001b[39m\u001b[38;5;124mEmma\u001b[39m\u001b[38;5;124m'\u001b[39m)\n\u001b[0;32m     20\u001b[0m \u001b[38;5;28;01mdel\u001b[39;00m s1\n\u001b[1;32m---> 21\u001b[0m \u001b[43ms1\u001b[49m\u001b[38;5;241m.\u001b[39mshow()\n",
      "\u001b[1;31mNameError\u001b[0m: name 's1' is not defined"
     ]
    }
   ],
   "source": [
    "class Student:\n",
    "\n",
    "    # constructor\n",
    "    def __init__(self, name):\n",
    "        print('Inside Constructor')\n",
    "        self.name = name\n",
    "        print('Object initialized')\n",
    "\n",
    "    def show(self):\n",
    "        print('Hello, my name is', self.name)\n",
    "        print(self.name)\n",
    "\n",
    "    # destructor\n",
    "    def __del__(self):\n",
    "        print('Inside destructor')\n",
    "        print('Object destroyed')\n",
    "\n",
    "# create object\n",
    "s1 = Student('Emma')\n",
    "del s1\n",
    "s1.show()\n",
    "\n",
    "# delete object\n",
    "# del s1\n",
    "# s1.__del__()\n",
    "# s1.show()\n",
    "\n"
   ]
  },
  {
   "cell_type": "code",
   "execution_count": 1,
   "id": "e1be57a4",
   "metadata": {},
   "outputs": [
    {
     "name": "stdout",
     "output_type": "stream",
     "text": [
      "{3: 4, 5: 2}\n"
     ]
    }
   ],
   "source": [
    "a= {1:2,3:4}\n",
    "a[5]=a.pop(1)\n",
    "print(a)"
   ]
  },
  {
   "cell_type": "code",
   "execution_count": 14,
   "id": "fc02a5f2",
   "metadata": {},
   "outputs": [
    {
     "name": "stdout",
     "output_type": "stream",
     "text": [
      "adnan\n",
      "22\n",
      "se\n",
      "mumbai\n",
      "20\n"
     ]
    }
   ],
   "source": [
    "class Employee:\n",
    "    def __init__(self,name,age,pro,area,salary):\n",
    "        self.name=name\n",
    "        self.age=age\n",
    "        self.pro=pro\n",
    "        self.area=area\n",
    "        self.salary=salary\n",
    "    def show(self):\n",
    "        print(self.name)\n",
    "        print(self.age)\n",
    "        print(self.pro)\n",
    "        print(self.area)\n",
    "        print(self.salary)\n",
    "s1=Employee(\"adnan\",22,\"se\",\"mumbai\",20)\n",
    "s1.show()\n"
   ]
  },
  {
   "cell_type": "code",
   "execution_count": 7,
   "id": "c6ef48b1",
   "metadata": {},
   "outputs": [
    {
     "name": "stdout",
     "output_type": "stream",
     "text": [
      "{'shaikh': 1964, 'ali': 1}\n"
     ]
    }
   ],
   "source": [
    "d={'khan':1,\n",
    "  'shaikh':1964}\n",
    "d[\"ali\"]=d.pop(\"khan\")\n",
    "print(d)"
   ]
  },
  {
   "cell_type": "code",
   "execution_count": 9,
   "id": "44b3ece0",
   "metadata": {},
   "outputs": [
    {
     "name": "stdout",
     "output_type": "stream",
     "text": [
      "[1, 2, 3, 4, 5, 6]\n"
     ]
    }
   ],
   "source": [
    "l=[1,2,3]\n",
    "a=[4,5,6]\n",
    "l.extend(a)\n",
    "print(l)"
   ]
  },
  {
   "cell_type": "code",
   "execution_count": 33,
   "id": "23445591",
   "metadata": {},
   "outputs": [
    {
     "name": "stdout",
     "output_type": "stream",
     "text": [
      "My self adnan\n",
      "I am 22 year old\n",
      "adnan 22 20\n"
     ]
    }
   ],
   "source": [
    "class Person:\n",
    "    def __init__(self,name,age,salary):\n",
    "        self.name=name\n",
    "        self.age=age\n",
    "        self.salary=salary\n",
    "    def show(self):\n",
    "        print(\"My self\",self.name)\n",
    "        print(\"I am\",self.age,\"year old\")\n",
    "    def work(self):\n",
    "        print(self.name,self.age,self.salary)\n",
    "obj=Person(\"adnan\",22,20)\n",
    "obj.show()\n",
    "obj.work()"
   ]
  },
  {
   "cell_type": "code",
   "execution_count": 89,
   "id": "298a064c",
   "metadata": {},
   "outputs": [
    {
     "name": "stdout",
     "output_type": "stream",
     "text": [
      "[2, 3]\n"
     ]
    }
   ],
   "source": [
    "l=[1,15,2,7]\n",
    "t=9\n",
    "def tar(l,t):\n",
    "    for x in range(len(l)):\n",
    "        for y in range(len(l)):\n",
    "            if l[x]+l[y]==t:\n",
    "                return x,y\n",
    "print(list(tar(l,t)))\n",
    "    "
   ]
  },
  {
   "cell_type": "code",
   "execution_count": 1,
   "id": "62bca7b4",
   "metadata": {},
   "outputs": [
    {
     "name": "stdout",
     "output_type": "stream",
     "text": [
      "[0, 2]\n"
     ]
    }
   ],
   "source": [
    "l=[3,2,4]\n",
    "t=7\n",
    "def tar(l,t):\n",
    "    for x in range(len(l)):\n",
    "        for y in range(1,len(l)):\n",
    "            if l[x]+l[y]==t:\n",
    "                return x,y\n",
    "print(list(tar(l,t)))"
   ]
  },
  {
   "cell_type": "code",
   "execution_count": 85,
   "id": "3b61b7e1",
   "metadata": {},
   "outputs": [
    {
     "name": "stdout",
     "output_type": "stream",
     "text": [
      "target:7\n"
     ]
    }
   ],
   "source": [
    "l=[11,15,2,7]\n",
    "t=int(input(\"target:\"))\n",
    "for i in range(len(l)):\n",
    "    for j in range(len(l)):\n",
    "        if l[i]+l[j]==t: \n",
    "                print(i)"
   ]
  },
  {
   "cell_type": "code",
   "execution_count": 18,
   "id": "a24e2d6f",
   "metadata": {},
   "outputs": [
    {
     "name": "stdout",
     "output_type": "stream",
     "text": [
      "True\n",
      "True\n"
     ]
    }
   ],
   "source": [
    "b=[2,3,4]\n",
    "a=[2,3,4]\n",
    "print(a==b)\n",
    "print(a is a)"
   ]
  },
  {
   "cell_type": "code",
   "execution_count": 26,
   "id": "bdbc587b",
   "metadata": {},
   "outputs": [
    {
     "name": "stdout",
     "output_type": "stream",
     "text": [
      "hello my name adnan\n"
     ]
    }
   ],
   "source": [
    "class Person:\n",
    "    def __init__(self,name,age,pro):\n",
    "        self.name=name\n",
    "        self.age=age\n",
    "        self.pro=pro\n",
    "    def show(self):\n",
    "        print(\"hello my name\",self.name)\n",
    "s1=Person(\"adnan\",22,\"se\")\n",
    "s1.show()"
   ]
  },
  {
   "cell_type": "code",
   "execution_count": 41,
   "id": "335a5637",
   "metadata": {},
   "outputs": [
    {
     "name": "stdout",
     "output_type": "stream",
     "text": [
      "hello my name is adnan 20\n",
      "20\n"
     ]
    }
   ],
   "source": [
    "class Empolyee:\n",
    "    def __init__(self,name,salary):\n",
    "        self.name=name\n",
    "        self.__salary=salary\n",
    "    def show(self):\n",
    "        print(\"hello my name is\",self.name,self.__salary)\n",
    "s1=Empolyee(\"adnan\",20)\n",
    "s1.show()\n",
    "print(s1._Empolyee__salary)"
   ]
  },
  {
   "cell_type": "code",
   "execution_count": 7,
   "id": "07f00865",
   "metadata": {},
   "outputs": [
    {
     "name": "stdout",
     "output_type": "stream",
     "text": [
      "hello my name is adnan\n",
      "i am 22 year old\n",
      "30\n"
     ]
    }
   ],
   "source": [
    "class show: \n",
    "    def __init__(self,name):\n",
    "        self.name=\"adnan\"\n",
    "        print(\"hello my name is\",self.name)\n",
    "class person(show):\n",
    "    def __init__(self,name,age):\n",
    "        super().__init__(name)\n",
    "        self.age=age\n",
    "        print(\"i am\",self.age,\"year old\")\n",
    "class work(person):\n",
    "    def __init__(self,name,age,salary):\n",
    "        super().__init__(name,age)\n",
    "        self.salary=salary\n",
    "        print(self.salary)\n",
    "s=work(\"adnan\",22,30)\n",
    "# print(f'name={s.name},age={s.age},salary={s.salary}')"
   ]
  },
  {
   "cell_type": "code",
   "execution_count": 30,
   "id": "5dd0c30e",
   "metadata": {},
   "outputs": [
    {
     "name": "stdout",
     "output_type": "stream",
     "text": [
      "Name of the student: iram Roll no of the student: 55\n",
      "school name: abp school rollno.: 55 age: 33\n"
     ]
    }
   ],
   "source": [
    "class student:\n",
    "    def __init__(self,name,rollno):\n",
    "        self.name=name\n",
    "        self.rollno=rollno\n",
    "    def show(self):\n",
    "        print(\"Name of the student:\",self.name,\"Roll no of the student:\",self.rollno)\n",
    "    \n",
    "    \n",
    "class school(student):\n",
    "    def __init__(self, name, rollno,age):\n",
    "        super().__init__(name, rollno)\n",
    "        super().show()\n",
    "        self.age = age\n",
    "    def show(self):\n",
    "        self.school=\"abp school\"\n",
    "        print(\"school name:\",self.school, \"rollno.:\",self.rollno, \"age:\", self.age) \n",
    "        \n",
    "        \n",
    "class home(school):\n",
    "    def __init__(self, name, rollno,age, subject):\n",
    "        super().__init__(name, rollno, age)\n",
    "        super().show()\n",
    "        self.subject = subject\n",
    "    def show(self):\n",
    "        self.school=\"abp school\"\n",
    "        print(\"school name:\",self.school, \"rollno.:\",self.rollno, \"subject:\", self.subject)\n",
    "        \n",
    "\n",
    "s1=home('iram',55,33,\"Maths\")\n",
    "s1.show()"
   ]
  },
  {
   "cell_type": "code",
   "execution_count": 60,
   "id": "8f013152",
   "metadata": {},
   "outputs": [
    {
     "name": "stdout",
     "output_type": "stream",
     "text": [
      "jafar 22\n",
      "23\n"
     ]
    }
   ],
   "source": [
    "class show:\n",
    "    def __init__(self,name,age):\n",
    "        self.name=name\n",
    "        self.__age=age\n",
    "    def get(self):\n",
    "        return self.__age\n",
    "    def sett(self,age):\n",
    "        self.__age=age\n",
    "s1=show(\"jafar\",22)\n",
    "print(s1.name,s1.get())\n",
    "s1.sett(23)\n",
    "print(s1.get())"
   ]
  },
  {
   "cell_type": "code",
   "execution_count": 112,
   "id": "02b0f82b",
   "metadata": {},
   "outputs": [
    {
     "name": "stdout",
     "output_type": "stream",
     "text": [
      "Details: Car x1 Red 20000\n",
      "Car max speed is 240\n",
      "Car change 7 gear\n",
      "Details: Truck x1 white 75000\n",
      "Vehicle max speed is 150\n",
      "Vehicle change 6 gear\n",
      "Truk max speed is 250\n"
     ]
    }
   ],
   "source": [
    "class Vehicle:\n",
    "\n",
    "    def __init__(self, name, color, price):\n",
    "        self.name = name\n",
    "        self.color = color\n",
    "        self.price = price\n",
    "\n",
    "    def show(self):\n",
    "        print('Details:', self.name, self.color, self.price)\n",
    "\n",
    "    def max_speed(self):\n",
    "        print('Vehicle max speed is 150')\n",
    "\n",
    "    def change_gear(self):\n",
    "        print('Vehicle change 6 gear')\n",
    "\n",
    "\n",
    "# inherit from vehicle class\n",
    "class Car(Vehicle):\n",
    "    def max_speed(self):\n",
    "        print('Car max speed is 240')\n",
    "\n",
    "    def change_gear(self):\n",
    "        print('Car change 7 gear')\n",
    "\n",
    "        \n",
    "class Truck(Car):\n",
    "    def max_speed(self):\n",
    "        print('Truk max speed is 250')\n",
    "    def change_gear(self):\n",
    "        print('Truk chage 5 gear')\n",
    "\n",
    "\n",
    "# Car Object\n",
    "car = Car('Car x1', 'Red', 20000)\n",
    "car.show()\n",
    "# calls methods from Car class\n",
    "car.max_speed()\n",
    "car.change_gear()\n",
    "\n",
    "# Vehicle Object\n",
    "vehicle = Vehicle('Truck x1', 'white', 75000)\n",
    "vehicle.show()\n",
    "# calls method from a Vehicle class\n",
    "vehicle.max_speed()\n",
    "vehicle.change_gear()\n",
    "\n",
    "truck.max_speed()\n",
    "        "
   ]
  },
  {
   "cell_type": "code",
   "execution_count": null,
   "id": "b2c1174d",
   "metadata": {},
   "outputs": [],
   "source": [
    "class person:\n",
    "    def __init__(self,name):\n",
    "        self.name=name\n",
    "    def __init__(self,name,age):\n",
    "        self.name=name\n",
    "        self.age=age\n",
    "    def __init__(self,name,age,role):\n",
    "        self.name=name\n",
    "        self.age=age\n",
    "        self.role=role"
   ]
  },
  {
   "cell_type": "code",
   "execution_count": 113,
   "id": "38d23541",
   "metadata": {},
   "outputs": [
    {
     "name": "stdout",
     "output_type": "stream",
     "text": [
      "Object 1\n",
      "Name: Jessa\n",
      "Age: 20\n",
      "Object 2\n",
      "Name: Kelly\n",
      "Age: 10\n"
     ]
    }
   ],
   "source": [
    "class Student:\n",
    "    # constructor\n",
    "    def __init__(self, name, age):\n",
    "        # Instance variable\n",
    "        self.name = name\n",
    "        self.age = age\n",
    "\n",
    "# create first object\n",
    "s1 = Student(\"Jessa\", 20)\n",
    "\n",
    "# access instance variable\n",
    "print('Object 1')\n",
    "print('Name:', s1.name)\n",
    "print('Age:', s1.age)\n",
    "\n",
    "# create second object\n",
    "s2= Student(\"Kelly\", 10)\n",
    "\n",
    "# access instance variable\n",
    "print('Object 2')\n",
    "print('Name:', s2.name)\n",
    "print('Age:', s2.age)\n"
   ]
  },
  {
   "cell_type": "code",
   "execution_count": 121,
   "id": "58f8f5b3",
   "metadata": {},
   "outputs": [
    {
     "name": "stdout",
     "output_type": "stream",
     "text": [
      "1\n"
     ]
    }
   ],
   "source": [
    "class a:\n",
    "    def __init__(self):\n",
    "        print(2)\n",
    "    def __new__(self):\n",
    "        print(1)\n",
    "    \n",
    "s1=a()"
   ]
  },
  {
   "cell_type": "code",
   "execution_count": 2,
   "id": "72c5c1d2",
   "metadata": {},
   "outputs": [
    {
     "name": "stdout",
     "output_type": "stream",
     "text": [
      "anjuman\n"
     ]
    }
   ],
   "source": [
    "class Person:\n",
    "    school_name=\"anjuman\"\n",
    "    def __init__(self,name,age,salary):\n",
    "        self.name=name\n",
    "        self.age=age\n",
    "        self.salary=salary\n",
    "    def show(self):\n",
    "        print(\"my name is \",self.name,\"i am 22 year \",self.age)\n",
    "s2=Person(\"adnan\",22,20000)\n",
    "print(Person.school_name)"
   ]
  },
  {
   "cell_type": "code",
   "execution_count": 16,
   "id": "3a15c64e",
   "metadata": {},
   "outputs": [
    {
     "name": "stdout",
     "output_type": "stream",
     "text": [
      "inside the cls\n",
      "inside the child\n",
      "adnan\n"
     ]
    }
   ],
   "source": [
    "class Person:\n",
    "    def show(self):\n",
    "        print(\"inside the cls\")\n",
    "class work(Person):\n",
    "    def show(self,name):\n",
    "        super().show()\n",
    "        print(\"inside the child\")\n",
    "        self.name=name\n",
    "        print(self.name)\n",
    "        \n",
    "s1=work()\n",
    "s1.show(\"adnan\")\n",
    "\n",
    "    \n",
    "    \n",
    "    "
   ]
  },
  {
   "cell_type": "code",
   "execution_count": null,
   "id": "9c4fbb5f",
   "metadata": {},
   "outputs": [],
   "source": [
    "class Employee:\n",
    "    def __init__(self,name,age):\n",
    "        self.name=name\n",
    "\n",
    "s1=Employee()"
   ]
  },
  {
   "cell_type": "code",
   "execution_count": 63,
   "id": "922b488d",
   "metadata": {},
   "outputs": [
    {
     "ename": "IndentationError",
     "evalue": "expected an indented block after function definition on line 9 (409810017.py, line 12)",
     "output_type": "error",
     "traceback": [
      "\u001b[1;36m  Input \u001b[1;32mIn [63]\u001b[1;36m\u001b[0m\n\u001b[1;33m    emp = Employee('Kelly', 12000, 'ABC Project')\u001b[0m\n\u001b[1;37m                                                 ^\u001b[0m\n\u001b[1;31mIndentationError\u001b[0m\u001b[1;31m:\u001b[0m expected an indented block after function definition on line 9\n"
     ]
    }
   ],
   "source": [
    "class Employee:\n",
    "\n",
    "    def __init__(self, name, salary, project_name):\n",
    "        self.name = name\n",
    "        self.salary = salary\n",
    "        self.project_name = project_name\n",
    "\n",
    "    @staticmethod\n",
    "    def gather_requirement():\n",
    "        \n",
    "\n",
    "emp = Employee('Kelly', 12000, 'ABC Project')\n",
    "emp.work()\n",
    "print(emp)\n"
   ]
  },
  {
   "cell_type": "code",
   "execution_count": 62,
   "id": "f85df3bc",
   "metadata": {},
   "outputs": [
    {
     "name": "stdout",
     "output_type": "stream",
     "text": [
      "('1', 2)\n",
      "(6, 3)\n",
      "(5, 4)\n"
     ]
    }
   ],
   "source": [
    "d={'1':2,\n",
    "  6:3,\n",
    "  5:4}\n",
    "for i in d.items():\n",
    "    print(i)"
   ]
  },
  {
   "cell_type": "code",
   "execution_count": 66,
   "id": "bd49efac",
   "metadata": {},
   "outputs": [
    {
     "name": "stdout",
     "output_type": "stream",
     "text": [
      "[3]\n"
     ]
    }
   ],
   "source": [
    "a=[1,2,3,4,5]\n",
    "x=a[2:-5:-2]\n",
    "print(x)\n",
    "1"
   ]
  },
  {
   "cell_type": "code",
   "execution_count": 76,
   "id": "93910ec5",
   "metadata": {},
   "outputs": [
    {
     "name": "stdout",
     "output_type": "stream",
     "text": [
      "enter stringadnan\n",
      "adn"
     ]
    }
   ],
   "source": [
    "a=input(\"enter string\")\n",
    "for i in range ((len(a)-1)-1):\n",
    "    print (a[i],end=\"\")"
   ]
  },
  {
   "cell_type": "code",
   "execution_count": 86,
   "id": "dfa13a2a",
   "metadata": {},
   "outputs": [
    {
     "name": "stdout",
     "output_type": "stream",
     "text": [
      "* \n",
      "* * \n",
      "* * * \n",
      "* * * * \n",
      "* * * * * \n"
     ]
    }
   ],
   "source": [
    "for i in range(1,6):\n",
    "    for j in range(1,i+1):\n",
    "        print(\"*\",end=' ')\n",
    "    print(\"\")"
   ]
  },
  {
   "cell_type": "code",
   "execution_count": 24,
   "id": "9b3e8eaf",
   "metadata": {},
   "outputs": [
    {
     "name": "stdout",
     "output_type": "stream",
     "text": [
      "    *\n",
      "   ***\n",
      "  *****\n",
      " *******\n",
      "*********\n",
      "*********\n",
      " *******\n",
      "  *****\n",
      "   ***\n",
      "    *\n"
     ]
    }
   ],
   "source": [
    "for i in range(1,6):\n",
    "    for k in range(1,6-i):\n",
    "        print(\" \",end='')\n",
    "    for j in range(1,2*i):\n",
    "        print(\"*\",end=\"\")\n",
    "    print('')\n",
    "for i in range(5,0,-1):\n",
    "    for k in range(1,6-i):\n",
    "        print(\" \",end='')\n",
    "    for j in range(1,2*i):\n",
    "        print(\"*\",end=\"\")\n",
    "    print('')"
   ]
  },
  {
   "cell_type": "code",
   "execution_count": 99,
   "id": "171d9c2a",
   "metadata": {},
   "outputs": [
    {
     "data": {
      "text/plain": [
       "['__add__',\n",
       " '__class__',\n",
       " '__class_getitem__',\n",
       " '__contains__',\n",
       " '__delattr__',\n",
       " '__delitem__',\n",
       " '__dir__',\n",
       " '__doc__',\n",
       " '__eq__',\n",
       " '__format__',\n",
       " '__ge__',\n",
       " '__getattribute__',\n",
       " '__getitem__',\n",
       " '__gt__',\n",
       " '__hash__',\n",
       " '__iadd__',\n",
       " '__imul__',\n",
       " '__init__',\n",
       " '__init_subclass__',\n",
       " '__iter__',\n",
       " '__le__',\n",
       " '__len__',\n",
       " '__lt__',\n",
       " '__mul__',\n",
       " '__ne__',\n",
       " '__new__',\n",
       " '__reduce__',\n",
       " '__reduce_ex__',\n",
       " '__repr__',\n",
       " '__reversed__',\n",
       " '__rmul__',\n",
       " '__setattr__',\n",
       " '__setitem__',\n",
       " '__sizeof__',\n",
       " '__str__',\n",
       " '__subclasshook__',\n",
       " 'append',\n",
       " 'clear',\n",
       " 'copy',\n",
       " 'count',\n",
       " 'extend',\n",
       " 'index',\n",
       " 'insert',\n",
       " 'pop',\n",
       " 'remove',\n",
       " 'reverse',\n",
       " 'sort']"
      ]
     },
     "execution_count": 99,
     "metadata": {},
     "output_type": "execute_result"
    }
   ],
   "source": [
    "a=[2,3,4,5]\n",
    "dir(a)"
   ]
  },
  {
   "cell_type": "code",
   "execution_count": 109,
   "id": "5316e6e7",
   "metadata": {},
   "outputs": [
    {
     "name": "stdout",
     "output_type": "stream",
     "text": [
      "inside interger\n",
      "inside interger\n"
     ]
    }
   ],
   "source": [
    "class Person:\n",
    "    def show(self):\n",
    "        print(\"inside interger\")\n",
    "    def work(self):\n",
    "        print(\"outside interger\")\n",
    "    def __add__(self):\n",
    "        print(\"in\")\n",
    "s1=Person()\n",
    "s1.show()\n",
    "s2=Person()\n",
    "s2.show()\n"
   ]
  },
  {
   "cell_type": "code",
   "execution_count": 2,
   "id": "8bb37a03",
   "metadata": {},
   "outputs": [
    {
     "name": "stdout",
     "output_type": "stream",
     "text": [
      "6\n",
      "7\n",
      "10\n",
      "15\n",
      "22\n"
     ]
    }
   ],
   "source": [
    "def square(x):\n",
    "    for i in range(x):\n",
    "        yield i*i\n",
    "        \n",
    "def test(x):\n",
    "    for i in square(5):\n",
    "        print(i+x) \n",
    "test(6)"
   ]
  },
  {
   "cell_type": "code",
   "execution_count": 11,
   "id": "4b64b4c3",
   "metadata": {},
   "outputs": [
    {
     "name": "stdout",
     "output_type": "stream",
     "text": [
      "Enter the number of rows: 6\n",
      "      *      \n",
      "     ***     \n",
      "    *****    \n",
      "   *******   \n",
      "  *********  \n",
      " *********** \n",
      "  *********  \n",
      "   *******   \n",
      "    *****    \n",
      "     ***     \n",
      "      *      \n"
     ]
    }
   ],
   "source": [
    "n=int(input(\"Enter the number of rows: \"))\n",
    "m=n-2\n",
    "for i in range (n):\n",
    "    print(\" \" * (n-i-1),\"*\" * (2*i+1),\" \" * (n-i-1))\n",
    "for j in range (m,-1,-1):\n",
    "    print(\" \" * (n-j-1),\"*\" * (2*j+1),\" \" * (n-j-1))"
   ]
  },
  {
   "cell_type": "code",
   "execution_count": 50,
   "id": "02248591",
   "metadata": {},
   "outputs": [
    {
     "name": "stdout",
     "output_type": "stream",
     "text": [
      "{'a': 1, 'e': 2, 'c': 3, 'd': 4}\n"
     ]
    }
   ],
   "source": [
    "d={'a':1,'c':3,'d':4}\n",
    "d.update({'e':2})\n",
    "s = dict(sorted(d.items(), key=lambda x: x[1]))\n",
    "print(s)"
   ]
  },
  {
   "cell_type": "code",
   "execution_count": 13,
   "id": "6e1bd155",
   "metadata": {},
   "outputs": [],
   "source": [
    "def myfunc(x):\n",
    "    lst=[-1,-2,-3,-4,5,6,7,8]\n",
    "    for i in range(len(lst)):\n",
    "        if lst[i] == x:\n",
    "             print(i)\n",
    "myfunc(3)"
   ]
  },
  {
   "cell_type": "code",
   "execution_count": null,
   "id": "47c2179f",
   "metadata": {},
   "outputs": [],
   "source": [
    "d={'a':1,'b':2,'c':3}\n",
    "\n"
   ]
  },
  {
   "cell_type": "code",
   "execution_count": 2,
   "id": "19b190aa",
   "metadata": {},
   "outputs": [
    {
     "name": "stdout",
     "output_type": "stream",
     "text": [
      "5\n",
      "0\n"
     ]
    }
   ],
   "source": [
    "lis=[5,10,15,20,30]\n",
    "x=int(input())\n",
    "low=0\n",
    "high=len(lis)\n",
    "if x not in lis:\n",
    "    print(\"its not in list\")\n",
    "while low<high:\n",
    "    mid=low+high//2\n",
    "    if lis[mid]==x:\n",
    "        print(mid)\n",
    "    if x>lis[mid]:\n",
    "        mid=low+1\n",
    "    else:\n",
    "        high=mid-1\n",
    "        \n",
    "        "
   ]
  },
  {
   "cell_type": "code",
   "execution_count": null,
   "id": "db2b997a",
   "metadata": {},
   "outputs": [],
   "source": []
  },
  {
   "cell_type": "code",
   "execution_count": 18,
   "id": "ce66b643",
   "metadata": {},
   "outputs": [
    {
     "ename": "SyntaxError",
     "evalue": "invalid syntax (2908893525.py, line 5)",
     "output_type": "error",
     "traceback": [
      "\u001b[1;36m  Input \u001b[1;32mIn [18]\u001b[1;36m\u001b[0m\n\u001b[1;33m    while\u001b[0m\n\u001b[1;37m          ^\u001b[0m\n\u001b[1;31mSyntaxError\u001b[0m\u001b[1;31m:\u001b[0m invalid syntax\n"
     ]
    }
   ],
   "source": [
    "lst=[16,17,4,3,5,2,9]\n",
    "z=[]\n",
    "x=0\n",
    "for i in range(len(lst)):\n",
    "    while \n",
    "        if lst[i]>x:\n",
    "            x=lst[i]\n",
    "            if lst[i]<x:\n",
    "                z.append(lst[i])\n",
    "        \n",
    "print(z)"
   ]
  },
  {
   "cell_type": "code",
   "execution_count": 17,
   "id": "91d76091",
   "metadata": {},
   "outputs": [
    {
     "name": "stdout",
     "output_type": "stream",
     "text": [
      "{'a': 4, 'b': 2, 'c': 2}\n"
     ]
    }
   ],
   "source": [
    "a=\"aaaabbaacc\"\n",
    "d = {}\n",
    "count = 0\n",
    "for i in a:\n",
    "    if i not in d:\n",
    "        count = 1\n",
    "    else:\n",
    "        count += 1\n",
    "    d.update({i:count})\n",
    "print(d)"
   ]
  },
  {
   "cell_type": "code",
   "execution_count": null,
   "id": "03814699",
   "metadata": {},
   "outputs": [],
   "source": []
  },
  {
   "cell_type": "code",
   "execution_count": null,
   "id": "b749e525",
   "metadata": {},
   "outputs": [],
   "source": []
  },
  {
   "cell_type": "code",
   "execution_count": null,
   "id": "c1bff18d",
   "metadata": {},
   "outputs": [],
   "source": []
  },
  {
   "cell_type": "code",
   "execution_count": null,
   "id": "daeb5db2",
   "metadata": {},
   "outputs": [],
   "source": []
  },
  {
   "cell_type": "code",
   "execution_count": null,
   "id": "09fb3de3",
   "metadata": {},
   "outputs": [],
   "source": []
  },
  {
   "cell_type": "code",
   "execution_count": null,
   "id": "eaccd7cd",
   "metadata": {},
   "outputs": [],
   "source": []
  },
  {
   "cell_type": "code",
   "execution_count": null,
   "id": "5c601da1",
   "metadata": {},
   "outputs": [],
   "source": []
  },
  {
   "cell_type": "code",
   "execution_count": null,
   "id": "9851e4c6",
   "metadata": {},
   "outputs": [],
   "source": []
  },
  {
   "cell_type": "code",
   "execution_count": null,
   "id": "19a4ecae",
   "metadata": {},
   "outputs": [],
   "source": []
  },
  {
   "cell_type": "code",
   "execution_count": null,
   "id": "d9035053",
   "metadata": {},
   "outputs": [],
   "source": []
  },
  {
   "cell_type": "code",
   "execution_count": null,
   "id": "97a62463",
   "metadata": {},
   "outputs": [],
   "source": []
  },
  {
   "cell_type": "code",
   "execution_count": null,
   "id": "bb8ef3ab",
   "metadata": {},
   "outputs": [],
   "source": []
  },
  {
   "cell_type": "code",
   "execution_count": null,
   "id": "46c43ae8",
   "metadata": {},
   "outputs": [],
   "source": []
  },
  {
   "cell_type": "code",
   "execution_count": null,
   "id": "09866286",
   "metadata": {},
   "outputs": [],
   "source": []
  },
  {
   "cell_type": "code",
   "execution_count": null,
   "id": "5e5443a6",
   "metadata": {},
   "outputs": [],
   "source": []
  },
  {
   "cell_type": "code",
   "execution_count": null,
   "id": "c26bc879",
   "metadata": {},
   "outputs": [],
   "source": []
  },
  {
   "cell_type": "code",
   "execution_count": null,
   "id": "561c018d",
   "metadata": {},
   "outputs": [],
   "source": []
  },
  {
   "cell_type": "code",
   "execution_count": null,
   "id": "52f24d98",
   "metadata": {},
   "outputs": [],
   "source": []
  },
  {
   "cell_type": "code",
   "execution_count": null,
   "id": "d19740f3",
   "metadata": {},
   "outputs": [],
   "source": []
  },
  {
   "cell_type": "code",
   "execution_count": null,
   "id": "eda892c2",
   "metadata": {},
   "outputs": [],
   "source": []
  },
  {
   "cell_type": "code",
   "execution_count": null,
   "id": "cbf39ee2",
   "metadata": {},
   "outputs": [],
   "source": []
  }
 ],
 "metadata": {
  "kernelspec": {
   "display_name": "Python 3 (ipykernel)",
   "language": "python",
   "name": "python3"
  },
  "language_info": {
   "codemirror_mode": {
    "name": "ipython",
    "version": 3
   },
   "file_extension": ".py",
   "mimetype": "text/x-python",
   "name": "python",
   "nbconvert_exporter": "python",
   "pygments_lexer": "ipython3",
   "version": "3.10.4"
  }
 },
 "nbformat": 4,
 "nbformat_minor": 5
}
