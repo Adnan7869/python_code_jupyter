{
 "cells": [
  {
   "cell_type": "code",
   "execution_count": 9,
   "id": "f2157e3b",
   "metadata": {},
   "outputs": [
    {
     "name": "stdout",
     "output_type": "stream",
     "text": [
      "[1, 2, 3, 4, 5]\n",
      "[1, 2, 3, 4, 5, 6, 7, 8]\n"
     ]
    }
   ],
   "source": [
    "l=[1,2,3,4]\n",
    "l.append(5)\n",
    "print(l)\n",
    "l.extend([6,7,8])\n",
    "print(l)"
   ]
  },
  {
   "cell_type": "code",
   "execution_count": 8,
   "id": "5198b036",
   "metadata": {},
   "outputs": [
    {
     "name": "stdout",
     "output_type": "stream",
     "text": [
      "('name', 'adnan')\n",
      "('age', 22)\n"
     ]
    }
   ],
   "source": [
    "d={\"name\":\"adnan\",\n",
    "  \"age\":22}"
   ]
  },
  {
   "cell_type": "code",
   "execution_count": 8,
   "id": "6d3cef4f",
   "metadata": {},
   "outputs": [
    {
     "name": "stdout",
     "output_type": "stream",
     "text": [
      "[1, 2, 3, 4, 5]\n",
      "[1, 2, 3, 4, 5, [7, 8, 9, 10]]\n"
     ]
    }
   ],
   "source": [
    "l=[1,2,3,4]\n",
    "l.insert(4,5)\n",
    "print(l)\n",
    "l.insert(5,[7,8,9,10])\n",
    "print(l)"
   ]
  },
  {
   "cell_type": "code",
   "execution_count": 13,
   "id": "7fdc9918",
   "metadata": {},
   "outputs": [
    {
     "name": "stdout",
     "output_type": "stream",
     "text": [
      "[4, 16, 36, 64]\n"
     ]
    }
   ],
   "source": [
    "l=[2,4,6,8]\n",
    "for i in range(len(l)):\n",
    "    s=l[i]*l[i]\n",
    "    l[i]=s\n",
    "print(l)"
   ]
  },
  {
   "cell_type": "code",
   "execution_count": 24,
   "id": "44f938ef",
   "metadata": {},
   "outputs": [
    {
     "name": "stdout",
     "output_type": "stream",
     "text": [
      "Tarun\n"
     ]
    }
   ],
   "source": [
    "name=\"varun\"\n",
    "name1='T'+name[1:]\n",
    "print(name1)"
   ]
  },
  {
   "cell_type": "code",
   "execution_count": 4,
   "id": "703f799d",
   "metadata": {},
   "outputs": [
    {
     "ename": "TypeError",
     "evalue": "unhashable type: 'list'",
     "output_type": "error",
     "traceback": [
      "\u001b[1;31m---------------------------------------------------------------------------\u001b[0m",
      "\u001b[1;31mTypeError\u001b[0m                                 Traceback (most recent call last)",
      "Input \u001b[1;32mIn [4]\u001b[0m, in \u001b[0;36m<cell line: 1>\u001b[1;34m()\u001b[0m\n\u001b[1;32m----> 1\u001b[0m a\u001b[38;5;241m=\u001b[39m{\u001b[38;5;241m1\u001b[39m:\u001b[38;5;241m2\u001b[39m,\n\u001b[0;32m      2\u001b[0m    \u001b[38;5;241m2\u001b[39m:\u001b[38;5;241m1\u001b[39m,\n\u001b[0;32m      3\u001b[0m    [\u001b[38;5;241m2\u001b[39m]:\u001b[38;5;241m1\u001b[39m\n\u001b[0;32m      4\u001b[0m }\n\u001b[0;32m      5\u001b[0m \u001b[38;5;28mprint\u001b[39m(a)\n",
      "\u001b[1;31mTypeError\u001b[0m: unhashable type: 'list'"
     ]
    }
   ],
   "source": [
    "a={1:2,\n",
    "   2:1,\n",
    "   [2]:1\n",
    "}\n",
    "print(a)"
   ]
  },
  {
   "cell_type": "code",
   "execution_count": 10,
   "id": "9a63e608",
   "metadata": {},
   "outputs": [
    {
     "name": "stdout",
     "output_type": "stream",
     "text": [
      "3\n",
      "2\n",
      "1\n"
     ]
    }
   ],
   "source": [
    "a= [1,2,3]\n",
    "\n",
    "ralph = reversed(a)\n",
    "\n",
    "for x in ralph:\n",
    "      print(x)"
   ]
  },
  {
   "cell_type": "code",
   "execution_count": 19,
   "id": "2297d6a5",
   "metadata": {},
   "outputs": [
    {
     "name": "stdout",
     "output_type": "stream",
     "text": [
      "          \n",
      "        * * \n",
      "      * * * * \n",
      "    * * * * * * \n",
      "  * * * * * * * * \n"
     ]
    }
   ],
   "source": [
    "for i in range(5):\n",
    "    for k in range(5-i):\n",
    "        print(\" \",end=\" \")\n",
    "    for j in range(0,2*i):\n",
    "        print(\"*\",end=' ')\n",
    "    print(\"\")"
   ]
  },
  {
   "cell_type": "code",
   "execution_count": 338,
   "id": "e6c2cd7b",
   "metadata": {},
   "outputs": [
    {
     "name": "stdout",
     "output_type": "stream",
     "text": [
      "2022-07-24 15:13:34.457028\n"
     ]
    }
   ],
   "source": [
    "import datetime\n",
    "n=datetime.datetime.now()\n",
    "print(n)"
   ]
  },
  {
   "cell_type": "code",
   "execution_count": 339,
   "id": "d161628c",
   "metadata": {},
   "outputs": [
    {
     "name": "stdout",
     "output_type": "stream",
     "text": [
      "1\n",
      "2\n"
     ]
    }
   ],
   "source": [
    "lst=[1,2,3,4,5]\n",
    "for i in lst:\n",
    "    if i==3:\n",
    "        break\n",
    "    print(i)\n",
    "        "
   ]
  },
  {
   "cell_type": "code",
   "execution_count": 340,
   "id": "e8e28e29",
   "metadata": {},
   "outputs": [
    {
     "name": "stdout",
     "output_type": "stream",
     "text": [
      "1\n",
      "2\n",
      "4\n",
      "5\n"
     ]
    }
   ],
   "source": [
    "lest=[1,2,3,4,5]\n",
    "for i in lst:\n",
    "    if i==3:\n",
    "        continue\n",
    "    print(i)"
   ]
  },
  {
   "cell_type": "code",
   "execution_count": 341,
   "id": "b86e1f66",
   "metadata": {},
   "outputs": [
    {
     "name": "stdout",
     "output_type": "stream",
     "text": [
      "['False', 'None', 'True', 'and', 'as', 'assert', 'async', 'await', 'break', 'class', 'continue', 'def', 'del', 'elif', 'else', 'except', 'finally', 'for', 'from', 'global', 'if', 'import', 'in', 'is', 'lambda', 'nonlocal', 'not', 'or', 'pass', 'raise', 'return', 'try', 'while', 'with', 'yield']\n"
     ]
    }
   ],
   "source": [
    "import keyword\n",
    "print(keyword.kwlist)"
   ]
  },
  {
   "cell_type": "code",
   "execution_count": 1,
   "id": "d102d10b",
   "metadata": {},
   "outputs": [],
   "source": [
    "def arithmetic(num1, num2):\n",
    "    add = num1 + num2\n",
    "    sub = num1 - num2\n",
    "    multiply = num1 * num2\n",
    "    division = num1 / num2\n",
    "    # return four values\n",
    "    return add, sub, multiply, division\n",
    "\n",
    "# read four return values in four variables\n",
    "a, b, c, d = arithmetic(10, 2)\n",
    "\n",
    "# print(\"Addition: \", a)\n",
    "# print(\"Subtraction: \", b)\n",
    "# print(\"Multiplication: \", c)\n",
    "# print(\"Division: \", d)"
   ]
  },
  {
   "cell_type": "code",
   "execution_count": 5,
   "id": "25bf5684",
   "metadata": {},
   "outputs": [
    {
     "name": "stdout",
     "output_type": "stream",
     "text": [
      "5.0\n"
     ]
    }
   ],
   "source": [
    "print(d)"
   ]
  }
 ],
 "metadata": {
  "kernelspec": {
   "display_name": "Python 3 (ipykernel)",
   "language": "python",
   "name": "python3"
  },
  "language_info": {
   "codemirror_mode": {
    "name": "ipython",
    "version": 3
   },
   "file_extension": ".py",
   "mimetype": "text/x-python",
   "name": "python",
   "nbconvert_exporter": "python",
   "pygments_lexer": "ipython3",
   "version": "3.10.4"
  }
 },
 "nbformat": 4,
 "nbformat_minor": 5
}
