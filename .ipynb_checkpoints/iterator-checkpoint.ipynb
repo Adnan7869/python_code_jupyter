{
 "cells": [
  {
   "cell_type": "code",
   "execution_count": 1,
   "id": "bcd7399a",
   "metadata": {},
   "outputs": [
    {
     "name": "stdout",
     "output_type": "stream",
     "text": [
      "1\n",
      "2\n",
      "3\n",
      "4\n"
     ]
    }
   ],
   "source": [
    "l=list(range(1,10000))\n",
    "obj=iter(l)\n",
    "print(next(obj))\n",
    "print(next(obj))\n",
    "print(next(obj))\n",
    "print(next(obj))"
   ]
  },
  {
   "cell_type": "code",
   "execution_count": 52,
   "id": "92dbc2b7",
   "metadata": {},
   "outputs": [
    {
     "name": "stdout",
     "output_type": "stream",
     "text": [
      "1 :- correct extension or python?\n",
      "ans py\n",
      "2 :- what is django?\n",
      "ans django is framework\n",
      "3 :- list is mutable or immutable?\n",
      "ans list is mutable\n",
      "4 :- tuple is mutable or immutable?\n",
      "ans tuple is immutable\n",
      "5 :- set is mutable or immutable?\n",
      "ans set is immutable\n",
      "6 :- what is index error ?\n",
      "ans indexerror: list index out of range\n",
      "7 :- what is name error?\n",
      "ans NameError: name 'age' is not defined\n",
      "8 :- what is value error?\n",
      "ans value error: invalid literal for int() with base 10:'xyz'\n",
      "9 :- what is key error?\n",
      "ans the keyerror is thrown when a key is not found\n",
      "10 :- what is import error?\n",
      "ans cannot import name cube\n",
      "explanation\n",
      "2 :- django is used to create web-app\n",
      "3 :- because list change able ,or allow duplicate value\n",
      "4 :- because is not changeable or not allow duplicate value\n",
      "5 :- add or remove but exsiting value not change\n",
      "10 :- the importerror is thrown when a specified function cnan not be found.\n"
     ]
    }
   ],
   "source": [
    "d=[{\"question\":\"correct extension or python?\",\n",
    "          \"answer\":\"py\",\n",
    "          \"explanation\":\"\"},\n",
    "          \n",
    "         {\"question\":\"what is django?\",\n",
    "          \"answer\":\"django is framework\",\n",
    "          \"explanation\":\"django is used to create web-app\"},\n",
    "          \n",
    "         {\"question\":\"list is mutable or immutable?\",\n",
    "          \"answer\":\"list is mutable\",\n",
    "          \"explanation\":\"because list change able ,or allow duplicate value\"},\n",
    "          \n",
    "         {\"question\":\"tuple is mutable or immutable?\",\n",
    "          \"answer\":\"tuple is immutable\",\n",
    "          \"explanation\":\"because is not changeable or not allow duplicate value\"},\n",
    "          \n",
    "         {\"question\":\"set is mutable or immutable?\",\n",
    "          \"answer\":\"set is immutable\",\n",
    "          \"explanation\":\"add or remove but exsiting value not change\"},\n",
    "          \n",
    "         {\"question\":\"what is index error ?\",\n",
    "          \"answer\":\"indexerror: list index out of range\",\n",
    "          \"explanation\":\"\"},\n",
    "          \n",
    "         {\"question\":\"what is name error?\",\n",
    "          \"answer\":\"NameError: name 'age' is not defined\",\n",
    "          \"explanation\":\"\"},\n",
    "          \n",
    "         {\"question\":\"what is value error?\",\n",
    "          \"answer\":\"value error: invalid literal for int() with base 10:'xyz'\",\n",
    "          \"explanation\":\"\"},\n",
    "          \n",
    "         {\"question\":\"what is key error?\",\n",
    "          \"answer\":\"the keyerror is thrown when a key is not found\",\n",
    "          \"explanation\":\"\"},\n",
    "          \n",
    "         {\"question\":\"what is import error?\",\n",
    "          \"answer\":\"cannot import name cube\",\n",
    "          \"explanation\":\"the importerror is thrown when a specified function cnan not be found.\"}]\n",
    "k=1\n",
    "for i in range(len(d)):\n",
    "    print(k,\":-\",d[i][\"question\"])\n",
    "    print(\"ans\",d[i][\"answer\"])\n",
    "    k=k+1\n",
    "print(\"explanation\")\n",
    "x=1\n",
    "for i in range(len(d)):\n",
    "    z=d[i][\"explanation\"]\n",
    "    if z == \"\":\n",
    "        pass\n",
    "    else:\n",
    "        print(x,\":-\",z)\n",
    "    x=x+1\n",
    "            \n",
    "\n",
    "# a=d[2][\"question\"]\n",
    "# print(a)\n",
    "\n",
    "\n",
    "    \n",
    "        # print every key of each dict\n",
    "        \n",
    "        \n",
    "        \n",
    "# a=\"explaination\"\n",
    "# for i in d:\n",
    "#     print(\" \")\n",
    "#     for key in i.():\n",
    "#         if a in key:\n",
    "#             print(a)\n",
    "\n",
    "# x=[i[\"explaination\"]for i in d if \"explaination\"in i]\n",
    "# print(x)\n",
    "# index = 0\n",
    "# while index < len(d):\n",
    "#     for key in d[index]:\n",
    "#         print(d[index][key])\n",
    "#     index += 1"
   ]
  },
  {
   "cell_type": "code",
   "execution_count": 7,
   "id": "5738ab57",
   "metadata": {},
   "outputs": [
    {
     "name": "stdout",
     "output_type": "stream",
     "text": [
      "True\n"
     ]
    }
   ],
   "source": [
    "i=7\n",
    "if i:\n",
    "    print(\"True\")\n",
    "else:\n",
    "    print(\"False\")"
   ]
  },
  {
   "cell_type": "code",
   "execution_count": 64,
   "id": "63ddf21e",
   "metadata": {},
   "outputs": [
    {
     "name": "stdout",
     "output_type": "stream",
     "text": [
      "False\n"
     ]
    }
   ],
   "source": [
    "str=\"python\"\n",
    "if str:\n",
    "    print(\"True\")\n",
    "else:\n",
    "    print(\"False\")"
   ]
  },
  {
   "cell_type": "code",
   "execution_count": 27,
   "id": "3875689e",
   "metadata": {},
   "outputs": [
    {
     "name": "stdout",
     "output_type": "stream",
     "text": [
      "adnan\n",
      "adnan\n",
      "1\n",
      "2\n"
     ]
    }
   ],
   "source": [
    "t=(\"adnan\",\"adnan\",1,2,3,4,5)\n",
    "obj=iter(t) \n",
    "print(next(obj))\n",
    "print(next(obj))\n",
    "print(next(obj))\n",
    "print(next(obj))"
   ]
  },
  {
   "cell_type": "code",
   "execution_count": 14,
   "id": "df4fafed",
   "metadata": {},
   "outputs": [
    {
     "name": "stdout",
     "output_type": "stream",
     "text": [
      "name\n"
     ]
    }
   ],
   "source": [
    "d={\"name\":\"adnan\",\n",
    "  \"lname\":\"shaikh\"}\n",
    "obj=iter(d)\n",
    "# print(next(obj))\n",
    "# print(next(obj))\n",
    "print(next(obj))"
   ]
  },
  {
   "cell_type": "code",
   "execution_count": 25,
   "id": "0c36b511",
   "metadata": {},
   "outputs": [
    {
     "name": "stdout",
     "output_type": "stream",
     "text": [
      "1\n",
      "2\n",
      "4\n",
      "8\n"
     ]
    },
    {
     "ename": "StopIteration",
     "evalue": "",
     "output_type": "error",
     "traceback": [
      "\u001b[1;31m---------------------------------------------------------------------------\u001b[0m",
      "\u001b[1;31mStopIteration\u001b[0m                             Traceback (most recent call last)",
      "Input \u001b[1;32mIn [25]\u001b[0m, in \u001b[0;36m<cell line: 32>\u001b[1;34m()\u001b[0m\n\u001b[0;32m     30\u001b[0m \u001b[38;5;28mprint\u001b[39m(\u001b[38;5;28mnext\u001b[39m(i))\n\u001b[0;32m     31\u001b[0m \u001b[38;5;28mprint\u001b[39m(\u001b[38;5;28mnext\u001b[39m(i))\n\u001b[1;32m---> 32\u001b[0m \u001b[38;5;28mprint\u001b[39m(\u001b[38;5;28;43mnext\u001b[39;49m\u001b[43m(\u001b[49m\u001b[43mi\u001b[49m\u001b[43m)\u001b[49m)\n",
      "Input \u001b[1;32mIn [25]\u001b[0m, in \u001b[0;36mPowTwo.__next__\u001b[1;34m(self)\u001b[0m\n\u001b[0;32m     16\u001b[0m     \u001b[38;5;28;01mreturn\u001b[39;00m result\n\u001b[0;32m     17\u001b[0m \u001b[38;5;28;01melse\u001b[39;00m:\n\u001b[1;32m---> 18\u001b[0m     \u001b[38;5;28;01mraise\u001b[39;00m \u001b[38;5;167;01mStopIteration\u001b[39;00m\n",
      "\u001b[1;31mStopIteration\u001b[0m: "
     ]
    }
   ],
   "source": [
    "class PowTwo:\n",
    "    \"\"\"Class to implement an iterator\n",
    "    of powers of two\"\"\"\n",
    "\n",
    "    def __init__(self, max):\n",
    "        self.max = max\n",
    "\n",
    "    def __iter__(self):\n",
    "        self.n = 0\n",
    "        return self\n",
    "\n",
    "    def __next__(self):\n",
    "        if self.n <= self.max:\n",
    "            result = 2 ** self.n\n",
    "            self.n += 1\n",
    "            return result\n",
    "        else:\n",
    "            raise StopIteration\n",
    "\n",
    "\n",
    "# create an object\n",
    "numbers = PowTwo(3)\n",
    "\n",
    "# create an iterable from the object\n",
    "i = iter(numbers)\n",
    "\n",
    "# Using next to get to the next iterator element\n",
    "print(next(i))\n",
    "print(next(i))\n",
    "print(next(i))\n",
    "print(next(i))\n",
    "print(next(i))\n"
   ]
  },
  {
   "cell_type": "code",
   "execution_count": 1,
   "id": "eb82dc4e",
   "metadata": {},
   "outputs": [
    {
     "data": {
      "text/plain": [
       "3"
      ]
     },
     "execution_count": 1,
     "metadata": {},
     "output_type": "execute_result"
    }
   ],
   "source": [
    "3**1"
   ]
  },
  {
   "cell_type": "code",
   "execution_count": 29,
   "id": "5a42617b",
   "metadata": {},
   "outputs": [
    {
     "name": "stdout",
     "output_type": "stream",
     "text": [
      "300\n"
     ]
    }
   ],
   "source": [
    "def func():\n",
    "    x=300\n",
    "    def show():\n",
    "        print(x)\n",
    "    show()x\n",
    "func()"
   ]
  },
  {
   "cell_type": "code",
   "execution_count": 40,
   "id": "2e70c2a3",
   "metadata": {},
   "outputs": [
    {
     "name": "stdout",
     "output_type": "stream",
     "text": [
      "Redefine length\n",
      "4\n"
     ]
    }
   ],
   "source": [
    "class Shopping:\n",
    "    def __init__(self, basket, buyer):\n",
    "        self.basket = list(basket)\n",
    "        self.buyer = buyer\n",
    "    def __len__(self):\n",
    "        print('Redefine length')\n",
    "        count = len(self.basket)\n",
    "        # count total items in a different way\n",
    "        # pair of shoes and shir+pant\n",
    "        return count * 2\n",
    "\n",
    "shopping = Shopping(['Shoes', 'dress'], 'Jessa')\n",
    "print(len(shopping))"
   ]
  },
  {
   "cell_type": "code",
   "execution_count": null,
   "id": "cd1ccb66",
   "metadata": {},
   "outputs": [],
   "source": []
  }
 ],
 "metadata": {
  "kernelspec": {
   "display_name": "Python 3 (ipykernel)",
   "language": "python",
   "name": "python3"
  },
  "language_info": {
   "codemirror_mode": {
    "name": "ipython",
    "version": 3
   },
   "file_extension": ".py",
   "mimetype": "text/x-python",
   "name": "python",
   "nbconvert_exporter": "python",
   "pygments_lexer": "ipython3",
   "version": "3.10.4"
  }
 },
 "nbformat": 4,
 "nbformat_minor": 5
}
