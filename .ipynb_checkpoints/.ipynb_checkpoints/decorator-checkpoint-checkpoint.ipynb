{
 "cells": [
  {
   "cell_type": "code",
   "execution_count": 76,
   "id": "b5dae67d",
   "metadata": {},
   "outputs": [
    {
     "name": "stdout",
     "output_type": "stream",
     "text": [
      "8\n"
     ]
    }
   ],
   "source": [
    "def nthTerm(n):\n",
    "    Nthperfectsquare = N * N\n",
    "\n",
    "    return 2 * Nthperfectsquare\n",
    "\n",
    "if __name__ == \"__main__\":\n",
    "\n",
    "    N = 2\n",
    "print(nthTerm(N))\n",
    "\n"
   ]
  },
  {
   "cell_type": "code",
   "execution_count": 2,
   "id": "8e519ffe",
   "metadata": {},
   "outputs": [
    {
     "name": "stdout",
     "output_type": "stream",
     "text": [
      "1 2 3 4\n",
      "[2, 8, 18, 32]\n"
     ]
    }
   ],
   "source": [
    "x=list(map(int,input().split(\" \")))\n",
    "x=list(map(lambda x:x**2+x**2,x))\n",
    "print(x)"
   ]
  },
  {
   "cell_type": "code",
   "execution_count": null,
   "id": "8eaa8947",
   "metadata": {},
   "outputs": [],
   "source": [
    "x=list(map(int,input().split(\" \")))\n",
    "x=list(map(lambda x:))\n",
    "print(x)"
   ]
  },
  {
   "cell_type": "code",
   "execution_count": 5,
   "id": "67b2a9fd",
   "metadata": {},
   "outputs": [
    {
     "name": "stdout",
     "output_type": "stream",
     "text": [
      "2 4 5 6 7\n",
      "[2, 2, 1, 1, 1]\n"
     ]
    }
   ],
   "source": [
    "inpt=[int(item)for item in input().split()]\n",
    "op=[inpt[i]-inpt[i-1] if i > 0 else inpt[i] for i in range(len(inpt))]\n",
    "print(op)"
   ]
  },
  {
   "cell_type": "code",
   "execution_count": 7,
   "id": "35efd698",
   "metadata": {},
   "outputs": [
    {
     "name": "stdout",
     "output_type": "stream",
     "text": [
      "[5, 3, 7, 4]\n"
     ]
    }
   ],
   "source": [
    "z=[5,8,15,19]\n",
    "op=[z[0]]+[x-y for x,y in (zip(z[1:],z[:-1]))]\n",
    "print(op)"
   ]
  },
  {
   "cell_type": "code",
   "execution_count": 39,
   "id": "de8360e7",
   "metadata": {},
   "outputs": [
    {
     "name": "stdout",
     "output_type": "stream",
     "text": [
      "3\n"
     ]
    }
   ],
   "source": [
    "a=[5,8,15,19]\n",
    "x=a[1] - a[0]\n",
    "print(x)\n"
   ]
  },
  {
   "cell_type": "code",
   "execution_count": 116,
   "id": "81f3d2b7",
   "metadata": {},
   "outputs": [
    {
     "ename": "TypeError",
     "evalue": "'list' object cannot be interpreted as an integer",
     "output_type": "error",
     "traceback": [
      "\u001b[1;31m---------------------------------------------------------------------------\u001b[0m",
      "\u001b[1;31mTypeError\u001b[0m                                 Traceback (most recent call last)",
      "Input \u001b[1;32mIn [116]\u001b[0m, in \u001b[0;36m<cell line: 2>\u001b[1;34m()\u001b[0m\n\u001b[0;32m      1\u001b[0m a\u001b[38;5;241m=\u001b[39m[\u001b[38;5;241m5\u001b[39m,\u001b[38;5;241m8\u001b[39m,\u001b[38;5;241m15\u001b[39m,\u001b[38;5;241m19\u001b[39m]\n\u001b[1;32m----> 2\u001b[0m x\u001b[38;5;241m=\u001b[39m[i \u001b[38;5;28;01mfor\u001b[39;00m i \u001b[38;5;129;01min\u001b[39;00m \u001b[38;5;28;43mrange\u001b[39;49m\u001b[43m(\u001b[49m\u001b[43ma\u001b[49m\u001b[43m)\u001b[49m \u001b[38;5;28;01mfor\u001b[39;00m j \u001b[38;5;129;01min\u001b[39;00m \u001b[38;5;28mrange\u001b[39m(\u001b[38;5;241m1\u001b[39m,i\u001b[38;5;241m-\u001b[39mi)]\n",
      "\u001b[1;31mTypeError\u001b[0m: 'list' object cannot be interpreted as an integer"
     ]
    }
   ],
   "source": [
    "a=[5,8,15,19]\n",
    "x=[for i in range()]"
   ]
  },
  {
   "cell_type": "code",
   "execution_count": 25,
   "id": "971e4dd2",
   "metadata": {},
   "outputs": [
    {
     "ename": "TypeError",
     "evalue": "can't multiply sequence by non-int of type 'list'",
     "output_type": "error",
     "traceback": [
      "\u001b[1;31m---------------------------------------------------------------------------\u001b[0m",
      "\u001b[1;31mTypeError\u001b[0m                                 Traceback (most recent call last)",
      "Input \u001b[1;32mIn [25]\u001b[0m, in \u001b[0;36m<cell line: 2>\u001b[1;34m()\u001b[0m\n\u001b[0;32m      1\u001b[0m x\u001b[38;5;241m=\u001b[39m[\u001b[38;5;241m1\u001b[39m,\u001b[38;5;241m2\u001b[39m,\u001b[38;5;241m3\u001b[39m,\u001b[38;5;241m4\u001b[39m]\n\u001b[1;32m----> 2\u001b[0m \u001b[38;5;28;01mif\u001b[39;00m \u001b[43mx\u001b[49m\u001b[43m \u001b[49m\u001b[38;5;241;43m*\u001b[39;49m\u001b[43m \u001b[49m\u001b[43mx\u001b[49m:\n\u001b[0;32m      3\u001b[0m     \u001b[38;5;28mprint\u001b[39m(x)\n",
      "\u001b[1;31mTypeError\u001b[0m: can't multiply sequence by non-int of type 'list'"
     ]
    }
   ],
   "source": [
    "x=[1,2,3,4]\n",
    "if x * x:\n",
    "    print(x)"
   ]
  },
  {
   "cell_type": "code",
   "execution_count": 13,
   "id": "b9204cad",
   "metadata": {},
   "outputs": [
    {
     "name": "stdout",
     "output_type": "stream",
     "text": [
      "{'a': 50, 'b': 65}\n"
     ]
    }
   ],
   "source": [
    "d={\"a\":45,\"b\":65,\"A\":5}\n",
    "a={i.lower():d.get(i.lower())+d.get(i.upper(),0)for i in d}        \n",
    "print(a)"
   ]
  },
  {
   "cell_type": "code",
   "execution_count": 195,
   "id": "9a925fd3",
   "metadata": {},
   "outputs": [
    {
     "name": "stdout",
     "output_type": "stream",
     "text": [
      "1\n",
      "3\n",
      "5\n",
      "7\n"
     ]
    }
   ],
   "source": [
    "class InfIter:\n",
    "    def __iter__(self):\n",
    "        self.num = 1\n",
    "        return self\n",
    "\n",
    "    def __next__(self):\n",
    "        num = self.num\n",
    "        self.num += 2\n",
    "        return num\n",
    "    \n",
    "obj=InfIter()\n",
    "var=iter(obj)\n",
    "print(next(obj))\n",
    "print(next(obj))\n",
    "print(next(obj))\n",
    "print(next(obj))\n"
   ]
  },
  {
   "cell_type": "code",
   "execution_count": 1,
   "id": "0f6c12b6",
   "metadata": {},
   "outputs": [
    {
     "name": "stdout",
     "output_type": "stream",
     "text": [
      "Largest element is: 17\n"
     ]
    }
   ],
   "source": [
    "list1 = [1,3,14,17]\n",
    "print(\"Largest element is:\", max(list1))"
   ]
  },
  {
   "cell_type": "code",
   "execution_count": 226,
   "id": "64344300",
   "metadata": {},
   "outputs": [
    {
     "name": "stdout",
     "output_type": "stream",
     "text": [
      "80\n"
     ]
    }
   ],
   "source": [
    "list1 = [1,3,14,17,51,80,19]\n",
    "x=0\n",
    "for i in list1:\n",
    "    if i>x:\n",
    "        x=i\n",
    "print(x)"
   ]
  },
  {
   "cell_type": "code",
   "execution_count": 19,
   "id": "0636efd7",
   "metadata": {},
   "outputs": [
    {
     "name": "stdout",
     "output_type": "stream",
     "text": [
      "[1, 3, 7, 10, 15]\n"
     ]
    }
   ],
   "source": [
    "list1 = [1,10,7,15,3]\n",
    "for i in range(len(list1)):\n",
    "    for j in range(i+1,len(list1)):\n",
    "        if list1[i]>list1[j]:\n",
    "              list1[i],list1[j]=list1[j],list1[i]\n",
    "print(list1)"
   ]
  },
  {
   "cell_type": "code",
   "execution_count": 12,
   "id": "048833ea",
   "metadata": {},
   "outputs": [
    {
     "name": "stdout",
     "output_type": "stream",
     "text": [
      "I am going to divided 2 and 0\n",
      "Whoops! cannot addition\n",
      "None\n"
     ]
    }
   ],
   "source": [
    "def smart_divide(func):\n",
    "    def inner(a, b):\n",
    "        print(\"I am going to divided\", a, \"and\", b)\n",
    "        if b == 0:\n",
    "            print(\"Whoops! cannot addition\")\n",
    "            return\n",
    "\n",
    "        return func(a, b)\n",
    "    return inner\n",
    "\n",
    "\n",
    "@smart_divide\n",
    "def divide(a, b):\n",
    "    print(a/b)\n",
    "    \n",
    "obj=divide(2,0)\n",
    "print(obj)"
   ]
  },
  {
   "cell_type": "code",
   "execution_count": 18,
   "id": "2fb46b52",
   "metadata": {},
   "outputs": [
    {
     "name": "stdout",
     "output_type": "stream",
     "text": [
      "******************************\n",
      "%%%%%%%%%%%%%%%%%%%%%%%%%%%%%%\n",
      "Hello\n",
      "%%%%%%%%%%%%%%%%%%%%%%%%%%%%%%\n",
      "******************************\n"
     ]
    }
   ],
   "source": [
    "def star(func):\n",
    "    def inner(arg):\n",
    "        print(\"*\" * 30)\n",
    "        func(arg)\n",
    "        print(\"*\" * 30)\n",
    "    return inner\n",
    "\n",
    "\n",
    "def percent(func):\n",
    "    def inner(arg):\n",
    "        print(\"%\" * 30)\n",
    "        func(arg)\n",
    "        print(\"%\" * 30)\n",
    "    return inner\n",
    "\n",
    "\n",
    "@star\n",
    "@percent\n",
    "def printer(msg):\n",
    "    print(msg)\n",
    "printer(\"Hello\")"
   ]
  },
  {
   "cell_type": "code",
   "execution_count": 23,
   "id": "095a9f95",
   "metadata": {},
   "outputs": [
    {
     "name": "stdout",
     "output_type": "stream",
     "text": [
      "e is present\n"
     ]
    }
   ],
   "source": [
    "a=\"hello world\"\n",
    "if \"e\" in a:\n",
    "    print(\"e is present\")\n",
    "else:\n",
    "    pass"
   ]
  },
  {
   "cell_type": "code",
   "execution_count": 32,
   "id": "7beecce8",
   "metadata": {},
   "outputs": [
    {
     "name": "stdout",
     "output_type": "stream",
     "text": [
      "True\n"
     ]
    }
   ],
   "source": [
    "a={\"abc\":455,\"kbc\":105}\n",
    "if \"kbc\" in a:\n",
    "    print(\"True\")\n",
    "else:\n",
    "    print(\"False\")"
   ]
  },
  {
   "cell_type": "code",
   "execution_count": 16,
   "id": "38b3d796",
   "metadata": {},
   "outputs": [
    {
     "name": "stdout",
     "output_type": "stream",
     "text": [
      "('Bilal', {'score': 81})\n"
     ]
    }
   ],
   "source": [
    "s={\"Ali\":{\"score\":91},\"Akbar\":{\"score\":70},\"Bilal\":{\"score\":81}}\n",
    "res = {key: max(val.values()) for key, val in s.items()}\n",
    "print(max(s.items()))"
   ]
  },
  {
   "cell_type": "code",
   "execution_count": 34,
   "id": "83e3d1d4",
   "metadata": {},
   "outputs": [
    {
     "name": "stdout",
     "output_type": "stream",
     "text": [
      "True\n"
     ]
    }
   ],
   "source": [
    "print(105 in a.values())"
   ]
  },
  {
   "cell_type": "code",
   "execution_count": 41,
   "id": "35d7fd05",
   "metadata": {},
   "outputs": [
    {
     "name": "stdout",
     "output_type": "stream",
     "text": [
      "['Bmw', 'View', 'Skoda', 'Unicom']\n"
     ]
    }
   ],
   "source": [
    "a=[\"View\",\"Bmw\",\"Skoda\",\"Unicom\"]\n",
    "a.sort(key=len)\n",
    "print(a)"
   ]
  },
  {
   "cell_type": "code",
   "execution_count": 1,
   "id": "45b93a36",
   "metadata": {},
   "outputs": [
    {
     "name": "stdout",
     "output_type": "stream",
     "text": [
      "{'Ali': 91}\n"
     ]
    }
   ],
   "source": [
    "s={\"Ali\":{\"score\":91},\"Akbar\":{\"score\":70},\"Bilal\":{\"score\":81}}\n",
    "max=0\n",
    "st = ''\n",
    "for i in s:\n",
    "    score = s.get(i)['score']\n",
    "    if score > max:\n",
    "        max = score\n",
    "        st = i\n",
    "print({st:max})\n",
    "            \n",
    "        "
   ]
  },
  {
   "cell_type": "code",
   "execution_count": 2,
   "id": "5ce4e178",
   "metadata": {},
   "outputs": [
    {
     "name": "stdout",
     "output_type": "stream",
     "text": [
      "[1, 3, 7, 10, 15]\n"
     ]
    }
   ],
   "source": [
    "list1 = [1,10,7,15,3]\n",
    "list1.sort()\n",
    "print(list1)"
   ]
  },
  {
   "cell_type": "code",
   "execution_count": null,
   "id": "7dc22065",
   "metadata": {},
   "outputs": [],
   "source": []
  },
  {
   "cell_type": "code",
   "execution_count": 22,
   "id": "8f95ccf2",
   "metadata": {},
   "outputs": [
    {
     "name": "stdout",
     "output_type": "stream",
     "text": [
      "[5, 6, 11, 12, 13]\n"
     ]
    }
   ],
   "source": [
    "lst=[12,11,13,5,6]\n",
    "for j in range(1,len(lst)):\n",
    "    while lst[j-1] > lst[j] and j > 0:\n",
    "        lst[j-1],lst[j]=lst[j],lst[j-1]\n",
    "        j-=1\n",
    "print(lst)"
   ]
  },
  {
   "cell_type": "code",
   "execution_count": 17,
   "id": "ab4c7aa9",
   "metadata": {},
   "outputs": [
    {
     "name": "stdout",
     "output_type": "stream",
     "text": [
      "[2]\n",
      "[2, 4]\n",
      "[2, 4, 6]\n",
      "[2, 4, 6, 8]\n",
      "[2, 4, 6, 8, 18]\n",
      "[2, 4, 6, 8, 18, 32]\n"
     ]
    }
   ],
   "source": [
    "lst=[1,2,3,4,9,16]\n",
    "newlst=[]\n",
    "for i in lst:\n",
    "#     squre=i*2\n",
    "    newlst.append(i*2)\n",
    "    print(newlst)"
   ]
  },
  {
   "cell_type": "code",
   "execution_count": 48,
   "id": "b367b578",
   "metadata": {},
   "outputs": [
    {
     "name": "stdout",
     "output_type": "stream",
     "text": [
      "Enter No:23\n",
      "23 x 1 =  23\n",
      "23 x 2 =  46\n",
      "23 x 3 =  69\n",
      "23 x 4 =  92\n",
      "23 x 5 =  115\n",
      "23 x 6 =  138\n",
      "23 x 7 =  161\n",
      "23 x 8 =  184\n",
      "23 x 9 =  207\n",
      "23 x 10 =  230\n"
     ]
    }
   ],
   "source": [
    "x=int(input(\"Enter No:\"))\n",
    "for i in range(1,11):\n",
    "    print(x,\"x\",i,\"= \",x*i)"
   ]
  },
  {
   "cell_type": "code",
   "execution_count": 65,
   "id": "0d80276c",
   "metadata": {},
   "outputs": [
    {
     "name": "stdout",
     "output_type": "stream",
     "text": [
      "7\n",
      "Weird\n"
     ]
    }
   ],
   "source": [
    "n=int(input())\n",
    "if n%2==1:\n",
    "    print(\"Weird\")\n",
    "elif n % 2==0 and 2 <=n<=5:\n",
    "    print(\"Not Weird\")\n",
    "elif n% 2==0 and 6<= n <=20:\n",
    "    print(\"weird\")\n",
    "else:\n",
    "    print(\"not weird\")"
   ]
  },
  {
   "cell_type": "markdown",
   "id": "0c827ff6",
   "metadata": {},
   "source": [
    "# zip() fuction"
   ]
  },
  {
   "cell_type": "code",
   "execution_count": 37,
   "id": "584e21b7",
   "metadata": {},
   "outputs": [
    {
     "name": "stdout",
     "output_type": "stream",
     "text": [
      "[('Manjeet', 'adnan', 4), ('Nikhil', 'shanawaz', 1), ('Shambhavi', 'moin', 3)]\n"
     ]
    }
   ],
   "source": [
    "name = [ \"Manjeet\", \"Nikhil\", \"Shambhavi\", \"Astha\" ]\n",
    "roll_no = [ 4, 1, 3, 2 ,5]\n",
    "str_lst=[\"adnan\",\"shanawaz\",\"moin\"]\n",
    "m = zip(name, str_lst,roll_no)\n",
    "print(list(m))"
   ]
  },
  {
   "cell_type": "markdown",
   "id": "a4eb824b",
   "metadata": {},
   "source": [
    "# filter() fucntion "
   ]
  },
  {
   "cell_type": "code",
   "execution_count": 55,
   "id": "6257628a",
   "metadata": {},
   "outputs": [
    {
     "name": "stdout",
     "output_type": "stream",
     "text": [
      "[1, 3, 5, 7, 9]\n"
     ]
    }
   ],
   "source": [
    "numbers = [1, 2, 3, 4, 5, 6, 7, 8, 9, 10]\n",
    "def check_even(number):\n",
    "    if number % 2 != 0:\n",
    "          return True  \n",
    "\n",
    "    return False\n",
    "even = filter(check_even, numbers)\n",
    "even_numbers = list(even)\n",
    "print(even_numbers)"
   ]
  },
  {
   "cell_type": "markdown",
   "id": "024bb647",
   "metadata": {},
   "source": [
    "# map() function"
   ]
  },
  {
   "cell_type": "code",
   "execution_count": 63,
   "id": "a4b2a44a",
   "metadata": {},
   "outputs": [
    {
     "name": "stdout",
     "output_type": "stream",
     "text": [
      "<map object at 0x000001C8F44E3E50>\n"
     ]
    }
   ],
   "source": [
    "def addition(n):\n",
    "    return n**n\n",
    "numbers={1,2,3,4}\n",
    "result = map(addition, numbers)\n",
    "print(list(result))\n",
    "# print(result)\n"
   ]
  },
  {
   "cell_type": "markdown",
   "id": "d3d43317",
   "metadata": {},
   "source": [
    "# enumerate() "
   ]
  },
  {
   "cell_type": "code",
   "execution_count": 61,
   "id": "45cb65d1",
   "metadata": {},
   "outputs": [
    {
     "name": "stdout",
     "output_type": "stream",
     "text": [
      "0\n",
      "eat\n",
      "1\n",
      "sleep\n",
      "2\n",
      "repeat\n"
     ]
    }
   ],
   "source": [
    "l1 = [\"eat\", \"sleep\", \"repeat\"]\n",
    "for c, e in enumerate(l1):\n",
    "    print(c),print(e)\n"
   ]
  },
  {
   "cell_type": "code",
   "execution_count": 100,
   "id": "b5fe8627",
   "metadata": {},
   "outputs": [
    {
     "name": "stdout",
     "output_type": "stream",
     "text": [
      "The sum of the list elements is : 17\n",
      "The maximum element of the list is : 6\n"
     ]
    }
   ],
   "source": [
    "# python code to demonstrate working of reduce()\n",
    "\n",
    "# importing functools for reduce()\n",
    "from functools import reduce as cs\n",
    "\n",
    "# initializing list\n",
    "lis = [1, 3, 5, 6, 2]\n",
    "\n",
    "# # using reduce to compute sum of list\n",
    "print(\"The sum of the list elements is : \", end=\"\")\n",
    "print(cs(lambda a, b: a+b, lis))\n",
    "\n",
    "# using reduce to compute maximum element from list\n",
    "print(\"The maximum element of the list is : \", end=\"\")\n",
    "print(cs(lambda a, b: a if a > b else b, lis))"
   ]
  },
  {
   "cell_type": "code",
   "execution_count": 93,
   "id": "ad95c345",
   "metadata": {},
   "outputs": [
    {
     "name": "stdout",
     "output_type": "stream",
     "text": [
      "First occurrence of 4 is present at 3\n"
     ]
    }
   ],
   "source": [
    "# Python code to demonstrate working\n",
    "# of binary search in library\n",
    "from bisect import bisect_left as bleft\n",
    "\n",
    "def BinarySearch(a, x):\n",
    "\ti = bleft(a, x)\n",
    "\tif i != len(a) and a[i] == x:\n",
    "\t\treturn i\n",
    "\telse:\n",
    "\t\treturn -1\n",
    "\n",
    "a = [1,2,3,4]\n",
    "x = int(4)\n",
    "res = BinarySearch(a, x)\n",
    "if res == -1:\n",
    "\tprint(x, \"is absent\")\n",
    "else:\n",
    "\tprint(\"First occurrence of\", x, \"is present at\", res)\n"
   ]
  },
  {
   "cell_type": "code",
   "execution_count": 44,
   "id": "5b9c9909",
   "metadata": {},
   "outputs": [
    {
     "name": "stdout",
     "output_type": "stream",
     "text": [
      "[2, 3, 6, 0]\n"
     ]
    }
   ],
   "source": [
    "x=[2,3,5,9]\n",
    "while x[-1]==9:\n",
    "    x[-1]=0\n",
    "    x[-2]+=1\n",
    "    print(x)"
   ]
  },
  {
   "cell_type": "code",
   "execution_count": 45,
   "id": "398bbcda",
   "metadata": {},
   "outputs": [
    {
     "name": "stdout",
     "output_type": "stream",
     "text": [
      "[2, 3, 5, 8]\n"
     ]
    }
   ],
   "source": [
    "a=[2,3,5,7]\n",
    "while a[-1]==7:\n",
    "    a[-1]+=1\n",
    "    print(a)"
   ]
  },
  {
   "cell_type": "code",
   "execution_count": 62,
   "id": "c3f41f1d",
   "metadata": {},
   "outputs": [
    {
     "name": "stdout",
     "output_type": "stream",
     "text": [
      "[2, 2, 3, 4, 6, 0]\n"
     ]
    }
   ],
   "source": [
    "x=[2,2,3,4,5,9]\n",
    "def func(a):\n",
    "    n=0\n",
    "    if a[n-1]>=9:\n",
    "        while a[n-1]>=9:\n",
    "            a[n-1]=0\n",
    "            a[n-2]+=1\n",
    "            n-=1\n",
    "    else:\n",
    "        a[n-1]+=1\n",
    "    return a\n",
    "z=func(x)\n",
    "print(z)"
   ]
  },
  {
   "cell_type": "markdown",
   "id": "63a2b289",
   "metadata": {},
   "source": []
  }
 ],
 "metadata": {
  "kernelspec": {
   "display_name": "Python 3 (ipykernel)",
   "language": "python",
   "name": "python3"
  },
  "language_info": {
   "codemirror_mode": {
    "name": "ipython",
    "version": 3
   },
   "file_extension": ".py",
   "mimetype": "text/x-python",
   "name": "python",
   "nbconvert_exporter": "python",
   "pygments_lexer": "ipython3",
   "version": "3.10.4"
  }
 },
 "nbformat": 4,
 "nbformat_minor": 5
}
