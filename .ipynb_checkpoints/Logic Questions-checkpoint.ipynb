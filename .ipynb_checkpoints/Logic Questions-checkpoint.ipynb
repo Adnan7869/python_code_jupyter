{
 "cells": [
  {
   "cell_type": "markdown",
   "id": "2357bb5a",
   "metadata": {},
   "source": [
    "# Sort the list without using inbuild function"
   ]
  },
  {
   "cell_type": "code",
   "execution_count": 1,
   "id": "afe96f25",
   "metadata": {},
   "outputs": [
    {
     "name": "stdout",
     "output_type": "stream",
     "text": [
      "7\n"
     ]
    }
   ],
   "source": [
    "lst=[5,9,2,7,5,6,1,7,7]\n",
    "for i in range(len(lst)):\n",
    "    for j in range(i,len(lst)):\n",
    "        if lst[i] > lst[j]:\n",
    "            lst[i],lst[j]=lst[j],lst[i]\n",
    "print(lst[i]-2)"
   ]
  },
  {
   "cell_type": "markdown",
   "id": "4098fea4",
   "metadata": {},
   "source": [
    "# Find the largest number in a list without using inbuild funtion"
   ]
  },
  {
   "cell_type": "code",
   "execution_count": 8,
   "id": "57ebdd86",
   "metadata": {},
   "outputs": [
    {
     "name": "stdout",
     "output_type": "stream",
     "text": [
      "110\n"
     ]
    }
   ],
   "source": [
    "lst=[45,55,100,110,1]\n",
    "x=0\n",
    "for i in lst:\n",
    "    if i > x:\n",
    "        x=i\n",
    "print(x)"
   ]
  },
  {
   "cell_type": "markdown",
   "id": "db35cd64",
   "metadata": {},
   "source": [
    "# find lowest number in list"
   ]
  },
  {
   "cell_type": "code",
   "execution_count": 17,
   "id": "37238b07",
   "metadata": {},
   "outputs": [
    {
     "name": "stdout",
     "output_type": "stream",
     "text": [
      "1\n"
     ]
    }
   ],
   "source": [
    "lst=[45,55,100,110,1]\n",
    "x = lst[0]\n",
    "for i in lst:\n",
    "    if i < x:\n",
    "        x = i\n",
    "print(x)"
   ]
  },
  {
   "cell_type": "markdown",
   "id": "2165e144",
   "metadata": {},
   "source": [
    "# Swip two element in list without using inbuild function"
   ]
  },
  {
   "cell_type": "code",
   "execution_count": 48,
   "id": "7e021e4a",
   "metadata": {},
   "outputs": [
    {
     "name": "stdout",
     "output_type": "stream",
     "text": [
      "[2, 1, 4, 3, 6, 5, 8, 7, 9]\n"
     ]
    }
   ],
   "source": [
    "lst=[1,2,3,4,5,6,7,8,9]\n",
    "for i in range(0,len(lst)-1,2):\n",
    "    lst[i],lst[i+1]=lst[i+1],lst[i]\n",
    "print(lst)"
   ]
  },
  {
   "cell_type": "markdown",
   "id": "fd5edad7",
   "metadata": {},
   "source": [
    "# Find the unique number in list  without using inbuild function"
   ]
  },
  {
   "cell_type": "code",
   "execution_count": 6,
   "id": "2520b9fb",
   "metadata": {},
   "outputs": [
    {
     "name": "stdout",
     "output_type": "stream",
     "text": [
      "1\n"
     ]
    }
   ],
   "source": [
    "a=[1,1,2,3,5,5]\n",
    "x=0\n",
    "for i in a:\n",
    "    x^=i\n",
    "print(x)"
   ]
  },
  {
   "cell_type": "markdown",
   "id": "66919e5a",
   "metadata": {},
   "source": [
    "# Sum of number in nested list without using inbuild function"
   ]
  },
  {
   "cell_type": "code",
   "execution_count": 11,
   "id": "6cdcd2d1",
   "metadata": {},
   "outputs": [
    {
     "name": "stdout",
     "output_type": "stream",
     "text": [
      "[1, 2, 3]\n",
      "[4, 5, 6]\n",
      "[7, 8, 9]\n",
      "[6, 15, 24]\n"
     ]
    }
   ],
   "source": [
    "lst=[[1,2,3],[4,5,6],[7,8,9]]\n",
    "x=[]\n",
    "for i in lst:\n",
    "    count=0\n",
    "    for j in range(len(i)):\n",
    "        count=count+i[j]\n",
    "    x.append(count)\n",
    "print(x)    "
   ]
  },
  {
   "cell_type": "markdown",
   "id": "7d8c68bf",
   "metadata": {},
   "source": [
    "# sum of number in list"
   ]
  },
  {
   "cell_type": "code",
   "execution_count": 5,
   "id": "5e7c2558",
   "metadata": {},
   "outputs": [
    {
     "name": "stdout",
     "output_type": "stream",
     "text": [
      "15\n"
     ]
    }
   ],
   "source": [
    "lst = [4,5,6]\n",
    "count = 0\n",
    "for i in range(len(lst)):\n",
    "    count = count + lst[i]\n",
    "print(count)"
   ]
  },
  {
   "cell_type": "markdown",
   "id": "cb7ec07e",
   "metadata": {},
   "source": [
    "# Generator example"
   ]
  },
  {
   "cell_type": "code",
   "execution_count": 13,
   "id": "e1be7dac",
   "metadata": {},
   "outputs": [
    {
     "name": "stdout",
     "output_type": "stream",
     "text": [
      "6\n",
      "8\n",
      "10\n",
      "12\n",
      "14\n"
     ]
    }
   ],
   "source": [
    "def square(y):\n",
    "    for i in range(y):\n",
    "        yield i+i\n",
    "        \n",
    "def test(x):\n",
    "    for i in square(5):\n",
    "        print(i+x) \n",
    "test(6)"
   ]
  },
  {
   "cell_type": "markdown",
   "id": "c18207cb",
   "metadata": {},
   "source": [
    "# Find the second highest number in dict "
   ]
  },
  {
   "cell_type": "code",
   "execution_count": 24,
   "id": "c6662209",
   "metadata": {},
   "outputs": [
    {
     "name": "stdout",
     "output_type": "stream",
     "text": [
      "69\n"
     ]
    }
   ],
   "source": [
    "# student = {\"Umar\": {\"score\": 67}, \"Talha\": {\"score\": 78}, \"Shadab\": {\"score\": 68}}\n",
    "# highest_score = int()\n",
    "# second_highest_score = int()\n",
    "\n",
    "# for name, data in student.items():\n",
    "#     score = data['score']\n",
    "#     if score > highest_score:\n",
    "#         second_highest_score = highest_score\n",
    "#         highest_score = score\n",
    "#     elif score > second_highest_score and score < highest_score:\n",
    "#         second_highest_score = score\n",
    "\n",
    "# print(\"Second highest score:\")\n",
    "# for name, data in student.items():\n",
    "#     if data['score'] == second_highest_score:\n",
    "#         print({name:data})\n",
    "student = {\"Umar\": {\"score\": 69}, \"Talha\": {\"score\": 78}, \"Shadab\": {\"score\": 68}}\n",
    "\n",
    "# Get all the scores\n",
    "lst = []\n",
    "for name,data in student.items():\n",
    "    scores = data['score']\n",
    "    lst.append(scores)\n",
    "\n",
    "# Sort the scores in descending order\n",
    "sorted_scores = sorted(lst, reverse=True)\n",
    "\n",
    "# Find the second highest score\n",
    "second_highest = sorted_scores[1]\n",
    "print(second_highest)"
   ]
  },
  {
   "cell_type": "markdown",
   "id": "4a7bf2e7",
   "metadata": {},
   "source": [
    "# Find the highest score in dict without using inbuild function"
   ]
  },
  {
   "cell_type": "code",
   "execution_count": 3,
   "id": "445cbe93",
   "metadata": {},
   "outputs": [
    {
     "name": "stdout",
     "output_type": "stream",
     "text": [
      "{'Talha': 78}\n"
     ]
    }
   ],
   "source": [
    "student = {\"Umar\":{\"score\": 67}, \"Talha\":{\"score\": 78}, \"Shadab\":{\"score\": 17}}\n",
    "x=0\n",
    "st=''\n",
    "for i in student:\n",
    "    score=student.get(i)['score']  \n",
    "    if score > x:\n",
    "        x=score\n",
    "        st=i\n",
    "print({st:x})"
   ]
  },
  {
   "cell_type": "markdown",
   "id": "023c006f",
   "metadata": {},
   "source": [
    "# Reversed list without any inbuild functions"
   ]
  },
  {
   "cell_type": "code",
   "execution_count": 4,
   "id": "da86055d",
   "metadata": {},
   "outputs": [
    {
     "name": "stdout",
     "output_type": "stream",
     "text": [
      "[5, 4, 3, 2, 1]\n"
     ]
    }
   ],
   "source": [
    "lst=[5,2,1,3,4]\n",
    "for i in range(0,len(lst)):\n",
    "    for j in range(i,len(lst)):\n",
    "        if lst[i] < lst[j]:\n",
    "            lst[i],lst[j]=lst[j],lst[i] \n",
    "print(lst)"
   ]
  },
  {
   "cell_type": "code",
   "execution_count": 51,
   "id": "401b89cc",
   "metadata": {},
   "outputs": [
    {
     "name": "stdout",
     "output_type": "stream",
     "text": [
      "[4, 3, 1, 2, 5]\n"
     ]
    }
   ],
   "source": [
    "lst=[5,2,1,3,4]\n",
    "c=lst[::-1]\n",
    "print(c)"
   ]
  },
  {
   "cell_type": "markdown",
   "id": "663daf1c",
   "metadata": {},
   "source": [
    "# swap first and last element in list"
   ]
  },
  {
   "cell_type": "code",
   "execution_count": 11,
   "id": "7af76d2b",
   "metadata": {},
   "outputs": [
    {
     "name": "stdout",
     "output_type": "stream",
     "text": [
      "[6, 2, 3, 4, 5, 1]\n"
     ]
    }
   ],
   "source": [
    "a=[1,2,3,4,5,6]\n",
    "for i in range(len(a)):\n",
    "    if a[i]>a[-i]:\n",
    "        a[0],a[-1]=a[-1],a[0]\n",
    "print(a)"
   ]
  },
  {
   "cell_type": "code",
   "execution_count": 4,
   "id": "a4807805",
   "metadata": {},
   "outputs": [
    {
     "name": "stdout",
     "output_type": "stream",
     "text": [
      "B \n",
      "B I \n",
      "B I L \n",
      "B I L A \n",
      "B I L A L \n"
     ]
    }
   ],
   "source": [
    "s=\"bilal\"\n",
    "c=\"\"\n",
    "for i in s:\n",
    "    c=c+i+\" \"\n",
    "    print(c.upper())\n",
    "# output geksfor"
   ]
  },
  {
   "cell_type": "code",
   "execution_count": 11,
   "id": "d4d26427",
   "metadata": {},
   "outputs": [
    {
     "name": "stdout",
     "output_type": "stream",
     "text": [
      "geksfor\n"
     ]
    }
   ],
   "source": [
    "s=\"geeksforgeeks\"\n",
    "c=\"\"\n",
    "for i in s:\n",
    "    if i not in c:\n",
    "        c=c+i\n",
    "print(c)"
   ]
  },
  {
   "cell_type": "markdown",
   "id": "64d2b572",
   "metadata": {},
   "source": [
    "# Fibonacci series"
   ]
  },
  {
   "cell_type": "code",
   "execution_count": 2,
   "id": "0bd939ab",
   "metadata": {},
   "outputs": [
    {
     "name": "stdout",
     "output_type": "stream",
     "text": [
      "5\n"
     ]
    }
   ],
   "source": [
    "# Function for nth Fibonacci number\n",
    "def Fibonacci(n):\n",
    "\n",
    "\t# Check if input is 0 then it will\n",
    "\t# print incorrect input\n",
    "\tif n < 0:\n",
    "\t\tprint(\"Incorrect input\")\n",
    "\n",
    "\t# Check if n is 0\n",
    "\t# then it will return 0\n",
    "\telif n == 0:\n",
    "\t\treturn 0\n",
    "\n",
    "\t# Check if n is 1,2\n",
    "\t# it will return 1\n",
    "\telif n == 1 or n == 2:\n",
    "\t\treturn 1\n",
    "\n",
    "\telse:\n",
    "\t\treturn Fibonacci(n-1) + Fibonacci(n-2)\n",
    "\n",
    "# Driver Program\n",
    "print(Fibonacci(5))\n",
    "\n",
    "# This code is contributed by Saket Modi\n",
    "# then corrected and improved by Himanshu Kanojiya\n"
   ]
  },
  {
   "cell_type": "markdown",
   "id": "e6949758",
   "metadata": {},
   "source": [
    "# Fibonacci series"
   ]
  },
  {
   "cell_type": "code",
   "execution_count": 32,
   "id": "dec59c4d",
   "metadata": {},
   "outputs": [
    {
     "name": "stdout",
     "output_type": "stream",
     "text": [
      "0\n",
      "1\n",
      "1\n",
      "2\n",
      "3\n"
     ]
    }
   ],
   "source": [
    "def fibonacci(n):\n",
    "    a = 0\n",
    "    b = 1\n",
    "    for i in range(n):\n",
    "        print(a)\n",
    "        a, b = b, a + b\n",
    "fibonacci(5)"
   ]
  },
  {
   "cell_type": "code",
   "execution_count": 18,
   "id": "293c03d3",
   "metadata": {},
   "outputs": [
    {
     "name": "stdout",
     "output_type": "stream",
     "text": [
      "Enter position2\n",
      "891234567\n"
     ]
    }
   ],
   "source": [
    "num = \"123456789\"\n",
    "n = len(num)\n",
    "k = int(input(\"Enter position\"))\n",
    "rotated_num = \"\"\n",
    "for i in range(n):\n",
    "    j = i - k % n\n",
    "    rotated_num += num [j]\n",
    "print(rotated_num)"
   ]
  },
  {
   "cell_type": "code",
   "execution_count": 2,
   "id": "47da7896",
   "metadata": {},
   "outputs": [
    {
     "name": "stdout",
     "output_type": "stream",
     "text": [
      "[2, 4, 6, 8, 10]\n"
     ]
    }
   ],
   "source": [
    "n = [1, 2, 3, 4, 5, 6, 7, 8, 9, 10]\n",
    "def myfunc(x):\n",
    "    if x%2==0:\n",
    "        return True\n",
    "    else:\n",
    "        return False\n",
    "y = filter(myfunc,n)\n",
    "print(list(y))"
   ]
  },
  {
   "cell_type": "code",
   "execution_count": 3,
   "id": "a768fb27",
   "metadata": {},
   "outputs": [
    {
     "name": "stdout",
     "output_type": "stream",
     "text": [
      "[True, False, True, False, True, False, True, False, True, False]\n"
     ]
    }
   ],
   "source": [
    "numbers = [1, 2, 3, 4, 5, 6, 7, 8, 9, 10]\n",
    "def check_even(n):\n",
    "    if n % 2 == 0:\n",
    "          return False \n",
    "    else:\n",
    "        return True\n",
    "even = map(check_even, numbers)\n",
    "print(list(even))"
   ]
  },
  {
   "cell_type": "code",
   "execution_count": 10,
   "id": "29139a0c",
   "metadata": {},
   "outputs": [
    {
     "name": "stdout",
     "output_type": "stream",
     "text": [
      "abcdef\n",
      "fabcde\n",
      "efabcd\n",
      "defabc\n",
      "cdefab\n",
      "bcdefa\n"
     ]
    }
   ],
   "source": [
    "s = \"abcdef\"\n",
    "for i in range(len(s)):\n",
    "    print(s[-i:]+s[:-i])"
   ]
  },
  {
   "cell_type": "markdown",
   "id": "d1430c73",
   "metadata": {},
   "source": [
    "# Find the second highest number in list without any inbuilt functions and without sort the list"
   ]
  },
  {
   "cell_type": "code",
   "execution_count": 16,
   "id": "ce3ef163",
   "metadata": {},
   "outputs": [
    {
     "name": "stdout",
     "output_type": "stream",
     "text": [
      "5\n"
     ]
    }
   ],
   "source": [
    "lst = [5, 4,6,3,2,1]\n",
    "max1 = lst[0]\n",
    "max2 = lst[1]\n",
    "\n",
    "for i in range(2, len(lst)):\n",
    "    if lst[i] > max1:\n",
    "        max2 = max1\n",
    "        max1 = lst[i]\n",
    "    elif lst[i] > max2:\n",
    "        max2 = lst[i]\n",
    "\n",
    "print(max2)"
   ]
  },
  {
   "cell_type": "code",
   "execution_count": 8,
   "id": "b23b05b6",
   "metadata": {},
   "outputs": [
    {
     "name": "stdout",
     "output_type": "stream",
     "text": [
      "{'noman': 7}\n"
     ]
    }
   ],
   "source": [
    "dict1 = {\"asif\":67,\"noman\":7,\"zakaullah\":97}\n",
    "max_score = None\n",
    "dict2 = {}\n",
    "for i,j in dict1.items():\n",
    "    if max_score is None or j < max_score:\n",
    "        max_score = j\n",
    "        name = i\n",
    "dict2.update({name:max_score})\n",
    "print(dict2)"
   ]
  },
  {
   "cell_type": "markdown",
   "id": "8f3963cc",
   "metadata": {},
   "source": [
    "# Swap to element in list without using any inbuild functions"
   ]
  },
  {
   "cell_type": "code",
   "execution_count": 18,
   "id": "3e1757fb",
   "metadata": {},
   "outputs": [
    {
     "name": "stdout",
     "output_type": "stream",
     "text": [
      "[3, 1, 7, 4, 1, 2, 2, 1]\n"
     ]
    }
   ],
   "source": [
    "lst = [1,3,4,7,2,1,1,2]\n",
    "for i in range(0,len(lst)-1,2):\n",
    "        lst[i],lst[i+1]=lst[i+1],lst[i]\n",
    "print(lst)"
   ]
  },
  {
   "cell_type": "code",
   "execution_count": 5,
   "id": "8162da9e",
   "metadata": {},
   "outputs": [
    {
     "name": "stdout",
     "output_type": "stream",
     "text": [
      "[3, 78, 7, 0, 1, 45, 20, 10]\n"
     ]
    }
   ],
   "source": [
    "lst = [78,3,0,7,45,1,10,20]\n",
    "for i in range(0,len(lst)-1,2):\n",
    "#     if lst[i] > lst[i+1] or lst[i] < lst[i+1]:\n",
    "        lst[i],lst[i+1] = lst[i+1],lst[i]\n",
    "print(lst)"
   ]
  },
  {
   "cell_type": "code",
   "execution_count": 4,
   "id": "13178d18",
   "metadata": {},
   "outputs": [
    {
     "name": "stdout",
     "output_type": "stream",
     "text": [
      "[3, 78, 7, 0, 1, 45, 20, 10]\n"
     ]
    }
   ],
   "source": [
    "lst = [78,3,0,7,45,1,10,20]\n",
    "for i in range(0,len(lst)-1,2):\n",
    "#     if lst[i] > lst[i+1] or lst[i] < lst[i+1]:\n",
    "        lst[i],lst[i+1] = lst[i+1],lst[i]\n",
    "print(lst)"
   ]
  },
  {
   "cell_type": "markdown",
   "id": "e60536c7",
   "metadata": {},
   "source": [
    "# single decorater"
   ]
  },
  {
   "cell_type": "code",
   "execution_count": 2,
   "id": "ee1db6a3",
   "metadata": {},
   "outputs": [
    {
     "name": "stdout",
     "output_type": "stream",
     "text": [
      "hello\n",
      "20\n"
     ]
    }
   ],
   "source": [
    "def decore1(func):\n",
    "    def inner(a,b):\n",
    "        print(\"hello\")\n",
    "        func(a,b)\n",
    "    return inner\n",
    "\n",
    "@decore1\n",
    "def myfunc(a,b):\n",
    "    print(a+b)\n",
    "myfunc(10,10)"
   ]
  },
  {
   "cell_type": "code",
   "execution_count": 2,
   "id": "ee9e6139",
   "metadata": {},
   "outputs": [
    {
     "name": "stdout",
     "output_type": "stream",
     "text": [
      "hello\n",
      "10\n"
     ]
    }
   ],
   "source": []
  },
  {
   "cell_type": "code",
   "execution_count": 50,
   "id": "170d9442",
   "metadata": {},
   "outputs": [
    {
     "name": "stdout",
     "output_type": "stream",
     "text": [
      "{'jafar': 78}\n"
     ]
    }
   ],
   "source": [
    "student = {\"talha\": 67, \"jafar\": 78, \"asif\": 17}\n",
    "max_score = None\n",
    "for i,j in student.items():\n",
    "    if max_score is None or j > max_score:\n",
    "        max_score = j\n",
    "        name = i\n",
    "print({name:max_score})"
   ]
  },
  {
   "cell_type": "code",
   "execution_count": null,
   "id": "d4be0865",
   "metadata": {},
   "outputs": [],
   "source": []
  },
  {
   "cell_type": "code",
   "execution_count": null,
   "id": "32788f90",
   "metadata": {
    "scrolled": true
   },
   "outputs": [],
   "source": []
  },
  {
   "cell_type": "code",
   "execution_count": null,
   "id": "1f6b2984",
   "metadata": {},
   "outputs": [],
   "source": []
  },
  {
   "cell_type": "code",
   "execution_count": null,
   "id": "0b4fe2f5",
   "metadata": {},
   "outputs": [],
   "source": []
  },
  {
   "cell_type": "code",
   "execution_count": 48,
   "id": "49b8ac48",
   "metadata": {},
   "outputs": [
    {
     "name": "stdout",
     "output_type": "stream",
     "text": [
      "0\n",
      "1\n",
      "1\n",
      "2\n",
      "3\n"
     ]
    }
   ],
   "source": [
    "def fibonacci(n):\n",
    "    a = 0\n",
    "    b = 1\n",
    "    for i in range(n):\n",
    "        print(a)\n",
    "        a,b = b, a+b\n",
    "fibonacci(5)"
   ]
  },
  {
   "cell_type": "markdown",
   "id": "b9517e4e",
   "metadata": {},
   "source": [
    "# convert the alphstring to alpha"
   ]
  },
  {
   "cell_type": "code",
   "execution_count": 23,
   "id": "b4ed24f0",
   "metadata": {},
   "outputs": [
    {
     "data": {
      "text/plain": [
       "'aaabbbcc'"
      ]
     },
     "execution_count": 23,
     "metadata": {},
     "output_type": "execute_result"
    }
   ],
   "source": [
    "def decode_string(s):\n",
    "    output = \"\"\n",
    "    prev_char = \"\"\n",
    "    for i in range(len(s)):\n",
    "        if s[i].isalpha():\n",
    "            output += s[i]\n",
    "            prev_char = s[i]\n",
    "        else:\n",
    "            num = int(s[i])\n",
    "            output += prev_char * (num -1)\n",
    "    return output\n",
    "x= \"a3b3c2\"\n",
    "decode_string(x)"
   ]
  },
  {
   "cell_type": "code",
   "execution_count": 11,
   "id": "0f0a0b6f",
   "metadata": {},
   "outputs": [
    {
     "name": "stdout",
     "output_type": "stream",
     "text": [
      "aaabbbccc\n"
     ]
    }
   ],
   "source": []
  },
  {
   "cell_type": "code",
   "execution_count": null,
   "id": "e9ef8ee7",
   "metadata": {},
   "outputs": [],
   "source": []
  },
  {
   "cell_type": "code",
   "execution_count": 7,
   "id": "7d0778e7",
   "metadata": {},
   "outputs": [
    {
     "name": "stdout",
     "output_type": "stream",
     "text": [
      "20\n"
     ]
    }
   ],
   "source": [
    "b = lambda x : x+x\n",
    "print(b(10))"
   ]
  },
  {
   "cell_type": "code",
   "execution_count": 20,
   "id": "e5bd996c",
   "metadata": {
    "scrolled": false
   },
   "outputs": [
    {
     "name": "stdout",
     "output_type": "stream",
     "text": [
      "Enter an integer: 555\n",
      "125\n",
      "15\n",
      "110\n"
     ]
    }
   ],
   "source": [
    "x = int(input(\"Enter an integer: \"))\n",
    "b = 1\n",
    "z = 0\n",
    "for i in str(x):\n",
    "    if i.isdigit():\n",
    "        b =b* int(i)\n",
    "        z += int(i)\n",
    "print(b)\n",
    "print(z)\n",
    "print(b-z)"
   ]
  },
  {
   "cell_type": "code",
   "execution_count": 28,
   "id": "27d65e8b",
   "metadata": {},
   "outputs": [
    {
     "name": "stdout",
     "output_type": "stream",
     "text": [
      "Enter number: 123\n",
      "6\n",
      "6\n",
      "0\n"
     ]
    }
   ],
   "source": [
    "a=(input(\"Enter number: \"))\n",
    "b=1\n",
    "c=0\n",
    "d=0\n",
    "for i in a:\n",
    "    b=b*int(i)\n",
    "    c=c+int(i)\n",
    "    d=b-c\n",
    "print(b)\n",
    "print(c)\n",
    "print(d)"
   ]
  },
  {
   "cell_type": "code",
   "execution_count": 105,
   "id": "fd3972a7",
   "metadata": {
    "scrolled": true
   },
   "outputs": [
    {
     "name": "stdout",
     "output_type": "stream",
     "text": [
      "* * * *   \n",
      "* * *     \n",
      "* *       \n",
      "*         \n",
      "          \n"
     ]
    }
   ],
   "source": [
    "for i in range(1,6):\n",
    "    for k in range(1,6-i):\n",
    "        print(\"*\",end=\" \")\n",
    "    for j in range(i):\n",
    "        print(\" \",end=\" \")\n",
    "    print()"
   ]
  },
  {
   "cell_type": "code",
   "execution_count": 126,
   "id": "c7b620c0",
   "metadata": {},
   "outputs": [
    {
     "name": "stdout",
     "output_type": "stream",
     "text": [
      "* * * * * \n",
      " * * * * \n",
      "  * * * \n",
      "   * * \n",
      "    * \n",
      "* * * * * \n",
      " * * * * \n",
      "  * * * \n",
      "   * * \n",
      "    * \n"
     ]
    }
   ],
   "source": [
    "for i in range(5,0,-1):\n",
    "    for k in range(1,6-i):\n",
    "        print(\" \",end=\"\")\n",
    "    for j in range(1,i+1):\n",
    "        print(\"*\",end=' ')\n",
    "    print()\n",
    "for i in range(5,0,-1):\n",
    "    for k in range(1,6-i):\n",
    "        print(\" \",end=\"\")\n",
    "    for j in range(1,i+1):\n",
    "        print(\"*\",end=' ')\n",
    "    print()"
   ]
  },
  {
   "cell_type": "code",
   "execution_count": 97,
   "id": "da2931f7",
   "metadata": {},
   "outputs": [
    {
     "name": "stdout",
     "output_type": "stream",
     "text": [
      "* * * * * \n",
      "* * * * \n",
      "* * * \n",
      "* * \n",
      "* \n"
     ]
    }
   ],
   "source": [
    "for i in range(5,0,-1):\n",
    "    for j in range(i):\n",
    "        print(\"*\",end=' ')\n",
    "    print()"
   ]
  },
  {
   "cell_type": "code",
   "execution_count": 48,
   "id": "0ff45358",
   "metadata": {},
   "outputs": [
    {
     "name": "stdout",
     "output_type": "stream",
     "text": [
      "* \n",
      "* * \n",
      "* * * \n",
      "* * * * \n",
      "* * * * * \n"
     ]
    }
   ],
   "source": [
    "for i in range(5):\n",
    "    for j in range(i+1):\n",
    "        print(\"*\",end=' ')\n",
    "    print()"
   ]
  },
  {
   "cell_type": "code",
   "execution_count": 88,
   "id": "c8829e64",
   "metadata": {},
   "outputs": [
    {
     "name": "stdout",
     "output_type": "stream",
     "text": [
      "-123\n",
      "-321\n"
     ]
    }
   ],
   "source": [
    "a= int(input())\n",
    "num = abs(a)\n",
    "rev = 0\n",
    "sign = -1 if a< 0 else 1\n",
    "while num > 0 :\n",
    "    digit = num%10\n",
    "    rev = rev*10+digit\n",
    "    num = num//10\n",
    "print(rev*sign)"
   ]
  },
  {
   "cell_type": "code",
   "execution_count": 141,
   "id": "cb6b6f38",
   "metadata": {},
   "outputs": [
    {
     "name": "stdout",
     "output_type": "stream",
     "text": [
      "1 \n",
      "2 3 \n",
      "4 5 6 \n",
      "7 8 9 10 \n"
     ]
    }
   ],
   "source": [
    "n=1\n",
    "for i in range(4):\n",
    "    for j in range(i+1):\n",
    "        print(n,end=\" \")\n",
    "        n+=1\n",
    "    print()"
   ]
  },
  {
   "cell_type": "code",
   "execution_count": 10,
   "id": "934f43d3",
   "metadata": {},
   "outputs": [
    {
     "name": "stdout",
     "output_type": "stream",
     "text": [
      "hello\n",
      "welcome\n"
     ]
    }
   ],
   "source": [
    "class Student:\n",
    "    def show(self):\n",
    "        print(\"hello\")\n",
    "class teacher(Student):\n",
    "    def work(self):\n",
    "        print(\"Teacher\")\n",
    "class worker(teacher):\n",
    "    def shows(self):\n",
    "        print(\"welcome\")\n",
    "obj = worker()\n",
    "obj.show()\n",
    "obj.shows()"
   ]
  },
  {
   "cell_type": "markdown",
   "id": "20e2ab76",
   "metadata": {},
   "source": [
    "# chaining decorator"
   ]
  },
  {
   "cell_type": "code",
   "execution_count": null,
   "id": "fc9e3e77",
   "metadata": {},
   "outputs": [],
   "source": [
    "def star(func):\n",
    "    def inner(arg):\n",
    "        print(\"first\")\n",
    "        func(arg)\n",
    "        print(\"second\")\n",
    "    return inner\n",
    "\n",
    "\n",
    "def percent(func):\n",
    "    def inner(arg):\n",
    "        print(\"third\")\n",
    "        print(\"fourth\")\n",
    "        func(arg)\n",
    "        print('h')\n",
    "    return inner\n",
    "\n",
    "\n",
    "@percent\n",
    "@star\n",
    "def printer(msg):\n",
    "    print(msg)\n",
    "printer(\"Hello\")"
   ]
  },
  {
   "cell_type": "code",
   "execution_count": 55,
   "id": "3a5ef8d0",
   "metadata": {},
   "outputs": [
    {
     "name": "stdout",
     "output_type": "stream",
     "text": [
      "hello\n",
      "mcc\n"
     ]
    }
   ],
   "source": [
    "class student:\n",
    "    def show(self):\n",
    "        print(\"hello\")\n",
    "class teacher(student):\n",
    "    def show(self):\n",
    "        super().show()\n",
    "        print(\"mcc\")\n",
    "obj = teacher()\n",
    "obj.show()\n",
    "ob = student()\n",
    "# ob.show()"
   ]
  },
  {
   "cell_type": "code",
   "execution_count": 96,
   "id": "0a05c959",
   "metadata": {},
   "outputs": [
    {
     "name": "stdout",
     "output_type": "stream",
     "text": [
      "[4, 5, 3, 4]\n"
     ]
    }
   ],
   "source": [
    "a=[4,54,3,4,5,6,4,23]\n",
    "# output = 4534\n",
    "print(a[-2::-2])"
   ]
  },
  {
   "cell_type": "code",
   "execution_count": 90,
   "id": "2a9d2b24",
   "metadata": {},
   "outputs": [
    {
     "name": "stdout",
     "output_type": "stream",
     "text": [
      "[3, 78, 7, 10, 1, 76, 5]\n"
     ]
    }
   ],
   "source": [
    "lst = [78,3,10,7,76,1,5]\n",
    "for i in range(0,len(lst),2):\n",
    "    if i+1<len(lst):\n",
    "        lst[i],lst[i+1] = lst[i+1],lst[i]\n",
    "print(lst)"
   ]
  },
  {
   "cell_type": "code",
   "execution_count": 89,
   "id": "343e5c83",
   "metadata": {},
   "outputs": [
    {
     "name": "stdout",
     "output_type": "stream",
     "text": [
      "True\n",
      "True\n",
      "True\n"
     ]
    }
   ],
   "source": [
    "lst = [1,2,3,4,5]\n",
    "def eve(lst):\n",
    "    if lst%2==0:\n",
    "        return False\n",
    "    else:\n",
    "        print(True)\n",
    "obj = list(filter(eve,lst))"
   ]
  },
  {
   "cell_type": "code",
   "execution_count": 71,
   "id": "e78ccb76",
   "metadata": {},
   "outputs": [
    {
     "name": "stdout",
     "output_type": "stream",
     "text": [
      "[(1, 4), (2, 3)]\n"
     ]
    }
   ],
   "source": [
    "lst = [1,2,3,4,5]\n",
    "key = 5\n",
    "d  = []\n",
    "for i in range(len(lst)):\n",
    "    for j in range(i+1,len(lst)):\n",
    "        if lst[i]+lst[j] == 5:\n",
    "            d.append((lst[i],lst[j]))\n",
    "print(d)"
   ]
  },
  {
   "cell_type": "code",
   "execution_count": 62,
   "id": "fd755f80",
   "metadata": {},
   "outputs": [
    {
     "name": "stdout",
     "output_type": "stream",
     "text": [
      "[2, 2, 3]\n"
     ]
    }
   ],
   "source": [
    "a = [1,2,2,2,3,4]\n",
    "b = [0,2,2,3,5,6]\n",
    "d = []\n",
    "for i in range(len(a)):\n",
    "    for j in range(len(b)):\n",
    "        if a[i] == b[j]:\n",
    "                d.append(b[j])\n",
    "                b[j]=-1\n",
    "print(d)"
   ]
  },
  {
   "cell_type": "code",
   "execution_count": 7,
   "id": "44811e5d",
   "metadata": {},
   "outputs": [
    {
     "name": "stdout",
     "output_type": "stream",
     "text": [
      "checklist\n",
      "dumpcv\n"
     ]
    }
   ],
   "source": [
    "dict1 = {'content':[{\"attachment\":{\"href\":359286,\"len\":4,\"name\":\"checklist\",\"type\":\"text\"}},\n",
    "                    {\"attachment\":{\"href\":5927,\"len\":8,\"name\":\"dumpcv\",\"type\":\"application\"}}]}\n",
    "for i in dict1[\"content\"]:\n",
    "    print(i[\"attachment\"]['name'])"
   ]
  },
  {
   "cell_type": "code",
   "execution_count": 3,
   "id": "7ae8b793",
   "metadata": {},
   "outputs": [
    {
     "name": "stdout",
     "output_type": "stream",
     "text": [
      "Enter Index number 2\n",
      "4\n"
     ]
    }
   ],
   "source": [
    "def find_index(n):\n",
    "    lst = [1,2,4,5,6]\n",
    "    for i in range(len(lst)):\n",
    "        if n == i:\n",
    "            print(lst[i])\n",
    "            break\n",
    "n = int(input(\"Enter Index number \"))\n",
    "find_index(n)"
   ]
  },
  {
   "cell_type": "markdown",
   "id": "0712e8cb",
   "metadata": {},
   "source": [
    "# swap the element by position 1 in list of tuple"
   ]
  },
  {
   "cell_type": "code",
   "execution_count": 16,
   "id": "5325bb06",
   "metadata": {},
   "outputs": [
    {
     "name": "stdout",
     "output_type": "stream",
     "text": [
      "[('mango', 'banana'), ('pinapple', 'apple'), ('jamun', 'cherry')]\n"
     ]
    }
   ],
   "source": [
    "# n = [(2,2),(1,1),(3,6),(5,5)]\n",
    "n = [(\"mango\",\"banana\"),(\"pinapple\",\"apple\"),(\"jamun\",\"cherry\")]\n",
    "x = len(n)\n",
    "for i in range(x):\n",
    "    for j in range(x-i-1):\n",
    "        if n[j][0] > n[j + 0][0]:\n",
    "            n[j], n[j + 0] = n[j + 0], n[j] \n",
    "print(n)"
   ]
  },
  {
   "cell_type": "code",
   "execution_count": null,
   "id": "8f5227dd",
   "metadata": {},
   "outputs": [],
   "source": []
  },
  {
   "cell_type": "code",
   "execution_count": null,
   "id": "a3ddc8a9",
   "metadata": {},
   "outputs": [],
   "source": []
  },
  {
   "cell_type": "code",
   "execution_count": 97,
   "id": "f5b6094f",
   "metadata": {},
   "outputs": [
    {
     "name": "stdout",
     "output_type": "stream",
     "text": [
      "{2: ['mouse', 'notepad'], 1: ['car']}\n"
     ]
    }
   ],
   "source": [
    "data = [\"notepad\", \"notepad\", \"mouse\",\"cat\",\"mouse\"]\n",
    "output = {}\n",
    "for i in data:\n",
    "    if data.count(i) not in output.keys():\n",
    "        output[data.count(i)] = [i]\n",
    "    output[data.count(i)].append(i)\n",
    "    output[data.count(i)] = list(set(dict1[data.count(i)]))\n",
    "print(output)"
   ]
  },
  {
   "cell_type": "code",
   "execution_count": 60,
   "id": "23c4662d",
   "metadata": {},
   "outputs": [
    {
     "name": "stdout",
     "output_type": "stream",
     "text": [
      "{2: ['mouse', 'notepad'], 1: ['car']}\n"
     ]
    }
   ],
   "source": [
    "dict1 ={}\n",
    "transactions=[\"notepad\",\"notepad\",\"mouse\",\"car\",\"mouse\"]\n",
    "for i in transactions:\n",
    "    if transactions.count(i) not in dict1.keys():\n",
    "        dict1[transactions.count(i)]  = []\n",
    "    dict1[transactions.count(i)].append(i)\n",
    "    dict1[transactions.count(i)] = list(set(dict1[transactions.count(i)]))\n",
    "print(dict1)"
   ]
  },
  {
   "cell_type": "code",
   "execution_count": null,
   "id": "6c84eae1",
   "metadata": {},
   "outputs": [],
   "source": []
  },
  {
   "cell_type": "code",
   "execution_count": null,
   "id": "6f1b523c",
   "metadata": {},
   "outputs": [],
   "source": []
  },
  {
   "cell_type": "code",
   "execution_count": null,
   "id": "0b62bd98",
   "metadata": {},
   "outputs": [],
   "source": []
  },
  {
   "cell_type": "code",
   "execution_count": null,
   "id": "32a81959",
   "metadata": {},
   "outputs": [],
   "source": []
  },
  {
   "cell_type": "code",
   "execution_count": null,
   "id": "441f81a3",
   "metadata": {},
   "outputs": [],
   "source": []
  },
  {
   "cell_type": "code",
   "execution_count": null,
   "id": "3b828e89",
   "metadata": {},
   "outputs": [],
   "source": []
  },
  {
   "cell_type": "code",
   "execution_count": null,
   "id": "a4313c96",
   "metadata": {},
   "outputs": [],
   "source": []
  },
  {
   "cell_type": "code",
   "execution_count": null,
   "id": "718fc798",
   "metadata": {},
   "outputs": [],
   "source": []
  },
  {
   "cell_type": "code",
   "execution_count": null,
   "id": "7535d8b3",
   "metadata": {},
   "outputs": [],
   "source": []
  },
  {
   "cell_type": "code",
   "execution_count": null,
   "id": "d9610bd0",
   "metadata": {},
   "outputs": [],
   "source": []
  },
  {
   "cell_type": "code",
   "execution_count": null,
   "id": "4213baa3",
   "metadata": {},
   "outputs": [],
   "source": []
  },
  {
   "cell_type": "code",
   "execution_count": null,
   "id": "08fede23",
   "metadata": {},
   "outputs": [],
   "source": []
  },
  {
   "cell_type": "code",
   "execution_count": null,
   "id": "0d6e5bab",
   "metadata": {},
   "outputs": [],
   "source": []
  },
  {
   "cell_type": "code",
   "execution_count": null,
   "id": "c58e485b",
   "metadata": {},
   "outputs": [],
   "source": []
  },
  {
   "cell_type": "code",
   "execution_count": null,
   "id": "0b13ab9e",
   "metadata": {},
   "outputs": [],
   "source": []
  },
  {
   "cell_type": "code",
   "execution_count": null,
   "id": "583962f5",
   "metadata": {},
   "outputs": [],
   "source": []
  },
  {
   "cell_type": "code",
   "execution_count": null,
   "id": "ec08e650",
   "metadata": {},
   "outputs": [],
   "source": []
  },
  {
   "cell_type": "code",
   "execution_count": null,
   "id": "5ce41f6a",
   "metadata": {},
   "outputs": [],
   "source": []
  },
  {
   "cell_type": "code",
   "execution_count": null,
   "id": "1a1dba38",
   "metadata": {},
   "outputs": [],
   "source": []
  },
  {
   "cell_type": "code",
   "execution_count": null,
   "id": "dd5636f9",
   "metadata": {},
   "outputs": [],
   "source": []
  },
  {
   "cell_type": "code",
   "execution_count": null,
   "id": "3bb25e30",
   "metadata": {},
   "outputs": [],
   "source": []
  },
  {
   "cell_type": "code",
   "execution_count": null,
   "id": "2b8fc8ab",
   "metadata": {},
   "outputs": [],
   "source": []
  },
  {
   "cell_type": "code",
   "execution_count": null,
   "id": "e82ce748",
   "metadata": {},
   "outputs": [],
   "source": []
  },
  {
   "cell_type": "code",
   "execution_count": null,
   "id": "34d22d19",
   "metadata": {},
   "outputs": [],
   "source": []
  },
  {
   "cell_type": "code",
   "execution_count": null,
   "id": "216c45c3",
   "metadata": {},
   "outputs": [],
   "source": []
  },
  {
   "cell_type": "code",
   "execution_count": null,
   "id": "06bd3178",
   "metadata": {},
   "outputs": [],
   "source": []
  },
  {
   "cell_type": "code",
   "execution_count": null,
   "id": "56f71784",
   "metadata": {},
   "outputs": [],
   "source": []
  },
  {
   "cell_type": "code",
   "execution_count": null,
   "id": "160c91b0",
   "metadata": {},
   "outputs": [],
   "source": []
  },
  {
   "cell_type": "code",
   "execution_count": null,
   "id": "bc1f057d",
   "metadata": {},
   "outputs": [],
   "source": []
  },
  {
   "cell_type": "code",
   "execution_count": null,
   "id": "2be519ed",
   "metadata": {},
   "outputs": [],
   "source": []
  },
  {
   "cell_type": "code",
   "execution_count": null,
   "id": "f56cac7d",
   "metadata": {},
   "outputs": [],
   "source": []
  },
  {
   "cell_type": "code",
   "execution_count": null,
   "id": "1bd17e8a",
   "metadata": {},
   "outputs": [],
   "source": []
  },
  {
   "cell_type": "code",
   "execution_count": null,
   "id": "961324b3",
   "metadata": {},
   "outputs": [],
   "source": []
  },
  {
   "cell_type": "code",
   "execution_count": null,
   "id": "e21af873",
   "metadata": {},
   "outputs": [],
   "source": []
  },
  {
   "cell_type": "code",
   "execution_count": null,
   "id": "887ca4f2",
   "metadata": {},
   "outputs": [],
   "source": []
  },
  {
   "cell_type": "code",
   "execution_count": null,
   "id": "08b86205",
   "metadata": {},
   "outputs": [],
   "source": []
  },
  {
   "cell_type": "code",
   "execution_count": null,
   "id": "6e11af9b",
   "metadata": {},
   "outputs": [],
   "source": []
  },
  {
   "cell_type": "code",
   "execution_count": null,
   "id": "b2ac4a2e",
   "metadata": {},
   "outputs": [],
   "source": []
  },
  {
   "cell_type": "code",
   "execution_count": null,
   "id": "d8cf98be",
   "metadata": {},
   "outputs": [],
   "source": []
  },
  {
   "cell_type": "code",
   "execution_count": null,
   "id": "e080100f",
   "metadata": {},
   "outputs": [],
   "source": []
  },
  {
   "cell_type": "code",
   "execution_count": null,
   "id": "81268c55",
   "metadata": {},
   "outputs": [],
   "source": []
  },
  {
   "cell_type": "code",
   "execution_count": null,
   "id": "0ca63c42",
   "metadata": {},
   "outputs": [],
   "source": []
  },
  {
   "cell_type": "code",
   "execution_count": null,
   "id": "b6d574b2",
   "metadata": {},
   "outputs": [],
   "source": []
  },
  {
   "cell_type": "code",
   "execution_count": null,
   "id": "fff74a77",
   "metadata": {},
   "outputs": [],
   "source": []
  },
  {
   "cell_type": "code",
   "execution_count": null,
   "id": "a3ff615c",
   "metadata": {},
   "outputs": [],
   "source": []
  },
  {
   "cell_type": "code",
   "execution_count": null,
   "id": "b368f512",
   "metadata": {},
   "outputs": [],
   "source": []
  },
  {
   "cell_type": "code",
   "execution_count": null,
   "id": "a3a23f98",
   "metadata": {},
   "outputs": [],
   "source": []
  },
  {
   "cell_type": "code",
   "execution_count": 38,
   "id": "4d819f4a",
   "metadata": {},
   "outputs": [
    {
     "name": "stdout",
     "output_type": "stream",
     "text": [
      "56\n",
      "[78, 56, 45, 34, 32, 12, 12, 6, 2, 0]\n"
     ]
    }
   ],
   "source": [
    "lst = [12,34,56,78,32,12,6,45,2,0]\n",
    "for i in range(len(lst)):\n",
    "    for j in range(i,len(lst)):\n",
    "        if lst[i] <lst[j]:\n",
    "            lst[i],lst[j] = lst[j],lst[i]            \n",
    "print(lst[1])\n",
    "print(lst)"
   ]
  },
  {
   "cell_type": "code",
   "execution_count": 3,
   "id": "677f6a18",
   "metadata": {},
   "outputs": [
    {
     "name": "stdout",
     "output_type": "stream",
     "text": [
      "56\n"
     ]
    }
   ],
   "source": [
    "lst = [78, 56, 45, 34, 32, 12, 12, 6, 2, 0]\n",
    "max1 = lst[0]\n",
    "max2 = lst[1]\n",
    "for i in range(2,len(lst)):\n",
    "    if lst[i] > max1:\n",
    "        max2 = max1\n",
    "        max1 = lst[i]\n",
    "    elif lst[i] > max2:\n",
    "        max2 = lst[i]\n",
    "print(max2)"
   ]
  },
  {
   "cell_type": "markdown",
   "id": "59735877",
   "metadata": {},
   "source": [
    "#"
   ]
  },
  {
   "cell_type": "code",
   "execution_count": 28,
   "id": "6d31418a",
   "metadata": {},
   "outputs": [
    {
     "name": "stdout",
     "output_type": "stream",
     "text": [
      "{'a': 2, 'b': 3, 'c': 2, 'd': 2}\n"
     ]
    }
   ],
   "source": [
    "s = \"aabbbccdd\"\n",
    "# d = \"\"\n",
    "# count = 1\n",
    "# for i in range(len(s)):\n",
    "#     if i<=len(s)-2 and s[i]==s[i+1]:\n",
    "#         count+=1\n",
    "#     else:\n",
    "#         d+=s[i]+str(count)\n",
    "#         count=1\n",
    "# print(d)  \n",
    "d = {}\n",
    "count = 0\n",
    "for i in s:\n",
    "    if i not in d:\n",
    "        count = 1\n",
    "    else:\n",
    "        count += 1\n",
    "    d.update({i:count})\n",
    "print(d)"
   ]
  },
  {
   "cell_type": "code",
   "execution_count": 11,
   "id": "bf5a72c1",
   "metadata": {},
   "outputs": [
    {
     "name": "stdout",
     "output_type": "stream",
     "text": [
      "10\n"
     ]
    },
    {
     "ename": "TypeError",
     "evalue": "'int' object is not iterable",
     "output_type": "error",
     "traceback": [
      "\u001b[1;31m---------------------------------------------------------------------------\u001b[0m",
      "\u001b[1;31mTypeError\u001b[0m                                 Traceback (most recent call last)",
      "Input \u001b[1;32mIn [11]\u001b[0m, in \u001b[0;36m<cell line: 7>\u001b[1;34m()\u001b[0m\n\u001b[0;32m      5\u001b[0m     \u001b[38;5;28;01mif\u001b[39;00m i\u001b[38;5;241m.\u001b[39misdigit():\n\u001b[0;32m      6\u001b[0m         b \u001b[38;5;241m=\u001b[39m n\u001b[38;5;241m*\u001b[39m\u001b[38;5;241m*\u001b[39m\u001b[38;5;28mint\u001b[39m(i)\n\u001b[1;32m----> 7\u001b[0m \u001b[38;5;28mprint\u001b[39m(\u001b[38;5;28;43msum\u001b[39;49m\u001b[43m(\u001b[49m\u001b[43mb\u001b[49m\u001b[43m)\u001b[49m)\n",
      "\u001b[1;31mTypeError\u001b[0m: 'int' object is not iterable"
     ]
    }
   ],
   "source": [
    "num = int(input())\n",
    "n = len(str(num))\n",
    "b = 0 \n",
    "for i in str(num):\n",
    "    if i.isdigit():\n",
    "        b = n**int(i)\n",
    "print(sum(b))\n",
    "        \n",
    "        \n",
    "    \n",
    "    "
   ]
  },
  {
   "cell_type": "code",
   "execution_count": null,
   "id": "72e98587",
   "metadata": {},
   "outputs": [],
   "source": []
  },
  {
   "cell_type": "code",
   "execution_count": null,
   "id": "c377ca9f",
   "metadata": {},
   "outputs": [],
   "source": []
  },
  {
   "cell_type": "code",
   "execution_count": null,
   "id": "bc89c10b",
   "metadata": {},
   "outputs": [],
   "source": []
  },
  {
   "cell_type": "code",
   "execution_count": null,
   "id": "c82affe7",
   "metadata": {},
   "outputs": [],
   "source": []
  },
  {
   "cell_type": "code",
   "execution_count": null,
   "id": "52b4066b",
   "metadata": {},
   "outputs": [],
   "source": []
  },
  {
   "cell_type": "code",
   "execution_count": null,
   "id": "edeb6882",
   "metadata": {},
   "outputs": [],
   "source": []
  },
  {
   "cell_type": "code",
   "execution_count": null,
   "id": "937e5312",
   "metadata": {},
   "outputs": [],
   "source": []
  },
  {
   "cell_type": "code",
   "execution_count": null,
   "id": "68f56506",
   "metadata": {},
   "outputs": [],
   "source": []
  },
  {
   "cell_type": "code",
   "execution_count": null,
   "id": "b6b3a5ef",
   "metadata": {},
   "outputs": [],
   "source": []
  },
  {
   "cell_type": "code",
   "execution_count": null,
   "id": "42e2ea77",
   "metadata": {},
   "outputs": [],
   "source": []
  },
  {
   "cell_type": "code",
   "execution_count": null,
   "id": "68784cf4",
   "metadata": {},
   "outputs": [],
   "source": []
  },
  {
   "cell_type": "code",
   "execution_count": null,
   "id": "76372705",
   "metadata": {},
   "outputs": [],
   "source": []
  },
  {
   "cell_type": "code",
   "execution_count": null,
   "id": "df85c079",
   "metadata": {},
   "outputs": [],
   "source": []
  },
  {
   "cell_type": "code",
   "execution_count": null,
   "id": "a801c346",
   "metadata": {},
   "outputs": [],
   "source": []
  },
  {
   "cell_type": "code",
   "execution_count": null,
   "id": "a3831f02",
   "metadata": {},
   "outputs": [],
   "source": []
  },
  {
   "cell_type": "code",
   "execution_count": null,
   "id": "8e681b02",
   "metadata": {},
   "outputs": [],
   "source": []
  },
  {
   "cell_type": "code",
   "execution_count": null,
   "id": "71fde908",
   "metadata": {},
   "outputs": [],
   "source": []
  },
  {
   "cell_type": "code",
   "execution_count": null,
   "id": "20aa3194",
   "metadata": {},
   "outputs": [],
   "source": []
  },
  {
   "cell_type": "code",
   "execution_count": null,
   "id": "59f18f8f",
   "metadata": {},
   "outputs": [],
   "source": []
  },
  {
   "cell_type": "code",
   "execution_count": null,
   "id": "c0ded246",
   "metadata": {},
   "outputs": [],
   "source": []
  },
  {
   "cell_type": "code",
   "execution_count": null,
   "id": "20755d4d",
   "metadata": {},
   "outputs": [],
   "source": []
  },
  {
   "cell_type": "code",
   "execution_count": null,
   "id": "d51a8d7f",
   "metadata": {},
   "outputs": [],
   "source": []
  },
  {
   "cell_type": "code",
   "execution_count": null,
   "id": "916e9c1c",
   "metadata": {},
   "outputs": [],
   "source": []
  },
  {
   "cell_type": "code",
   "execution_count": null,
   "id": "8b033d23",
   "metadata": {},
   "outputs": [],
   "source": []
  },
  {
   "cell_type": "code",
   "execution_count": null,
   "id": "7e826bbd",
   "metadata": {},
   "outputs": [],
   "source": []
  },
  {
   "cell_type": "code",
   "execution_count": null,
   "id": "d663453c",
   "metadata": {},
   "outputs": [],
   "source": []
  },
  {
   "cell_type": "code",
   "execution_count": null,
   "id": "2f0b07e8",
   "metadata": {},
   "outputs": [],
   "source": []
  },
  {
   "cell_type": "code",
   "execution_count": null,
   "id": "653ef615",
   "metadata": {},
   "outputs": [],
   "source": []
  },
  {
   "cell_type": "code",
   "execution_count": null,
   "id": "5ba6058b",
   "metadata": {},
   "outputs": [],
   "source": []
  },
  {
   "cell_type": "code",
   "execution_count": null,
   "id": "92b701d0",
   "metadata": {},
   "outputs": [],
   "source": []
  },
  {
   "cell_type": "code",
   "execution_count": null,
   "id": "797f8806",
   "metadata": {},
   "outputs": [],
   "source": []
  },
  {
   "cell_type": "code",
   "execution_count": null,
   "id": "34d02eeb",
   "metadata": {},
   "outputs": [],
   "source": []
  },
  {
   "cell_type": "code",
   "execution_count": null,
   "id": "66cde568",
   "metadata": {},
   "outputs": [],
   "source": []
  },
  {
   "cell_type": "code",
   "execution_count": null,
   "id": "a2459f01",
   "metadata": {},
   "outputs": [],
   "source": []
  },
  {
   "cell_type": "code",
   "execution_count": null,
   "id": "5482820a",
   "metadata": {},
   "outputs": [],
   "source": []
  },
  {
   "cell_type": "code",
   "execution_count": null,
   "id": "b0ee3ab7",
   "metadata": {},
   "outputs": [],
   "source": []
  },
  {
   "cell_type": "code",
   "execution_count": null,
   "id": "3851a427",
   "metadata": {},
   "outputs": [],
   "source": []
  },
  {
   "cell_type": "code",
   "execution_count": null,
   "id": "295b5c72",
   "metadata": {},
   "outputs": [],
   "source": []
  },
  {
   "cell_type": "code",
   "execution_count": null,
   "id": "e6f86487",
   "metadata": {},
   "outputs": [],
   "source": []
  },
  {
   "cell_type": "code",
   "execution_count": null,
   "id": "bc3c95ae",
   "metadata": {},
   "outputs": [],
   "source": []
  },
  {
   "cell_type": "code",
   "execution_count": null,
   "id": "b5386e5c",
   "metadata": {},
   "outputs": [],
   "source": []
  },
  {
   "cell_type": "code",
   "execution_count": null,
   "id": "1cd08da6",
   "metadata": {},
   "outputs": [],
   "source": []
  },
  {
   "cell_type": "code",
   "execution_count": null,
   "id": "55815876",
   "metadata": {},
   "outputs": [],
   "source": []
  },
  {
   "cell_type": "code",
   "execution_count": null,
   "id": "ef2e6d53",
   "metadata": {},
   "outputs": [],
   "source": []
  },
  {
   "cell_type": "code",
   "execution_count": null,
   "id": "21a91536",
   "metadata": {},
   "outputs": [],
   "source": []
  },
  {
   "cell_type": "code",
   "execution_count": null,
   "id": "c22af397",
   "metadata": {},
   "outputs": [],
   "source": []
  },
  {
   "cell_type": "code",
   "execution_count": null,
   "id": "7130fb51",
   "metadata": {},
   "outputs": [],
   "source": []
  },
  {
   "cell_type": "code",
   "execution_count": null,
   "id": "1e721daa",
   "metadata": {},
   "outputs": [],
   "source": []
  },
  {
   "cell_type": "code",
   "execution_count": null,
   "id": "7b1eea27",
   "metadata": {},
   "outputs": [],
   "source": []
  },
  {
   "cell_type": "code",
   "execution_count": null,
   "id": "ea342129",
   "metadata": {},
   "outputs": [],
   "source": []
  },
  {
   "cell_type": "code",
   "execution_count": null,
   "id": "c2c7e022",
   "metadata": {},
   "outputs": [],
   "source": []
  },
  {
   "cell_type": "code",
   "execution_count": null,
   "id": "ab816d61",
   "metadata": {},
   "outputs": [],
   "source": []
  },
  {
   "cell_type": "code",
   "execution_count": null,
   "id": "bdc3961c",
   "metadata": {},
   "outputs": [],
   "source": []
  },
  {
   "cell_type": "code",
   "execution_count": null,
   "id": "f1c89e17",
   "metadata": {},
   "outputs": [],
   "source": []
  },
  {
   "cell_type": "code",
   "execution_count": null,
   "id": "f51590c3",
   "metadata": {},
   "outputs": [],
   "source": []
  },
  {
   "cell_type": "code",
   "execution_count": null,
   "id": "3c319610",
   "metadata": {},
   "outputs": [],
   "source": []
  },
  {
   "cell_type": "code",
   "execution_count": null,
   "id": "fb83a60e",
   "metadata": {},
   "outputs": [],
   "source": []
  },
  {
   "cell_type": "code",
   "execution_count": null,
   "id": "93ee2b24",
   "metadata": {},
   "outputs": [],
   "source": []
  },
  {
   "cell_type": "code",
   "execution_count": null,
   "id": "f1ad8d90",
   "metadata": {},
   "outputs": [],
   "source": []
  },
  {
   "cell_type": "code",
   "execution_count": null,
   "id": "5bb0d7a2",
   "metadata": {},
   "outputs": [],
   "source": []
  },
  {
   "cell_type": "code",
   "execution_count": null,
   "id": "e71f1a8f",
   "metadata": {},
   "outputs": [],
   "source": []
  },
  {
   "cell_type": "code",
   "execution_count": null,
   "id": "3dc7427a",
   "metadata": {},
   "outputs": [],
   "source": []
  },
  {
   "cell_type": "code",
   "execution_count": null,
   "id": "954d9dcc",
   "metadata": {},
   "outputs": [],
   "source": []
  },
  {
   "cell_type": "code",
   "execution_count": null,
   "id": "8a31b886",
   "metadata": {},
   "outputs": [],
   "source": []
  },
  {
   "cell_type": "code",
   "execution_count": null,
   "id": "b1264aec",
   "metadata": {},
   "outputs": [],
   "source": []
  },
  {
   "cell_type": "code",
   "execution_count": null,
   "id": "89d1cde5",
   "metadata": {},
   "outputs": [],
   "source": []
  },
  {
   "cell_type": "code",
   "execution_count": null,
   "id": "e2a0dc9b",
   "metadata": {},
   "outputs": [],
   "source": []
  },
  {
   "cell_type": "code",
   "execution_count": null,
   "id": "23733c58",
   "metadata": {},
   "outputs": [],
   "source": []
  },
  {
   "cell_type": "code",
   "execution_count": null,
   "id": "f837fd89",
   "metadata": {},
   "outputs": [],
   "source": []
  },
  {
   "cell_type": "code",
   "execution_count": null,
   "id": "7c2383f6",
   "metadata": {},
   "outputs": [],
   "source": []
  },
  {
   "cell_type": "code",
   "execution_count": null,
   "id": "a0d7a15d",
   "metadata": {},
   "outputs": [],
   "source": []
  },
  {
   "cell_type": "code",
   "execution_count": null,
   "id": "e0fba1e5",
   "metadata": {},
   "outputs": [],
   "source": []
  },
  {
   "cell_type": "code",
   "execution_count": null,
   "id": "247cb576",
   "metadata": {},
   "outputs": [],
   "source": []
  },
  {
   "cell_type": "code",
   "execution_count": null,
   "id": "ec9bb03c",
   "metadata": {},
   "outputs": [],
   "source": []
  },
  {
   "cell_type": "code",
   "execution_count": 72,
   "id": "27225d0c",
   "metadata": {},
   "outputs": [
    {
     "name": "stdout",
     "output_type": "stream",
     "text": [
      "decor1 <function myfunc at 0x000002DC225EEB00>\n",
      "decor2 <function decor1.<locals>.inner at 0x000002DC225EC1F0>\n",
      "byee\n",
      "hello\n",
      "10\n"
     ]
    }
   ],
   "source": [
    "def decor1(func):\n",
    "    def inner(a,b):\n",
    "        print(\"hello\")\n",
    "        func(a,b)\n",
    "    return inner\n",
    "\n",
    "def decor2(func):\n",
    "    def inner(a,b):\n",
    "        print(\"byee\")\n",
    "        func(a,b)\n",
    "    return inner\n",
    "\n",
    "@decor2\n",
    "@decor1\n",
    "def myfunc(a,b):\n",
    "    print(a+b)\n",
    "myfunc(5,5)"
   ]
  },
  {
   "cell_type": "code",
   "execution_count": null,
   "id": "ebd488a9",
   "metadata": {},
   "outputs": [],
   "source": []
  },
  {
   "cell_type": "code",
   "execution_count": null,
   "id": "530653ed",
   "metadata": {},
   "outputs": [],
   "source": []
  },
  {
   "cell_type": "code",
   "execution_count": null,
   "id": "6a5e9cb3",
   "metadata": {},
   "outputs": [],
   "source": []
  },
  {
   "cell_type": "code",
   "execution_count": 45,
   "id": "2c7ee752",
   "metadata": {},
   "outputs": [
    {
     "name": "stdout",
     "output_type": "stream",
     "text": [
      "hello\n",
      "byee\n",
      "10\n"
     ]
    }
   ],
   "source": []
  }
 ],
 "metadata": {
  "kernelspec": {
   "display_name": "Python 3 (ipykernel)",
   "language": "python",
   "name": "python3"
  },
  "language_info": {
   "codemirror_mode": {
    "name": "ipython",
    "version": 3
   },
   "file_extension": ".py",
   "mimetype": "text/x-python",
   "name": "python",
   "nbconvert_exporter": "python",
   "pygments_lexer": "ipython3",
   "version": "3.10.4"
  }
 },
 "nbformat": 4,
 "nbformat_minor": 5
}
