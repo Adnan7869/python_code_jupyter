{
 "cells": [
  {
   "cell_type": "code",
   "execution_count": 5,
   "id": "8e519ffe",
   "metadata": {},
   "outputs": [
    {
     "name": "stdout",
     "output_type": "stream",
     "text": [
      "5\n",
      "[6250]\n"
     ]
    }
   ],
   "source": [
    "x=list(map(int,input().split(\" \")))\n",
    "y=list(map(lambda x:x**x*2,x))\n",
    "print(y)"
   ]
  },
  {
   "cell_type": "code",
   "execution_count": 2,
   "id": "67b2a9fd",
   "metadata": {},
   "outputs": [
    {
     "name": "stdout",
     "output_type": "stream",
     "text": [
      "123456\n",
      "[123456]\n"
     ]
    }
   ],
   "source": [
    "inpt=[int(item)for item in input().split()]\n",
    "op=[inpt[i]-inpt[i-1] if i > 0 else inpt[i] for i in range(len(inpt))]\n",
    "print(op)"
   ]
  },
  {
   "cell_type": "code",
   "execution_count": 1,
   "id": "35efd698",
   "metadata": {},
   "outputs": [
    {
     "name": "stdout",
     "output_type": "stream",
     "text": [
      "[1, 3, 5, 7]\n"
     ]
    }
   ],
   "source": [
    "z=[1,2,3,4]\n",
    "op=[z[0]]+[x+y for x,y in (zip(z[1:],z[:-1]))]\n",
    "print(op)"
   ]
  },
  {
   "cell_type": "code",
   "execution_count": 6,
   "id": "de8360e7",
   "metadata": {},
   "outputs": [
    {
     "name": "stdout",
     "output_type": "stream",
     "text": [
      "3\n"
     ]
    }
   ],
   "source": [
    "a=[5,8,15,19]\n",
    "x=a[1] - a[0]\n",
    "print(x)\n"
   ]
  },
  {
   "cell_type": "code",
   "execution_count": 10,
   "id": "b9204cad",
   "metadata": {},
   "outputs": [
    {
     "name": "stdout",
     "output_type": "stream",
     "text": [
      "{'a': 50, 'b': 65}\n"
     ]
    }
   ],
   "source": [
    "d={\"a\":45,\"b\":65,\"A\":5}\n",
    "a={i.lower():d.get(i.lower())+d.get(i.upper(),0)for i in d}        \n",
    "print(a)"
   ]
  },
  {
   "cell_type": "code",
   "execution_count": null,
   "id": "9a925fd3",
   "metadata": {},
   "outputs": [],
   "source": [
    "class InfIter:\n",
    "    def __iter__(self):\n",
    "        self.num = 1\n",
    "        return self\n",
    "\n",
    "    def __next__(self):\n",
    "        num = self.num\n",
    "        self.num += 2\n",
    "        return num\n",
    "    \n",
    "obj=InfIter()\n",
    "var=iter(obj)\n",
    "print(next(obj))\n",
    "print(next(obj))\n",
    "print(next(obj))\n",
    "print(next(obj))\n"
   ]
  },
  {
   "cell_type": "code",
   "execution_count": null,
   "id": "0f6c12b6",
   "metadata": {},
   "outputs": [],
   "source": [
    "list1 = [1,3,14,17]\n",
    "print(\"Largest element is:\", max(list1))"
   ]
  },
  {
   "cell_type": "code",
   "execution_count": 1,
   "id": "64344300",
   "metadata": {},
   "outputs": [
    {
     "name": "stdout",
     "output_type": "stream",
     "text": [
      "80\n"
     ]
    }
   ],
   "source": [
    "list1 = [1,3,14,17,51,80,19]\n",
    "x=0\n",
    "for i in list1:\n",
    "    if i>x:\n",
    "        x=i\n",
    "print(x)"
   ]
  },
  {
   "cell_type": "code",
   "execution_count": 2,
   "id": "0636efd7",
   "metadata": {},
   "outputs": [
    {
     "name": "stdout",
     "output_type": "stream",
     "text": [
      "[1, 3, 7, 10, 15]\n",
      "10\n"
     ]
    }
   ],
   "source": [
    "list1 = [1,10,7,15,3]\n",
    "for i in range(len(list1)):\n",
    "    for j in range(i+1,len(list1)):\n",
    "        if list1[i]>list1[j]:\n",
    "              list1[i],list1[j]=list1[j],list1[i]\n",
    "    x=list1[-2]\n",
    "print(list1)\n",
    "print(x)"
   ]
  },
  {
   "cell_type": "code",
   "execution_count": 12,
   "id": "048833ea",
   "metadata": {},
   "outputs": [
    {
     "name": "stdout",
     "output_type": "stream",
     "text": [
      "hello\n",
      "6\n",
      "hello2\n"
     ]
    }
   ],
   "source": [
    "def smart_divide(func):\n",
    "    def inner(a,b):\n",
    "        print(\"hello\")\n",
    "        return func(a,b)\n",
    "    return inner\n",
    "\n",
    "\n",
    "@smart_divide\n",
    "def divide(a, b):\n",
    "    print(a+b)\n",
    "    print(\"hello2\")\n",
    "    \n",
    "obj=divide(4,2)"
   ]
  },
  {
   "cell_type": "code",
   "execution_count": 2,
   "id": "2fb46b52",
   "metadata": {},
   "outputs": [
    {
     "name": "stdout",
     "output_type": "stream",
     "text": [
      "third\n",
      "fourth\n",
      "first\n",
      "Hello\n",
      "second\n",
      "h\n"
     ]
    }
   ],
   "source": [
    "def star(func):\n",
    "    def inner(arg):\n",
    "        print(\"first\")\n",
    "        func(arg)\n",
    "        print(\"second\")\n",
    "    return inner\n",
    "\n",
    "\n",
    "def percent(func):\n",
    "    def inner(arg):\n",
    "        print(\"third\")\n",
    "        print(\"fourth\")\n",
    "        func(arg)\n",
    "        print('h')\n",
    "    return inner\n",
    "\n",
    "\n",
    "@percent\n",
    "@star\n",
    "def printer(msg):\n",
    "    print(msg)\n",
    "printer(\"Hello\")"
   ]
  },
  {
   "cell_type": "code",
   "execution_count": null,
   "id": "5daf7333",
   "metadata": {},
   "outputs": [],
   "source": [
    "a=[254,56,120,30,0.5,0]\n",
    "a.sort()\n",
    "x=a[-2]\n",
    "print(a)\n",
    "print(x)\n"
   ]
  },
  {
   "cell_type": "code",
   "execution_count": 7,
   "id": "095a9f95",
   "metadata": {},
   "outputs": [
    {
     "name": "stdout",
     "output_type": "stream",
     "text": [
      "enter strings\n",
      "s is not present\n"
     ]
    }
   ],
   "source": [
    "a=\"hello world\"\n",
    "p=input(\"enter string\")\n",
    "if p in a:\n",
    "    print(\"{} is present\".format(p))\n",
    "else:\n",
    "    print(\"{} is not present\".format(p))"
   ]
  },
  {
   "cell_type": "code",
   "execution_count": 9,
   "id": "7beecce8",
   "metadata": {},
   "outputs": [
    {
     "name": "stdout",
     "output_type": "stream",
     "text": [
      "True\n"
     ]
    }
   ],
   "source": [
    "a={\"abc\":455,\"kbc\":105}\n",
    "if \"kbc\" in a:\n",
    "    print(\"True\")\n",
    "else:\n",
    "    print(\"False\")"
   ]
  },
  {
   "cell_type": "code",
   "execution_count": null,
   "id": "38b3d796",
   "metadata": {},
   "outputs": [],
   "source": [
    "s={\"Ali\":{\"score\":91},\"Akbar\":{\"score\":70},\"Bilal\":{\"score\":81}}\n",
    "x=0\n",
    "st=''\n",
    "for i in s:\n",
    "    score=s.get(i)[\"score\"]\n",
    "    if score>x:\n",
    "        x=score\n",
    "        st=i\n",
    "print({st:x})\n",
    "        "
   ]
  },
  {
   "cell_type": "code",
   "execution_count": null,
   "id": "83e3d1d4",
   "metadata": {},
   "outputs": [],
   "source": [
    "print(105 in a.values())"
   ]
  },
  {
   "cell_type": "code",
   "execution_count": 37,
   "id": "35d7fd05",
   "metadata": {},
   "outputs": [
    {
     "name": "stdout",
     "output_type": "stream",
     "text": [
      "['Bmw', 'View', 'Skoda', 'Unicom']\n"
     ]
    }
   ],
   "source": [
    "a=[\"View\",\"Bmw\",\"Skoda\",\"Unicom\"]\n",
    "a.sort(key=len)\n",
    "print(a)"
   ]
  },
  {
   "cell_type": "code",
   "execution_count": null,
   "id": "45b93a36",
   "metadata": {},
   "outputs": [],
   "source": [
    "s={\"Ali\":{\"score\":10},\"Akbar\":{\"score\":70},\"Bilal\":{\"score\":81}}\n",
    "max=0\n",
    "st = ''\n",
    "for i in s:\n",
    "    score = s.get(i)['score']\n",
    "    if score > max:\n",
    "        max = score\n",
    "        st = i\n",
    "print({st:max})\n",
    "            \n",
    "        "
   ]
  },
  {
   "cell_type": "code",
   "execution_count": null,
   "id": "5ce4e178",
   "metadata": {},
   "outputs": [],
   "source": [
    "list1 = [1,10,7,15,3]\n",
    "list1.sort()\n",
    "print(list1)"
   ]
  },
  {
   "cell_type": "code",
   "execution_count": 25,
   "id": "8f95ccf2",
   "metadata": {},
   "outputs": [
    {
     "name": "stdout",
     "output_type": "stream",
     "text": [
      "[5, 6, 11, 12, 13]\n"
     ]
    }
   ],
   "source": [
    "lst=[12,11,13,5,6]\n",
    "for j in range(1,len(lst)):\n",
    "    while lst[j-1] > lst[j] and j > 0:\n",
    "        lst[j-1],lst[j]=lst[j],lst[j-1]\n",
    "        j-=1\n",
    "print(lst)"
   ]
  },
  {
   "cell_type": "code",
   "execution_count": null,
   "id": "ab4c7aa9",
   "metadata": {},
   "outputs": [],
   "source": [
    "lst=[1,2,3,4,9,16]\n",
    "newlst=[]\n",
    "for i in lst:\n",
    "#     squre=i*2\n",
    "    newlst.append(i*2)\n",
    "    print(newlst)"
   ]
  },
  {
   "cell_type": "code",
   "execution_count": null,
   "id": "b367b578",
   "metadata": {},
   "outputs": [],
   "source": [
    "x=int(input(\"Enter No:\"))\n",
    "for i in range(1,11):\n",
    "    print(x,\"x\",i,\"=\",x*i)"
   ]
  },
  {
   "cell_type": "code",
   "execution_count": null,
   "id": "0d80276c",
   "metadata": {},
   "outputs": [],
   "source": [
    "n=int(input())\n",
    "if n%2==1:\n",
    "    print(\"Weird\")\n",
    "elif n % 2==0 and 2 <=n<=5:\n",
    "    print(\"Not Weird\")\n",
    "elif n% 2==0 and 6<= n <=20:\n",
    "    print(\"weird\")\n",
    "else:\n",
    "    print(\"not weird\")"
   ]
  },
  {
   "cell_type": "markdown",
   "id": "0c827ff6",
   "metadata": {},
   "source": [
    "# zip() fuction"
   ]
  },
  {
   "cell_type": "code",
   "execution_count": 13,
   "id": "584e21b7",
   "metadata": {},
   "outputs": [
    {
     "name": "stdout",
     "output_type": "stream",
     "text": [
      "[('Manjeet', 'adnan'), ('Nikhil', 'shanawaz'), ('Shambhavi', 'moin')]\n"
     ]
    }
   ],
   "source": [
    "name = [ \"Manjeet\", \"Nikhil\", \"Shambhavi\", \"Astha\" ]\n",
    "str_lst=[\"adnan\",\"shanawaz\",\"moin\"]\n",
    "m = zip(name, str_lst)\n",
    "print(list(m))"
   ]
  },
  {
   "cell_type": "markdown",
   "id": "a4eb824b",
   "metadata": {},
   "source": [
    "# filter() fucntion "
   ]
  },
  {
   "cell_type": "code",
   "execution_count": 1,
   "id": "6257628a",
   "metadata": {},
   "outputs": [
    {
     "name": "stdout",
     "output_type": "stream",
     "text": [
      "[2, 4, 6, 8, 10]\n"
     ]
    }
   ],
   "source": [
    "numbers = [1, 2, 3, 4, 5, 6, 7, 8, 9, 10]\n",
    "def check_even(number):\n",
    "    if number % 2 == 0:\n",
    "          return True\n",
    "    else:\n",
    "        return False\n",
    "even = filter(check_even, numbers)\n",
    "print(list(even))"
   ]
  },
  {
   "cell_type": "markdown",
   "id": "024bb647",
   "metadata": {},
   "source": [
    "# map() function"
   ]
  },
  {
   "cell_type": "code",
   "execution_count": 16,
   "id": "a4b2a44a",
   "metadata": {},
   "outputs": [
    {
     "name": "stdout",
     "output_type": "stream",
     "text": [
      "[1, 4, 9, 16]\n"
     ]
    }
   ],
   "source": [
    "def addition(n):\n",
    "    return n*n\n",
    "numbers=[1,2,3,4]\n",
    "result = map(addition, numbers)\n",
    "print(list(result))\n"
   ]
  },
  {
   "cell_type": "markdown",
   "id": "d3d43317",
   "metadata": {},
   "source": [
    "# enumerate() "
   ]
  },
  {
   "cell_type": "code",
   "execution_count": 18,
   "id": "45cb65d1",
   "metadata": {},
   "outputs": [
    {
     "name": "stdout",
     "output_type": "stream",
     "text": [
      "[10, 'eat']\n",
      "[11, 'sleep']\n",
      "[12, 'repeat']\n"
     ]
    }
   ],
   "source": [
    "l1 = [\"eat\", \"sleep\", \"repeat\"]\n",
    "for c in enumerate(l1,10):\n",
    "    print(list(c))\n"
   ]
  },
  {
   "cell_type": "markdown",
   "id": "ed412078",
   "metadata": {},
   "source": [
    "# join "
   ]
  },
  {
   "cell_type": "code",
   "execution_count": null,
   "id": "d8d78d56",
   "metadata": {},
   "outputs": [],
   "source": [
    "myTuple = \"John\"\n",
    "\n",
    "x = \"#\".join(myTuple)\n",
    "\n",
    "print(x)"
   ]
  },
  {
   "cell_type": "code",
   "execution_count": 20,
   "id": "b5fe8627",
   "metadata": {},
   "outputs": [
    {
     "name": "stdout",
     "output_type": "stream",
     "text": [
      "The sum of the list elements is : 17\n",
      "The maximum element of the list is : 6\n"
     ]
    }
   ],
   "source": [
    "# python code to demonstrate working of reduce()\n",
    "\n",
    "# importing functools for reduce()\n",
    "from functools import reduce as cs\n",
    "\n",
    "# initializing list\n",
    "lis = [1, 3, 5, 6, 2]\n",
    "\n",
    "# # using reduce to compute sum of list\n",
    "print(\"The sum of the list elements is : \", end=\"\")\n",
    "print(cs(lambda a, b: a+b, lis))\n",
    "\n",
    "# using reduce to compute maximum element from list\n",
    "print(\"The maximum element of the list is : \", end=\"\")\n",
    "print(cs(lambda a, b: a if a > b else b, lis))"
   ]
  },
  {
   "cell_type": "code",
   "execution_count": null,
   "id": "ad95c345",
   "metadata": {},
   "outputs": [],
   "source": [
    "# Python code to demonstrate working\n",
    "# of binary search in library\n",
    "from bisect import bisect_left as bleft\n",
    "\n",
    "def BinarySearch(a, x):\n",
    "\ti = bleft(a, x)\n",
    "\tif i != len(a) and a[i] == x:\n",
    "\t\treturn i\n",
    "\telse:\n",
    "\t\treturn -1\n",
    "\n",
    "a = [1,2,3,4]\n",
    "x = int(4)\n",
    "res = BinarySearch(a, x)\n",
    "if res == -1:\n",
    "\tprint(x, \"is absent\")\n",
    "else:\n",
    "\tprint(\"First occurrence of\", x, \"is present at\", res)\n"
   ]
  },
  {
   "cell_type": "code",
   "execution_count": null,
   "id": "aeef3573",
   "metadata": {},
   "outputs": [],
   "source": [
    "n = int(input())\n",
    "if n%2==1:\n",
    "    print(\"Weird\")\n",
    "elif n%2==0 and 2 >= 5:\n",
    "    print(\"Not Weird\")\n",
    "elif n%2==0 and 6 <= n >= 20:\n",
    "    print(\"Weird\")\n",
    "else:\n",
    "    print(\"Not Weird\")"
   ]
  },
  {
   "cell_type": "code",
   "execution_count": null,
   "id": "9d3be2f8",
   "metadata": {},
   "outputs": [],
   "source": [
    "n=int(input())\n",
    "if n%2==1:\n",
    "    print(\"Weird\")\n",
    "elif n% 2==0 and 6<= n <=20:\n",
    "    print(\"Weird\")\n",
    "elif n % 2==0 and 2 <=n<=5:\n",
    "    print(\"Not Weird\")\n",
    "\n",
    "else:\n",
    "    print(\"Not Weird\")"
   ]
  },
  {
   "cell_type": "code",
   "execution_count": 1,
   "id": "d760f417",
   "metadata": {},
   "outputs": [
    {
     "name": "stdout",
     "output_type": "stream",
     "text": [
      "123\n",
      "0\n"
     ]
    }
   ],
   "source": [
    "n=int(input())\n",
    "def func(n):\n",
    "    for i in range(n):\n",
    "        return i\n",
    "obj=func(n)\n",
    "print(obj)"
   ]
  },
  {
   "cell_type": "code",
   "execution_count": 4,
   "id": "875c0da2",
   "metadata": {},
   "outputs": [
    {
     "name": "stdout",
     "output_type": "stream",
     "text": [
      "123\n",
      "1 2 3 4 5 6 7 8 9 10 11 12 13 14 15 16 17 18 19 20 21 22 23 24 25 26 27 28 29 30 31 32 33 34 35 36 37 38 39 40 41 42 43 44 45 46 47 48 49 50 51 52 53 54 55 56 57 58 59 60 61 62 63 64 65 66 67 68 69 70 71 72 73 74 75 76 77 78 79 80 81 82 83 84 85 86 87 88 89 90 91 92 93 94 95 96 97 98 99 100 101 102 103 104 105 106 107 108 109 110 111 112 113 114 115 116 117 118 119 120 121 122 123 "
     ]
    }
   ],
   "source": [
    "n=int(input())\n",
    "for i in range(1,n+1):\n",
    "    print(i,end=\" \")"
   ]
  },
  {
   "cell_type": "code",
   "execution_count": null,
   "id": "5be37c99",
   "metadata": {},
   "outputs": [],
   "source": [
    "a=[[2,3]]*2\n",
    "a[1][0]=3\n",
    "print(a)"
   ]
  },
  {
   "cell_type": "code",
   "execution_count": null,
   "id": "4cf7da4e",
   "metadata": {},
   "outputs": [],
   "source": [
    "def is_leap(year):\n",
    "\n",
    "    # Write your logic here\n",
    "\n",
    "\n",
    "year = int(input())\n",
    "print(is_leap(year))"
   ]
  },
  {
   "cell_type": "code",
   "execution_count": null,
   "id": "6d8b3bc8",
   "metadata": {},
   "outputs": [],
   "source": [
    "class vhicle:\n",
    "    def __init__(self,max_speed,mileage):\n",
    "        self.a=max_speed\n",
    "        self.b=mileage\n",
    "obj=vhicle(250,120)\n",
    "print(obj.mileage)\n",
    "print(obj.max_speed)"
   ]
  },
  {
   "cell_type": "code",
   "execution_count": null,
   "id": "d72f37e2",
   "metadata": {},
   "outputs": [],
   "source": [
    "a=[1,1,2,2,2,3,2,4,5,5,6,6,8]\n",
    "a=set(a)\n",
    "x=list(a)\n",
    "print(x)"
   ]
  },
  {
   "cell_type": "code",
   "execution_count": 21,
   "id": "5e8f13c3",
   "metadata": {},
   "outputs": [
    {
     "name": "stdout",
     "output_type": "stream",
     "text": [
      "HI, I AM CREATED BY A FUNCTION PASSED AS AN ARGUMENT.\n",
      "hi, i am created by a function passed as an argument.\n"
     ]
    }
   ],
   "source": [
    "def shout(text):\n",
    "    return text.upper()\n",
    " \n",
    "def whisper(text):\n",
    "    return text.lower()\n",
    " \n",
    "def greet(func):\n",
    "    # storing the function in a variable\n",
    "    greeting = func(\"\"\"Hi, I am created by a function passed as an argument.\"\"\")\n",
    "    print (greeting)\n",
    " \n",
    "greet(shout)\n",
    "greet(whisper)"
   ]
  },
  {
   "cell_type": "code",
   "execution_count": 22,
   "id": "d4b469f4",
   "metadata": {},
   "outputs": [
    {
     "name": "stdout",
     "output_type": "stream",
     "text": [
      "Hello ,This is before function excution.\n",
      "This is inside the function.\n",
      "This is after function excution.\n"
     ]
    }
   ],
   "source": [
    "def hello_decorator(func):\n",
    "    def inner1():\n",
    "        print(\"Hello ,This is before function excution.\")\n",
    "        func()\n",
    "        print(\"This is after function excution.\")\n",
    "    return inner1\n",
    "def function_to_be_used():\n",
    "    print(\"This is inside the function.\")\n",
    "fucntion_to_be=hello_decorator(function_to_be_used)\n",
    "fucntion_to_be()"
   ]
  },
  {
   "cell_type": "markdown",
   "id": "77e6135b",
   "metadata": {},
   "source": [
    "# fibonacci"
   ]
  },
  {
   "cell_type": "code",
   "execution_count": 1,
   "id": "d01c7cb1",
   "metadata": {},
   "outputs": [
    {
     "name": "stdout",
     "output_type": "stream",
     "text": [
      "\n"
     ]
    },
    {
     "ename": "ValueError",
     "evalue": "invalid literal for int() with base 10: ''",
     "output_type": "error",
     "traceback": [
      "\u001b[1;31m---------------------------------------------------------------------------\u001b[0m",
      "\u001b[1;31mValueError\u001b[0m                                Traceback (most recent call last)",
      "Input \u001b[1;32mIn [1]\u001b[0m, in \u001b[0;36m<cell line: 10>\u001b[1;34m()\u001b[0m\n\u001b[0;32m      9\u001b[0m f\u001b[38;5;241m=\u001b[39mfib_ci()\n\u001b[0;32m     10\u001b[0m \u001b[38;5;28;01mfor\u001b[39;00m i \u001b[38;5;129;01min\u001b[39;00m \u001b[38;5;28mrange\u001b[39m(\u001b[38;5;241m5\u001b[39m):\n\u001b[1;32m---> 11\u001b[0m     \u001b[38;5;28mprint\u001b[39m(\u001b[38;5;28;43mnext\u001b[39;49m\u001b[43m(\u001b[49m\u001b[43mf\u001b[49m\u001b[43m)\u001b[49m)\n",
      "Input \u001b[1;32mIn [1]\u001b[0m, in \u001b[0;36mfib_ci\u001b[1;34m()\u001b[0m\n\u001b[0;32m      1\u001b[0m \u001b[38;5;28;01mdef\u001b[39;00m \u001b[38;5;21mfib_ci\u001b[39m():\n\u001b[1;32m----> 2\u001b[0m     a\u001b[38;5;241m=\u001b[39m\u001b[38;5;28;43mint\u001b[39;49m\u001b[43m(\u001b[49m\u001b[38;5;28;43minput\u001b[39;49m\u001b[43m(\u001b[49m\u001b[43m)\u001b[49m\u001b[43m)\u001b[49m\n\u001b[0;32m      3\u001b[0m     b\u001b[38;5;241m=\u001b[39m\u001b[38;5;28mint\u001b[39m(\u001b[38;5;28minput\u001b[39m())\n\u001b[0;32m      4\u001b[0m     \u001b[38;5;28;01mwhile\u001b[39;00m \u001b[38;5;28;01mTrue\u001b[39;00m:\n",
      "\u001b[1;31mValueError\u001b[0m: invalid literal for int() with base 10: ''"
     ]
    }
   ],
   "source": [
    "def fib_ci():\n",
    "    a=int(input())\n",
    "    b=int(input())\n",
    "    while True:\n",
    "        c=a\n",
    "        a=b\n",
    "        b=a+c\n",
    "        yield b\n",
    "f=fib_ci()\n",
    "for i in range(5):\n",
    "    print(next(f))"
   ]
  },
  {
   "cell_type": "code",
   "execution_count": null,
   "id": "636fae4a",
   "metadata": {
    "scrolled": true
   },
   "outputs": [],
   "source": [
    " if __name__ == '__main__':\n",
    "    x = int(input())\n",
    "    y = int(input())\n",
    "    z = int(input())\n",
    "    n = int(input())\n",
    "\n",
    "    print(list([i,j,k] for i in range(x+1) for j in range(y+1) for k in range(z+1)  if i+j+k !=n))"
   ]
  },
  {
   "cell_type": "code",
   "execution_count": 2,
   "id": "fa581cbd",
   "metadata": {},
   "outputs": [
    {
     "name": "stdout",
     "output_type": "stream",
     "text": [
      "2 * 4 =  8\n",
      "2 * 6 =  12\n",
      "4 * 2 =  8\n",
      "4 * 6 =  24\n",
      "6 * 2 =  12\n",
      "6 * 4 =  24\n"
     ]
    }
   ],
   "source": [
    "first = [2, 4, 6]\n",
    "second = [2, 4, 6]\n",
    "for i in first:\n",
    "    for j in second:\n",
    "        if i == j:\n",
    "            continue\n",
    "        print(i, '*', j, '= ', i * j)"
   ]
  },
  {
   "cell_type": "code",
   "execution_count": 5,
   "id": "5f032ef5",
   "metadata": {
    "scrolled": true
   },
   "outputs": [
    {
     "name": "stdout",
     "output_type": "stream",
     "text": [
      "   \n",
      "  \n",
      " \n",
      "\n"
     ]
    }
   ],
   "source": [
    "for i in range(1,5):\n",
    "    for k in range(1,5-i):\n",
    "        print(' ',end='')\n",
    "    for j in range(i+1,-1):\n",
    "        print('*',end='')\n",
    "    print('')"
   ]
  },
  {
   "cell_type": "code",
   "execution_count": null,
   "id": "7da125ac",
   "metadata": {},
   "outputs": [],
   "source": [
    "class Student:\n",
    "    def __init__(self,id,name):\n",
    "        self.id=id\n",
    "        self.name=name\n",
    "    def show(self):\n",
    "        print(self.id,self.name)\n",
    "obj=Student(1,\"adnan\")\n",
    "obj.id"
   ]
  },
  {
   "cell_type": "code",
   "execution_count": null,
   "id": "07b4be55",
   "metadata": {},
   "outputs": [],
   "source": [
    "z=set(\"abc\")\n",
    "z.add(\"san\")\n",
    "z.update(set(['p','q']))\n",
    "print(z)"
   ]
  },
  {
   "cell_type": "code",
   "execution_count": 14,
   "id": "bb1ae481",
   "metadata": {},
   "outputs": [
    {
     "name": "stdout",
     "output_type": "stream",
     "text": [
      "0\n"
     ]
    }
   ],
   "source": [
    "# a=max(0,-1,-2,-3)\n",
    "b=min(a,1,4,6)\n",
    "print(b)"
   ]
  },
  {
   "cell_type": "code",
   "execution_count": null,
   "id": "d38af828",
   "metadata": {},
   "outputs": [],
   "source": [
    "d={'name':'adnan',\n",
    "  'roll':21}\n",
    "for i in d.items():\n",
    "    print(i)"
   ]
  },
  {
   "cell_type": "code",
   "execution_count": null,
   "id": "3214586b",
   "metadata": {},
   "outputs": [],
   "source": [
    "a=set()\n",
    "print(a)"
   ]
  },
  {
   "cell_type": "code",
   "execution_count": null,
   "id": "c1cb2293",
   "metadata": {},
   "outputs": [],
   "source": [
    "t=(1,2,3,5)\n",
    "a,b,c,d=t\n",
    "print(a,b,c,d)\n"
   ]
  },
  {
   "cell_type": "code",
   "execution_count": 6,
   "id": "c72d7539",
   "metadata": {},
   "outputs": [
    {
     "name": "stdout",
     "output_type": "stream",
     "text": [
      "1 3\n",
      "321 987654\n",
      "987654 987\n"
     ]
    }
   ],
   "source": [
    "s=\"987654321\"\n",
    "print(s[-1],s[-3])\n",
    "print(s[-3:],s[:-3])\n",
    "print(s[-20:-3],s[-20:3])"
   ]
  },
  {
   "cell_type": "code",
   "execution_count": null,
   "id": "97dce546",
   "metadata": {},
   "outputs": [],
   "source": [
    "class A:\n",
    "    def __init__(self,x,y,z):\n",
    "        self.a=x+y+z\n",
    "X=A(1,2,3)"
   ]
  },
  {
   "cell_type": "code",
   "execution_count": null,
   "id": "848c16a6",
   "metadata": {},
   "outputs": [],
   "source": [
    "x=[i:i+2 for i in range(5)]\n",
    "print(x)"
   ]
  },
  {
   "cell_type": "code",
   "execution_count": null,
   "id": "e571c0b4",
   "metadata": {},
   "outputs": [],
   "source": [
    "x={i:i for i in range(5) if i%2!=0}\n",
    "print(x)"
   ]
  },
  {
   "cell_type": "code",
   "execution_count": null,
   "id": "b03d8431",
   "metadata": {},
   "outputs": [],
   "source": [
    "x={i for i in range(5)}\n",
    "print(x)"
   ]
  },
  {
   "cell_type": "code",
   "execution_count": null,
   "id": "c44b8463",
   "metadata": {},
   "outputs": [],
   "source": [
    "x=[i for i in range(5)]\n",
    "print(x)"
   ]
  },
  {
   "cell_type": "code",
   "execution_count": null,
   "id": "f34939ba",
   "metadata": {},
   "outputs": [],
   "source": [
    "for i in range(1,100):\n",
    "    if i%3==0 and i%5==0:\n",
    "        print(i,'divisible')\n",
    "    else:\n",
    "        print(i,'not divisible')"
   ]
  },
  {
   "cell_type": "code",
   "execution_count": null,
   "id": "088eee8f",
   "metadata": {},
   "outputs": [],
   "source": [
    "class Student:\n",
    "    def __init__(self,age):\n",
    "        self.__age=age        \n",
    "    # getter method\n",
    "    def age(self):\n",
    "        return self.__age    \n",
    "    # setter method\n",
    "    def sett(self,x):\n",
    "        self.__age=x\n",
    "obj = Student(20)  \n",
    "# setting the age using setter\n",
    "obj.sett(25)  \n",
    "# retrieving age using getter  \n",
    "print(obj.age())        "
   ]
  },
  {
   "cell_type": "code",
   "execution_count": null,
   "id": "6099c7d3",
   "metadata": {},
   "outputs": [],
   "source": [
    "student = {\"Umar\":{\"score\": 67}, \"Talha\":{\"score\": 78}, \"Shadab\":{\"score\": 17}}\n",
    "max=0\n",
    "stu=''\n",
    "for i in student: \n",
    "    score=student.get(i)['score']\n",
    "#     print(score)\n",
    "    if score>max:\n",
    "        max=score\n",
    "#         print(max)\n",
    "        stu=i\n",
    "print ({stu:max})\n",
    "\n",
    "    "
   ]
  },
  {
   "cell_type": "code",
   "execution_count": 3,
   "id": "95e833af",
   "metadata": {},
   "outputs": [
    {
     "name": "stdout",
     "output_type": "stream",
     "text": [
      "[65, 23, 19, 90, 12, 13]\n"
     ]
    }
   ],
   "source": [
    "def swapPositions(lst, pos1, pos2):\n",
    "     \n",
    "    lst[pos1], lst[pos2] = lst[pos2], lst[pos1]\n",
    "    return lst\n",
    " \n",
    "# Driver function\n",
    "Lst = [23, 65, 19, 90,12,13]\n",
    "pos1, pos2  = 0, 1\n",
    " \n",
    "print(swapPositions(Lst, pos1, pos2))"
   ]
  },
  {
   "cell_type": "code",
   "execution_count": 4,
   "id": "1574bc2a",
   "metadata": {},
   "outputs": [
    {
     "name": "stdout",
     "output_type": "stream",
     "text": [
      "['even', 'odd', 'even']\n"
     ]
    }
   ],
   "source": [
    "a=[2,47,8]\n",
    "b=[(lambda x: \"even\" if x%2==0 else \"odd\") (x) for x in a]\n",
    "print(b)"
   ]
  },
  {
   "cell_type": "code",
   "execution_count": 7,
   "id": "fce66311",
   "metadata": {},
   "outputs": [
    {
     "name": "stdout",
     "output_type": "stream",
     "text": [
      "[3]\n"
     ]
    }
   ],
   "source": [
    "lst = [2,1,4,3,1,4,2]\n",
    "def odd_occurring_num(arr):\n",
    "    return [i for i in lst if lst.count(i) < 2]\n",
    "\n",
    "print(odd_occurring_num(lst))"
   ]
  },
  {
   "cell_type": "code",
   "execution_count": 3,
   "id": "50e3c8f7",
   "metadata": {},
   "outputs": [
    {
     "name": "stdout",
     "output_type": "stream",
     "text": [
      "7\n"
     ]
    }
   ],
   "source": [
    "a=[1,1,2,2,3,4]\n",
    "r=0\n",
    "for i in a:\n",
    "    r^=i\n",
    "print(r)"
   ]
  },
  {
   "cell_type": "code",
   "execution_count": null,
   "id": "e75ee165",
   "metadata": {},
   "outputs": [],
   "source": [
    "x=\"hello1\"\n",
    "def func():\n",
    "    global z\n",
    "    z=\"hello\"\n",
    "    print(x)\n",
    "    \n",
    "def un():\n",
    "    print(z)\n",
    "    print(x)\n",
    "    \n",
    "func()\n",
    "un()\n"
   ]
  },
  {
   "cell_type": "code",
   "execution_count": null,
   "id": "ffc3c9d7",
   "metadata": {},
   "outputs": [],
   "source": [
    "class Truck():\n",
    "    def show(self):\n",
    "        print(\"truck\")\n",
    "class Car(Truck):\n",
    "#     x=super().show()\n",
    "    def show(self):\n",
    "        x=super().show()\n",
    "        print(\"Car\")\n",
    "        print(x)\n",
    "        \n",
    "obj=Car()\n",
    "obj.show()"
   ]
  },
  {
   "cell_type": "code",
   "execution_count": 1,
   "id": "568a55d0",
   "metadata": {},
   "outputs": [
    {
     "name": "stdout",
     "output_type": "stream",
     "text": [
      "[(56, 'apple'), ('water', 'case'), (1, 'groot'), ('dell', 'ipad'), ('teams', 'ml'), ('zoo', 'peanuts')]\n"
     ]
    }
   ],
   "source": [
    "def SortTuple(tups):\n",
    "#     print(n) \n",
    "    n=len(tups)\n",
    "    for i in range(n):\n",
    "        for j in range(n-i-1):              \n",
    "            if tup[j][1] > tup[j + 1][1]:\n",
    "                tup[j], tup[j + 1] = tup[j + 1], tup[j]                 \n",
    "    return tup    \n",
    "# Driver's code\n",
    "tup= [(\"zoo\", \"peanuts\"),(1, 'groot'), (\"teams\",\"ml\"),('dell', 'ipad'), ('water', 'case'), (56,\"apple\")]          \n",
    "print(SortTuple(tup))"
   ]
  },
  {
   "cell_type": "code",
   "execution_count": 2,
   "id": "df07e349",
   "metadata": {},
   "outputs": [
    {
     "name": "stdout",
     "output_type": "stream",
     "text": [
      "[('1', 'groot'), ('56', 'apple'), ('dell', 'ipad'), ('teams', 'ml'), ('water', 'case'), ('zoo', 'peanuts')]\n"
     ]
    }
   ],
   "source": [
    "tup= [(\"zoo\", \"peanuts\"),(\"1\", 'groot'), (\"teams\",\"ml\"),('dell', 'ipad'), ('water', 'case'), (\"56\",\"apple\")]\n",
    "tup.sort(key=lambda t:t[0])\n",
    "print(tup)\n"
   ]
  },
  {
   "cell_type": "code",
   "execution_count": 3,
   "id": "4c0f226c",
   "metadata": {},
   "outputs": [
    {
     "name": "stdout",
     "output_type": "stream",
     "text": [
      "{1, 2, 3, 4, 5, 6, 7, 8, 9}\n"
     ]
    }
   ],
   "source": [
    "a={i for i in range(1,10)}\n",
    "print(a)"
   ]
  },
  {
   "cell_type": "code",
   "execution_count": 4,
   "id": "b348137d",
   "metadata": {},
   "outputs": [
    {
     "name": "stdout",
     "output_type": "stream",
     "text": [
      "['odd', 'even', 'even', 'even']\n"
     ]
    }
   ],
   "source": [
    "a=[1,2,4,6]\n",
    "b=[(lambda x: 'even' if x%2==0 else 'odd') (x) for x in a]\n",
    "print(b)"
   ]
  },
  {
   "cell_type": "code",
   "execution_count": 6,
   "id": "2f3829dd",
   "metadata": {},
   "outputs": [
    {
     "name": "stdout",
     "output_type": "stream",
     "text": [
      "{1: 1, 3: 3, 5: 5, 7: 7, 9: 9}\n"
     ]
    }
   ],
   "source": [
    "a={i:i for i in range(1,10)}\n",
    "print(a)"
   ]
  },
  {
   "cell_type": "code",
   "execution_count": null,
   "id": "a593eac4",
   "metadata": {},
   "outputs": [],
   "source": [
    "def sqaure(a):\n",
    "    for i in a:\n",
    "        a=i**3\n",
    "        b.append(a)\n",
    "    c=iter(b)\n",
    "    obj=next(c)\n",
    "    for i in obj:\n",
    "         print(i)\n",
    "a=[1,2,3,4]\n",
    "b=[]\n",
    "sqaure(a)"
   ]
  },
  {
   "cell_type": "code",
   "execution_count": null,
   "id": "1a93a61e",
   "metadata": {},
   "outputs": [],
   "source": [
    "a=[1,2,3,4]\n",
    "b=[5,6,7,8]\n",
    "\n",
    "c=a+b\n",
    "print(c)\n",
    "\n",
    "     \n",
    "    \n",
    "        \n",
    "    "
   ]
  },
  {
   "cell_type": "code",
   "execution_count": 1,
   "id": "c5f4bb77",
   "metadata": {},
   "outputs": [
    {
     "name": "stdout",
     "output_type": "stream",
     "text": [
      "{1: 1, 3: 3, 5: 5, 7: 7, 9: 9}\n"
     ]
    }
   ],
   "source": [
    "a={i:i for i in range(1,10,2)}\n",
    "print(a)"
   ]
  },
  {
   "cell_type": "code",
   "execution_count": null,
   "id": "b25e476d",
   "metadata": {},
   "outputs": [],
   "source": [
    "a=[1,2,3,4]\n",
    "x=tuple(a)\n",
    "print(x)\n"
   ]
  },
  {
   "cell_type": "code",
   "execution_count": null,
   "id": "c4fce37e",
   "metadata": {},
   "outputs": [],
   "source": [
    "a=[254,56,120,30,0.5,0]\n",
    "max = 0\n",
    "for i in a:\n",
    "    if i > max:\n",
    "        max = i\n",
    "print(max)\n",
    "    \n"
   ]
  },
  {
   "cell_type": "code",
   "execution_count": null,
   "id": "040fac04",
   "metadata": {},
   "outputs": [],
   "source": [
    "class Person():\n",
    "    def show(self):\n",
    "        a=[254,56,120,30,0.5,0] \n",
    "        max=0\n",
    "        for i in a:\n",
    "            if i > max:\n",
    "                max=i\n",
    "        return max\n",
    "obj=Person()    \n",
    "print(obj.show())\n",
    "\n",
    "            \n",
    "            \n",
    "            \n",
    "        \n",
    "    "
   ]
  },
  {
   "cell_type": "code",
   "execution_count": null,
   "id": "a1a7052f",
   "metadata": {},
   "outputs": [],
   "source": [
    "list1 = [11,22,1,2,5,67,21,32]\n",
    "# to get unique elements\n",
    "new_list = set(list1)\n",
    "# removing the largest element from list1\n",
    "new_list.remove(max(new_list))\n",
    "print(max(new_list))\n",
    "# now computing the max element by built-in method?\n",
    "# print(max(new_list))"
   ]
  },
  {
   "cell_type": "code",
   "execution_count": null,
   "id": "daefc014",
   "metadata": {},
   "outputs": [],
   "source": [
    "sampleSet = {\"Jodi\", \"Eric\", \"Garry\"}\n",
    "sampleSet.add(\"Vicki\")\n",
    "print(sampleSet)"
   ]
  },
  {
   "cell_type": "code",
   "execution_count": 7,
   "id": "f73035b4",
   "metadata": {},
   "outputs": [
    {
     "name": "stdout",
     "output_type": "stream",
     "text": [
      "['hello']\n"
     ]
    }
   ],
   "source": [
    "a=\"hello\"\n",
    "lst=a.split()\n",
    "print(lst)"
   ]
  },
  {
   "cell_type": "code",
   "execution_count": null,
   "id": "48593b33",
   "metadata": {},
   "outputs": [],
   "source": [
    "car = {\n",
    "  \"brand\": \"Ford\",\n",
    "  \"model\": \"Mustang\",\n",
    "  \"year\": 1964\n",
    "}\n",
    "\n",
    "car.update({\"color\": \"White\"})\n",
    "\n",
    "print(car)\n"
   ]
  },
  {
   "cell_type": "code",
   "execution_count": 8,
   "id": "8f0db4c9",
   "metadata": {},
   "outputs": [
    {
     "name": "stdout",
     "output_type": "stream",
     "text": [
      "['odd', 'even', 'odd', 'even', 'odd']\n"
     ]
    }
   ],
   "source": [
    "a=[1,2,3,4,5]\n",
    "x=[(lambda x: 'even' if x%2==0 else 'odd' ) (x) for x in a]\n",
    "print(x)"
   ]
  },
  {
   "cell_type": "code",
   "execution_count": null,
   "id": "f4de2add",
   "metadata": {},
   "outputs": [],
   "source": [
    "a=[(3,\"mango\"),(2,\"banana\"),(4,\"apple\")]\n",
    "sort_list=sorted(a,key=lambda a:a[0])\n",
    "print(sort_list)"
   ]
  },
  {
   "cell_type": "code",
   "execution_count": null,
   "id": "961cebf1",
   "metadata": {},
   "outputs": [],
   "source": [
    "def square(y):\n",
    "    for i in y:\n",
    "        a=i**3\n",
    "        b.append(a)\n",
    "    return b\n",
    "x=[1,2,3,4,5]\n",
    "b=[]\n",
    "square(x)"
   ]
  },
  {
   "cell_type": "code",
   "execution_count": null,
   "id": "3843c4fd",
   "metadata": {},
   "outputs": [],
   "source": [
    "class Person():    \n",
    "    def myfunc(self):\n",
    "        a=[254,56,120,30,0.5,0]\n",
    "        max=0\n",
    "        for i in a:\n",
    "            if i > max:\n",
    "                max=i\n",
    "        return max\n",
    "obj=Person()\n",
    "obj.myfunc()"
   ]
  },
  {
   "cell_type": "code",
   "execution_count": null,
   "id": "e3b64ab7",
   "metadata": {},
   "outputs": [],
   "source": [
    "a=[1,1,2,3,3,4,5,4,5]\n",
    "def myfunc(y):\n",
    "    x=0\n",
    "    for i in y:\n",
    "        x^=i\n",
    "    return x\n",
    "myfunc(a)"
   ]
  },
  {
   "cell_type": "code",
   "execution_count": null,
   "id": "2593d77b",
   "metadata": {},
   "outputs": [],
   "source": [
    "student = {\"Umar\":{\"score\": 67}, \"Talha\":{\"score\": 78}, \"Shadab\":{\"score\": 17}}\n",
    "max=0\n",
    "st=''\n",
    "for i in student:\n",
    "    score=student.get(i)[\"score\"] \n",
    "    if score > max:\n",
    "        max=score\n",
    "        st=i\n",
    "print({st:max})\n",
    "    "
   ]
  },
  {
   "cell_type": "code",
   "execution_count": null,
   "id": "595aa91f",
   "metadata": {},
   "outputs": [],
   "source": [
    "a=10\n",
    "b=20\n",
    "a,b=b,a\n",
    "print(a,b)"
   ]
  },
  {
   "cell_type": "code",
   "execution_count": null,
   "id": "642d361c",
   "metadata": {},
   "outputs": [],
   "source": [
    "a=[1,2,3,4,5]\n",
    "b=[6,7,8,9]\n",
    "c=a+b\n",
    "c.sort()\n",
    "print(c)"
   ]
  },
  {
   "cell_type": "code",
   "execution_count": 3,
   "id": "f9743715",
   "metadata": {},
   "outputs": [
    {
     "name": "stdout",
     "output_type": "stream",
     "text": [
      "['odd', 'even', 'odd', 'even', 'odd', 'even', 'odd', 'even', 'odd']\n"
     ]
    }
   ],
   "source": [
    "a=['even' if i%2==0  else 'odd' for i in range(1,10)]\n",
    "print(a)"
   ]
  },
  {
   "cell_type": "code",
   "execution_count": null,
   "id": "fd4c182b",
   "metadata": {},
   "outputs": [],
   "source": [
    "first=int(input(\"Enter First Number:\"))\n",
    "operator=input(\"Select Operator (+,-,*,**,/,//):\")\n",
    "second=int(input(\"Enter Second Number\"))\n",
    "\n",
    "if  operator == \"+\":\n",
    "    print(first+second)\n",
    "elif operator == \"-\":\n",
    "    print(first+second)\n",
    "elif operator == \"*\":\n",
    "    print(first*second)\n",
    "elif operator == \"**\":\n",
    "    print(first**second)\n",
    "elif operator == \"/\":\n",
    "    print(first**second)\n",
    "elif operator == \"//\":\n",
    "    print(first//second)\n",
    "else:\n",
    "    print(\"Please Select Operator\")"
   ]
  },
  {
   "cell_type": "code",
   "execution_count": null,
   "id": "e16d86cf",
   "metadata": {},
   "outputs": [],
   "source": [
    "def myfunc(x):\n",
    "    lst2=[]\n",
    "    for i in x:\n",
    "#         a = x[x[i]]\n",
    "#         print(a)\n",
    "        lst2.append(x[i])\n",
    "    return lst2\n",
    "        \n",
    "lst=[0,2,5,1,3,4]\n",
    "myfunc(lst)\n"
   ]
  },
  {
   "cell_type": "code",
   "execution_count": 2,
   "id": "07c915d9",
   "metadata": {},
   "outputs": [
    {
     "name": "stdout",
     "output_type": "stream",
     "text": [
      "10\n"
     ]
    }
   ],
   "source": [
    "lst=[[2,3,5],[1,2,3]]\n",
    "def accounts(x):\n",
    "    x = map(sum,lst)\n",
    "    return print(max(x))\n",
    "accounts(lst)"
   ]
  },
  {
   "cell_type": "code",
   "execution_count": 9,
   "id": "06e209a4",
   "metadata": {},
   "outputs": [
    {
     "data": {
      "text/plain": [
       "[1, 3, 2, 1, 1, 3, 2, 1]"
      ]
     },
     "execution_count": 9,
     "metadata": {},
     "output_type": "execute_result"
    }
   ],
   "source": [
    "nums = [1,3,2,1]\n",
    "def myfunc(x):\n",
    "    return nums +nums\n",
    "myfunc(nums)"
   ]
  },
  {
   "cell_type": "code",
   "execution_count": null,
   "id": "e837316b",
   "metadata": {},
   "outputs": [],
   "source": [
    "a=[12,345,2,6,7896]    "
   ]
  },
  {
   "cell_type": "code",
   "execution_count": 10,
   "id": "bb972ffc",
   "metadata": {},
   "outputs": [
    {
     "data": {
      "text/plain": [
       "[5, 3, 15, 4]"
      ]
     },
     "execution_count": 10,
     "metadata": {},
     "output_type": "execute_result"
    }
   ],
   "source": [
    "lst=[5,8,15,19]\n",
    "def myfunc(x):\n",
    "    for i in range(1,4,2):\n",
    "        lst[i]-=lst[i-1]\n",
    "    return lst\n",
    "myfunc(lst)"
   ]
  },
  {
   "cell_type": "code",
   "execution_count": null,
   "id": "99033734",
   "metadata": {},
   "outputs": [],
   "source": [
    "x=int(input((\"Enter number:\")))  \n",
    "if x==x[::-1]:  \n",
    "      print(\"The letter is a palindrome\")  \n",
    "else:  \n",
    "      print(\"The letter is not a palindrome\")  "
   ]
  },
  {
   "cell_type": "code",
   "execution_count": null,
   "id": "229a9278",
   "metadata": {},
   "outputs": [],
   "source": [
    "a=int(input(\"\"))\n",
    "for i in range(1,11):\n",
    "    print(a,\"x\",i,\"=\",i*2)"
   ]
  },
  {
   "cell_type": "code",
   "execution_count": null,
   "id": "9c3d9264",
   "metadata": {},
   "outputs": [],
   "source": [
    "z=[5,8,15,19]\n",
    "op=[z[0]]+[x-y for x,y in (zip(z[1:],z[:-1]))]\n",
    "print(op)"
   ]
  },
  {
   "cell_type": "code",
   "execution_count": 11,
   "id": "eec55032",
   "metadata": {},
   "outputs": [
    {
     "name": "stdout",
     "output_type": "stream",
     "text": [
      "{'shadab': 'khan'}\n"
     ]
    }
   ],
   "source": [
    "a = \"shadab:khan\"\n",
    "x = dict(i.split(\":\") for i in a.split(\";\"))\n",
    "print(x)"
   ]
  },
  {
   "cell_type": "code",
   "execution_count": 5,
   "id": "1b0515ea",
   "metadata": {},
   "outputs": [
    {
     "name": "stdout",
     "output_type": "stream",
     "text": [
      "56\n",
      "{'5': 1, '6': 1}\n"
     ]
    }
   ],
   "source": [
    "a=input(\"\")\n",
    "b=dict()\n",
    "for i in a:\n",
    "    if i in b:\n",
    "        b[i]=+1\n",
    "    else:\n",
    "        b[i]=1\n",
    "print(b)"
   ]
  },
  {
   "cell_type": "code",
   "execution_count": null,
   "id": "b2eeecf7",
   "metadata": {},
   "outputs": [],
   "source": [
    "a=1,2,3,4,-5\n",
    "print(a)"
   ]
  },
  {
   "cell_type": "markdown",
   "id": "142f27e2",
   "metadata": {},
   "source": [
    "# sort the list without using inbuilt function"
   ]
  },
  {
   "cell_type": "code",
   "execution_count": null,
   "id": "665941f0",
   "metadata": {},
   "outputs": [],
   "source": [
    "lst = [1,10,7,15,3]\n",
    "for i in range(len(lst)):\n",
    "    for j in range(i+1,len(lst)):\n",
    "        if lst[i]>lst[j]:\n",
    "              lst[i],lst[j]=lst[j],lst[i]\n",
    "# print(lst[-3])\n",
    "print(lst)"
   ]
  },
  {
   "cell_type": "code",
   "execution_count": null,
   "id": "ab1ef4ae",
   "metadata": {},
   "outputs": [],
   "source": [
    "lst = [1,10,7,15,3,4]\n",
    "for i in range(0,len(lst),2): \n",
    "    lst[i],lst[i+1]=lst[i+1],lst[i]\n",
    "print(lst)\n",
    "    "
   ]
  },
  {
   "cell_type": "code",
   "execution_count": null,
   "id": "71301947",
   "metadata": {},
   "outputs": [],
   "source": [
    "a=[12,34,5,4,65,35]\n",
    "a.sort()\n",
    "b=a[-2]\n",
    "print(b)"
   ]
  },
  {
   "cell_type": "code",
   "execution_count": null,
   "id": "61ad1b5a",
   "metadata": {},
   "outputs": [],
   "source": [
    "def myfunc(x):\n",
    "    return x**3\n",
    "a=[1,2,3,4]\n",
    "obj=map(myfunc,a)\n",
    "print(list(obj))"
   ]
  },
  {
   "cell_type": "code",
   "execution_count": null,
   "id": "c6616ef4",
   "metadata": {},
   "outputs": [],
   "source": [
    "lst=[1,2,3,4]\n",
    "obj=[i**3 for i in lst]\n",
    "print(obj)"
   ]
  },
  {
   "cell_type": "code",
   "execution_count": null,
   "id": "03d3158e",
   "metadata": {},
   "outputs": [],
   "source": [
    "lst=[1,2,3,4]\n",
    "obj=list(map(lambda x:x**3,lst))\n",
    "print(obj)"
   ]
  },
  {
   "cell_type": "code",
   "execution_count": null,
   "id": "16f7f842",
   "metadata": {},
   "outputs": [],
   "source": [
    "def myfunc(func):\n",
    "    def inner(a,b):\n",
    "        return func(a,b)\n",
    "    return inner\n",
    "@myfunc\n",
    "def xyz(a,b):\n",
    "    print(a+b)\n",
    "xyz(10,5)"
   ]
  },
  {
   "cell_type": "markdown",
   "id": "bab4f8d2",
   "metadata": {},
   "source": [
    "# sort the list without using inbuilt function"
   ]
  },
  {
   "cell_type": "code",
   "execution_count": 5,
   "id": "0f945e21",
   "metadata": {},
   "outputs": [
    {
     "name": "stdout",
     "output_type": "stream",
     "text": [
      "[1, 2, 3, 4, 5]\n"
     ]
    }
   ],
   "source": [
    "lst=[5,4,3,2,1]\n",
    "for i in range(len(lst)):\n",
    "    for j in range(i+1,len(lst)):\n",
    "        if lst[i]>lst[j]:\n",
    "            lst[i],lst[j]=lst[j],lst[i]\n",
    "print(lst)"
   ]
  },
  {
   "cell_type": "code",
   "execution_count": 13,
   "id": "c6804169",
   "metadata": {},
   "outputs": [
    {
     "name": "stdout",
     "output_type": "stream",
     "text": [
      "Enter the start of range:5\n",
      "Enter the end of range:5\n",
      "5\n"
     ]
    }
   ],
   "source": [
    "# Python program to print Even Numbers in given range\n",
    "start = int(input(\"Enter the start of range:\"))\n",
    "end = int(input(\"Enter the end of range:\"))\n",
    "# iterating each number in list\n",
    "for num in range(start, end + 1):\n",
    "    if num % 2 != 0:\n",
    "        print(num)"
   ]
  },
  {
   "cell_type": "code",
   "execution_count": null,
   "id": "8bbd5872",
   "metadata": {},
   "outputs": [],
   "source": [
    "a=[i for i in range(1,5) if i%2==1]\n",
    "print(a)"
   ]
  },
  {
   "cell_type": "markdown",
   "id": "5c559fb8",
   "metadata": {},
   "source": [
    "# print the only odd number"
   ]
  },
  {
   "cell_type": "code",
   "execution_count": 14,
   "id": "790d0b69",
   "metadata": {},
   "outputs": [
    {
     "name": "stdout",
     "output_type": "stream",
     "text": [
      "[1, 3, 5]\n"
     ]
    }
   ],
   "source": [
    "list1 = [1,2,3,4,5]\n",
    "# we can also print odd no's using lambda exp.\n",
    "odd= list(filter(lambda x: (x % 2 != 0), list1))\n",
    "print(odd)"
   ]
  },
  {
   "cell_type": "markdown",
   "id": "1f7699f7",
   "metadata": {},
   "source": [
    "# cube using lambda function"
   ]
  },
  {
   "cell_type": "code",
   "execution_count": null,
   "id": "a1584ffa",
   "metadata": {},
   "outputs": [],
   "source": [
    "lst=[1,2,3,4]\n",
    "square=list(map(lambda x:(x**3),lst))\n",
    "print(square)"
   ]
  },
  {
   "cell_type": "code",
   "execution_count": null,
   "id": "8116aa76",
   "metadata": {},
   "outputs": [],
   "source": [
    "lst=[1,2,3,4]\n",
    "odd=[i for i in lst if i%2==1]\n",
    "print(odd)"
   ]
  },
  {
   "cell_type": "markdown",
   "id": "0c82aecc",
   "metadata": {},
   "source": [
    "# generator"
   ]
  },
  {
   "cell_type": "code",
   "execution_count": null,
   "id": "93572f3c",
   "metadata": {},
   "outputs": [],
   "source": [
    "def square(y):\n",
    "    for i in range(y):\n",
    "        yield i+i\n",
    "        \n",
    "def test(x):\n",
    "    for i in square(5):\n",
    "        print(i+x) \n",
    "test(6)"
   ]
  },
  {
   "cell_type": "code",
   "execution_count": null,
   "id": "279c200b",
   "metadata": {},
   "outputs": [],
   "source": [
    "a=[1,2,3,4]\n",
    "b=0\n",
    "for i in a:\n",
    "    if i > b:\n",
    "        b=i\n",
    "print(b)"
   ]
  },
  {
   "cell_type": "code",
   "execution_count": 15,
   "id": "e0141cd7",
   "metadata": {},
   "outputs": [
    {
     "name": "stdout",
     "output_type": "stream",
     "text": [
      "144.0\n"
     ]
    }
   ],
   "source": [
    "dic={1:22.0,2:55.0,3:67.0}\n",
    "b=[]\n",
    "for i in dic.values():\n",
    "    b.append(float(i))\n",
    "print(sum(b))\n",
    "    "
   ]
  },
  {
   "cell_type": "markdown",
   "id": "9be07d73",
   "metadata": {},
   "source": [
    "# cube using function "
   ]
  },
  {
   "cell_type": "code",
   "execution_count": null,
   "id": "cfb0b639",
   "metadata": {},
   "outputs": [],
   "source": [
    "def square(x):\n",
    "    for i in x:\n",
    "        lst=i**3\n",
    "        b.append(lst)\n",
    "    print(b)\n",
    "lst=[1,2,3,4]\n",
    "b=[]\n",
    "square(lst)\n"
   ]
  },
  {
   "cell_type": "markdown",
   "id": "22b35b98",
   "metadata": {},
   "source": [
    "# shuffle"
   ]
  },
  {
   "cell_type": "code",
   "execution_count": 8,
   "id": "0c8ee827",
   "metadata": {},
   "outputs": [
    {
     "name": "stdout",
     "output_type": "stream",
     "text": [
      "[1, 4, 2, 3, 3, 2, 4, 1]\n"
     ]
    }
   ],
   "source": [
    "a=[1,2,3,4,4,3,2,1]\n",
    "n=4\n",
    "b=[]\n",
    "for i in range(n):\n",
    "    b.append(a[i])\n",
    "    b.append(a[i+n])\n",
    "print(b)\n",
    "    "
   ]
  },
  {
   "cell_type": "code",
   "execution_count": null,
   "id": "3ee9a85c",
   "metadata": {},
   "outputs": [],
   "source": [
    "def square():\n",
    "    for i in range(1,5):\n",
    "        print(i**3)\n",
    "square()"
   ]
  },
  {
   "cell_type": "code",
   "execution_count": null,
   "id": "d88c4b88",
   "metadata": {},
   "outputs": [],
   "source": [
    "def myfunc(x,y):\n",
    "    a=x*y\n",
    "    print(a)\n",
    "    return a\n",
    "a=int(input())\n",
    "b=int(input())\n",
    "obj=myfunc(a,b)"
   ]
  },
  {
   "cell_type": "markdown",
   "id": "e34290a8",
   "metadata": {},
   "source": [
    "# multipel inheritance"
   ]
  },
  {
   "cell_type": "code",
   "execution_count": null,
   "id": "fb511d37",
   "metadata": {},
   "outputs": [],
   "source": [
    "class Person():\n",
    "    def show(self):\n",
    "        print(\"hello\")\n",
    "        \n",
    "class Student():\n",
    "    def mark(self):\n",
    "        print(\"hello2\")\n",
    "        \n",
    "class Teacher(Person,Student):\n",
    "    def work(self):\n",
    "        print(\"hello3\")\n",
    "        \n",
    "obj=Teacher()\n",
    "obj.show()\n",
    "obj.mark()"
   ]
  },
  {
   "cell_type": "markdown",
   "id": "355b0883",
   "metadata": {},
   "source": [
    "# multilevel inheritance"
   ]
  },
  {
   "cell_type": "code",
   "execution_count": null,
   "id": "d79049b9",
   "metadata": {},
   "outputs": [],
   "source": [
    "class Person():\n",
    "    def show(self):\n",
    "        print(\"hello\")\n",
    "        \n",
    "class Student(Person):\n",
    "    def work(self):\n",
    "        print(\"hello1\")\n",
    "        \n",
    "class Teacher(Student):\n",
    "    def mark(self):\n",
    "        print(\"hello3\")\n",
    "        \n",
    "obj=Teacher()\n",
    "obj.mark()\n",
    "obj.work()\n",
    "obj.show()"
   ]
  },
  {
   "cell_type": "markdown",
   "id": "926b6c70",
   "metadata": {},
   "source": [
    "# Hierarchical Inheritance"
   ]
  },
  {
   "cell_type": "code",
   "execution_count": null,
   "id": "f4408c4e",
   "metadata": {},
   "outputs": [],
   "source": [
    "class Person():\n",
    "    def show(self):\n",
    "        print(\"hello1\")\n",
    "        \n",
    "class Student(Person):\n",
    "    def work(self):\n",
    "        print(\"hello3\")\n",
    "        \n",
    "class Teacher(Person):\n",
    "    def mark(self):\n",
    "        print(\"hello2\")\n",
    "        \n",
    "obj=Teacher()\n",
    "obj."
   ]
  },
  {
   "cell_type": "code",
   "execution_count": null,
   "id": "d170ac65",
   "metadata": {},
   "outputs": [],
   "source": [
    "def table(n):\n",
    "    for i in range(1,11):\n",
    "        print(n,\"x\",i,\"=\",n*i)\n",
    "x=int(input())\n",
    "table(x)"
   ]
  },
  {
   "cell_type": "code",
   "execution_count": null,
   "id": "9fb1fe61",
   "metadata": {},
   "outputs": [],
   "source": [
    "import functools\n",
    "lst=[1,2,3,4,5]\n",
    "print(\"The maximum element of the list is : \", end=\"\")\n",
    "print(functools.reduce(lambda a, b: a if a > b else b, lst))"
   ]
  },
  {
   "cell_type": "code",
   "execution_count": null,
   "id": "4fa39232",
   "metadata": {},
   "outputs": [],
   "source": [
    "nums = [1,2,3,4,4,3,2,1]\n",
    "n=4\n",
    "b=[]\n",
    "for i in range(n):\n",
    "    b.append(nums[i])\n",
    "    b.append(nums[i+n])\n",
    "print(b)\n",
    "# [1,4,2,3,3,2,4,1]"
   ]
  },
  {
   "cell_type": "code",
   "execution_count": null,
   "id": "7faedb13",
   "metadata": {},
   "outputs": [],
   "source": [
    "v=[\"bananaa\",\"cherry\",\"apple\",\"dangerous\"]\n",
    "for i in range(len(v)):\n",
    "    for j in range(i+1,len(v)):\n",
    "        if v[i]>v[j]:\n",
    "            v[i],v[j]=v[j],v[i]\n",
    "print(v)"
   ]
  },
  {
   "cell_type": "code",
   "execution_count": null,
   "id": "cc82f9ff",
   "metadata": {},
   "outputs": [],
   "source": [
    "v=[2,9,22,1,14,10]\n",
    "b=v[0]\n",
    "for i in v:\n",
    "    if i < b:\n",
    "        b=i\n",
    "print(b)"
   ]
  },
  {
   "cell_type": "code",
   "execution_count": null,
   "id": "989570aa",
   "metadata": {},
   "outputs": [],
   "source": [
    "lst=[{\"adnan\":{\"score\":101},\"shanawaz\":{\"score\":99},\"saud\":{\"score\":121}}]\n",
    "max=0\n",
    "st=''\n",
    "for i in lst:\n",
    "      "
   ]
  },
  {
   "cell_type": "code",
   "execution_count": 10,
   "id": "e7de3daf",
   "metadata": {},
   "outputs": [
    {
     "name": "stdout",
     "output_type": "stream",
     "text": [
      "Yes\n"
     ]
    }
   ],
   "source": [
    "import string\n",
    "  \n",
    "def ispangram(str):\n",
    "    alphabet = \"abcdefghijklmnopqrstuvwxyz\"\n",
    "    for char in alphabet:\n",
    "        if char not in str.lower():\n",
    "            return False \n",
    "    return True\n",
    "      \n",
    "# Driver code\n",
    "string = 'the quick brown fox jumps over the lazy dog'\n",
    "if(ispangram(string) == True):\n",
    "    print(\"Yes\")\n",
    "else:\n",
    "    print(\"No\")"
   ]
  },
  {
   "cell_type": "code",
   "execution_count": 16,
   "id": "97cdd570",
   "metadata": {},
   "outputs": [
    {
     "name": "stdout",
     "output_type": "stream",
     "text": [
      "hgghfg\n",
      "0\n",
      "[]\n"
     ]
    }
   ],
   "source": [
    "def Check_Vow(x, vowels):\n",
    "    a = [i for i in x if i in vowels]\n",
    "    print(len(a))\n",
    "    print(a)\n",
    "     \n",
    "# Driver Code\n",
    "x =input()\n",
    "vowels = \"AaEeIiOoUu\"\n",
    "Check_Vow(x, vowels);"
   ]
  },
  {
   "cell_type": "code",
   "execution_count": null,
   "id": "0087ab52",
   "metadata": {},
   "outputs": [],
   "source": [
    "data=[{\"V\":\"S001\"}, {\"V\": \"S002\"}, {\"VI\": \"S001\"}, {\"VI\": \"S005\"}, {\"VII\":\"S005\"}, {\"V\":\"S009\"},{\"VIII\":\"S007\"}]\n",
    "x=set({j for i in data for j in i.values()})\n",
    "print(x)\n"
   ]
  },
  {
   "cell_type": "code",
   "execution_count": 9,
   "id": "24592296",
   "metadata": {},
   "outputs": [
    {
     "name": "stdout",
     "output_type": "stream",
     "text": [
      "{'S009', 'S002', 'S007', 'S001', 'S005'}\n"
     ]
    }
   ],
   "source": [
    "data=[{\"V\":\"S001\"}, {\"V\": \"S002\"}, {\"VI\": \"S001\"}, {\"VI\": \"S005\"}, {\"VII\":\"S005\"}, {\"V\":\"S009\"},{\"VIII\":\"S007\"}]\n",
    "x=set()\n",
    "for i in data:\n",
    "    for j in i.values():\n",
    "        x.add(j)\n",
    "print(x)"
   ]
  },
  {
   "cell_type": "code",
   "execution_count": 1,
   "id": "56409dd3",
   "metadata": {},
   "outputs": [
    {
     "name": "stdout",
     "output_type": "stream",
     "text": [
      "3\n",
      "3\n"
     ]
    }
   ],
   "source": [
    "lst=[1,2,3,4,5]\n",
    "x=int(input())\n",
    "for i in range(len(lst)):\n",
    "    if x == lst[i]:\n",
    "        print(lst[i])\n",
    "        break\n",
    "else:\n",
    "    print(-1) "
   ]
  },
  {
   "cell_type": "code",
   "execution_count": 34,
   "id": "841a0ca6",
   "metadata": {},
   "outputs": [
    {
     "name": "stdout",
     "output_type": "stream",
     "text": [
      "3\n"
     ]
    }
   ],
   "source": []
  },
  {
   "cell_type": "code",
   "execution_count": 15,
   "id": "f1741b35",
   "metadata": {},
   "outputs": [
    {
     "name": "stdout",
     "output_type": "stream",
     "text": [
      "{'a': 200, 'b': 400, 'c': 300, 'd': 400}\n"
     ]
    }
   ],
   "source": [
    "d1={'a':100,'b':200,'c':300}\n",
    "d2={'a':100,'b':200,'d':400}\n",
    "for i in d2:\n",
    "    if i in d1:\n",
    "        d1[i]=d1[i]+d2[i]\n",
    "    else:\n",
    "        d1[i]=d2[i]\n",
    "print(d1)"
   ]
  },
  {
   "cell_type": "code",
   "execution_count": null,
   "id": "47aae573",
   "metadata": {},
   "outputs": [],
   "source": [
    "dic={'a':200,'b':100,'B':100}\n",
    "x={i.lower():dic.get(i.lower())+dic.get(i.upper(),5) for i in dic}\n",
    "print(x)"
   ]
  },
  {
   "cell_type": "code",
   "execution_count": null,
   "id": "85260684",
   "metadata": {},
   "outputs": [],
   "source": [
    "n=int(input(\"Enter number: \"))\n",
    "a=[]\n",
    "b=[]\n",
    "c=[]\n",
    "for i in range(n):\n",
    "    x=int(input( 'enter number: '))\n",
    "    a.append(x)\n",
    "    if x%2==0:\n",
    "        b.append(x)\n",
    "    else:\n",
    "        c.append(x)\n",
    "print(b,\"even\")\n",
    "print(c,\"odd\")"
   ]
  },
  {
   "cell_type": "code",
   "execution_count": 16,
   "id": "8f6f625a",
   "metadata": {},
   "outputs": [
    {
     "name": "stdout",
     "output_type": "stream",
     "text": [
      "70\n"
     ]
    }
   ],
   "source": [
    "a = {\n",
    "    \"class\": {\n",
    "        \"student\": {\n",
    "            \"name\": \"Mike\",\n",
    "            \"marks\": {\n",
    "                \"physics\": 70,\n",
    "                \"history\": 80\n",
    "}}}}\n",
    "for i in a.values():\n",
    "    x=i.get('student')['marks']['physics']\n",
    "print(x)"
   ]
  },
  {
   "cell_type": "code",
   "execution_count": 11,
   "id": "cf5d8eb9",
   "metadata": {},
   "outputs": [
    {
     "name": "stdout",
     "output_type": "stream",
     "text": [
      "select your password: \n",
      "Enter your password: 123\n",
      "Please Enter Your correct password: 123\n",
      "Please Enter Your correct password: 123\n",
      "Please Enter Your correct password: 12\n",
      "Please Enter Your correct password: 123\n",
      "Please Enter Your correct password: \n",
      "correct password\n"
     ]
    }
   ],
   "source": [
    "a=input(\"select your password: \")\n",
    "n=input(\"Enter your password: \")\n",
    "while True:\n",
    "    if n == a:\n",
    "        print(\"correct password\")\n",
    "        break\n",
    "    else:\n",
    "        n=input(\"Please Enter Your correct password: \")"
   ]
  },
  {
   "cell_type": "code",
   "execution_count": 18,
   "id": "2d303975",
   "metadata": {},
   "outputs": [
    {
     "name": "stdout",
     "output_type": "stream",
     "text": [
      "5\n",
      "5 * 1 = 5\n",
      "5 * 2 = 10\n",
      "5 * 3 = 15\n",
      "5 * 4 = 20\n",
      "5 * 5 = 25\n",
      "5 * 6 = 30\n",
      "5 * 7 = 35\n",
      "5 * 8 = 40\n",
      "5 * 9 = 45\n",
      "5 * 10 = 50\n"
     ]
    }
   ],
   "source": [
    "def myfunc(x):\n",
    "    for i in range(1,11):\n",
    "        print(x,\"*\",i,\"=\",i*x)\n",
    "n=int(input())\n",
    "myfunc(n)"
   ]
  },
  {
   "cell_type": "code",
   "execution_count": 19,
   "id": "fa29af6b",
   "metadata": {},
   "outputs": [
    {
     "name": "stdout",
     "output_type": "stream",
     "text": [
      "5\n"
     ]
    }
   ],
   "source": [
    "lst=[22,5,30,223]\n",
    "b=lst[0]\n",
    "for i in lst:\n",
    "    if i < b:\n",
    "        b=i\n",
    "print(b)"
   ]
  },
  {
   "cell_type": "code",
   "execution_count": null,
   "id": "0d0d88c0",
   "metadata": {},
   "outputs": [],
   "source": [
    "lst=[\"nittin\",1221,1234,\"Adda\"]\n"
   ]
  },
  {
   "cell_type": "code",
   "execution_count": 22,
   "id": "01be722a",
   "metadata": {},
   "outputs": [
    {
     "ename": "TypeError",
     "evalue": "'NoneType' object is not subscriptable",
     "output_type": "error",
     "traceback": [
      "\u001b[1;31m---------------------------------------------------------------------------\u001b[0m",
      "\u001b[1;31mTypeError\u001b[0m                                 Traceback (most recent call last)",
      "Input \u001b[1;32mIn [22]\u001b[0m, in \u001b[0;36m<cell line: 4>\u001b[1;34m()\u001b[0m\n\u001b[0;32m      1\u001b[0m a\u001b[38;5;241m=\u001b[39m {\u001b[38;5;124m'\u001b[39m\u001b[38;5;124mTimur\u001b[39m\u001b[38;5;124m'\u001b[39m: {\u001b[38;5;124m'\u001b[39m\u001b[38;5;124mhistory\u001b[39m\u001b[38;5;124m'\u001b[39m: \u001b[38;5;241m90\u001b[39m, \u001b[38;5;124m'\u001b[39m\u001b[38;5;124mmath\u001b[39m\u001b[38;5;124m'\u001b[39m: \u001b[38;5;241m95\u001b[39m, \u001b[38;5;124m'\u001b[39m\u001b[38;5;124mliterature\u001b[39m\u001b[38;5;124m'\u001b[39m: \u001b[38;5;241m91\u001b[39m},\n\u001b[0;32m      2\u001b[0m          \u001b[38;5;124m'\u001b[39m\u001b[38;5;124mOlga\u001b[39m\u001b[38;5;124m'\u001b[39m: {\u001b[38;5;124m'\u001b[39m\u001b[38;5;124mhistory\u001b[39m\u001b[38;5;124m'\u001b[39m: \u001b[38;5;241m92\u001b[39m, \u001b[38;5;124m'\u001b[39m\u001b[38;5;124mmath\u001b[39m\u001b[38;5;124m'\u001b[39m: \u001b[38;5;241m96\u001b[39m, \u001b[38;5;124m'\u001b[39m\u001b[38;5;124mliterature\u001b[39m\u001b[38;5;124m'\u001b[39m: \u001b[38;5;241m81\u001b[39m},\n\u001b[0;32m      3\u001b[0m          \u001b[38;5;124m'\u001b[39m\u001b[38;5;124mNik\u001b[39m\u001b[38;5;124m'\u001b[39m: {\u001b[38;5;124m'\u001b[39m\u001b[38;5;124mhistory\u001b[39m\u001b[38;5;124m'\u001b[39m: \u001b[38;5;241m84\u001b[39m, \u001b[38;5;124m'\u001b[39m\u001b[38;5;124mmath\u001b[39m\u001b[38;5;124m'\u001b[39m: \u001b[38;5;241m85\u001b[39m, \u001b[38;5;124m'\u001b[39m\u001b[38;5;124mliterature\u001b[39m\u001b[38;5;124m'\u001b[39m: \u001b[38;5;241m87\u001b[39m}}\n\u001b[0;32m      4\u001b[0m \u001b[38;5;28;01mfor\u001b[39;00m i \u001b[38;5;129;01min\u001b[39;00m a\u001b[38;5;241m.\u001b[39mvalues():\n\u001b[1;32m----> 5\u001b[0m     x\u001b[38;5;241m=\u001b[39m\u001b[43mi\u001b[49m\u001b[38;5;241;43m.\u001b[39;49m\u001b[43mget\u001b[49m\u001b[43m(\u001b[49m\u001b[38;5;124;43m'\u001b[39;49m\u001b[38;5;124;43mTimur\u001b[39;49m\u001b[38;5;124;43m'\u001b[39;49m\u001b[43m)\u001b[49m\u001b[43m[\u001b[49m\u001b[38;5;124;43m'\u001b[39;49m\u001b[38;5;124;43mmath\u001b[39;49m\u001b[38;5;124;43m'\u001b[39;49m\u001b[43m]\u001b[49m\n\u001b[0;32m      6\u001b[0m     \u001b[38;5;28mprint\u001b[39m(x)\n",
      "\u001b[1;31mTypeError\u001b[0m: 'NoneType' object is not subscriptable"
     ]
    }
   ],
   "source": [
    "a= {'Timur': {'history': 90, 'math': 95, 'literature': 91},\n",
    "         'Olga': {'history': 92, 'math': 96, 'literature': 81},\n",
    "         'Nik': {'history': 84, 'math': 85, 'literature': 87}}\n",
    "for i in a.values():\n",
    "    x=i.get('Timur')['math']\n",
    "    print(x)\n"
   ]
  },
  {
   "cell_type": "code",
   "execution_count": null,
   "id": "ffa89da1",
   "metadata": {},
   "outputs": [],
   "source": [
    "Output:\n",
    "{'Timur': 'math', 'Olga': 'math', 'Nik': 'literature'}"
   ]
  },
  {
   "cell_type": "code",
   "execution_count": 33,
   "id": "87280b60",
   "metadata": {},
   "outputs": [
    {
     "ename": "TypeError",
     "evalue": "cannot unpack non-iterable int object",
     "output_type": "error",
     "traceback": [
      "\u001b[1;31m---------------------------------------------------------------------------\u001b[0m",
      "\u001b[1;31mTypeError\u001b[0m                                 Traceback (most recent call last)",
      "Input \u001b[1;32mIn [33]\u001b[0m, in \u001b[0;36m<cell line: 2>\u001b[1;34m()\u001b[0m\n\u001b[0;32m      1\u001b[0m a\u001b[38;5;241m=\u001b[39m[\u001b[38;5;241m1\u001b[39m,\u001b[38;5;241m2\u001b[39m,\u001b[38;5;241m3\u001b[39m,\u001b[38;5;241m4\u001b[39m]\n\u001b[1;32m----> 2\u001b[0m a,b,c,d\u001b[38;5;241m=\u001b[39mx\n\u001b[0;32m      3\u001b[0m x\u001b[38;5;241m=\u001b[39ma,b,c,d\n\u001b[0;32m      4\u001b[0m \u001b[38;5;28mprint\u001b[39m(x)\n",
      "\u001b[1;31mTypeError\u001b[0m: cannot unpack non-iterable int object"
     ]
    }
   ],
   "source": [
    "a=[1,2,3,4]\n",
    "a,b,c,d=x\n",
    "x=a,b,c,d\n",
    "print(x)"
   ]
  },
  {
   "cell_type": "code",
   "execution_count": null,
   "id": "59c48ef5",
   "metadata": {},
   "outputs": [],
   "source": [
    "for i in range(2,101):\n",
    "    prime = True\n",
    "    for j in range(2,i):\n",
    "        if (i%j==0):\n",
    "            prime = False\n",
    "    if prime== True:\n",
    "        print (i)"
   ]
  },
  {
   "cell_type": "code",
   "execution_count": 14,
   "id": "b35e06e7",
   "metadata": {},
   "outputs": [
    {
     "name": "stdout",
     "output_type": "stream",
     "text": [
      "[2, 1, 4, 3]\n"
     ]
    }
   ],
   "source": [
    "lst=[1,2,3,4]\n",
    "for i in range(0,len(lst)-1,2):\n",
    "#     if lst[i] >lst[i+1]\n",
    "    lst[i],lst[i+1]=lst[i+1],lst[i]\n",
    "print(lst)"
   ]
  },
  {
   "cell_type": "code",
   "execution_count": null,
   "id": "c85236e2",
   "metadata": {},
   "outputs": [],
   "source": [
    "lst=[\"bilal\",\"ashar\"]\n",
    "obj=iter(lst)\n",
    "c=\n"
   ]
  },
  {
   "cell_type": "code",
   "execution_count": null,
   "id": "532505bc",
   "metadata": {},
   "outputs": [],
   "source": [
    "x=1,2,3\n",
    "print(x)"
   ]
  },
  {
   "cell_type": "code",
   "execution_count": null,
   "id": "284887fc",
   "metadata": {},
   "outputs": [],
   "source": [
    "class powtwo:\n",
    "    def __init__(self,max=0):\n",
    "        self.max=max\n",
    "    def __iter__(self):\n",
    "        self.n=0\n",
    "        return self\n",
    "    def __next__(self):\n",
    "        if self.n <= self.max:\n",
    "            result=2**self.n\n",
    "            self.n+=1\n",
    "            return result\n",
    "        else: \n",
    "            return \"stop Iteration\"\n",
    "obj=powtwo(10)\n",
    "a=iter(obj)\n",
    "c=next(a)\n",
    "print(c)\n",
    "            "
   ]
  },
  {
   "cell_type": "code",
   "execution_count": null,
   "id": "72ef2511",
   "metadata": {},
   "outputs": [],
   "source": [
    "n1=50\n",
    "n2=2\n",
    "n3=3\n",
    "n4=8\n",
    "result= n1/n4-n3*n2+n4\n",
    "print(result)"
   ]
  },
  {
   "cell_type": "code",
   "execution_count": 15,
   "id": "e77cce2a",
   "metadata": {},
   "outputs": [
    {
     "name": "stdout",
     "output_type": "stream",
     "text": [
      "4\n"
     ]
    }
   ],
   "source": [
    "lst=[1,2,3,1,1,3]\n",
    "a=0\n",
    "for i in range(len(lst)):\n",
    "    for j in range(i+1,len(lst)):\n",
    "        if lst[i] == lst[j]:\n",
    "            a+=1\n",
    "print(a)"
   ]
  },
  {
   "cell_type": "code",
   "execution_count": 27,
   "id": "74e12db7",
   "metadata": {},
   "outputs": [
    {
     "name": "stdout",
     "output_type": "stream",
     "text": [
      "enter first number: 123\n",
      "enter second number: 123\n",
      "15129\n",
      "Thakyou\n"
     ]
    }
   ],
   "source": [
    "a=int(input(\"enter first number: \"))\n",
    "b=int(input(\"enter second number: \"))\n",
    "try:\n",
    "    c=a*b\n",
    "    print(c)\n",
    "except:\n",
    "    print(\"division by zero is not allowed\")  \n",
    "else:\n",
    "    print(\"Thakyou\")"
   ]
  },
  {
   "cell_type": "code",
   "execution_count": null,
   "id": "d2873183",
   "metadata": {},
   "outputs": [],
   "source": [
    "a=\"string123\"\n",
    "if a.isalnum():\n",
    "    print(True)\n",
    "else:\n",
    "    print(False)"
   ]
  },
  {
   "cell_type": "code",
   "execution_count": 31,
   "id": "2640a9a2",
   "metadata": {},
   "outputs": [
    {
     "name": "stdout",
     "output_type": "stream",
     "text": [
      "6\n",
      "8\n",
      "7\n"
     ]
    }
   ],
   "source": [
    "a=[2,4,3]\n",
    "b=[5,6,4]\n",
    "for i in a:\n",
    "    for j in b:\n",
    "        x=i+j\n",
    "    print(x)"
   ]
  },
  {
   "cell_type": "code",
   "execution_count": 30,
   "id": "77134d6d",
   "metadata": {},
   "outputs": [
    {
     "name": "stdout",
     "output_type": "stream",
     "text": [
      "[4, 5, 3, 4]\n"
     ]
    }
   ],
   "source": [
    "a=[4,54,3,4,5,6,4,23]\n",
    "# output:- [4,5,3,4]\n",
    "print(a[-2::-2])"
   ]
  },
  {
   "cell_type": "code",
   "execution_count": null,
   "id": "1fcb5902",
   "metadata": {
    "scrolled": false
   },
   "outputs": [],
   "source": [
    "a=[11,13, 123, 678,786]\n",
    "for i in a:\n",
    "    if len(str(i))%2==0:\n",
    "        print(\"even\")\n",
    "    else:\n",
    "        print(\"odd\")\n",
    "    "
   ]
  },
  {
   "cell_type": "code",
   "execution_count": 25,
   "id": "6d453b81",
   "metadata": {},
   "outputs": [
    {
     "name": "stdout",
     "output_type": "stream",
     "text": [
      "[1, 4]\n"
     ]
    }
   ],
   "source": [
    "lst=[1,2,2,3,3,4,5,5,6,6,6]\n",
    "x=set(lst)\n",
    "y=list(x)\n",
    "print(y[0::3])"
   ]
  },
  {
   "cell_type": "code",
   "execution_count": 2,
   "id": "e74b74ba",
   "metadata": {},
   "outputs": [
    {
     "name": "stdout",
     "output_type": "stream",
     "text": [
      "[5, 2, 3, 4, 1]\n"
     ]
    }
   ],
   "source": [
    "a=[1,2,3,4,5]\n",
    "for i in range(len(a)):\n",
    "    a[0],a[-1]=a[-1],a[0]\n",
    "print(a)"
   ]
  },
  {
   "cell_type": "code",
   "execution_count": null,
   "id": "94e62f60",
   "metadata": {},
   "outputs": [],
   "source": [
    "my_list1 = [1, 2, 3]\n",
    "\n",
    "# Using = operator\n",
    "new_list = my_list1\n",
    "# printing the new list\n",
    "print(new_list)\n",
    "# Output [1, 2, 3]\n",
    "\n",
    "# making changes in the original list\n",
    "my_list1.append(4)\n",
    "new_list.append(5)\n",
    "\n",
    "# print both copies\n",
    "print(my_list1)\n",
    "# result [1, 2, 3, 4]\n",
    "print(new_list)"
   ]
  },
  {
   "cell_type": "code",
   "execution_count": null,
   "id": "1a2fa2e2",
   "metadata": {},
   "outputs": [],
   "source": [
    "from copy import copy\n",
    "list_1=[1,2,3,4,[8,9]]\n",
    "list_2=copy(list_1)\n",
    "list_1.append(5)\n",
    "print(list_1)\n",
    "print(list_2)"
   ]
  },
  {
   "cell_type": "code",
   "execution_count": 4,
   "id": "c604a7de",
   "metadata": {},
   "outputs": [
    {
     "name": "stdout",
     "output_type": "stream",
     "text": [
      "0\n",
      "1\n",
      "2\n"
     ]
    }
   ],
   "source": [
    "a=[1,2,2]\n",
    "for i in range(len(a)):\n",
    "    if a==a[-1]:\n",
    "        i+=1\n",
    "        print(i)\n",
    "    else:\n",
    "        print(i)"
   ]
  },
  {
   "cell_type": "code",
   "execution_count": null,
   "id": "e7777ecc",
   "metadata": {},
   "outputs": [],
   "source": [
    "a=[2,3,2]\n",
    "for i in a:\n",
    "    b=i-1\n",
    "if a[b]<9:\n",
    "    a[b]+=1\n",
    "print(a)"
   ]
  },
  {
   "cell_type": "code",
   "execution_count": 10,
   "id": "7298c1c7",
   "metadata": {},
   "outputs": [
    {
     "name": "stdout",
     "output_type": "stream",
     "text": [
      "400\n"
     ]
    }
   ],
   "source": [
    "def decor1(func):\n",
    "    def inner():\n",
    "        x=func()\n",
    "        return x*x\n",
    "    return inner\n",
    "def decor(func):\n",
    "    def inner():\n",
    "        x=func()\n",
    "        return 2*x\n",
    "    return inner\n",
    "@decor1\n",
    "@decor\n",
    "def num():\n",
    "    return 10\n",
    "print(num())"
   ]
  },
  {
   "cell_type": "code",
   "execution_count": null,
   "id": "6b7ee155",
   "metadata": {},
   "outputs": [],
   "source": [
    "x=50\n",
    "y=40\n",
    "print(x and y)"
   ]
  },
  {
   "cell_type": "code",
   "execution_count": 5,
   "id": "c7350d3e",
   "metadata": {},
   "outputs": [
    {
     "name": "stdout",
     "output_type": "stream",
     "text": [
      "[1 2 3 4]\n"
     ]
    }
   ],
   "source": [
    "import numpy as np\n",
    "arry=np.array([1,2,3,4])\n",
    "print(arry)"
   ]
  },
  {
   "cell_type": "code",
   "execution_count": null,
   "id": "01dacdd7",
   "metadata": {},
   "outputs": [],
   "source": [
    "class Person:\n",
    "    def __init__(self,a):\n",
    "        self.__a=a\n",
    "        \n",
    "    def gett(self):\n",
    "        return self.__a\n",
    "     \n",
    "    def sett(self,b):\n",
    "        self.__a=b\n",
    "obj=Person(20)\n",
    "obj.gett()\n",
    "obj.sett(21)\n",
    "obj.gett()\n"
   ]
  },
  {
   "cell_type": "code",
   "execution_count": null,
   "id": "9e056031",
   "metadata": {},
   "outputs": [],
   "source": [
    "def myfunc(a):\n",
    "    a=a+2\n",
    "    return a\n",
    "a=myfunc(5)\n",
    "print(a)"
   ]
  },
  {
   "cell_type": "code",
   "execution_count": null,
   "id": "cf0dc79a",
   "metadata": {},
   "outputs": [],
   "source": [
    "class A(object):\n",
    "    def __init__(self,num):\n",
    "        self.num=num\n",
    "    def mul_two(self):\n",
    "        self.num*=2\n",
    "        \n",
    "class B(A):\n",
    "    def __init__(self,num):\n",
    "        super().__init__(num)\n",
    "    def mul_three(self):\n",
    "        self.num*=3\n",
    "        print(\"3\",self.num)\n",
    "\n",
    "obj=B(4)\n",
    "print(obj.num)\n",
    "obj.mul_two()\n",
    "print(obj.num)\n",
    "obj.mul_three()\n",
    "print(obj.num)"
   ]
  },
  {
   "cell_type": "code",
   "execution_count": 7,
   "id": "223d680c",
   "metadata": {},
   "outputs": [
    {
     "name": "stdout",
     "output_type": "stream",
     "text": [
      "hkjh\n"
     ]
    },
    {
     "data": {
      "text/plain": [
       "['hkjh']"
      ]
     },
     "execution_count": 7,
     "metadata": {},
     "output_type": "execute_result"
    }
   ],
   "source": [
    "def myfunc(a):\n",
    "    # Split the string based on space delimiter\n",
    "    list_string = a.split(' ')    \n",
    "    return list_string\n",
    "n=str(input())\n",
    "myfunc(n)"
   ]
  },
  {
   "cell_type": "code",
   "execution_count": 20,
   "id": "7c9f8ae2",
   "metadata": {},
   "outputs": [
    {
     "name": "stdout",
     "output_type": "stream",
     "text": [
      "['s', 'a', 'y', 'y', 'A', 'D', 'i', 'R', 'A', 'M']\n"
     ]
    }
   ],
   "source": [
    "a=['SAYYad','Iram']\n",
    "lst=[]\n",
    "for i in a:\n",
    "    for j in i:\n",
    "        if j.isupper():\n",
    "            b=j.lower()\n",
    "            lst.append(b)\n",
    "        else:\n",
    "            if j.islower():\n",
    "                b=j.upper()\n",
    "                lst.append(b)\n",
    "print(lst)\n",
    "# print(lst)\n",
    "# x=' '.join(lst)\n",
    "# print(x.split(','))\n",
    "            \n",
    "#         else:\n",
    "#             j.upper()\n",
    "#             print(j)\n",
    "            \n",
    "#         a=[1,1,2,3,3,4,5,4,5]\n",
    "# def myfunc(y):\n",
    "#     x=0\n",
    "#     for i in y:\n",
    "#         x^=i\n",
    "#     return x\n",
    "# # myfunc(a)\n"
   ]
  },
  {
   "cell_type": "code",
   "execution_count": 19,
   "id": "ae2728f3",
   "metadata": {},
   "outputs": [
    {
     "name": "stdout",
     "output_type": "stream",
     "text": [
      "115\n"
     ]
    }
   ],
   "source": [
    "a=[2,4,8,4,2,8,9,9,22]\n",
    "x=0\n",
    "for i in a:\n",
    "    x^=i\n",
    "print(x)"
   ]
  },
  {
   "cell_type": "code",
   "execution_count": 10,
   "id": "2951f0b7",
   "metadata": {},
   "outputs": [
    {
     "name": "stdout",
     "output_type": "stream",
     "text": [
      "[3, 2, 1, 6, 5, 4, 7]\n"
     ]
    }
   ],
   "source": [
    "lst=[1,2,3,4,5,6,7]\n",
    "for i in range(0,len(lst)-1,3):\n",
    "        lst[i],lst[i+2]=lst[i+2],lst[i]\n",
    "print(lst)"
   ]
  },
  {
   "cell_type": "code",
   "execution_count": null,
   "id": "67d9ced5",
   "metadata": {},
   "outputs": [],
   "source": [
    "lst=[\"mcc\",\"is\",\"best\",\"classess\"]\n",
    "x=[i.replace('m','a').replace(\"i\",\"A\").replace(\"b\",\"v\").replace(\"e\",\"s\") for i in lst]\n",
    "print(x)"
   ]
  },
  {
   "cell_type": "code",
   "execution_count": 9,
   "id": "b24ed598",
   "metadata": {},
   "outputs": [
    {
     "name": "stdout",
     "output_type": "stream",
     "text": [
      "15\n"
     ]
    }
   ],
   "source": [
    "lst=[1,2,3,4,5]\n",
    "b=0\n",
    "for i in range(len(lst)):\n",
    "    b=b+lst[i]\n",
    "print(b)"
   ]
  },
  {
   "cell_type": "code",
   "execution_count": 8,
   "id": "da071c23",
   "metadata": {},
   "outputs": [
    {
     "name": "stdout",
     "output_type": "stream",
     "text": [
      "[10, 26, 30]\n"
     ]
    }
   ],
   "source": [
    "lst=[[1,2,3,4],[5,6,7,8],[9,10,11]]\n",
    "x=[]\n",
    "for i in lst:\n",
    "    counts=0\n",
    "    for j in range(len(i)):\n",
    "        counts=counts+i[j]\n",
    "    x.append(counts)\n",
    "print(x)\n",
    "        \n",
    "        \n",
    "    \n",
    "    \n",
    "    \n",
    "    \n",
    "    \n",
    "    \n",
    "\n",
    "#output z=[10,26,30]"
   ]
  },
  {
   "cell_type": "code",
   "execution_count": 4,
   "id": "778dc324",
   "metadata": {},
   "outputs": [
    {
     "name": "stdout",
     "output_type": "stream",
     "text": [
      "10\n"
     ]
    }
   ],
   "source": [
    "lst=[1,2,3,4]\n",
    "count=0\n",
    "for i in range(len(lst)):\n",
    "    count=count+lst[i]\n",
    "print(count)"
   ]
  },
  {
   "cell_type": "code",
   "execution_count": 1,
   "id": "e9ecd0f9",
   "metadata": {},
   "outputs": [
    {
     "name": "stdout",
     "output_type": "stream",
     "text": [
      "[4, 2, 8, 6, 13, 11]\n"
     ]
    }
   ],
   "source": [
    "lst=[2,4,6,8,11,13]\n",
    "for i in range(0,len(lst),2):\n",
    "    lst[i],lst[i+1]=lst[i+1],lst[i]\n",
    "print(lst)"
   ]
  },
  {
   "cell_type": "code",
   "execution_count": 4,
   "id": "bb95e5c5",
   "metadata": {},
   "outputs": [
    {
     "name": "stdout",
     "output_type": "stream",
     "text": [
      "1\n"
     ]
    }
   ],
   "source": [
    "lst=[1,2,3,4,4,3,2]\n",
    "x=0\n",
    "for i in lst:\n",
    "    x^=i\n",
    "print(x)"
   ]
  },
  {
   "cell_type": "code",
   "execution_count": 6,
   "id": "fc37f4d6",
   "metadata": {},
   "outputs": [
    {
     "name": "stdout",
     "output_type": "stream",
     "text": [
      "hello\n",
      "single inheritence\n"
     ]
    }
   ],
   "source": [
    "class single:\n",
    "    def show(self):\n",
    "        print(\"single inheritence\")\n",
    "class child(single):\n",
    "    def work(self):\n",
    "        print(\"hello\")\n",
    "obj=child()\n",
    "obj.work()\n",
    "obj.show()"
   ]
  },
  {
   "cell_type": "code",
   "execution_count": 7,
   "id": "e4994bbc",
   "metadata": {},
   "outputs": [
    {
     "name": "stdout",
     "output_type": "stream",
     "text": [
      "hello1\n",
      "hello2\n",
      "hello3\n"
     ]
    }
   ],
   "source": [
    "# multiple parent one child\n",
    "class multiple:\n",
    "    def show(self):\n",
    "        print('hello1')\n",
    "class child1:\n",
    "    def work(self):\n",
    "        print('hello2')\n",
    "class child2(multiple,child1):\n",
    "    def works(self):\n",
    "        print(\"hello3\")\n",
    "obj=child2()\n",
    "obj.show()\n",
    "obj.work()\n",
    "obj.works()"
   ]
  },
  {
   "cell_type": "code",
   "execution_count": 9,
   "id": "63daefaf",
   "metadata": {},
   "outputs": [
    {
     "name": "stdout",
     "output_type": "stream",
     "text": [
      "hello1\n",
      "hello2\n",
      "hello3\n"
     ]
    }
   ],
   "source": [
    "# multiple parent chaining of classes\n",
    "class multilevel:\n",
    "    def show(self):\n",
    "        print('hello1')\n",
    "class chain(multilevel):\n",
    "    def work(self):\n",
    "        print('hello2')\n",
    "class chain2(chain):\n",
    "    def works(self):\n",
    "        print('hello3')\n",
    "obj=chain2()\n",
    "obj.show()\n",
    "obj.work()\n",
    "obj.works()"
   ]
  },
  {
   "cell_type": "code",
   "execution_count": null,
   "id": "ea698f2b",
   "metadata": {},
   "outputs": [],
   "source": [
    "# one parent multiple child\n",
    "class herirical:\n",
    "    def show(self):\n",
    "        print('hello1')\n",
    "class "
   ]
  },
  {
   "cell_type": "code",
   "execution_count": 16,
   "id": "d8d2b508",
   "metadata": {},
   "outputs": [
    {
     "name": "stdout",
     "output_type": "stream",
     "text": [
      "[5, 4, 3, 2, 1]\n"
     ]
    }
   ],
   "source": [
    "lst=[1,2,3,4,5]\n",
    "lst.reverse()\n",
    "print(lst)"
   ]
  },
  {
   "cell_type": "code",
   "execution_count": 17,
   "id": "59bd1674",
   "metadata": {},
   "outputs": [
    {
     "name": "stdout",
     "output_type": "stream",
     "text": [
      "[5, 4, 3, 2, 1]\n"
     ]
    }
   ],
   "source": [
    "lst=[1,2,3,4,5]\n",
    "lst.reverse()\n",
    "print(lst)"
   ]
  },
  {
   "cell_type": "code",
   "execution_count": 12,
   "id": "cfcf5558",
   "metadata": {},
   "outputs": [
    {
     "name": "stdout",
     "output_type": "stream",
     "text": [
      "[('1', 'groot'), ('56', 'apple'), ('dell', 'ipad'), ('teams', 'ml'), ('water', 'case'), ('zoo', 'peanuts')]\n"
     ]
    }
   ],
   "source": [
    "tup= [(\"zoo\", \"peanuts\"),(\"1\", 'groot'), (\"teams\",\"ml\"),('dell', 'ipad'), ('water', 'case'), (\"56\",\"apple\")]\n",
    "tup.sort(key=lambda t:t[0])\n",
    "print(tup)"
   ]
  },
  {
   "cell_type": "code",
   "execution_count": 15,
   "id": "5ff1e96f",
   "metadata": {},
   "outputs": [
    {
     "name": "stdout",
     "output_type": "stream",
     "text": [
      "['even', 'odd', 'even', 'odd', 'even']\n"
     ]
    }
   ],
   "source": [
    "lst=[\"even\" if i%2==0 else \"odd\" for i in range(5)]\n",
    "print(lst) "
   ]
  },
  {
   "cell_type": "code",
   "execution_count": 4,
   "id": "ae9c6797",
   "metadata": {},
   "outputs": [
    {
     "name": "stdout",
     "output_type": "stream",
     "text": [
      "[(56, 'apple'), ('water', 'case'), (1, 'groot'), ('dell', 'ipad'), ('teams', 'ml'), ('zoo', 'peanuts')]\n"
     ]
    }
   ],
   "source": [
    "def SortTuple(tups):\n",
    "#     print(n) \n",
    "    n=len(tups)\n",
    "    for i in range(n):\n",
    "        for j in range(n-i-1):              \n",
    "            if tup[j][1] > tup[j + 1][1]:\n",
    "                tup[j], tup[j + 1] = tup[j + 1], tup[j]                 \n",
    "    return tup    \n",
    "# Driver's code\n",
    "tup= [(\"zoo\", \"peanuts\"),(1, 'groot'), (\"teams\",\"ml\"),('dell', 'ipad'), ('water', 'case'), (56,\"apple\")]          \n",
    "print(SortTuple(tup))"
   ]
  },
  {
   "cell_type": "code",
   "execution_count": 5,
   "id": "8630a886",
   "metadata": {},
   "outputs": [
    {
     "name": "stdout",
     "output_type": "stream",
     "text": [
      "[(2, 'banana'), (3, 'mango'), (4, 'apple')]\n"
     ]
    }
   ],
   "source": [
    "a=[(3,\"mango\"),(2,\"banana\"),(4,\"apple\")]\n",
    "sort_list=sorted(a,key=lambda a:a[0])\n",
    "print(sort_list)"
   ]
  },
  {
   "cell_type": "code",
   "execution_count": 31,
   "id": "69ec7ac3",
   "metadata": {},
   "outputs": [
    {
     "name": "stdout",
     "output_type": "stream",
     "text": [
      "Asif\n",
      "noman\n",
      "shoaib\n"
     ]
    }
   ],
   "source": [
    "d = {\"Asif\":40,\"Sarfraz\":30,\"bilal\":20,\"noman\":50,\"shoaib\":60}\n",
    "for i,j in d.items():\n",
    "    if j > 30:\n",
    "        print(i)"
   ]
  },
  {
   "cell_type": "code",
   "execution_count": 9,
   "id": "5854f209",
   "metadata": {},
   "outputs": [
    {
     "name": "stdout",
     "output_type": "stream",
     "text": [
      "60 shoaib\n"
     ]
    }
   ],
   "source": [
    "d = {\"Asif\":40,\"Sarfraz\":30,\"bilal\":20,\"noman\":50,\"shoaib\":60}\n",
    "x=0\n",
    "c=\"\"\n",
    "for i,j in d.items():\n",
    "    score=d.get(i,j)\n",
    "    if score > x:\n",
    "        x=score\n",
    "        c=i\n",
    "print(x,c)"
   ]
  },
  {
   "cell_type": "code",
   "execution_count": 3,
   "id": "e9fda709",
   "metadata": {},
   "outputs": [
    {
     "name": "stdout",
     "output_type": "stream",
     "text": [
      "3\n"
     ]
    }
   ],
   "source": [
    "a=[1,1,2,2,3]\n",
    "for i in a:\n",
    "    if a.count(i)<2:\n",
    "        print(i)"
   ]
  },
  {
   "cell_type": "code",
   "execution_count": 4,
   "id": "bcc8801d",
   "metadata": {},
   "outputs": [
    {
     "data": {
      "text/plain": [
       "[4]"
      ]
     },
     "execution_count": 4,
     "metadata": {},
     "output_type": "execute_result"
    }
   ],
   "source": [
    "def f(lst):\n",
    "    return [i for x,y in zip(lst,lst[1:])\n",
    "    for i in range(x +1,y)if y-x >1]\n",
    "lst = [2,3,5]\n",
    "f(lst)"
   ]
  },
  {
   "cell_type": "code",
   "execution_count": 37,
   "id": "41d3e73e",
   "metadata": {},
   "outputs": [
    {
     "name": "stdout",
     "output_type": "stream",
     "text": [
      "adnan\n",
      "A \n",
      "A D \n",
      "A D N \n",
      "A D N A \n",
      "A D N A N \n"
     ]
    }
   ],
   "source": [
    "def myfunc(x):\n",
    "    c=\"\"\n",
    "    for i in x:\n",
    "        c=c+i+' '\n",
    "        print(c.upper())\n",
    "y=input()\n",
    "myfunc(y)"
   ]
  },
  {
   "cell_type": "code",
   "execution_count": 54,
   "id": "a60287b8",
   "metadata": {},
   "outputs": [
    {
     "name": "stdout",
     "output_type": "stream",
     "text": [
      "4\n"
     ]
    }
   ],
   "source": [
    "for i in range(5):\n",
    "    a=i\n",
    "print(i)"
   ]
  },
  {
   "cell_type": "code",
   "execution_count": 61,
   "id": "a1798c8a",
   "metadata": {},
   "outputs": [
    {
     "name": "stdout",
     "output_type": "stream",
     "text": [
      "15\n"
     ]
    }
   ],
   "source": [
    "num=5\n",
    "print(num.__add__(10))"
   ]
  },
  {
   "cell_type": "code",
   "execution_count": 62,
   "id": "4b9f7d24",
   "metadata": {},
   "outputs": [
    {
     "name": "stdout",
     "output_type": "stream",
     "text": [
      "new\n"
     ]
    }
   ],
   "source": [
    "class A:\n",
    "    def __new__(self):\n",
    "        print(\"new\")\n",
    "    def __init__(self):\n",
    "        print(\"init\")\n",
    "obj=A()"
   ]
  },
  {
   "cell_type": "code",
   "execution_count": 6,
   "id": "70e7f562",
   "metadata": {},
   "outputs": [
    {
     "name": "stdout",
     "output_type": "stream",
     "text": [
      "['a', 'gf', 'Adnan', 'sldkfjsldjf']\n"
     ]
    }
   ],
   "source": [
    "lst=[\"Adnan\",\"gf\",\"sldkfjsldjf\",\"a\"]\n",
    "for i in range(len(lst)):\n",
    "    for j in range(i+1,len(lst)):\n",
    "        if len(lst[i]) > len(lst[j]):\n",
    "            lst[i],lst[j]=lst[j],lst[i]\n",
    "print(lst)        "
   ]
  },
  {
   "cell_type": "code",
   "execution_count": 17,
   "id": "a8d3d2d8",
   "metadata": {},
   "outputs": [
    {
     "name": "stdout",
     "output_type": "stream",
     "text": [
      "['gf', 'Adnan', 'a', 'sldkfjsldjf']\n"
     ]
    }
   ],
   "source": [
    "lst=[\"Adnan\",\"gf\",\"sldkfjsldjf\",\"a\"]\n",
    "for i in range(0,len(lst),2):\n",
    "    if len(lst[i]) > len(lst[i+1]):\n",
    "        lst[i],lst[i+1]=lst[i+1],lst[i]\n",
    "print(lst)"
   ]
  },
  {
   "cell_type": "code",
   "execution_count": 9,
   "id": "e572ee21",
   "metadata": {},
   "outputs": [
    {
     "name": "stdout",
     "output_type": "stream",
     "text": [
      "aabbcc\n"
     ]
    }
   ],
   "source": [
    "s=\"aaadbbbccc\"\n",
    "x=\"\"\n",
    "for i in range(len(s)):\n",
    "    if i < len(s)-1 and s[i] == s[i+1]:\n",
    "        x=x+s[i]\n",
    "print(x)"
   ]
  },
  {
   "cell_type": "code",
   "execution_count": 24,
   "id": "36429a17",
   "metadata": {},
   "outputs": [
    {
     "name": "stdout",
     "output_type": "stream",
     "text": [
      "{'name': 'Adnan', 'marks': 76.5, 'country': 'India'}\n"
     ]
    }
   ],
   "source": [
    "def myfunc(x,y):\n",
    "    c=zip(x,y)\n",
    "    print(dict(c))    \n",
    "lst1=[\"name\",\"marks\",\"country\"]\n",
    "lst2=[\"Adnan\",76.5,\"India\"]\n",
    "myfunc(lst1,lst2)"
   ]
  },
  {
   "cell_type": "code",
   "execution_count": 5,
   "id": "72f4e323",
   "metadata": {},
   "outputs": [
    {
     "name": "stdout",
     "output_type": "stream",
     "text": [
      "4\n"
     ]
    }
   ],
   "source": [
    "def maxs(r):\n",
    "    maxs=0\n",
    "    for i in w:\n",
    "        count=0\n",
    "        for j in range(len(i)):\n",
    "            count=count+i[j]\n",
    "    print(count)\n",
    "w=[[1,2,3],[5,6,7],[3,4,5],[2,2]]\n",
    "maxs(w)\n",
    "        "
   ]
  },
  {
   "cell_type": "code",
   "execution_count": 84,
   "id": "f3665e5e",
   "metadata": {},
   "outputs": [
    {
     "name": "stdout",
     "output_type": "stream",
     "text": [
      "{'a': 200, 'b': 400, 'c': 300, 'd': 400}\n"
     ]
    }
   ],
   "source": [
    "def d(x,y):\n",
    "    for i in d2:\n",
    "        if i in d1:\n",
    "            d1[i]=d1[i]+d2[i]\n",
    "        else:\n",
    "            d1[i]=d2[i]\n",
    "    print(d1)\n",
    "d1={'a':100,'b':200,'c':300}\n",
    "d2={'a':100,'b':200,'d':400}  \n",
    "\n",
    "d(d1,d2)\n",
    "        "
   ]
  },
  {
   "cell_type": "code",
   "execution_count": 44,
   "id": "0e8929c5",
   "metadata": {},
   "outputs": [
    {
     "name": "stdout",
     "output_type": "stream",
     "text": [
      "The letter is not a palindrome\n"
     ]
    }
   ],
   "source": [
    "def m(n):\n",
    "    if n==n[::-1]:  \n",
    "          print(\"The letter is a palindrome\")  \n",
    "    else:  \n",
    "          print(\"The letter is not a palindrome\") \n",
    "s=\"junaid\"\n",
    "m(s)\n"
   ]
  },
  {
   "cell_type": "code",
   "execution_count": 5,
   "id": "79ffbde2",
   "metadata": {},
   "outputs": [
    {
     "name": "stdout",
     "output_type": "stream",
     "text": [
      "{'a': 200, 'b': 400}\n"
     ]
    }
   ],
   "source": [
    "d1={'a':100,'b':200,'c':300}\n",
    "d2={'a':100,'b':200,'d':400}\n",
    "d3={}\n",
    "for i in d1:\n",
    "    if i in d2:\n",
    "        d3[i]=d1[i]+d2[i]\n",
    "print(d3)"
   ]
  },
  {
   "cell_type": "code",
   "execution_count": 107,
   "id": "17b5afe1",
   "metadata": {},
   "outputs": [
    {
     "name": "stdout",
     "output_type": "stream",
     "text": [
      "s001\n",
      "s005\n",
      "37\n",
      "s001\n",
      "37\n",
      "python\n"
     ]
    }
   ],
   "source": [
    "dicts={'v':'s001','vi':'s005','vii':37,'viii':'s001','ix':37,'x':'python'}\n",
    "x=set()\n",
    "for i in dicts.values():\n",
    "    if i not in x:\n",
    "        x=x.update(i)\n",
    "    else:\n",
    "        pas"
   ]
  },
  {
   "cell_type": "code",
   "execution_count": 133,
   "id": "55d1a6b6",
   "metadata": {},
   "outputs": [
    {
     "name": "stdout",
     "output_type": "stream",
     "text": [
      "{'s005', 'python', '37', 's001'}\n"
     ]
    }
   ],
   "source": [
    "dicts={'v':'s001','vi':'s005','vii':'37','viii':'s001','ix':'37','x':'python'}\n",
    "x={(i) if (i)  in i else \"hello\"  for i in dicts.values()}\n",
    "print(x)\n",
    "            "
   ]
  },
  {
   "cell_type": "code",
   "execution_count": 14,
   "id": "a8ecd68c",
   "metadata": {},
   "outputs": [
    {
     "name": "stdout",
     "output_type": "stream",
     "text": [
      "18\n"
     ]
    }
   ],
   "source": [
    "def totalsum(x):\n",
    "    w=[[1,2,3],[5,6,7],[3,4,5],[2,2]]\n",
    "    y=0\n",
    "    lst=[]\n",
    "    for i in w:\n",
    "        lst.append(sum(i))\n",
    "    for j in lst:\n",
    "        if j > y:\n",
    "            y=j\n",
    "    print(y)\n",
    "totalsum(w)\n",
    "            \n",
    "        "
   ]
  },
  {
   "cell_type": "code",
   "execution_count": 55,
   "id": "8166d8dd",
   "metadata": {},
   "outputs": [
    {
     "name": "stdout",
     "output_type": "stream",
     "text": [
      "[1, 2, 2, 3, 3]\n",
      "[4, 4, 5, 5, 9]\n",
      "7\n"
     ]
    }
   ],
   "source": [
    "a=[1,2,3,4,5]\n",
    "b=[3,2,4,5,9]\n",
    "lst=[]\n",
    "lsts=[]\n",
    "x=sorted(a+b)\n",
    "lst.extend(x[:5])\n",
    "lsts.extend(x[5:])\n",
    "print(lst)\n",
    "print(lsts)\n",
    "print(lst[-1] + lsts[0])\n"
   ]
  },
  {
   "cell_type": "code",
   "execution_count": 84,
   "id": "29561e12",
   "metadata": {},
   "outputs": [
    {
     "name": "stdout",
     "output_type": "stream",
     "text": [
      "True"
     ]
    }
   ],
   "source": [
    "a=['2008975','4356789','599200','324456','576433']\n",
    "lst=\"\"\n",
    "c=lst.join(a)\n",
    "x=c.startswith('200',17,32)\n",
    "print(x,end='')\n",
    "\n",
    "\n",
    "\n",
    "# output=200324456576433"
   ]
  },
  {
   "cell_type": "code",
   "execution_count": 101,
   "id": "d734f3ff",
   "metadata": {},
   "outputs": [
    {
     "name": "stdout",
     "output_type": "stream",
     "text": [
      "789459\n",
      "GEEKFHFHF\n",
      "?@$&\n",
      "dddasgfsgh\n"
     ]
    }
   ],
   "source": [
    "a='GEEKFHFHFdddas789gfs45?@$gh9&'\n",
    "#output=GEEKFHFHF\n",
    "#output=dddasgfsgh\n",
    "#output=789459\n",
    "#output=?@$&\n",
    "c=\"\"\n",
    "d=\"\"\n",
    "x=\"\"\n",
    "y=''\n",
    "for i in a:\n",
    "    if i.isupper():\n",
    "        c=c+i\n",
    "\n",
    "    elif i.islower():\n",
    "        y=y+i\n",
    "        \n",
    "    elif i.isdigit():\n",
    "        d=d+i\n",
    "        \n",
    "    else:\n",
    "        x=x+i\n",
    "    \n",
    "print(d)\n",
    "print(c)\n",
    "print(x)\n",
    "print(y)\n"
   ]
  },
  {
   "cell_type": "code",
   "execution_count": 129,
   "id": "0202c037",
   "metadata": {},
   "outputs": [
    {
     "name": "stdout",
     "output_type": "stream",
     "text": [
      "malayalam\n"
     ]
    }
   ],
   "source": [
    "s=\"saudmalayalambilal\"\n",
    "n=len(s)\n",
    "longest=\"\"\n",
    "for i in range(n):\n",
    "        for j in range(i + 1, n + 1):\n",
    "            if s[i:j] == s[i:j][::-1] and len(s[i:j]) > len(longest):\n",
    "                longest = s[i:j]\n",
    "print(longest)\n",
    "        \n",
    "               \n",
    "\n",
    "#output find the palidrome if not return none"
   ]
  },
  {
   "cell_type": "code",
   "execution_count": 1,
   "id": "fd984647",
   "metadata": {},
   "outputs": [
    {
     "name": "stdout",
     "output_type": "stream",
     "text": [
      "Valid\n"
     ]
    }
   ],
   "source": [
    "def validate_parenthesis(string):\n",
    "    stack = []\n",
    "    for char in string:\n",
    "        if char in ('(', '{', '['):\n",
    "            stack.append(char)\n",
    "        elif char in (')', '}', ']'):\n",
    "            if not stack:\n",
    "                return \"Invalid\"\n",
    "            if char == ')' and stack[-1] == '(':\n",
    "                stack.pop()\n",
    "            elif char == '}' and stack[-1] == '{':\n",
    "                stack.pop()\n",
    "            elif char == ']' and stack[-1] == '[':\n",
    "                stack.pop()\n",
    "            else:\n",
    "                return \"Invalid\"\n",
    "    return \"Valid\" if not stack else \"Invalid\"\n",
    "input_string = \"({[]})\"\n",
    "print(validate_parenthesis(input_string))"
   ]
  },
  {
   "cell_type": "code",
   "execution_count": 15,
   "id": "bfc6f05c",
   "metadata": {},
   "outputs": [
    {
     "name": "stdout",
     "output_type": "stream",
     "text": [
      "Anagram\n"
     ]
    }
   ],
   "source": [
    "a=\"Abc\"\n",
    "b=\"xAB\"\n",
    "\n",
    "\n",
    "for i in range(len(a)):\n",
    "    if len(a) == len(b) and a[i].lower() in b.lower():\n",
    "        print(\"Anagram\")\n",
    "        break\n",
    "    else:\n",
    "        print(\"is not Anagram\")\n",
    "        break\n",
    "    "
   ]
  },
  {
   "cell_type": "code",
   "execution_count": 10,
   "id": "f9b593a9",
   "metadata": {},
   "outputs": [
    {
     "name": "stdout",
     "output_type": "stream",
     "text": [
      "['__class__', '__class_getitem__', '__contains__', '__delattr__', '__delitem__', '__dir__', '__doc__', '__eq__', '__format__', '__ge__', '__getattribute__', '__getitem__', '__gt__', '__hash__', '__init__', '__init_subclass__', '__ior__', '__iter__', '__le__', '__len__', '__lt__', '__ne__', '__new__', '__or__', '__reduce__', '__reduce_ex__', '__repr__', '__reversed__', '__ror__', '__setattr__', '__setitem__', '__sizeof__', '__str__', '__subclasshook__', 'clear', 'copy', 'fromkeys', 'get', 'items', 'keys', 'pop', 'popitem', 'setdefault', 'update', 'values']\n"
     ]
    }
   ],
   "source": [
    "d={\"student\":{},\"Roll\":{},\"subject\":{}}\n",
    "d.update({'student':{\"noman\",\"bilal\"}})\n",
    "d.update({'Roll':{'01','02'}})\n",
    "d.update({'subject':{\"commerce\",'science'}})\n",
    "print(dir(d))"
   ]
  },
  {
   "cell_type": "code",
   "execution_count": 13,
   "id": "427673c2",
   "metadata": {},
   "outputs": [
    {
     "name": "stdout",
     "output_type": "stream",
     "text": [
      "{'noman': 1, 'saud': 2}\n"
     ]
    }
   ],
   "source": [
    "d={('noman'):1,'saud':2}\n",
    "print(d)"
   ]
  },
  {
   "cell_type": "code",
   "execution_count": 14,
   "id": "122fc1ad",
   "metadata": {},
   "outputs": [
    {
     "name": "stdout",
     "output_type": "stream",
     "text": [
      "(1, 2, 3)\n"
     ]
    }
   ],
   "source": [
    "a = 1,2,3\n",
    "print(a)"
   ]
  },
  {
   "cell_type": "code",
   "execution_count": 18,
   "id": "a6d38150",
   "metadata": {},
   "outputs": [
    {
     "name": "stdout",
     "output_type": "stream",
     "text": [
      "[3, 1]\n"
     ]
    }
   ],
   "source": [
    "a=[1,2,3]\n",
    "print(a[::-2])"
   ]
  },
  {
   "cell_type": "code",
   "execution_count": 19,
   "id": "431fd8d9",
   "metadata": {},
   "outputs": [
    {
     "name": "stdout",
     "output_type": "stream",
     "text": [
      "43\n"
     ]
    }
   ],
   "source": [
    "a = [{\"name\":\"def\",\"age\":34},\n",
    "    {\"name\":\"abc\",\"age\":43},\n",
    "    {\"name\":\"ghi\",\"age\":24}]\n",
    "\n",
    "for i in a:\n",
    "    x=i.get('name')\n",
    "    if x == 'abc':\n",
    "        c=i.get('age')\n",
    "        print(c)\n",
    "    "
   ]
  },
  {
   "cell_type": "code",
   "execution_count": 57,
   "id": "4537b336",
   "metadata": {},
   "outputs": [
    {
     "name": "stdout",
     "output_type": "stream",
     "text": [
      "[{'name': 'ghi', 'age': 24}, {'name': 'def', 'age': 34}, {'name': 'abc', 'age': 43}]\n"
     ]
    }
   ],
   "source": [
    "a = [{\"name\":\"def\",\"age\":34},\n",
    "    {\"name\":\"abc\",\"age\":43},\n",
    "    {\"name\":\"ghi\",\"age\":24}]\n",
    "b=sorted(a,key=lambda x:x['age'])\n",
    "print(b)\n",
    "    "
   ]
  },
  {
   "cell_type": "code",
   "execution_count": 63,
   "id": "54580110",
   "metadata": {},
   "outputs": [
    {
     "name": "stdout",
     "output_type": "stream",
     "text": [
      "70\n"
     ]
    }
   ],
   "source": [
    "a = {\n",
    "    \"class\": {\n",
    "        \"student\": {\n",
    "            \"name\": \"Mike\",\n",
    "            \"marks\": {\n",
    "                \"physics\": 70,\n",
    "                \"history\": 80\n",
    "}}}}\n",
    "for i in a.values():\n",
    "    x=i.get('student')['marks']['physics']\n",
    "print(x)"
   ]
  },
  {
   "cell_type": "code",
   "execution_count": 14,
   "id": "8bfe1999",
   "metadata": {},
   "outputs": [
    {
     "name": "stdout",
     "output_type": "stream",
     "text": [
      "[5, 2, 3, 4, 1]\n"
     ]
    }
   ],
   "source": [
    "a = [1,2,3,4,5]\n",
    "for i in a:\n",
    "    a[0], a[-1] = a[-1], a[0]\n",
    "print(a)"
   ]
  },
  {
   "cell_type": "code",
   "execution_count": null,
   "id": "51dae89b",
   "metadata": {},
   "outputs": [
    {
     "name": "stdout",
     "output_type": "stream",
     "text": [
      "enter number5\n",
      "5\n",
      "5\n"
     ]
    }
   ],
   "source": [
    "a=int(input(\"enter number\"))\n",
    "b=0\n",
    "while True:\n",
    "    if b == 0:  \n",
    "        x=int(input())\n",
    "        b=b+x\n",
    "        print(b)\n"
   ]
  },
  {
   "cell_type": "code",
   "execution_count": 2,
   "id": "583bd4f6",
   "metadata": {},
   "outputs": [
    {
     "name": "stdout",
     "output_type": "stream",
     "text": [
      "452.38896\n"
     ]
    },
    {
     "data": {
      "text/plain": [
       "452.38896"
      ]
     },
     "execution_count": 2,
     "metadata": {},
     "output_type": "execute_result"
    }
   ],
   "source": [
    "def area_of_circle(radius):\n",
    "    pi = 3.14159\n",
    "    area = pi * (radius ** 2)\n",
    "    print(area)\n",
    "    return area\n",
    "area_of_circle(12)"
   ]
  },
  {
   "cell_type": "code",
   "execution_count": 2,
   "id": "ad04562c",
   "metadata": {},
   "outputs": [
    {
     "name": "stdout",
     "output_type": "stream",
     "text": [
      "1\n",
      "The second highest number in the list is: 7\n"
     ]
    }
   ],
   "source": [
    "lst = [1, 5, 6, 9, 7, 2, 3, 4]\n",
    "\n",
    "# Initialize variables to hold the highest and second highest numbers\n",
    "highest = lst[0]\n",
    "second_highest = None\n",
    "\n",
    "# Iterate over the list\n",
    "for num in lst:\n",
    "    if num > highest:\n",
    "        # If the current number is higher than the highest, update both variables\n",
    "        second_highest = highest\n",
    "        highest = num\n",
    "    elif num != highest and (second_highest is None or num > second_highest):\n",
    "        # If the current number is not equal to the highest and is higher than the second highest, update the second highest\n",
    "        second_highest = num\n",
    "\n",
    "# Print the second highest number\n",
    "print(\"The second highest number in the list is:\", second_highest)\n"
   ]
  },
  {
   "cell_type": "code",
   "execution_count": 13,
   "id": "b6ec61e5",
   "metadata": {},
   "outputs": [
    {
     "name": "stdout",
     "output_type": "stream",
     "text": [
      "{1: 'roll', 2: 'roll', 3: 'roll', 4: 'roll'}\n"
     ]
    }
   ],
   "source": [
    "lst = [1,2,3,4]\n",
    "c = \"roll\"\n",
    "x=dict.fromkeys(lst,c)\n",
    "print(x)"
   ]
  },
  {
   "cell_type": "code",
   "execution_count": 24,
   "id": "9644b438",
   "metadata": {},
   "outputs": [],
   "source": [
    "import copy\n",
    "lst = [[1,2,3],['ab',4,5,6]]\n",
    "# lst1 = lst\n",
    "# print(id(lst1),id(lst))\n",
    "# lst1[0]=10\n",
    "# print(lst1)\n",
    "# print(lst)\n",
    "# lst2 = copy.copy(lst)\n",
    "# lst2[0][1]=10\n",
    "# print(lst2)\n",
    "# print(lst)\n",
    "\n",
    "# lst2[0]=10\n",
    "# print(lst2)\n",
    "# print(lst)\n",
    "# print(id(lst2),id(lst))\n",
    "# lst[0]=[10]\n",
    "# print(id(lst))\n",
    "# print(id(lst2))\n",
    "# print(lst)\n",
    "# print(lst2)\n",
    "# lst2 = copy.deepcopy(lst)\n",
    "# lst2[0]=10\n",
    "# lst2[1][0] = 12\n",
    "# print(lst2)\n",
    "# print(lst)"
   ]
  },
  {
   "cell_type": "code",
   "execution_count": 23,
   "id": "e3c33333",
   "metadata": {},
   "outputs": [
    {
     "name": "stdout",
     "output_type": "stream",
     "text": [
      "[{'name': 'mcc', 'index': 1, 'percentage': 12.34, 'amount': 12500}, {'name': 'vetan', 'index': 2, 'percentage': 0.12, 'amount': 33000}, {'name': 'mcc', 'index': 3, 'percentage': 12.34, 'amount': 12500}, {'name': 'vetan', 'index': 4, 'percentage': 0.12, 'amount': 33000}, {'name': 'mcc', 'index': 5, 'percentage': 12.34, 'amount': 12500}, {'name': 'vetan', 'index': 6, 'percentage': 0.12, 'amount': 33000}]\n"
     ]
    }
   ],
   "source": [
    "dicts={'result':\n",
    "       {'previous':\n",
    "        {'top':\n",
    "         [{'share':0.1234,'total':12500,'name':'mcc'},\n",
    "          {'share':0.0012,'total':33000,'name':'vetan'},\n",
    "          {'share':0.1234,'total':12500,'name':'mcc'},\n",
    "          {'share':0.0012,'total':33000,'name':'vetan'},\n",
    "          {'share':0.1234,'total':12500,'name':'mcc'},\n",
    "          {'share':0.0012,'total':33000,'name':'vetan'}]}}}\n",
    "\n",
    "x = 0\n",
    "y = dicts['result']['previous']['top']\n",
    "for i in y:\n",
    "    x = x + 1\n",
    "    i.update({'index':x})\n",
    "    percentage = i['share']*100\n",
    "    i.update({'percentage':percentage})\n",
    "    i.pop('share')\n",
    "    amount = i['total']\n",
    "    i.update({'amount':amount})\n",
    "    i.pop('total')\n",
    "print(y)\n",
    "    \n",
    "    \n",
    "    \n",
    "    "
   ]
  },
  {
   "cell_type": "code",
   "execution_count": 5,
   "id": "61c862c4",
   "metadata": {},
   "outputs": [
    {
     "name": "stdout",
     "output_type": "stream",
     "text": [
      "[[1, 10, 3], ['ab', 4, 5, 6]]\n",
      "[[1, 2, 3], ['ab', 4, 5, 6]]\n"
     ]
    }
   ],
   "source": [
    "import copy\n",
    "# lst = [1,2,3,4]\n",
    "# lst2 = lst #Normal copy \n",
    "# print(id(lst),id(lst2)) # both memory location are same\n",
    "\n",
    "# lst = [1,2,3,4]\n",
    "# lst2 = copy.copy(lst)\n",
    "# print() # both lst are different memory location\n",
    "\n",
    "# lst = [[1,2,3],['ab',4,5,6]]\n",
    "# lst2 = copy.deepcopy(lst)\n",
    "# lst2[0][1]=10\n",
    "# print(lst2)\n",
    "# print(lst)"
   ]
  },
  {
   "cell_type": "markdown",
   "id": "b28ff0a3",
   "metadata": {},
   "source": [
    "# Find the second highest number in list without sorting the list"
   ]
  },
  {
   "cell_type": "code",
   "execution_count": null,
   "id": "af53536b",
   "metadata": {},
   "outputs": [],
   "source": [
    "lst = [1, 4, 2, 6, 3, 5,7]\n",
    "max1 = lst[0]\n",
    "max2 = lst[1]\n",
    "for i in range(2,len(lst)):  \n",
    "    if lst[i] > max1:\n",
    "        max2 = max1\n",
    "        max1 = lst[i] \n",
    "    elif lst[i] > max2:\n",
    "        max2 = lst[i]\n",
    "print(max2)"
   ]
  },
  {
   "cell_type": "code",
   "execution_count": 41,
   "id": "d215e059",
   "metadata": {},
   "outputs": [
    {
     "name": "stdout",
     "output_type": "stream",
     "text": [
      "[1, 2, 3, 4, 5, 6, 7, 8, 199, 200, 325]\n",
      "[200]\n"
     ]
    }
   ],
   "source": [
    "lst = [1, 4, 2, 6, 3, 5,7,8,200,325,199]\n",
    "x = []\n",
    "for i in range(len(lst)):\n",
    "    for j in range(i,len(lst)):\n",
    "        if lst[i] > lst[j]:\n",
    "            lst[i],lst[j] = lst[j],lst[i]\n",
    "x.append(lst[-2])\n",
    "print(lst)\n",
    "print(x)"
   ]
  },
  {
   "cell_type": "code",
   "execution_count": 14,
   "id": "91b30e5e",
   "metadata": {},
   "outputs": [
    {
     "name": "stdout",
     "output_type": "stream",
     "text": [
      "[{'retPeriod': '032021', 'gstr1': {'ttlVal': 1}}, {'retPeriod': '042021', 'gstr1': {'ttlVal': 2}}, {'retPeriod': '052021', 'gstr1': {'ttlVal': 3}}, {'retPeriod': '062021', 'gstr1': {'ttlVal': 4}}, {'retPeriod': '072021', 'gstr1': {'ttlVal': 5}}, {'retPeriod': '082021', 'gstr1': {'ttlVal': 6}}, {'retPeriod': '092021', 'gstr1': {'ttlVal': 7}}, {'retPeriod': '102021', 'gstr1': {'ttlVal': 8}}, {'retPeriod': '112021', 'gstr1': {'ttlVal': 9}}, {'retPeriod': '122021', 'gstr1': {'ttlVal': 10}}, {'retPeriod': '012022', 'gstr1': {'ttlVal': 11}}, {'retPeriod': '022022', 'gstr1': {'ttlVal': 12}}]\n"
     ]
    }
   ],
   "source": [
    "d = {\n",
    "    'result': {\n",
    "        'previous': {\n",
    "            'monthWiseSummary': [\n",
    "                {\n",
    "                    'retPeriod': \"032021\",\n",
    "                    'gstr1': {\n",
    "                        'ttlVal': 1\n",
    "                    }\n",
    "                },\n",
    "                {\n",
    "                    'retPeriod': \"042021\",\n",
    "                    'gstr1': {\n",
    "                        'ttlVal': 2\n",
    "                    }\n",
    "                },\n",
    "                {\n",
    "                    'retPeriod': \"052021\",\n",
    "                    'gstr1': {\n",
    "                        'ttlVal': 3\n",
    "                    }\n",
    "                },\n",
    "                {\n",
    "                    'retPeriod': \"062021\",\n",
    "                    'gstr1': {\n",
    "                        'ttlVal': 4\n",
    "                    }\n",
    "                },\n",
    "                {\n",
    "                    'retPeriod': \"072021\",\n",
    "                    'gstr1': {\n",
    "                        'ttlVal': 5\n",
    "                    }\n",
    "                },\n",
    "                {\n",
    "                    'retPeriod': \"082021\",\n",
    "                    'gstr1': {\n",
    "                        'ttlVal': 6\n",
    "                    }\n",
    "                },\n",
    "                {\n",
    "                    'retPeriod': \"092021\",\n",
    "                    'gstr1': {\n",
    "                        'ttlVal': 7\n",
    "                    }\n",
    "                },\n",
    "                {\n",
    "                    'retPeriod': \"102021\",\n",
    "                    'gstr1': {\n",
    "                        'ttlVal': 8\n",
    "                    }\n",
    "                },\n",
    "                {\n",
    "                    'retPeriod': \"112021\",\n",
    "                    'gstr1': {\n",
    "                        'ttlVal': 9\n",
    "                    }\n",
    "                },\n",
    "                {\n",
    "                    'retPeriod': \"122021\",\n",
    "                    'gstr1': {\n",
    "                        'ttlVal': 10\n",
    "                    }\n",
    "                },\n",
    "                {\n",
    "                    'retPeriod': \"012022\",\n",
    "                    'gstr1': {\n",
    "                        'ttlVal': 11\n",
    "                    }\n",
    "                },\n",
    "                {\n",
    "                    'retPeriod': \"022022\",\n",
    "                    'gstr1': {\n",
    "                        'ttlVal': 12\n",
    "                    }\n",
    "                }\n",
    "            ]\n",
    "        },\n",
    "        'current': {\n",
    "            'monthWiseSummary': [\n",
    "                {\n",
    "                    'retPeriod': \"032022\",\n",
    "                    'gstr1': {\n",
    "                        'ttlVal': 13\n",
    "                    }\n",
    "                },\n",
    "                {\n",
    "                    'retPeriod': \"042022\",\n",
    "                    'gstr1': {\n",
    "                        'ttlVal': 14\n",
    "                    }\n",
    "                },\n",
    "                {\n",
    "                    'retPeriod': \"052022\",\n",
    "                    'gstr1': {\n",
    "                        'ttlVal': 15\n",
    "                    }\n",
    "                },\n",
    "                {\n",
    "                    'retPeriod': \"062022\",\n",
    "                    'gstr1': {\n",
    "                        'ttlVal': 16\n",
    "                    }\n",
    "                },\n",
    "                {\n",
    "                    'retPeriod': \"072022\",\n",
    "                    'gstr1': {\n",
    "                        'ttlVal': 17\n",
    "                    }\n",
    "                },\n",
    "                {\n",
    "                    'retPeriod': \"082022\",\n",
    "                    'gstr1': {\n",
    "                        'ttlVal': 18\n",
    "                    }\n",
    "                },\n",
    "                {\n",
    "                    'retPeriod': \"092022\",\n",
    "                    'gstr1': {\n",
    "                        'ttlVal': 19\n",
    "                    }\n",
    "                },\n",
    "                {\n",
    "                    'retPeriod': \"102022\",\n",
    "                    'gstr1': {\n",
    "                        'ttlVal': 20\n",
    "                    }\n",
    "                },\n",
    "                {\n",
    "                    'retPeriod': \"112022\",\n",
    "                    'gstr1': {\n",
    "                        'ttlVal': 21\n",
    "                    }\n",
    "                },\n",
    "                {\n",
    "                    'retPeriod': \"122022\",\n",
    "                    'gstr1': {\n",
    "                        'ttlVal': 22\n",
    "                    }\n",
    "                },\n",
    "                {\n",
    "                    'retPeriod': \"012023\",\n",
    "                    'gstr1': {\n",
    "                        'ttlVal': 23\n",
    "                    }\n",
    "                },\n",
    "                {\n",
    "                    'retPeriod': 24\n",
    "                    },\n",
    "\n",
    "    ]\n",
    "    }\n",
    "     }\n",
    "\n",
    "}\n",
    "a = d['result']['previous']['monthWiseSummary']\n",
    "user = input(\"Enter Month and Year\")"
   ]
  },
  {
   "cell_type": "code",
   "execution_count": 2,
   "id": "768ade24",
   "metadata": {},
   "outputs": [
    {
     "ename": "TypeError",
     "evalue": "myfunc.<locals>.inner() missing 2 required positional arguments: 'a' and 'b'",
     "output_type": "error",
     "traceback": [
      "\u001b[1;31m---------------------------------------------------------------------------\u001b[0m",
      "\u001b[1;31mTypeError\u001b[0m                                 Traceback (most recent call last)",
      "Input \u001b[1;32mIn [2]\u001b[0m, in \u001b[0;36m<cell line: 7>\u001b[1;34m()\u001b[0m\n\u001b[0;32m      4\u001b[0m         \u001b[38;5;28;01mreturn\u001b[39;00m func(a,b)\n\u001b[0;32m      5\u001b[0m     \u001b[38;5;28;01mreturn\u001b[39;00m inner()\n\u001b[0;32m      7\u001b[0m \u001b[38;5;129;43m@myfunc\u001b[39;49m\n\u001b[1;32m----> 8\u001b[0m \u001b[38;5;28;43;01mdef\u001b[39;49;00m\u001b[43m \u001b[49m\u001b[38;5;21;43mdecor\u001b[39;49m\u001b[43m(\u001b[49m\u001b[43ma\u001b[49m\u001b[43m,\u001b[49m\u001b[43mb\u001b[49m\u001b[43m)\u001b[49m\u001b[43m:\u001b[49m\n\u001b[0;32m      9\u001b[0m \u001b[43m    \u001b[49m\u001b[38;5;28;43mprint\u001b[39;49m\u001b[43m(\u001b[49m\u001b[43ma\u001b[49m\u001b[38;5;241;43m+\u001b[39;49m\u001b[43mb\u001b[49m\u001b[43m)\u001b[49m\n\u001b[0;32m     10\u001b[0m decor(\u001b[38;5;241m5\u001b[39m,\u001b[38;5;241m5\u001b[39m)\n",
      "Input \u001b[1;32mIn [2]\u001b[0m, in \u001b[0;36mmyfunc\u001b[1;34m(func)\u001b[0m\n\u001b[0;32m      3\u001b[0m     \u001b[38;5;28mprint\u001b[39m(\u001b[38;5;124m\"\u001b[39m\u001b[38;5;124mhello world\u001b[39m\u001b[38;5;124m\"\u001b[39m)\n\u001b[0;32m      4\u001b[0m     \u001b[38;5;28;01mreturn\u001b[39;00m func(a,b)\n\u001b[1;32m----> 5\u001b[0m \u001b[38;5;28;01mreturn\u001b[39;00m \u001b[43minner\u001b[49m\u001b[43m(\u001b[49m\u001b[43m)\u001b[49m\n",
      "\u001b[1;31mTypeError\u001b[0m: myfunc.<locals>.inner() missing 2 required positional arguments: 'a' and 'b'"
     ]
    }
   ],
   "source": [
    "def myfunc(func):\n",
    "    def inner(a,b):\n",
    "        print(\"hello world\")\n",
    "        return func(a,b)\n",
    "    return inner()\n",
    "\n",
    "@myfunc\n",
    "def decor(a,b):\n",
    "    print(a+b)\n",
    "decor(5,5)\n"
   ]
  },
  {
   "cell_type": "code",
   "execution_count": 1,
   "id": "96b7bdc0",
   "metadata": {},
   "outputs": [
    {
     "name": "stdout",
     "output_type": "stream",
     "text": [
      "[1, 2, 3, 4]\n",
      "[1, 2, 3, 4]\n"
     ]
    }
   ],
   "source": [
    "lst = [1,2,3,4]\n",
    "lst2 = lst.copy()\n",
    "print(lst)\n",
    "print(lst2)\n"
   ]
  },
  {
   "cell_type": "code",
   "execution_count": 10,
   "id": "4e15c4a6",
   "metadata": {},
   "outputs": [
    {
     "name": "stdout",
     "output_type": "stream",
     "text": [
      "[1, 2, 3, 4, [5, 10, 7]]\n",
      "2502801807040\n",
      "2502830282624\n"
     ]
    }
   ],
   "source": [
    "import copy\n",
    "lst = [1,2,3,4,[5,6,7]]\n",
    "lst2 = copy.deepcopy(lst)\n",
    "lst[4][1]=10\n",
    "print(lst)\n",
    "print(id(lst2[4]))\n",
    "print(id(lst[4]))"
   ]
  }
 ],
 "metadata": {
  "kernelspec": {
   "display_name": "Python 3 (ipykernel)",
   "language": "python",
   "name": "python3"
  },
  "language_info": {
   "codemirror_mode": {
    "name": "ipython",
    "version": 3
   },
   "file_extension": ".py",
   "mimetype": "text/x-python",
   "name": "python",
   "nbconvert_exporter": "python",
   "pygments_lexer": "ipython3",
   "version": "3.10.4"
  }
 },
 "nbformat": 4,
 "nbformat_minor": 5
}
