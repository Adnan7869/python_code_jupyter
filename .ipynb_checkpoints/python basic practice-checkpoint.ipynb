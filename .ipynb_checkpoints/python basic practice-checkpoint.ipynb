{
 "cells": [
  {
   "cell_type": "code",
   "execution_count": 1,
   "id": "ea000980",
   "metadata": {},
   "outputs": [
    {
     "ename": "NameError",
     "evalue": "name 'comment' is not defined",
     "output_type": "error",
     "traceback": [
      "\u001b[1;31m---------------------------------------------------------------------------\u001b[0m",
      "\u001b[1;31mNameError\u001b[0m                                 Traceback (most recent call last)",
      "Input \u001b[1;32mIn [1]\u001b[0m, in \u001b[0;36m<cell line: 1>\u001b[1;34m()\u001b[0m\n\u001b[1;32m----> 1\u001b[0m \u001b[43mcomment\u001b[49m\n",
      "\u001b[1;31mNameError\u001b[0m: name 'comment' is not defined"
     ]
    }
   ],
   "source": [
    "comment"
   ]
  },
  {
   "cell_type": "markdown",
   "id": "a4121ec9",
   "metadata": {},
   "source": [
    "# adnan"
   ]
  },
  {
   "cell_type": "markdown",
   "id": "3b96669a",
   "metadata": {},
   "source": [
    "print(\"adnan\")\n",
    "\n",
    "'''alskjfljslfj\n",
    "  slasjfljsf\n",
    "  sjkfljsfd\n",
    "  asjfd;adfs'''"
   ]
  },
  {
   "cell_type": "code",
   "execution_count": 1,
   "id": "01139f8e",
   "metadata": {},
   "outputs": [
    {
     "name": "stdout",
     "output_type": "stream",
     "text": [
      "5\n",
      "asad\n"
     ]
    }
   ],
   "source": [
    "x = 5\n",
    "y = \"asad\"\n",
    "print(x)\n",
    "print(y)"
   ]
  },
  {
   "cell_type": "code",
   "execution_count": 4,
   "id": "6aa04846",
   "metadata": {},
   "outputs": [
    {
     "name": "stdout",
     "output_type": "stream",
     "text": [
      "10\n",
      "adnan\n"
     ]
    }
   ],
   "source": [
    "x = 10\n",
    "y = \"adnan\"\n",
    "print(x)\n",
    "print(y)"
   ]
  },
  {
   "cell_type": "code",
   "execution_count": 3,
   "id": "ef69dae2",
   "metadata": {},
   "outputs": [
    {
     "name": "stdout",
     "output_type": "stream",
     "text": [
      "5\n",
      "adnan\n",
      "asad\n"
     ]
    }
   ],
   "source": [
    "x = 5\n",
    "y = \"adnan\"\n",
    "z = \"asad\"\n",
    "print(x)\n",
    "print(y)\n",
    "print(z)"
   ]
  },
  {
   "cell_type": "code",
   "execution_count": 1,
   "id": "19a1cebb",
   "metadata": {},
   "outputs": [
    {
     "name": "stdout",
     "output_type": "stream",
     "text": [
      "5\n",
      "adnan\n"
     ]
    }
   ],
   "source": [
    "x=5\n",
    "y=\"adnan\"\n",
    "print(x)\n",
    "print(y)"
   ]
  },
  {
   "cell_type": "code",
   "execution_count": 7,
   "id": "1be8ccb0",
   "metadata": {},
   "outputs": [
    {
     "name": "stdout",
     "output_type": "stream",
     "text": [
      "10\n",
      "1.0\n",
      "4\n"
     ]
    }
   ],
   "source": [
    "x =str(10)\n",
    "y =float(1)\n",
    "z =int(4)\n",
    "print(x)\n",
    "print(y)\n",
    "print(z)"
   ]
  },
  {
   "cell_type": "code",
   "execution_count": 14,
   "id": "e96b3820",
   "metadata": {},
   "outputs": [
    {
     "name": "stdout",
     "output_type": "stream",
     "text": [
      "<class 'float'>\n",
      "<class 'int'>\n",
      "<class 'str'>\n"
     ]
    }
   ],
   "source": [
    "x = 5\n",
    "y = \"adnan\"\n",
    "z = 1.4\n",
    "print(type(z))\n",
    "print(type(x))\n",
    "print(type(y))"
   ]
  },
  {
   "cell_type": "code",
   "execution_count": 18,
   "id": "ee9b086f",
   "metadata": {},
   "outputs": [
    {
     "name": "stdout",
     "output_type": "stream",
     "text": [
      "dtgrf\n",
      "<class 'float'>\n",
      "adnan\n"
     ]
    }
   ],
   "source": [
    "myvar1=\"dtgrf\"\n",
    "a = \"adnan\"\n",
    "A = (type(1.1))\n",
    "print(myvar1)\n",
    "print(A)\n",
    "print(a)\n"
   ]
  },
  {
   "cell_type": "code",
   "execution_count": 79,
   "id": "99086aea",
   "metadata": {},
   "outputs": [
    {
     "name": "stdout",
     "output_type": "stream",
     "text": [
      "adnan wasim asad\n"
     ]
    }
   ],
   "source": [
    "a, b, c = \"adnan\", \"wasim\", \"asad\"\n",
    "print(a,b,c)\n"
   ]
  },
  {
   "cell_type": "code",
   "execution_count": 26,
   "id": "62126210",
   "metadata": {},
   "outputs": [
    {
     "name": "stdout",
     "output_type": "stream",
     "text": [
      "<class 'str'>\n",
      "orange\n",
      "orange\n"
     ]
    }
   ],
   "source": [
    "a = b= c= \"orange\"\n",
    "print(type(a))\n",
    "print(b)\n",
    "print(c)"
   ]
  },
  {
   "cell_type": "code",
   "execution_count": 54,
   "id": "4f18b2fa",
   "metadata": {},
   "outputs": [
    {
     "name": "stdout",
     "output_type": "stream",
     "text": [
      " bike  car  plan \n",
      " bike \n",
      " car \n",
      " plan \n"
     ]
    }
   ],
   "source": [
    "list= [\" bike \" , \" car \" , \" plan \"]\n",
    "a, b, c = list\n",
    "print( a+ b+ c )\n",
    "print(a)\n",
    "print(b)\n",
    "print(c)\n"
   ]
  },
  {
   "cell_type": "code",
   "execution_count": 35,
   "id": "b3a00bdf",
   "metadata": {},
   "outputs": [
    {
     "name": "stdout",
     "output_type": "stream",
     "text": [
      "120\n"
     ]
    }
   ],
   "source": [
    "x = 50\n",
    "y= 70\n",
    "print(x + y)"
   ]
  },
  {
   "cell_type": "code",
   "execution_count": 40,
   "id": "82d11729",
   "metadata": {},
   "outputs": [
    {
     "name": "stdout",
     "output_type": "stream",
     "text": [
      "python is awesome\n"
     ]
    }
   ],
   "source": [
    "x =\"awesome\"\n",
    "\n",
    "def myfunc():\n",
    "    print(\"python is \" + x)\n",
    "myfunc()"
   ]
  },
  {
   "cell_type": "code",
   "execution_count": 50,
   "id": "763da9a6",
   "metadata": {},
   "outputs": [
    {
     "name": "stdout",
     "output_type": "stream",
     "text": [
      "python is dynamic oriented programing language\n",
      "python is awesome\n"
     ]
    }
   ],
   "source": [
    "x=\"awesome\"\n",
    "def myfunc():\n",
    "    x=\"dynamic oriented programing language\"\n",
    "    print(\"python is \" + x)\n",
    "myfunc()\n",
    "print(\"python is \" + x)"
   ]
  },
  {
   "cell_type": "code",
   "execution_count": 55,
   "id": "0a9e0c91",
   "metadata": {},
   "outputs": [
    {
     "name": "stdout",
     "output_type": "stream",
     "text": [
      "my name is adnan\n",
      "i am 21 year old\n"
     ]
    }
   ],
   "source": [
    "y = \"21 year old\"\n",
    "def myfunc():\n",
    "    x=\"adnan\"\n",
    "    print(\"my name is \" + x )\n",
    "myfunc()\n",
    "print(\"i am \" + y)"
   ]
  },
  {
   "cell_type": "code",
   "execution_count": 14,
   "id": "0340b867",
   "metadata": {},
   "outputs": [
    {
     "name": "stdout",
     "output_type": "stream",
     "text": [
      "python is awesome\n"
     ]
    }
   ],
   "source": [
    "x =\"awesome\"\n",
    "\n",
    "def myfunc():\n",
    "    #global x\n",
    "    #x=\"fantastic\"\n",
    "     print(\"python is \" + x)\n",
    "myfunc()\n",
    "   "
   ]
  },
  {
   "cell_type": "markdown",
   "id": "80f05a30",
   "metadata": {},
   "source": [
    "# Date Type"
   ]
  },
  {
   "cell_type": "code",
   "execution_count": 29,
   "id": "741395bb",
   "metadata": {},
   "outputs": [
    {
     "name": "stdout",
     "output_type": "stream",
     "text": [
      "<class 'str'>\n",
      "<class 'int'>\n",
      "<class 'float'>\n",
      "<class 'list'>\n",
      "<class 'tuple'>\n",
      "<class 'dict'>\n",
      "<class 'set'>\n"
     ]
    }
   ],
   "source": [
    "a=\"hellow,word\"\n",
    "b=12345\n",
    "c= 1.1\n",
    "d=[\"apple\",\"banana\",\"cherry\"]\n",
    "e=(\"apple, banana\", \"cherry\")\n",
    "f={\"name\" : \"adnan\" , \"age\" : \"21\"}\n",
    "g={\"apple\",\"banana\",\"cherry\"}\n",
    "\n",
    "\n",
    "print(type(a))\n",
    "print(type(b))\n",
    "print(type(c))\n",
    "print(type(d))\n",
    "print(type(e))\n",
    "print(type(f))\n",
    "print(type(g))"
   ]
  },
  {
   "cell_type": "markdown",
   "id": "97cae574",
   "metadata": {},
   "source": []
  },
  {
   "cell_type": "code",
   "execution_count": 32,
   "id": "60deb260",
   "metadata": {},
   "outputs": [
    {
     "name": "stdout",
     "output_type": "stream",
     "text": [
      "2.0\n",
      "2\n",
      "(2+0j)\n",
      "<class 'float'>\n",
      "<class 'int'>\n",
      "<class 'complex'>\n"
     ]
    }
   ],
   "source": [
    "#convert from int to float\n",
    "x =float(2)\n",
    "#convert form float to int\n",
    "y=int(2.2)\n",
    "#convert form int to complex\n",
    "z=complex(y)\n",
    "print(x)\n",
    "print(y)\n",
    "print(z)\n",
    "\n",
    "print(type(x))\n",
    "print(type(y))\n",
    "print(type(z))"
   ]
  },
  {
   "cell_type": "code",
   "execution_count": 94,
   "id": "8433e33d",
   "metadata": {},
   "outputs": [
    {
     "name": "stdout",
     "output_type": "stream",
     "text": [
      "False\n"
     ]
    }
   ],
   "source": [
    "txt=\"my name is adnan\"\n",
    "print(\"asad\" in txt)\n"
   ]
  },
  {
   "cell_type": "code",
   "execution_count": 41,
   "id": "aee0ddf7",
   "metadata": {},
   "outputs": [
    {
     "name": "stdout",
     "output_type": "stream",
     "text": [
      "a\n",
      "d\n",
      "n\n",
      "a\n",
      "n\n"
     ]
    }
   ],
   "source": [
    "for x in \"adnan\":\n",
    "  print(x)"
   ]
  },
  {
   "cell_type": "code",
   "execution_count": 50,
   "id": "754dba98",
   "metadata": {},
   "outputs": [
    {
     "name": "stdout",
     "output_type": "stream",
     "text": [
      "6\n"
     ]
    }
   ],
   "source": [
    "x =\"cherry\"\n",
    "print(len(x))"
   ]
  },
  {
   "cell_type": "code",
   "execution_count": 48,
   "id": "f83209fc",
   "metadata": {},
   "outputs": [
    {
     "name": "stdout",
     "output_type": "stream",
     "text": [
      "A\n",
      "d\n",
      "n\n",
      "a\n",
      "n\n"
     ]
    }
   ],
   "source": [
    "y=\"Adnan\"\n",
    "print(y[0])\n",
    "print(y[1])\n",
    "print(y[2])\n",
    "print(y[3])\n",
    "print(y[4])"
   ]
  },
  {
   "cell_type": "markdown",
   "id": "065a4a3c",
   "metadata": {},
   "source": [
    "# python String"
   ]
  },
  {
   "cell_type": "code",
   "execution_count": 55,
   "id": "efa4bf4f",
   "metadata": {},
   "outputs": [
    {
     "name": "stdout",
     "output_type": "stream",
     "text": [
      "False\n"
     ]
    }
   ],
   "source": [
    "txt=\"my name is adnan\"\n",
    "print(\"asad\" in txt)"
   ]
  },
  {
   "cell_type": "code",
   "execution_count": 57,
   "id": "433edb70",
   "metadata": {},
   "outputs": [
    {
     "name": "stdout",
     "output_type": "stream",
     "text": [
      "yes, 'adnan' is present\n"
     ]
    }
   ],
   "source": [
    "txt=\"my name is adnan\"\n",
    "if \"adnan\" in txt:\n",
    "    print(\"yes, 'adnan' is present\")"
   ]
  },
  {
   "cell_type": "code",
   "execution_count": 60,
   "id": "5c119733",
   "metadata": {},
   "outputs": [
    {
     "name": "stdout",
     "output_type": "stream",
     "text": [
      "True\n"
     ]
    }
   ],
   "source": [
    "txt=\"my name is adnan\"\n",
    "print(\"asad\" not in txt)"
   ]
  },
  {
   "cell_type": "code",
   "execution_count": 65,
   "id": "5a4867b2",
   "metadata": {
    "scrolled": true
   },
   "outputs": [
    {
     "name": "stdout",
     "output_type": "stream",
     "text": [
      "No,'asad'is not present.\n"
     ]
    }
   ],
   "source": [
    "txt=\"my name is adnan\"\n",
    "if \"asad\"not in txt:\n",
    "    print(\"No,'asad'is not present.\")"
   ]
  },
  {
   "cell_type": "markdown",
   "id": "7ede75e9",
   "metadata": {},
   "source": [
    "# Slicing String"
   ]
  },
  {
   "cell_type": "code",
   "execution_count": 77,
   "id": "c2023130",
   "metadata": {},
   "outputs": [
    {
     "name": "stdout",
     "output_type": "stream",
     "text": [
      "my,\n",
      "name \n",
      " is\n",
      " adnan\n"
     ]
    }
   ],
   "source": [
    "x=\"my, name is adnan\"\n",
    "print(x[0:3])\n",
    "print(x[4:9])\n",
    "print(x[8:11])\n",
    "print(x[11:17])\n"
   ]
  },
  {
   "cell_type": "code",
   "execution_count": 113,
   "id": "35cc472c",
   "metadata": {
    "scrolled": false
   },
   "outputs": [
    {
     "name": "stdout",
     "output_type": "stream",
     "text": [
      "('apple',)\n",
      "banana\n"
     ]
    }
   ],
   "source": [
    "list=(\"apple\" , \"banana\" , \"cherry\" )\n",
    "\n",
    "print(list[0:1])\n",
    "print(list[1])\n"
   ]
  },
  {
   "cell_type": "markdown",
   "id": "59ee5c9d",
   "metadata": {},
   "source": [
    "# Nagative Indexing"
   ]
  },
  {
   "cell_type": "code",
   "execution_count": 79,
   "id": "58d153b4",
   "metadata": {},
   "outputs": [
    {
     "name": "stdout",
     "output_type": "stream",
     "text": [
      "world\n"
     ]
    }
   ],
   "source": [
    "a=\"Hello, world!\"\n",
    "print(a[-6:-1])"
   ]
  },
  {
   "cell_type": "markdown",
   "id": "a23df832",
   "metadata": {},
   "source": [
    "# upper case"
   ]
  },
  {
   "cell_type": "code",
   "execution_count": 18,
   "id": "db2c5871",
   "metadata": {},
   "outputs": [
    {
     "name": "stdout",
     "output_type": "stream",
     "text": [
      "HELLO, WORLD\n",
      "MY NAME IS ADNAN\n"
     ]
    }
   ],
   "source": [
    "a=\"Hello, world\"\n",
    "print(a.upper())\n",
    "b=\"my name is adnan\"\n",
    "print(b.upper())"
   ]
  },
  {
   "cell_type": "markdown",
   "id": "8b0ef795",
   "metadata": {},
   "source": [
    "# lower case"
   ]
  },
  {
   "cell_type": "code",
   "execution_count": 20,
   "id": "06cc51b5",
   "metadata": {},
   "outputs": [
    {
     "name": "stdout",
     "output_type": "stream",
     "text": [
      "hello, world\n",
      "my name is adnan\n"
     ]
    }
   ],
   "source": [
    "x=\"HELLO, WORLD\"\n",
    "print(x.lower())\n",
    "y=\"MY NAME IS ADNAN\"\n",
    "print(y.lower())"
   ]
  },
  {
   "cell_type": "code",
   "execution_count": 26,
   "id": "556cbab2",
   "metadata": {},
   "outputs": [
    {
     "name": "stdout",
     "output_type": "stream",
     "text": [
      "\n"
     ]
    }
   ],
   "source": [
    "a=\"Hello, world!\" \n",
    "print(a[-1:-6])"
   ]
  },
  {
   "cell_type": "markdown",
   "id": "5b395bce",
   "metadata": {},
   "source": [
    "# Replace string"
   ]
  },
  {
   "cell_type": "code",
   "execution_count": 38,
   "id": "24da2540",
   "metadata": {},
   "outputs": [
    {
     "name": "stdout",
     "output_type": "stream",
     "text": [
      "my name is Adnan\n"
     ]
    }
   ],
   "source": [
    "a=\"my name is xdnan\"\n",
    "print(a.replace(\"x\",\"A\"))"
   ]
  },
  {
   "cell_type": "code",
   "execution_count": 42,
   "id": "889742e7",
   "metadata": {},
   "outputs": [
    {
     "name": "stdout",
     "output_type": "stream",
     "text": [
      "my name is Asad\n"
     ]
    }
   ],
   "source": [
    "x=\"my name is xsad\"\n",
    "print(x.replace(\"x\",\"A\"))"
   ]
  },
  {
   "cell_type": "markdown",
   "id": "1169ea56",
   "metadata": {},
   "source": [
    "# convert "
   ]
  },
  {
   "cell_type": "code",
   "execution_count": 50,
   "id": "feb4f921",
   "metadata": {},
   "outputs": [
    {
     "name": "stdout",
     "output_type": "stream",
     "text": [
      "15\n"
     ]
    }
   ],
   "source": [
    "x=int(15.5)\n",
    "print(x)"
   ]
  },
  {
   "cell_type": "markdown",
   "id": "8e9b89ae",
   "metadata": {},
   "source": [
    "# split string"
   ]
  },
  {
   "cell_type": "code",
   "execution_count": 52,
   "id": "6809b17c",
   "metadata": {},
   "outputs": [
    {
     "name": "stdout",
     "output_type": "stream",
     "text": [
      "['hello ', ' world']\n"
     ]
    }
   ],
   "source": [
    "x=\"hello , world\"\n",
    "y=x.split(\",\")\n",
    "print(y)"
   ]
  },
  {
   "cell_type": "code",
   "execution_count": 54,
   "id": "9426353d",
   "metadata": {},
   "outputs": [
    {
     "name": "stdout",
     "output_type": "stream",
     "text": [
      "['my name is adnan']\n"
     ]
    }
   ],
   "source": [
    "a=\"my name is adnan\"\n",
    "b=a.split(\",\")\n",
    "print(b)"
   ]
  },
  {
   "cell_type": "markdown",
   "id": "3bd75314",
   "metadata": {},
   "source": [
    "# string concatination"
   ]
  },
  {
   "cell_type": "code",
   "execution_count": 70,
   "id": "61fce4c4",
   "metadata": {},
   "outputs": [
    {
     "name": "stdout",
     "output_type": "stream",
     "text": [
      "adnan shaikh\n"
     ]
    }
   ],
   "source": [
    "x=\"adnan\"\n",
    "y=\"shaikh\"\n",
    "z= x+\" \"+y\n",
    "print(z)"
   ]
  },
  {
   "cell_type": "markdown",
   "id": "e8d6ae92",
   "metadata": {},
   "source": [
    "# format string"
   ]
  },
  {
   "cell_type": "code",
   "execution_count": 76,
   "id": "d500b019",
   "metadata": {},
   "outputs": [
    {
     "name": "stdout",
     "output_type": "stream",
     "text": [
      "adnan97\n"
     ]
    }
   ],
   "source": [
    "x=97\n",
    "txt=\"Adnan{}\"\n",
    "print(txt.format(x))"
   ]
  },
  {
   "cell_type": "code",
   "execution_count": 91,
   "id": "af5e70e1",
   "metadata": {},
   "outputs": [
    {
     "name": "stdout",
     "output_type": "stream",
     "text": [
      "CR7\n"
     ]
    }
   ],
   "source": [
    "z=7\n",
    "txt=\"CR{}\"\n",
    "print(txt.format(z))"
   ]
  },
  {
   "cell_type": "code",
   "execution_count": 97,
   "id": "491d41da",
   "metadata": {},
   "outputs": [
    {
     "name": "stdout",
     "output_type": "stream",
     "text": [
      "I went 3 pieces of item 325 for 200 dollar.\n"
     ]
    }
   ],
   "source": [
    "x=3\n",
    "y=325\n",
    "z=200\n",
    "txt=\"I went {} pieces of item {} for {} dollar.\"\n",
    "print(txt.format(x, y, z))"
   ]
  },
  {
   "cell_type": "code",
   "execution_count": 88,
   "id": "c226a586",
   "metadata": {},
   "outputs": [
    {
     "name": "stdout",
     "output_type": "stream",
     "text": [
      "my name is adnan i am 21 year old.\n"
     ]
    }
   ],
   "source": [
    "a=21\n",
    "txt=\"my name is adnan i am {} year old.\"\n",
    "print(txt.format(a))"
   ]
  },
  {
   "cell_type": "code",
   "execution_count": 90,
   "id": "6454cff8",
   "metadata": {},
   "outputs": [
    {
     "name": "stdout",
     "output_type": "stream",
     "text": [
      "LionelMessi10\n"
     ]
    }
   ],
   "source": [
    "a=10\n",
    "txt=\"LionelMessi{}\"\n",
    "print(txt.format(a))"
   ]
  },
  {
   "cell_type": "code",
   "execution_count": 95,
   "id": "78af628a",
   "metadata": {},
   "outputs": [
    {
     "name": "stdout",
     "output_type": "stream",
     "text": [
      "i am 21 old.\n"
     ]
    }
   ],
   "source": [
    "x=21\n",
    "txt=\"i am {} old.\"\n",
    "print(txt.format(x))"
   ]
  },
  {
   "cell_type": "code",
   "execution_count": 99,
   "id": "ae38260e",
   "metadata": {},
   "outputs": [
    {
     "name": "stdout",
     "output_type": "stream",
     "text": [
      "i went to pay 220 doller for 150 piece of item 5\n"
     ]
    }
   ],
   "source": [
    "a=5\n",
    "b=150\n",
    "c=220\n",
    "txt=\"i went to pay {2} doller for {1} piece of item {0}\"\n",
    "print(txt.format(a, b, c))"
   ]
  },
  {
   "cell_type": "code",
   "execution_count": 116,
   "id": "3f59f30d",
   "metadata": {},
   "outputs": [
    {
     "name": "stdout",
     "output_type": "stream",
     "text": [
      "'Ma''am i am string'\n"
     ]
    }
   ],
   "source": [
    "x=\"'Ma''am i am string'\"\n",
    "print(x)"
   ]
  },
  {
   "cell_type": "markdown",
   "id": "cb7f56ae",
   "metadata": {},
   "source": [
    "# escape character"
   ]
  },
  {
   "cell_type": "code",
   "execution_count": 177,
   "id": "37c29d11",
   "metadata": {},
   "outputs": [
    {
     "name": "stdout",
     "output_type": "stream",
     "text": [
      "This is heading\n"
     ]
    }
   ],
   "source": [
    "txt=\"This is heading\"\n",
    "print(txt)"
   ]
  },
  {
   "cell_type": "markdown",
   "id": "249088ad",
   "metadata": {},
   "source": [
    "# string capitalize method"
   ]
  },
  {
   "cell_type": "code",
   "execution_count": 137,
   "id": "fc5738a8",
   "metadata": {},
   "outputs": [
    {
     "name": "stdout",
     "output_type": "stream",
     "text": [
      "My name is adnan\n"
     ]
    }
   ],
   "source": [
    "a=\"my name is ADNAN\"\n",
    "print(a.capitalize())"
   ]
  },
  {
   "cell_type": "code",
   "execution_count": 144,
   "id": "79a813eb",
   "metadata": {},
   "outputs": [
    {
     "name": "stdout",
     "output_type": "stream",
     "text": [
      "My name is adnan\n"
     ]
    }
   ],
   "source": [
    "txt=\"my name is Adnan\"\n",
    "a=txt.capitalize()\n",
    "print(a)"
   ]
  },
  {
   "cell_type": "markdown",
   "id": "6664b439",
   "metadata": {},
   "source": [
    "# string casefold method"
   ]
  },
  {
   "cell_type": "code",
   "execution_count": 148,
   "id": "0ad65101",
   "metadata": {},
   "outputs": [
    {
     "name": "stdout",
     "output_type": "stream",
     "text": [
      "my name is adnan\n"
     ]
    }
   ],
   "source": [
    "txt:\"MY Name Is Asad\"\n",
    "x=txt.casefold()\n",
    "print(x)"
   ]
  },
  {
   "cell_type": "markdown",
   "id": "bebd0332",
   "metadata": {},
   "source": [
    "# string center method"
   ]
  },
  {
   "cell_type": "code",
   "execution_count": 149,
   "id": "9fba7fae",
   "metadata": {},
   "outputs": [
    {
     "name": "stdout",
     "output_type": "stream",
     "text": [
      "                      adnan                       \n"
     ]
    }
   ],
   "source": [
    "a=\"adnan\"\n",
    "x= a.center(50)\n",
    "print(x)"
   ]
  },
  {
   "cell_type": "markdown",
   "id": "43188ff5",
   "metadata": {},
   "source": [
    "# string count method"
   ]
  },
  {
   "cell_type": "code",
   "execution_count": 160,
   "id": "a7207078",
   "metadata": {},
   "outputs": [
    {
     "name": "stdout",
     "output_type": "stream",
     "text": [
      "2\n"
     ]
    }
   ],
   "source": [
    "a=\"qwertifffffforpdasdfjlasdffgfghjlk\"\n",
    "z= a.count(\"g\")\n",
    "print(z)"
   ]
  },
  {
   "cell_type": "markdown",
   "id": "0a129677",
   "metadata": {},
   "source": [
    "# boolean value"
   ]
  },
  {
   "cell_type": "code",
   "execution_count": 16,
   "id": "0a92665c",
   "metadata": {},
   "outputs": [
    {
     "name": "stdout",
     "output_type": "stream",
     "text": [
      "y is not  greater then x\n"
     ]
    }
   ],
   "source": [
    "x= 1000\n",
    "y=500\n",
    "if y > x:\n",
    "    print(\"x is greater then y\")\n",
    "else:\n",
    "    print(\"y is not  greater then x\")"
   ]
  },
  {
   "cell_type": "code",
   "execution_count": 31,
   "id": "301981b6",
   "metadata": {},
   "outputs": [
    {
     "name": "stdout",
     "output_type": "stream",
     "text": [
      "False\n",
      "True\n"
     ]
    }
   ],
   "source": [
    "x=(bool({}))\n",
    "y=(bool(93))\n",
    "print(x)\n",
    "print(y)"
   ]
  },
  {
   "cell_type": "code",
   "execution_count": 32,
   "id": "677cad12",
   "metadata": {},
   "outputs": [
    {
     "data": {
      "text/plain": [
       "100000000000000000000"
      ]
     },
     "execution_count": 32,
     "metadata": {},
     "output_type": "execute_result"
    }
   ],
   "source": [
    "10**20"
   ]
  },
  {
   "cell_type": "code",
   "execution_count": 35,
   "id": "46b965d3",
   "metadata": {},
   "outputs": [
    {
     "name": "stdout",
     "output_type": "stream",
     "text": [
      "1296\n"
     ]
    }
   ],
   "source": [
    "x=4\n",
    "y=6\n",
    "print(y**x)"
   ]
  },
  {
   "cell_type": "code",
   "execution_count": 42,
   "id": "6a7b166f",
   "metadata": {},
   "outputs": [
    {
     "name": "stdout",
     "output_type": "stream",
     "text": [
      "1\n"
     ]
    }
   ],
   "source": [
    "x=5\n",
    "X=x//3\n",
    "print(X)\n"
   ]
  },
  {
   "cell_type": "code",
   "execution_count": 54,
   "id": "fa95cc17",
   "metadata": {},
   "outputs": [
    {
     "name": "stdout",
     "output_type": "stream",
     "text": [
      "True\n"
     ]
    }
   ],
   "source": [
    "x=6\n",
    "# = assingment operator\n",
    "y=6\n",
    "# == comparison operator\n",
    "print(x==y)"
   ]
  },
  {
   "cell_type": "code",
   "execution_count": 55,
   "id": "b679d479",
   "metadata": {},
   "outputs": [
    {
     "name": "stdout",
     "output_type": "stream",
     "text": [
      "True\n"
     ]
    }
   ],
   "source": [
    "x=6\n",
    "# =h assingment operator\n",
    "y=6\n",
    "# == comparison operator\n",
    "print(x==y)"
   ]
  },
  {
   "cell_type": "code",
   "execution_count": 59,
   "id": "a5ad9e26",
   "metadata": {},
   "outputs": [
    {
     "name": "stdout",
     "output_type": "stream",
     "text": [
      "True\n",
      "False\n"
     ]
    }
   ],
   "source": [
    "x=8\n",
    "print(x > 5)\n",
    "print(x < 6)"
   ]
  },
  {
   "cell_type": "code",
   "execution_count": 88,
   "id": "d50071e8",
   "metadata": {},
   "outputs": [
    {
     "name": "stdout",
     "output_type": "stream",
     "text": [
      "False\n"
     ]
    }
   ],
   "source": [
    "x=5\n",
    "print(not(x > 4  or x < 6))"
   ]
  },
  {
   "cell_type": "code",
   "execution_count": null,
   "id": "dca23e4d",
   "metadata": {},
   "outputs": [],
   "source": []
  },
  {
   "cell_type": "code",
   "execution_count": 86,
   "id": "1b29a330",
   "metadata": {},
   "outputs": [
    {
     "name": "stdout",
     "output_type": "stream",
     "text": [
      "True\n",
      "False\n",
      "True\n"
     ]
    }
   ],
   "source": [
    "#(is)Returns True if both variables are the same object\n",
    "a=[\"apple\",\"banana\",\"cherry\" ]\n",
    "b=[\"apple\",\"banana\",\"cherry\" ]\n",
    "z=a\n",
    "print(z is a)\n",
    "#return True because z is the same object as x\n",
    "print(a is b)\n",
    "#return False because x is not the same object as y, even they have the same content\n",
    "print(a==b)\n",
    "#to demonstrate the difference betweeen \"is\" and \"==\": this comparison returns True because x is equal to y\n"
   ]
  },
  {
   "cell_type": "code",
   "execution_count": 91,
   "id": "02cc07b4",
   "metadata": {},
   "outputs": [
    {
     "name": "stdout",
     "output_type": "stream",
     "text": [
      "True\n"
     ]
    }
   ],
   "source": [
    "x=15\n",
    "y=15\n",
    "print(x == y)"
   ]
  },
  {
   "cell_type": "markdown",
   "id": "4ba0f203",
   "metadata": {},
   "source": [
    "# tuple : round brackets."
   ]
  },
  {
   "cell_type": "code",
   "execution_count": 94,
   "id": "ad121f04",
   "metadata": {},
   "outputs": [
    {
     "name": "stdout",
     "output_type": "stream",
     "text": [
      "3\n"
     ]
    }
   ],
   "source": [
    "list=tuple((\"apple\", \"banana\",\"cherry\"))\n",
    "print(len(list))"
   ]
  },
  {
   "cell_type": "code",
   "execution_count": 97,
   "id": "f1e0de8c",
   "metadata": {},
   "outputs": [
    {
     "name": "stdout",
     "output_type": "stream",
     "text": [
      "<class 'str'>\n"
     ]
    }
   ],
   "source": [
    "l=(\"apple\"\"banana\"\"cherry\")\n",
    "print(type(l))"
   ]
  },
  {
   "cell_type": "code",
   "execution_count": 98,
   "id": "5d577659",
   "metadata": {},
   "outputs": [
    {
     "name": "stdout",
     "output_type": "stream",
     "text": [
      "cherry\n"
     ]
    }
   ],
   "source": [
    "x=(\"apple\",\"banana\",\"cherry\")\n",
    "print(x[2])"
   ]
  },
  {
   "cell_type": "code",
   "execution_count": 99,
   "id": "dca0785a",
   "metadata": {},
   "outputs": [
    {
     "name": "stdout",
     "output_type": "stream",
     "text": [
      "apple\n"
     ]
    }
   ],
   "source": [
    "y=(\"apple\" , \"banana\",\"cherry\")\n",
    "print(y[-3])"
   ]
  },
  {
   "cell_type": "code",
   "execution_count": 104,
   "id": "01d33120",
   "metadata": {},
   "outputs": [
    {
     "name": "stdout",
     "output_type": "stream",
     "text": [
      "5.5\n"
     ]
    }
   ],
   "source": [
    "list=(\"apple\",\"banana\",\"cherry\",55,5.5,)\n",
    "print(list[4])"
   ]
  },
  {
   "cell_type": "code",
   "execution_count": 106,
   "id": "e59a31ea",
   "metadata": {},
   "outputs": [
    {
     "name": "stdout",
     "output_type": "stream",
     "text": [
      "('cherry', 'fruits', 'adnan')\n"
     ]
    }
   ],
   "source": [
    "list=(\"apple\",\"bannana\",\"cherry\",\"fruits\",\"adnan\",\"moin\")\n",
    "print(list[-4:-1])"
   ]
  },
  {
   "cell_type": "code",
   "execution_count": 107,
   "id": "7693ccf7",
   "metadata": {},
   "outputs": [
    {
     "name": "stdout",
     "output_type": "stream",
     "text": [
      "yes 'apple' is in list\n"
     ]
    }
   ],
   "source": [
    "list=(\"apple\",\"banana\",\"cherry\")\n",
    "if \"apple\" in list:\n",
    "    print(\"yes 'apple' is in list\")"
   ]
  },
  {
   "cell_type": "markdown",
   "id": "1dc631c1",
   "metadata": {},
   "source": [
    "# change list item"
   ]
  },
  {
   "cell_type": "code",
   "execution_count": 3,
   "id": "dc72fd10",
   "metadata": {},
   "outputs": [
    {
     "name": "stdout",
     "output_type": "stream",
     "text": [
      "('apple', 'kiwi', 'cherry')\n"
     ]
    }
   ],
   "source": [
    "x=(\"apple\",\"banana\",\"cherry\")\n",
    "y=list(x)\n",
    "y[1]=\"kiwi\"\n",
    "x=tuple(y)\n",
    "print(x)\n",
    "\n"
   ]
  },
  {
   "cell_type": "code",
   "execution_count": 2,
   "id": "91cb258c",
   "metadata": {},
   "outputs": [
    {
     "name": "stdout",
     "output_type": "stream",
     "text": [
      "('apple', 'kiwi', 'cherry')\n"
     ]
    }
   ],
   "source": [
    "x = (\"apple\", \"banana\", \"cherry\")\n",
    "y = list(x)\n",
    "y[1] = \"kiwi\"\n",
    "x = tuple(y)\n",
    "\n",
    "print(x)"
   ]
  },
  {
   "cell_type": "code",
   "execution_count": 10,
   "id": "e25397d2",
   "metadata": {},
   "outputs": [
    {
     "name": "stdout",
     "output_type": "stream",
     "text": [
      "('apple', 'banana', 'cherry', 'orange')\n"
     ]
    }
   ],
   "source": [
    "x=(\"apple\",\"banana\",\"cherry\")\n",
    "a=(\"orange\",)\n",
    "x+=a\n",
    "print(x)"
   ]
  },
  {
   "cell_type": "markdown",
   "id": "3220e64c",
   "metadata": {},
   "source": [
    "# add items in list"
   ]
  },
  {
   "cell_type": "code",
   "execution_count": 12,
   "id": "1c15211e",
   "metadata": {},
   "outputs": [
    {
     "name": "stdout",
     "output_type": "stream",
     "text": [
      "('apple', 'kiwi', 'cherry')\n"
     ]
    }
   ],
   "source": [
    "x=(\"apple\",\"banana\",\"cherry\")\n",
    "y=list(x)\n",
    "y[1]=\"kiwi\"\n",
    "x=tuple(y)\n",
    "print(x)"
   ]
  },
  {
   "cell_type": "code",
   "execution_count": 20,
   "id": "a04f4269",
   "metadata": {},
   "outputs": [
    {
     "data": {
      "text/plain": [
       "('apple', 'banana', 'cherry', 'orange')"
      ]
     },
     "execution_count": 20,
     "metadata": {},
     "output_type": "execute_result"
    }
   ],
   "source": [
    "l=(\"apple\",\"banana\",\"cherry\")\n",
    "x=(\"orange\",)\n",
    "l +=x\n",
    "print(l)\n"
   ]
  },
  {
   "cell_type": "code",
   "execution_count": 6,
   "id": "b18db23c",
   "metadata": {},
   "outputs": [
    {
     "name": "stdout",
     "output_type": "stream",
     "text": [
      "('apple', 'banana', 'mango', 'cherry')\n"
     ]
    }
   ],
   "source": [
    "y=(\"apple\",\"banana\",\"mango\")\n",
    "x=(\"cherry\",)\n",
    "y +=x\n",
    "print(y)"
   ]
  },
  {
   "cell_type": "code",
   "execution_count": 19,
   "id": "fc2cdf03",
   "metadata": {},
   "outputs": [
    {
     "name": "stdout",
     "output_type": "stream",
     "text": [
      "('apple', 'banana', 'mango', 'cherry', 'kiwi', 'orange')\n"
     ]
    }
   ],
   "source": [
    "a=(\"apple\",\"banana\",\"mango\",\"cherry\",\"kiwi\")\n",
    "x=list(a)\n",
    "x.append(\"orange\")\n",
    "a=tuple(x)\n",
    "print(a)"
   ]
  },
  {
   "cell_type": "code",
   "execution_count": 22,
   "id": "fc5bf579",
   "metadata": {},
   "outputs": [
    {
     "name": "stdout",
     "output_type": "stream",
     "text": [
      "('apple', 'banana', 'cherry', 'mango', 'orange')\n"
     ]
    }
   ],
   "source": [
    "x=(\"apple\",\"banana\",\"cherry\",\"mango\")\n",
    "y=list(x)\n",
    "y.append(\"orange\")\n",
    "x=tuple(y)\n",
    "print(x)"
   ]
  },
  {
   "cell_type": "code",
   "execution_count": 15,
   "id": "05745390",
   "metadata": {},
   "outputs": [
    {
     "name": "stdout",
     "output_type": "stream",
     "text": [
      "['apple', 'banana', 'cherry', 'adnan']\n"
     ]
    }
   ],
   "source": [
    "x=(\"apple\",\"banana\",\"cherry\")\n",
    "a=list(x)\n",
    "a.append(\"adnan\")\n",
    "print(a)"
   ]
  },
  {
   "cell_type": "code",
   "execution_count": 23,
   "id": "a3b6d9d9",
   "metadata": {},
   "outputs": [
    {
     "name": "stdout",
     "output_type": "stream",
     "text": [
      "{'akbar', 'moin', 'adnan', 'asad'}\n"
     ]
    }
   ],
   "source": [
    "z=(\"adnan\",\"asad\",\"moin\")\n",
    "y=list(z)\n",
    "y.append(\"akbar\")\n",
    "z=set(y)\n",
    "print(z)\n"
   ]
  },
  {
   "cell_type": "markdown",
   "id": "4053cd88",
   "metadata": {},
   "source": [
    "# unpacked list used *asterisk"
   ]
  },
  {
   "cell_type": "code",
   "execution_count": 26,
   "id": "a99fd0b1",
   "metadata": {},
   "outputs": [
    {
     "name": "stdout",
     "output_type": "stream",
     "text": [
      "apple\n",
      "banana\n",
      "['cherry', 'kiwi', 97]\n"
     ]
    }
   ],
   "source": [
    "list=(\"apple\",\"banana\",\"cherry\",\"kiwi\",97)\n",
    "(x, y, *z)=list\n",
    "print(x)\n",
    "print(y)\n",
    "print(z)"
   ]
  },
  {
   "cell_type": "code",
   "execution_count": 27,
   "id": "10c6178f",
   "metadata": {},
   "outputs": [
    {
     "name": "stdout",
     "output_type": "stream",
     "text": [
      "apple\n",
      "['banana', 'kiwi', 'orange']\n",
      "adnan\n"
     ]
    }
   ],
   "source": [
    "a=(\"apple\",\"banana\",\"kiwi\",\"orange\",\"adnan\")\n",
    "(z,*y,c)=a\n",
    "print(z)\n",
    "print(y)\n",
    "print(c)\n"
   ]
  },
  {
   "cell_type": "code",
   "execution_count": 40,
   "id": "d78a8a6a",
   "metadata": {},
   "outputs": [
    {
     "name": "stdout",
     "output_type": "stream",
     "text": [
      "harry 7\n"
     ]
    }
   ],
   "source": [
    "a=7\n",
    "txt=\"harry {}\"\n",
    "print(txt.format(a))\n"
   ]
  },
  {
   "cell_type": "code",
   "execution_count": null,
   "id": "d21974fd",
   "metadata": {},
   "outputs": [
    {
     "name": "stdout",
     "output_type": "stream",
     "text": [
      "Enter first number:\n"
     ]
    }
   ],
   "source": [
    "print(\"Enter first number:\")\n",
    "n1=input()\n",
    "print(\"Enter second number:\")\n",
    "n2=input()\n",
    "print(\"total\", int(n1)* int(n2))"
   ]
  },
  {
   "cell_type": "code",
   "execution_count": 6,
   "id": "a6674881",
   "metadata": {},
   "outputs": [
    {
     "name": "stdout",
     "output_type": "stream",
     "text": [
      "['apple', 'banana', 'a', 'cherry', 'kiwi']\n",
      "adnan\n"
     ]
    }
   ],
   "source": [
    "thistuple = (\"apple\", \"banana\",'a', \"cherry\",\"kiwi\",\"adnan\")\n",
    "(*x,y)=thistuple\n",
    "print(x)\n",
    "print(y)\n"
   ]
  },
  {
   "cell_type": "markdown",
   "id": "7d0f3db1",
   "metadata": {},
   "source": [
    "# loop tuple"
   ]
  },
  {
   "cell_type": "code",
   "execution_count": 4,
   "id": "764be588",
   "metadata": {},
   "outputs": [
    {
     "name": "stdout",
     "output_type": "stream",
     "text": [
      "apple\n",
      "banana\n",
      "cherry\n"
     ]
    }
   ],
   "source": [
    "thistuple=(\"apple\",\"banana\",\"cherry\")\n",
    "for i in range(len(thistuple)):\n",
    "   print(thistuple[i])"
   ]
  },
  {
   "cell_type": "code",
   "execution_count": 15,
   "id": "c31a593c",
   "metadata": {},
   "outputs": [
    {
     "name": "stdout",
     "output_type": "stream",
     "text": [
      "adnan\n",
      "bnanan\n",
      "kiwi\n"
     ]
    }
   ],
   "source": [
    "a=(\"adnan\",\"bnanan\",\"kiwi\")\n",
    "for z in a:\n",
    "    print(z)"
   ]
  },
  {
   "cell_type": "code",
   "execution_count": 6,
   "id": "64bb18de",
   "metadata": {},
   "outputs": [
    {
     "name": "stdout",
     "output_type": "stream",
     "text": [
      "0\n",
      "1\n",
      "2\n",
      "3\n",
      "4\n"
     ]
    }
   ],
   "source": [
    "a=range(5)\n",
    "for i in a:\n",
    "    print(i)"
   ]
  },
  {
   "cell_type": "code",
   "execution_count": 13,
   "id": "9fe2fe28",
   "metadata": {},
   "outputs": [
    {
     "name": "stdout",
     "output_type": "stream",
     "text": [
      "0\n",
      "1\n",
      "2\n",
      "3\n",
      "4\n",
      "5\n",
      "6\n",
      "7\n"
     ]
    }
   ],
   "source": [
    "x=range(8)\n",
    "for i in x: \n",
    "    print(i)"
   ]
  },
  {
   "cell_type": "code",
   "execution_count": 17,
   "id": "8fa29d29",
   "metadata": {},
   "outputs": [
    {
     "name": "stdout",
     "output_type": "stream",
     "text": [
      "0\n",
      "1\n",
      "2\n",
      "3\n",
      "4\n",
      "5\n"
     ]
    }
   ],
   "source": [
    "for i in range(6):\n",
    "    print(i)"
   ]
  },
  {
   "cell_type": "code",
   "execution_count": 29,
   "id": "0db8d23e",
   "metadata": {},
   "outputs": [
    {
     "name": "stdout",
     "output_type": "stream",
     "text": [
      "hello , world\n",
      "hello , world\n",
      "hello , world\n",
      "hello , world\n",
      "hello , world\n",
      "hello , world\n",
      "hello , world\n",
      "hello , world\n",
      "hello , world\n",
      "hello , world\n",
      "hello , world\n",
      "hello , world\n",
      "hello , world\n"
     ]
    }
   ],
   "source": [
    "#len(13)\n",
    "#index(12)\n",
    "a=\"hello , world\"\n",
    "y=len(a)\n",
    "for i in a:\n",
    "   print(a)"
   ]
  },
  {
   "cell_type": "code",
   "execution_count": 7,
   "id": "756cc969",
   "metadata": {},
   "outputs": [
    {
     "name": "stdout",
     "output_type": "stream",
     "text": [
      "('apple', 'banana', 'cherry', 'kiwi', 'adnan', 1, 2, 4, 3, 5, 4, 3)\n"
     ]
    }
   ],
   "source": [
    "list1=(\"apple\",\"banana\",\"cherry\",\"kiwi\",\"adnan\")\n",
    "list2=(1,2,4,3,5,4,3,)\n",
    "\n",
    "list3= list1 + list2\n",
    "print(list3)"
   ]
  },
  {
   "cell_type": "code",
   "execution_count": 3,
   "id": "088f2c21",
   "metadata": {},
   "outputs": [
    {
     "name": "stdout",
     "output_type": "stream",
     "text": [
      "Error\n"
     ]
    }
   ],
   "source": [
    "age=2\n",
    "\n",
    "if age>=18 :\n",
    "    print(\"You are selected.\")\n",
    "\n",
    "elif age < 18 and age > 3:\n",
    "    print(\"Sorry you are not selected\")\n",
    "    \n",
    "else: \n",
    "    print(\"Error\")"
   ]
  },
  {
   "cell_type": "code",
   "execution_count": 21,
   "id": "78a37c71",
   "metadata": {},
   "outputs": [
    {
     "name": "stdout",
     "output_type": "stream",
     "text": [
      "a\n",
      "d\n",
      "n\n",
      "a\n",
      "n\n"
     ]
    }
   ],
   "source": [
    "l=(\"adnan\")\n",
    "for x in l:\n",
    "    print(x)"
   ]
  },
  {
   "cell_type": "code",
   "execution_count": 36,
   "id": "2f36e838",
   "metadata": {},
   "outputs": [
    {
     "name": "stdout",
     "output_type": "stream",
     "text": [
      "10\n",
      "8\n",
      "6\n",
      "4\n",
      "2\n"
     ]
    }
   ],
   "source": [
    "a=range(10,0,-2)\n",
    "for x in a: \n",
    "    print(x)"
   ]
  },
  {
   "cell_type": "code",
   "execution_count": 33,
   "id": "8941471c",
   "metadata": {},
   "outputs": [
    {
     "name": "stdout",
     "output_type": "stream",
     "text": [
      "0 = a\n",
      "1 = d\n",
      "2 = n\n",
      "3 = a\n",
      "4 = n\n"
     ]
    }
   ],
   "source": [
    "x=(\"adnan\")\n",
    "n=len(x)\n",
    "for i in range(n):\n",
    "    print(i,\"=\", x[i] )\n"
   ]
  },
  {
   "cell_type": "code",
   "execution_count": 44,
   "id": "fa92a395",
   "metadata": {},
   "outputs": [
    {
     "name": "stdout",
     "output_type": "stream",
     "text": [
      "b is greater then a\n"
     ]
    }
   ],
   "source": [
    "a=200\n",
    "b=500\n",
    "\n",
    "if a > b:\n",
    "    print(\"a is  greater then b\")\n",
    "\n",
    "elif a == b:\n",
    "    print(\"a and b are equal\")\n",
    "    \n",
    "else :\n",
    "    print(\"b is greater then a\")"
   ]
  },
  {
   "cell_type": "code",
   "execution_count": 48,
   "id": "b5439b10",
   "metadata": {},
   "outputs": [
    {
     "name": "stdout",
     "output_type": "stream",
     "text": [
      "Hello world\n"
     ]
    }
   ],
   "source": [
    "a=(\"hello world\")\n",
    "print(a.capitalize())"
   ]
  },
  {
   "cell_type": "code",
   "execution_count": 56,
   "id": "9430733c",
   "metadata": {},
   "outputs": [
    {
     "name": "stdout",
     "output_type": "stream",
     "text": [
      "['hello', 'my', 'name', 'is', 'adnan']\n"
     ]
    }
   ],
   "source": [
    "a=\"hello,my,name,is,adnan\"\n",
    "x=a.split(\",\")\n",
    "print(x)"
   ]
  },
  {
   "cell_type": "code",
   "execution_count": 67,
   "id": "ac70723e",
   "metadata": {},
   "outputs": [
    {
     "name": "stdout",
     "output_type": "stream",
     "text": [
      "d h\n"
     ]
    }
   ],
   "source": [
    "a=\"hello world\"\n",
    "print(a[-1::-5])"
   ]
  },
  {
   "cell_type": "markdown",
   "id": "1a00a64a",
   "metadata": {},
   "source": [
    "# to demonstrate any 10 function(method) of string class."
   ]
  },
  {
   "cell_type": "code",
   "execution_count": 71,
   "id": "0c0088f6",
   "metadata": {},
   "outputs": [
    {
     "name": "stdout",
     "output_type": "stream",
     "text": [
      "HELLO WORLD\n"
     ]
    }
   ],
   "source": [
    "a=\"hello world\"\n",
    "print(a.upper())"
   ]
  },
  {
   "cell_type": "code",
   "execution_count": 73,
   "id": "8f9f5397",
   "metadata": {},
   "outputs": [
    {
     "name": "stdout",
     "output_type": "stream",
     "text": [
      "hello world\n"
     ]
    }
   ],
   "source": [
    "x=\"HELLO WORLD\"\n",
    "print(x.casefold())"
   ]
  },
  {
   "cell_type": "code",
   "execution_count": 76,
   "id": "f15e9e95",
   "metadata": {},
   "outputs": [
    {
     "name": "stdout",
     "output_type": "stream",
     "text": [
      "       Adnan        \n"
     ]
    }
   ],
   "source": [
    "x=\"Adnan\"\n",
    "print(x.center(20))"
   ]
  },
  {
   "cell_type": "code",
   "execution_count": 80,
   "id": "b3d296b8",
   "metadata": {},
   "outputs": [
    {
     "name": "stdout",
     "output_type": "stream",
     "text": [
      "3\n"
     ]
    }
   ],
   "source": [
    "a=\"qwertioppieutkdjfskjgfdhsdk\"\n",
    "print(a.count(\"k\"))"
   ]
  },
  {
   "cell_type": "code",
   "execution_count": 81,
   "id": "cab39267",
   "metadata": {},
   "outputs": [
    {
     "name": "stdout",
     "output_type": "stream",
     "text": [
      "adnan\n"
     ]
    }
   ],
   "source": [
    "x=\"ADNAN\"\n",
    "print(x.lower())"
   ]
  },
  {
   "cell_type": "code",
   "execution_count": 82,
   "id": "eb78ccf5",
   "metadata": {},
   "outputs": [
    {
     "name": "stdout",
     "output_type": "stream",
     "text": [
      "I want 10 pieces of items 20 for 512 dollars.\n"
     ]
    }
   ],
   "source": [
    "a=10\n",
    "b=20\n",
    "c=512\n",
    "txt=\"I want {} pieces of items {} for {} dollars.\"\n",
    "print(txt.format(a,b,c))"
   ]
  },
  {
   "cell_type": "code",
   "execution_count": 95,
   "id": "d28f05db",
   "metadata": {},
   "outputs": [
    {
     "name": "stdout",
     "output_type": "stream",
     "text": [
      "[97, 98, 99, 100]\n"
     ]
    }
   ],
   "source": [
    "a=[97,98,99]\n",
    "a.append(100)\n",
    "print(a)"
   ]
  },
  {
   "cell_type": "code",
   "execution_count": 93,
   "id": "dcc3138c",
   "metadata": {},
   "outputs": [
    {
     "name": "stdout",
     "output_type": "stream",
     "text": [
      "[35, 40, 50, 60]\n"
     ]
    }
   ],
   "source": [
    "x=[35,50,60]\n",
    "x.insert(1,40)\n",
    "print(x)"
   ]
  },
  {
   "cell_type": "code",
   "execution_count": 1,
   "id": "c19c23ed",
   "metadata": {},
   "outputs": [
    {
     "name": "stdout",
     "output_type": "stream",
     "text": [
      "['a', 'a', 'd', 'n', 'n']\n"
     ]
    }
   ],
   "source": [
    "a=\"adnan\"\n",
    "x=sorted(a)\n",
    "print(x)"
   ]
  },
  {
   "cell_type": "code",
   "execution_count": 112,
   "id": "ed216a9f",
   "metadata": {},
   "outputs": [
    {
     "name": "stdout",
     "output_type": "stream",
     "text": [
      "is paliandrom\n"
     ]
    }
   ],
   "source": [
    "a=\"malayalam\"\n",
    "b=a[0::]\n",
    "c=a[::-1]\n",
    "if b ==c :\n",
    "    print(\"is paliandrom\")\n",
    "else :\n",
    "    print(\"is not paliandrom\")"
   ]
  },
  {
   "cell_type": "code",
   "execution_count": null,
   "id": "4705cf24",
   "metadata": {},
   "outputs": [],
   "source": [
    "first=int(input(\"Enter first number:\"))\n",
    "operater=input(\"Select operater (+,-,*,/,%):\")\n",
    "second=int(input(\"Enter second number:\"))\n",
    "\n",
    "if operater == \"+\":\n",
    "    print(first+second)\n",
    "elif operater == \"-\":\n",
    "    print(first-second)\n",
    "elif operater == \"*\":\n",
    "    print(first*second)\n",
    "elif operater == \"/\":\n",
    "    print(first-second)\n",
    "elif operater == \"%\" :\n",
    "    print(first%second)\n",
    "else:\n",
    "    print(\"Not Founded\")"
   ]
  },
  {
   "cell_type": "code",
   "execution_count": null,
   "id": "b41c796e",
   "metadata": {},
   "outputs": [],
   "source": [
    "age=2\n",
    "\n",
    "if age >= 18:\n",
    "    print(\"congratulation are you selected.\")\n",
    "elif age < 18 and age > 3: \n",
    "    print(\"so sorry you are not selected.\")\n",
    "else:\n",
    "    print(\"Thankyou\")    "
   ]
  },
  {
   "cell_type": "code",
   "execution_count": 1,
   "id": "a00df82d",
   "metadata": {},
   "outputs": [
    {
     "name": "stdout",
     "output_type": "stream",
     "text": [
      "nnons\n"
     ]
    }
   ],
   "source": [
    "a=\"adnanmoinasadabdul\"\n",
    "print(a[2:12:5])"
   ]
  },
  {
   "cell_type": "code",
   "execution_count": null,
   "id": "8dcf6ac6",
   "metadata": {},
   "outputs": [],
   "source": []
  },
  {
   "cell_type": "code",
   "execution_count": null,
   "id": "c8f4e92e",
   "metadata": {},
   "outputs": [],
   "source": []
  },
  {
   "cell_type": "code",
   "execution_count": null,
   "id": "ea1ab10b",
   "metadata": {},
   "outputs": [],
   "source": []
  },
  {
   "cell_type": "code",
   "execution_count": null,
   "id": "0535d1f8",
   "metadata": {},
   "outputs": [],
   "source": []
  },
  {
   "cell_type": "code",
   "execution_count": null,
   "id": "d3bd3d8e",
   "metadata": {},
   "outputs": [],
   "source": []
  }
 ],
 "metadata": {
  "kernelspec": {
   "display_name": "Python 3 (ipykernel)",
   "language": "python",
   "name": "python3"
  },
  "language_info": {
   "codemirror_mode": {
    "name": "ipython",
    "version": 3
   },
   "file_extension": ".py",
   "mimetype": "text/x-python",
   "name": "python",
   "nbconvert_exporter": "python",
   "pygments_lexer": "ipython3",
   "version": "3.10.4"
  }
 },
 "nbformat": 4,
 "nbformat_minor": 5
}
