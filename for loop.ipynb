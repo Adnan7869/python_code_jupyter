{
 "cells": [
  {
   "cell_type": "code",
   "execution_count": 2,
   "id": "32541cd2",
   "metadata": {},
   "outputs": [
    {
     "name": "stdout",
     "output_type": "stream",
     "text": [
      "apple\n",
      "banana\n"
     ]
    }
   ],
   "source": [
    "x=[\"apple\",\"banana\",\"cherry\",\"pienapple\",\"mango\"]\n",
    "for i in x:\n",
    "    if i==\"cherry\":\n",
    "        break\n",
    "    print(i)"
   ]
  },
  {
   "cell_type": "code",
   "execution_count": 3,
   "id": "08d0aa0c",
   "metadata": {},
   "outputs": [
    {
     "name": "stdout",
     "output_type": "stream",
     "text": [
      "apple\n",
      "banana\n",
      "cherry\n",
      "mango\n",
      "peinapple\n",
      "adnan\n",
      "moin\n",
      "akbar\n"
     ]
    }
   ],
   "source": [
    "x=[\"apple\",\"banana\",\"cherry\",\"kiwi\",\"mango\",\"peinapple\",\"adnan\",\"moin\",\"akbar\"]\n",
    "for i in x:\n",
    "    if i==\"kiwi\":\n",
    "        continue\n",
    "    print(i)"
   ]
  },
  {
   "cell_type": "code",
   "execution_count": 31,
   "id": "3f866405",
   "metadata": {},
   "outputs": [
    {
     "name": "stdout",
     "output_type": "stream",
     "text": [
      "2\n",
      "4\n",
      "6\n",
      "finished item\n"
     ]
    }
   ],
   "source": [
    "for i in range(2,7,2):\n",
    "    print(i)\n",
    "else:\n",
    "    print(\"finished item\")"
   ]
  },
  {
   "cell_type": "code",
   "execution_count": 42,
   "id": "db1d1b08",
   "metadata": {},
   "outputs": [
    {
     "name": "stdout",
     "output_type": "stream",
     "text": [
      "1\n",
      "3\n",
      "7\n"
     ]
    }
   ],
   "source": [
    "for i in range(1,8,2):\n",
    "    if i ==5: continue\n",
    "    print(i)"
   ]
  },
  {
   "cell_type": "markdown",
   "id": "42e5a623",
   "metadata": {},
   "source": [
    "# the break statement"
   ]
  },
  {
   "cell_type": "code",
   "execution_count": 14,
   "id": "2f7cd69d",
   "metadata": {},
   "outputs": [
    {
     "name": "stdout",
     "output_type": "stream",
     "text": [
      "apple\n",
      "banana\n",
      "cherry\n",
      "kiwi\n",
      "peinapple\n",
      "adnan\n",
      "moin\n",
      "akbar\n"
     ]
    }
   ],
   "source": [
    "x=[\"apple\",\"banana\",\"cherry\",\"kiwi\",\"mango\",\"peinapple\",\"adnan\",\"moin\",\"akbar\"]\n",
    "for i in x:\n",
    "    if i==\"mango\":\n",
    "        continue\n",
    "    print(i)"
   ]
  },
  {
   "cell_type": "code",
   "execution_count": 4,
   "id": "4e6a4193",
   "metadata": {},
   "outputs": [
    {
     "name": "stdout",
     "output_type": "stream",
     "text": [
      "0\n",
      "1\n",
      "2\n",
      "3\n"
     ]
    }
   ],
   "source": [
    "x=[\"apple\",\"banana\",\"cherry\",\"kiwi\"]\n",
    "for x in range(len(x)):\n",
    "    if x==\"cherry\":\n",
    "        break\n",
    "    print(x)"
   ]
  },
  {
   "cell_type": "code",
   "execution_count": 48,
   "id": "502f3f96",
   "metadata": {},
   "outputs": [
    {
     "name": "stdout",
     "output_type": "stream",
     "text": [
      "1 a\n",
      "1 b\n",
      "1 c\n",
      "1 d\n",
      "1 e\n",
      "1 f\n",
      "2 a\n",
      "2 b\n",
      "2 c\n",
      "2 d\n",
      "2 e\n",
      "2 f\n",
      "3 a\n",
      "3 b\n",
      "3 c\n",
      "3 d\n",
      "3 e\n",
      "3 f\n",
      "4 a\n",
      "4 b\n",
      "4 c\n",
      "4 d\n",
      "4 e\n",
      "4 f\n",
      "5 a\n",
      "5 b\n",
      "5 c\n",
      "5 d\n",
      "5 e\n",
      "5 f\n"
     ]
    }
   ],
   "source": [
    "x=[1,2,3,4,5]\n",
    "y=[\"a\",\"b\",\"c\",\"d\",\"e\",\"f\"]\n",
    "for i in x:\n",
    "    for p in y:\n",
    "        print(i,p)"
   ]
  },
  {
   "cell_type": "code",
   "execution_count": 7,
   "id": "79b3bb84",
   "metadata": {},
   "outputs": [
    {
     "name": "stdout",
     "output_type": "stream",
     "text": [
      "*  \n",
      "**  \n",
      "***  \n",
      "****  \n",
      "*****  \n"
     ]
    }
   ],
   "source": [
    "for i in range(1,6):\n",
    "    for j in range(1,i+1):\n",
    "        print('*',end='')\n",
    "    print('  ')\n",
    "    "
   ]
  },
  {
   "cell_type": "code",
   "execution_count": 61,
   "id": "ad386bfc",
   "metadata": {},
   "outputs": [
    {
     "name": "stdout",
     "output_type": "stream",
     "text": [
      "adnan\n",
      "adnan\n",
      "adnan\n"
     ]
    }
   ],
   "source": [
    "i=0 # initialise value\n",
    "while i < 3:\n",
    "    i=i+1 \n",
    "    print(\"adnan\")"
   ]
  },
  {
   "cell_type": "code",
   "execution_count": 63,
   "id": "fe97f7c0",
   "metadata": {},
   "outputs": [
    {
     "name": "stdout",
     "output_type": "stream",
     "text": [
      "1\n",
      "2\n",
      "3\n",
      "4\n",
      "5\n",
      "6\n",
      "7\n",
      "8\n",
      "9\n",
      "10\n"
     ]
    }
   ],
   "source": [
    "i=1\n",
    "while i <=10:\n",
    "    print(i)\n",
    "    i=i+1"
   ]
  },
  {
   "cell_type": "code",
   "execution_count": null,
   "id": "4e33fedd",
   "metadata": {},
   "outputs": [],
   "source": [
    "for i in range(6):\n",
    "    for i in range(i+1):\n",
    "        print(1,end='')\n",
    "    print('')"
   ]
  },
  {
   "cell_type": "code",
   "execution_count": 4,
   "id": "86702b16",
   "metadata": {},
   "outputs": [
    {
     "name": "stdout",
     "output_type": "stream",
     "text": [
      "(1, 2, 3, 4, 5)\n"
     ]
    }
   ],
   "source": [
    "t=(1,2,3,4)\n",
    "x=list(t)\n",
    "x.append(5)\n",
    "y=tuple(x)\n",
    "print(y)"
   ]
  },
  {
   "cell_type": "code",
   "execution_count": 9,
   "id": "9284d06a",
   "metadata": {},
   "outputs": [
    {
     "name": "stdout",
     "output_type": "stream",
     "text": [
      "do you like snow days?no\n",
      "i hate shovelling snow\n"
     ]
    }
   ],
   "source": [
    "snow=input(\"do you like snow days?\")\n",
    "if snow == \"yes\":\n",
    "    print(\"we all love snow days\")\n",
    "if snow == \"no\":\n",
    "    print(\"i hate shovelling snow\")"
   ]
  },
  {
   "cell_type": "code",
   "execution_count": 6,
   "id": "6f5949ec",
   "metadata": {},
   "outputs": [
    {
     "name": "stdout",
     "output_type": "stream",
     "text": [
      "-3\n",
      "if true print negative.\n",
      "if true print the number -3\n"
     ]
    }
   ],
   "source": [
    "partner=int(input())\n",
    "if partner >0:\n",
    "    print(\"if true print positive.\")\n",
    "if partner <=-1:\n",
    "    print(\"if true print negative.\")\n",
    "if partner ==0:\n",
    "    print(\"if true print the number 0\")\n",
    "if partner ==13:\n",
    "    print(\"if true print the number 13\")\n",
    "if partner ==-3:\n",
    "    print(\"if true print the number -3\")"
   ]
  },
  {
   "cell_type": "code",
   "execution_count": 15,
   "id": "7b68f93e",
   "metadata": {},
   "outputs": [
    {
     "name": "stdout",
     "output_type": "stream",
     "text": [
      "2\n",
      "sorry user not found\n"
     ]
    }
   ],
   "source": [
    "user=str(input())\n",
    "if user == \"Toms River\":\n",
    "    print(\"town lakehurst\")\n",
    "else:\n",
    "    print(\"sorry user not found\")"
   ]
  },
  {
   "cell_type": "code",
   "execution_count": 5,
   "id": "483c4e73",
   "metadata": {},
   "outputs": [
    {
     "name": "stdout",
     "output_type": "stream",
     "text": [
      "0.5\n",
      "i think this is a good price\n"
     ]
    }
   ],
   "source": [
    "akbar=float(input())\n",
    "if akbar <1:\n",
    "    print(\"i think this is a good price\")\n",
    "if akbar >1:\n",
    "    print(\"i think this is expensive price\")"
   ]
  },
  {
   "cell_type": "code",
   "execution_count": 6,
   "id": "66e9bde5",
   "metadata": {},
   "outputs": [
    {
     "name": "stdout",
     "output_type": "stream",
     "text": [
      "do you went to play robloxyes\n",
      "this is right choice.\n"
     ]
    }
   ],
   "source": [
    "roblox=str(input(\"do you went to play roblox\"))\n",
    "if roblox == \"yes\":\n",
    "    print(\"this is right choice.\")\n",
    "if roblox == \"no\":\n",
    "    print(\"Mr Cheng’s daughter will be very disappointed\")"
   ]
  },
  {
   "cell_type": "code",
   "execution_count": 1,
   "id": "68ce7f3b",
   "metadata": {},
   "outputs": [
    {
     "name": "stdout",
     "output_type": "stream",
     "text": [
      "['a', 'b', 'c', 'bnanan', 'cherry']\n"
     ]
    }
   ],
   "source": [
    "thislist=[\"apple\",\"bnanan\",\"cherry\"]\n",
    "thislist[0:1]=[\"a\",\"b\",\"c\"]\n",
    "print(thislist)"
   ]
  },
  {
   "cell_type": "code",
   "execution_count": null,
   "id": "fa794f88",
   "metadata": {},
   "outputs": [],
   "source": [
    "i = 0\n",
    "while i < 6:\n",
    "    if i == 3:\n",
    "        break\n",
    "    print(i)\n",
    "    i=i+1"
   ]
  },
  {
   "cell_type": "code",
   "execution_count": 2,
   "id": "bb73d77a",
   "metadata": {},
   "outputs": [
    {
     "name": "stdout",
     "output_type": "stream",
     "text": [
      "1\n",
      "2\n",
      "4\n",
      "5\n",
      "6\n"
     ]
    }
   ],
   "source": [
    "i = 0\n",
    "while i < 6:\n",
    "    i=i+1\n",
    "    if i == 3:\n",
    "        continue\n",
    "    print(i)"
   ]
  },
  {
   "cell_type": "code",
   "execution_count": 6,
   "id": "009f053e",
   "metadata": {},
   "outputs": [
    {
     "name": "stdout",
     "output_type": "stream",
     "text": [
      "0\n",
      "1\n",
      "2\n",
      "4\n",
      "5\n"
     ]
    }
   ],
   "source": [
    "for i in range(0,6):\n",
    "    if i==3:\n",
    "        continue\n",
    "    print(i)"
   ]
  },
  {
   "cell_type": "code",
   "execution_count": 2,
   "id": "5f6e7ff7",
   "metadata": {},
   "outputs": [
    {
     "name": "stdout",
     "output_type": "stream",
     "text": [
      "9\n",
      "odd\n"
     ]
    }
   ],
   "source": [
    "i=int(input())\n",
    "while i>0:\n",
    "    if i%2==0:\n",
    "        print(\"even\")\n",
    "    else:\n",
    "        print(\"odd\")\n",
    "    i=i-i"
   ]
  },
  {
   "cell_type": "code",
   "execution_count": 1,
   "id": "dd10d424",
   "metadata": {},
   "outputs": [
    {
     "ename": "NameError",
     "evalue": "name 'a' is not defined",
     "output_type": "error",
     "traceback": [
      "\u001b[1;31m---------------------------------------------------------------------------\u001b[0m",
      "\u001b[1;31mNameError\u001b[0m                                 Traceback (most recent call last)",
      "Input \u001b[1;32mIn [1]\u001b[0m, in \u001b[0;36m<cell line: 3>\u001b[1;34m()\u001b[0m\n\u001b[0;32m      1\u001b[0m a\u001b[38;5;241m=\u001b[39m[\u001b[38;5;124m\"\u001b[39m\u001b[38;5;124mcheweery\u001b[39m\u001b[38;5;124m\"\u001b[39m,\u001b[38;5;124m\"\u001b[39m\u001b[38;5;124mjhdgcj\u001b[39m\u001b[38;5;124m\"\u001b[39m,\u001b[38;5;241m1\u001b[39m,\u001b[38;5;241m23\u001b[39m]\n\u001b[0;32m      2\u001b[0m \u001b[38;5;28;01mdel\u001b[39;00m a\n\u001b[1;32m----> 3\u001b[0m \u001b[38;5;28mprint\u001b[39m(\u001b[43ma\u001b[49m)\n",
      "\u001b[1;31mNameError\u001b[0m: name 'a' is not defined"
     ]
    }
   ],
   "source": [
    "a=[\"cheweery\",\"jhdgcj\",1,23]\n",
    "del a\n",
    "print(a)"
   ]
  },
  {
   "cell_type": "code",
   "execution_count": 3,
   "id": "63751b08",
   "metadata": {},
   "outputs": [
    {
     "name": "stdout",
     "output_type": "stream",
     "text": [
      "[1, 3, 4]\n"
     ]
    }
   ],
   "source": [
    "a=[1,2,3,4]\n",
    "del a[1]\n",
    "print(a)"
   ]
  },
  {
   "cell_type": "code",
   "execution_count": 1,
   "id": "a8638cc5",
   "metadata": {},
   "outputs": [
    {
     "name": "stdout",
     "output_type": "stream",
     "text": [
      "[1, 2, 3, 4, 5, 6]\n"
     ]
    }
   ],
   "source": [
    "thislist=[1,2,3]\n",
    "thislist.extend([4,5,6])\n",
    "print(thislist)"
   ]
  },
  {
   "cell_type": "code",
   "execution_count": 9,
   "id": "e627733e",
   "metadata": {},
   "outputs": [
    {
     "name": "stdout",
     "output_type": "stream",
     "text": [
      "\n"
     ]
    }
   ],
   "source": [
    "x=\"hello world\"\n",
    "a=x[2:-10:1]\n",
    "print(a)"
   ]
  },
  {
   "cell_type": "code",
   "execution_count": 8,
   "id": "c4e665cc",
   "metadata": {},
   "outputs": [
    {
     "name": "stdout",
     "output_type": "stream",
     "text": [
      "3\n",
      "3 odd\n"
     ]
    }
   ],
   "source": [
    "user=int(input())\n",
    "if user%2==0:\n",
    "    print(user,\"even number\")\n",
    "else:\n",
    "    print(user,\"odd\")"
   ]
  },
  {
   "cell_type": "code",
   "execution_count": 8,
   "id": "e305666e",
   "metadata": {},
   "outputs": [
    {
     "name": "stdout",
     "output_type": "stream",
     "text": [
      "a\n",
      "p\n",
      "p\n",
      "l\n",
      "e\n"
     ]
    }
   ],
   "source": [
    "for l in \"apple\":\n",
    "    if l=='m':\n",
    "        pass\n",
    "    print(l)"
   ]
  },
  {
   "cell_type": "code",
   "execution_count": 31,
   "id": "85497fe1",
   "metadata": {},
   "outputs": [
    {
     "name": "stdout",
     "output_type": "stream",
     "text": [
      "5\n"
     ]
    }
   ],
   "source": [
    "a=1\n",
    "x=0\n",
    "b=-5\n",
    "if  a>0:\n",
    "    if b<0:\n",
    "        x=x+5\n",
    "    elif a>5:\n",
    "        x=x+4\n",
    "    else:\n",
    "        x=x+3    \n",
    "else:\n",
    "    x=x+2"
   ]
  },
  {
   "cell_type": "code",
   "execution_count": 33,
   "id": "587f0146",
   "metadata": {},
   "outputs": [
    {
     "name": "stdout",
     "output_type": "stream",
     "text": [
      "20 mango\n",
      "20 apple\n",
      "50 mango\n",
      "50 apple\n"
     ]
    }
   ],
   "source": [
    "number=[20,50]\n",
    "items=[\"mango\",\"apple\"]\n",
    "for x in number:\n",
    "    for a in items:\n",
    "        print(x,a)"
   ]
  },
  {
   "cell_type": "code",
   "execution_count": 41,
   "id": "82d7bbc9",
   "metadata": {},
   "outputs": [
    {
     "name": "stdout",
     "output_type": "stream",
     "text": [
      "3 a\n",
      "3 b\n",
      "46 a\n",
      "46 b\n",
      "8 a\n",
      "8 b\n",
      "9 a\n",
      "9 b\n"
     ]
    }
   ],
   "source": [
    "a = [3,46,8,9]\n",
    "b=[\"a\",\"b\"]\n",
    "for i in a:\n",
    "    for v in b:\n",
    "        print(i,v)"
   ]
  },
  {
   "cell_type": "code",
   "execution_count": 138,
   "id": "ee97155b",
   "metadata": {},
   "outputs": [
    {
     "name": "stdout",
     "output_type": "stream",
     "text": [
      "75\n",
      "75\n",
      "75\n",
      "75\n",
      "75\n",
      "75\n",
      "75\n",
      "75\n",
      "75\n",
      "75\n",
      "75\n"
     ]
    }
   ],
   "source": [
    "var = 75\n",
    "for i in range(11):\n",
    "    for j in range(3, 10, 1):\n",
    "        if var % 2 == 0:\n",
    "            continue\n",
    "            var += 1\n",
    "    print(var)\n",
    "    \n",
    "           "
   ]
  },
  {
   "cell_type": "code",
   "execution_count": 245,
   "id": "9c3dd660",
   "metadata": {},
   "outputs": [
    {
     "name": "stdout",
     "output_type": "stream",
     "text": [
      "-9\n",
      "-9\n",
      "-9\n",
      "-9\n",
      "-9\n",
      "-9\n",
      "-9\n",
      "-9\n",
      "-9\n",
      "-9\n"
     ]
    }
   ],
   "source": [
    "x = 0\n",
    "for i in range(10):\n",
    "    for j in range(-1, -10, -1):\n",
    "        x += 1\n",
    "    print(j)"
   ]
  },
  {
   "cell_type": "code",
   "execution_count": 157,
   "id": "aa9aec3f",
   "metadata": {},
   "outputs": [
    {
     "name": "stdout",
     "output_type": "stream",
     "text": [
      "30\n"
     ]
    }
   ],
   "source": [
    "var = 20\n",
    "for i in range(10):\n",
    "    \n",
    "    var+=1\n",
    "print(var)"
   ]
  },
  {
   "cell_type": "code",
   "execution_count": 11,
   "id": "8e718a79",
   "metadata": {},
   "outputs": [
    {
     "name": "stdout",
     "output_type": "stream",
     "text": [
      "1 \n",
      "1 2 \n",
      "1 2 3 \n",
      "1 2 3 4 \n",
      "1 2 3 4 5 \n",
      "1 2 3 4 5 6 \n"
     ]
    }
   ],
   "source": [
    "for i in range(1,7,1):\n",
    "    for j in range(1,i+1):\n",
    "        print(j,end=\" \")\n",
    "    print()    "
   ]
  },
  {
   "cell_type": "code",
   "execution_count": 181,
   "id": "3ac219eb",
   "metadata": {},
   "outputs": [
    {
     "name": "stdout",
     "output_type": "stream",
     "text": [
      "10\n",
      "11\n",
      "12\n",
      "14\n"
     ]
    }
   ],
   "source": [
    "for num in range(10, 15):\n",
    "    if num==13:\n",
    "        continue\n",
    "    print(num)\n",
    "            \n",
    "            "
   ]
  },
  {
   "cell_type": "code",
   "execution_count": 19,
   "id": "d9ee313b",
   "metadata": {},
   "outputs": [
    {
     "name": "stdout",
     "output_type": "stream",
     "text": [
      "1 \n",
      "\n",
      "1 2 \n",
      "\n",
      "1 2 3 \n",
      "\n",
      "1 2 3 4 \n",
      "\n",
      "1 2 3 4 5 \n",
      "\n"
     ]
    }
   ],
   "source": [
    "for i in range(1,6):\n",
    "    for j in range(1,i+1):\n",
    "        print(j,end=' ')\n",
    "    print(\"\\n\")"
   ]
  },
  {
   "cell_type": "code",
   "execution_count": 241,
   "id": "5a6d438c",
   "metadata": {},
   "outputs": [
    {
     "name": "stdout",
     "output_type": "stream",
     "text": [
      "1\n",
      "25\n",
      "144\n",
      "10404\n"
     ]
    }
   ],
   "source": [
    "l=[1,5,12,102]\n",
    "x=len(l)\n",
    "for i in range(x):\n",
    "    print(l[i]*l[i])\n",
    "    # i= index value of l\n",
    "    # l is the lenth of the list"
   ]
  },
  {
   "cell_type": "code",
   "execution_count": 230,
   "id": "dcc4d2a0",
   "metadata": {},
   "outputs": [
    {
     "name": "stdout",
     "output_type": "stream",
     "text": [
      "abcd\n",
      "abcd\n",
      "abcd\n",
      "abcd\n"
     ]
    }
   ],
   "source": [
    "x=\"abcd\"\n",
    "l=len(x)\n",
    "for i in range(l):\n",
    "    print(x)"
   ]
  },
  {
   "cell_type": "code",
   "execution_count": 22,
   "id": "3cc1cc92",
   "metadata": {},
   "outputs": [
    {
     "name": "stdout",
     "output_type": "stream",
     "text": [
      "1 2 3 4 5   \n",
      "1 2 3 4   \n",
      "1 2 3   \n",
      "1 2   \n",
      "1   \n"
     ]
    }
   ],
   "source": [
    "for i in range(5,0,-1):\n",
    "    for j in range(i):\n",
    "        print(j+1,end=' ')\n",
    "    print('  ')"
   ]
  },
  {
   "cell_type": "code",
   "execution_count": 258,
   "id": "0cf31875",
   "metadata": {},
   "outputs": [
    {
     "name": "stdout",
     "output_type": "stream",
     "text": [
      "55\n",
      "1  \n",
      "3  \n",
      "6  \n",
      "10  \n",
      "15  \n",
      "21  \n",
      "28  \n",
      "36  \n",
      "45  \n",
      "55  \n"
     ]
    }
   ],
   "source": [
    "s=0\n",
    "n=int(input())\n",
    "for i in range(1,i+1,1):\n",
    "    s=s+i\n",
    "    print(s,\" \")"
   ]
  },
  {
   "cell_type": "code",
   "execution_count": 264,
   "id": "277b95a2",
   "metadata": {},
   "outputs": [
    {
     "name": "stdout",
     "output_type": "stream",
     "text": [
      "2\n",
      "4\n",
      "6\n",
      "8\n",
      "10\n",
      "12\n",
      "14\n",
      "16\n",
      "18\n",
      "20\n"
     ]
    }
   ],
   "source": [
    "n=2\n",
    "for i in range(1,11):\n",
    "    s=n*i\n",
    "    print(s)"
   ]
  },
  {
   "cell_type": "code",
   "execution_count": 319,
   "id": "35006256",
   "metadata": {},
   "outputs": [
    {
     "name": "stdout",
     "output_type": "stream",
     "text": [
      "75\n",
      "150\n",
      "145\n"
     ]
    }
   ],
   "source": [
    "number=[12,75,150,180,145,525,50]\n",
    "for i in number:\n",
    "    if i > 500:\n",
    "        break\n",
    "    elif i > 150:\n",
    "        continue\n",
    "    elif i%5==0:\n",
    "        print(i)"
   ]
  },
  {
   "cell_type": "code",
   "execution_count": 24,
   "id": "61a5b24d",
   "metadata": {},
   "outputs": [
    {
     "name": "stdout",
     "output_type": "stream",
     "text": [
      "1  \n",
      "1 2  \n",
      "1 2 3  \n",
      "1 2 3 4  \n",
      "1 2 3 4 5  \n"
     ]
    }
   ],
   "source": [
    "\n",
    "for i in range(1,6):#6\n",
    "    for j in range(i):\n",
    "        print(j+1,end=' ')\n",
    "    print(' ')"
   ]
  },
  {
   "cell_type": "code",
   "execution_count": 26,
   "id": "53320548",
   "metadata": {},
   "outputs": [
    {
     "name": "stdout",
     "output_type": "stream",
     "text": [
      "1 2 3 4 5  \n",
      "1 2 3 4  \n",
      "1 2 3  \n",
      "1 2  \n",
      "1  \n"
     ]
    }
   ],
   "source": [
    "for i in range(1,6):\n",
    "    for j in range(i,6):\n",
    "        print(j-i+1,end=' ')\n",
    "    print(' ')    \n",
    "        "
   ]
  },
  {
   "cell_type": "code",
   "execution_count": 321,
   "id": "c4627c65",
   "metadata": {},
   "outputs": [
    {
     "name": "stdout",
     "output_type": "stream",
     "text": [
      "50\n",
      "40\n",
      "30\n",
      "20\n",
      "10\n"
     ]
    }
   ],
   "source": [
    "x=[10,20,30,40,50]\n",
    "y=reversed(x)\n",
    "for i in y:\n",
    "    print(i)"
   ]
  },
  {
   "cell_type": "code",
   "execution_count": 326,
   "id": "e3370713",
   "metadata": {},
   "outputs": [
    {
     "name": "stdout",
     "output_type": "stream",
     "text": [
      "-10\n",
      "-9\n",
      "-8\n",
      "-7\n",
      "-6\n",
      "-5\n",
      "-4\n",
      "-3\n",
      "-2\n",
      "-1\n"
     ]
    }
   ],
   "source": [
    "x=[-1,-2,-3,-4,-5,-6,-7,-8,-9,-10]\n",
    "y=reversed(x)\n",
    "for i in y :\n",
    "    print(i)"
   ]
  },
  {
   "cell_type": "code",
   "execution_count": 338,
   "id": "13fd1e4c",
   "metadata": {},
   "outputs": [
    {
     "name": "stdout",
     "output_type": "stream",
     "text": [
      "prime number 1 and 10 are:\n",
      "2\n",
      "3\n",
      "5\n",
      "7\n"
     ]
    }
   ],
   "source": [
    "x=1\n",
    "y=10\n",
    "print(\"prime number\",x, \"and\", y, \"are:\")\n",
    "for num in range(x,y+1):\n",
    "    if num>1:\n",
    "        for i in range(2,num):\n",
    "            if num%i==0:\n",
    "                 break\n",
    "        else:\n",
    "            \n",
    "            print(num)\n",
    "                \n",
    "        "
   ]
  },
  {
   "cell_type": "code",
   "execution_count": 344,
   "id": "eb4e9606",
   "metadata": {},
   "outputs": [
    {
     "name": "stdout",
     "output_type": "stream",
     "text": [
      " \n",
      "*  \n",
      "* *  \n",
      "* * *  \n",
      "* * * *  \n",
      "* * * * *  \n"
     ]
    }
   ],
   "source": [
    "n=6\n",
    "for i in range(1,n+1):\n",
    "    for j in range(i,1,-1):\n",
    "        print(\"*\",end=' ')\n",
    "    print(' ')"
   ]
  },
  {
   "cell_type": "code",
   "execution_count": 39,
   "id": "6413581d",
   "metadata": {},
   "outputs": [
    {
     "name": "stdout",
     "output_type": "stream",
     "text": [
      "* * * * *  \n",
      "* * * *  \n",
      "* * *  \n",
      "* *  \n",
      "*  \n"
     ]
    }
   ],
   "source": [
    "k=5\n",
    "for i in range(1,6):\n",
    "    for j in range(k-i,-1,-1):\n",
    "        print(\"*\",end=' ')\n",
    "    print(' ')"
   ]
  },
  {
   "cell_type": "code",
   "execution_count": 29,
   "id": "27bbd936",
   "metadata": {},
   "outputs": [
    {
     "name": "stdout",
     "output_type": "stream",
     "text": [
      "1 2 3 4 5  \n",
      "1 2 3 4  \n",
      "1 2 3  \n",
      "1 2  \n",
      "1  \n"
     ]
    }
   ],
   "source": [
    "for i in range(1,6):\n",
    "    for j in range(i,6):\n",
    "        print(j-i+1,end=' ')\n",
    "    print(' ')"
   ]
  },
  {
   "cell_type": "code",
   "execution_count": 419,
   "id": "e7a13ebf",
   "metadata": {},
   "outputs": [
    {
     "name": "stdout",
     "output_type": "stream",
     "text": [
      "fibonacci sequence\n",
      "0 1 1 2 3 5 8 13 21 34 "
     ]
    }
   ],
   "source": [
    "num1,num2=0,1\n",
    "print(\"fibonacci sequence\")\n",
    "for i in range(10):\n",
    "    print(num1,end=' ')\n",
    "    res=num1+num2\n",
    "    # update the value\n",
    "    num1=num2\n",
    "    num2=res"
   ]
  },
  {
   "cell_type": "code",
   "execution_count": 32,
   "id": "79ac5221",
   "metadata": {},
   "outputs": [
    {
     "name": "stdout",
     "output_type": "stream",
     "text": [
      "A  \n",
      "A B  \n",
      "A B C  \n",
      "A B C D  \n",
      "A B C D E  \n"
     ]
    }
   ],
   "source": [
    "for i in range(1,6):\n",
    "    k=ord(\"A\")\n",
    "    for j in range(i):\n",
    "        print(chr(k),end=\" \")\n",
    "        k=k+1\n",
    "    print(' ')"
   ]
  },
  {
   "cell_type": "code",
   "execution_count": 604,
   "id": "c01d47a2",
   "metadata": {},
   "outputs": [
    {
     "name": "stdout",
     "output_type": "stream",
     "text": [
      "A  \n",
      "B C  \n",
      "D E F  \n",
      "G H I J  \n",
      "K L M N O  \n"
     ]
    }
   ],
   "source": [
    "n=6\n",
    "k=ord(\"A\")\n",
    "for i in range(1,n):\n",
    "    for j in range(i):\n",
    "        print(chr(k),end=\" \")\n",
    "        k=k+1\n",
    "    print(' ')"
   ]
  },
  {
   "cell_type": "code",
   "execution_count": 605,
   "id": "860d779b",
   "metadata": {},
   "outputs": [
    {
     "name": "stdout",
     "output_type": "stream",
     "text": [
      "*  \n",
      "* *  \n",
      "* * *  \n",
      "* * * *  \n",
      "* * * * *  \n"
     ]
    }
   ],
   "source": [
    "for i in range(1,6):\n",
    "    for j in range(i):\n",
    "        print('*',end=' ')\n",
    "    print(' ')"
   ]
  },
  {
   "cell_type": "code",
   "execution_count": 23,
   "id": "8b13055e",
   "metadata": {},
   "outputs": [
    {
     "name": "stdout",
     "output_type": "stream",
     "text": [
      "Some Basic Concepts Of Chemistry\n",
      "Structure Of Atom\n",
      "Classification Of Elements And Periodicity In Properties\n",
      "Chemical Bonding And Molecular Structure\n",
      "States Of Matter\n",
      "Thermodynamics\n",
      "Equilibrium\n",
      "Redox Reactions\n",
      "Hydrogen\n",
      "The S Block Elements\n",
      "The P Block Elements\n",
      "Organic Chemistry\n",
      "Hydrocarbons\n",
      "Environmental Chemistry\n",
      "The Solid State\n",
      "Solutions\n",
      "Electrochemistry\n",
      "Chemical Kinetics\n",
      "Surface Chemistry\n",
      "General Principles And Processes Of Isolation Of Elements\n",
      "The D And F Block Elements\n",
      "Coordination Compounds\n",
      "Haloalkanes And Haloarenes\n",
      "Alcohols Phenols And Ethers\n",
      "Aldehydes Ketones And Carboxylic Acids\n",
      "Amines\n",
      "Biomolecules\n",
      "Polymers\n",
      "Chemistry In Everyday Life\n"
     ]
    }
   ],
   "source": [
    "with open('Chemistry.txt','r') as f:\n",
    "    f_contents=f.read()\n",
    "    print(f_contents)"
   ]
  },
  {
   "cell_type": "code",
   "execution_count": 2,
   "id": "d594b615",
   "metadata": {},
   "outputs": [
    {
     "name": "stdout",
     "output_type": "stream",
     "text": [
      "Some_Basic_Concepts_Of_Chemistry\n",
      "Structure_Of_Atom\n",
      "Classification_Of_Elements_And_Periodicity_In_Properties\n",
      "Chemical_Bonding_And_Molecular_Structure\n",
      "States_Of_Matter\n",
      "Thermodynamics\n",
      "Equilibrium\n",
      "Redox_Reactions\n",
      "Hydrogen\n",
      "The_S_Block_Elements\n",
      "The_P_Block_Elements\n",
      "Organic_Chemistry\n",
      "Hydrocarbons\n",
      "Environmental_Chemistry\n",
      "The_Solid_State\n",
      "Solutions\n",
      "Electrochemistry\n",
      "Chemical_Kinetics\n",
      "Surface_Chemistry\n",
      "General_Principles_And_Processes_Of_Isolation_Of_Elements\n",
      "The_D_And_F_Block_Elements\n",
      "Coordination_Compounds\n",
      "Haloalkanes_And_Haloarenes\n",
      "Alcohols_Phenols_And_Ethers\n",
      "Aldehydes_Ketones_And_Carboxylic_Acids\n",
      "Amines\n",
      "Biomolecules\n",
      "Polymers\n",
      "Chemistry_In_Everyday_Life\n"
     ]
    }
   ],
   "source": [
    "f = open('Chemistry.txt', 'r')\n",
    "text=f.read()\n",
    "f.close()\n",
    "f=open('output.txt','w')\n",
    "text2=' '\n",
    "if ' ' in text:\n",
    "    text2=text.replace(' ','_')\n",
    "    print(text2)\n",
    "    f.write(text2)\n",
    "f.close()\n"
   ]
  },
  {
   "cell_type": "code",
   "execution_count": 13,
   "id": "c70348a0",
   "metadata": {},
   "outputs": [
    {
     "name": "stdout",
     "output_type": "stream",
     "text": [
      "Some Basic Concepts Of Chemistry\n",
      "Structure Of Atom\n",
      "Classification Of Elements And Periodicity In Properties\n",
      "Chemical Bonding And Molecular Structure\n",
      "States Of Matter\n",
      "Thermodynamics\n",
      "Equilibrium\n",
      "Redox Reactions\n",
      "Hydrogen\n",
      "The S Block Elements\n",
      "The P Block Elements\n",
      "Organic Chemistry\n",
      "Hydrocarbons\n",
      "Environmental Chemistry\n",
      "The Solid State\n",
      "Solutions\n",
      "Electrochemistry\n",
      "Chemical Kinetics\n",
      "Surface Chemistry\n",
      "General Principles And Processes Of Isolation Of Elements\n",
      "The D And F Block Elements\n",
      "Coordination Compounds\n",
      "Haloalkanes And Haloarenes\n",
      "Alcohols Phenols And Ethers\n",
      "Aldehydes Ketones And Carboxylic Acids\n",
      "Amines\n",
      "Biomolecules\n",
      "Polymers\n",
      "Chemistry In Everyday Life\n",
      "Some_Basic_Concepts_Of_Chemistry = 1\n",
      "Structure_Of_Atom = 2\n",
      "Classification_Of_Elements_And_Periodicity_In_Properties = 3\n",
      "Chemical_Bonding_And_Molecular_Structure = 4\n",
      "States_Of_Matter = 5\n",
      "Thermodynamics = 6\n",
      "Equilibrium = 7\n",
      "Redox_Reactions = 8\n",
      "Hydrogen = 9\n",
      "The_S_Block_Elements = 10\n",
      "The_P_Block_Elements = 11\n",
      "Organic_Chemistry = 12\n",
      "Hydrocarbons = 13\n",
      "Environmental_Chemistry = 14\n",
      "The_Solid_State = 15\n",
      "Solutions = 16\n",
      "Electrochemistry = 17\n",
      "Chemical_Kinetics = 18\n",
      "Surface_Chemistry = 19\n",
      "General_Principles_And_Processes_Of_Isolation_Of_Elements = 20\n",
      "The_D_And_F_Block_Elements = 21\n",
      "Coordination_Compounds = 22\n",
      "Haloalkanes_And_Haloarenes = 23\n",
      "Alcohols_Phenols_And_Ethers = 24\n",
      "Aldehydes_Ketones_And_Carboxylic_Acids = 25\n",
      "Amines = 26\n",
      "Biomolecules = 27\n",
      "Polymers = 28\n",
      "Chemistry_In_Everyday_Life = 29\n"
     ]
    }
   ],
   "source": [
    "f=open(\"Chemistry.txt\",\"r\")\n",
    "print(f.read())\n",
    "count=0\n",
    "f=open(\"Chemistry.txt\",\"r\")\n",
    "for i in f:\n",
    "    b=i.replace(\" \",\"_\").strip()\n",
    "    count+=1\n",
    "    print(b,'=',count)"
   ]
  },
  {
   "cell_type": "code",
   "execution_count": 7,
   "id": "0a71ffed",
   "metadata": {},
   "outputs": [
    {
     "ename": "KeyError",
     "evalue": "('name', 'adnan')",
     "output_type": "error",
     "traceback": [
      "\u001b[1;31m---------------------------------------------------------------------------\u001b[0m",
      "\u001b[1;31mKeyError\u001b[0m                                  Traceback (most recent call last)",
      "Input \u001b[1;32mIn [7]\u001b[0m, in \u001b[0;36m<cell line: 2>\u001b[1;34m()\u001b[0m\n\u001b[0;32m      1\u001b[0m ct\u001b[38;5;241m=\u001b[39m{\u001b[38;5;124m\"\u001b[39m\u001b[38;5;124mname\u001b[39m\u001b[38;5;124m\"\u001b[39m:\u001b[38;5;124m\"\u001b[39m\u001b[38;5;124madnan\u001b[39m\u001b[38;5;124m\"\u001b[39m,\u001b[38;5;124m\"\u001b[39m\u001b[38;5;124mage\u001b[39m\u001b[38;5;124m\"\u001b[39m:\u001b[38;5;241m22\u001b[39m}\n\u001b[0;32m      2\u001b[0m \u001b[38;5;28;01mfor\u001b[39;00m i \u001b[38;5;129;01min\u001b[39;00m ct\u001b[38;5;241m.\u001b[39mitems():\n\u001b[1;32m----> 3\u001b[0m     \u001b[38;5;28mprint\u001b[39m(i,\u001b[43mct\u001b[49m\u001b[43m[\u001b[49m\u001b[43mi\u001b[49m\u001b[43m]\u001b[49m)\n",
      "\u001b[1;31mKeyError\u001b[0m: ('name', 'adnan')"
     ]
    }
   ],
   "source": []
  },
  {
   "cell_type": "code",
   "execution_count": 4,
   "id": "fab16e17",
   "metadata": {},
   "outputs": [
    {
     "name": "stdout",
     "output_type": "stream",
     "text": [
      "{1: 2, 2: 1}\n"
     ]
    }
   ],
   "source": [
    "a={1:2,2:1}\n",
    "a.get(2)\n",
    "print(a)"
   ]
  },
  {
   "cell_type": "code",
   "execution_count": null,
   "id": "a0323793",
   "metadata": {},
   "outputs": [],
   "source": []
  },
  {
   "cell_type": "code",
   "execution_count": null,
   "id": "a096c8f5",
   "metadata": {},
   "outputs": [],
   "source": []
  }
 ],
 "metadata": {
  "kernelspec": {
   "display_name": "Python 3 (ipykernel)",
   "language": "python",
   "name": "python3"
  },
  "language_info": {
   "codemirror_mode": {
    "name": "ipython",
    "version": 3
   },
   "file_extension": ".py",
   "mimetype": "text/x-python",
   "name": "python",
   "nbconvert_exporter": "python",
   "pygments_lexer": "ipython3",
   "version": "3.10.4"
  },
  "vscode": {
   "interpreter": {
    "hash": "4916b217e943d8ea39d820c4d7ab9398109338374d3454ef47f4a96b029b8aae"
   }
  }
 },
 "nbformat": 4,
 "nbformat_minor": 5
}
