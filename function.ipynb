{
 "cells": [
  {
   "cell_type": "code",
   "execution_count": 6,
   "id": "b5063883",
   "metadata": {},
   "outputs": [
    {
     "name": "stdout",
     "output_type": "stream",
     "text": [
      "Adnan Shaikh\n"
     ]
    }
   ],
   "source": [
    "def my_function(lname,fname):\n",
    "    print(lname,fname)\n",
    "my_function(\"Adnan\",\"Shaikh\")"
   ]
  },
  {
   "cell_type": "code",
   "execution_count": 23,
   "id": "db50ffb8",
   "metadata": {},
   "outputs": [
    {
     "name": "stdout",
     "output_type": "stream",
     "text": [
      "shaikh\n",
      "adnan\n"
     ]
    }
   ],
   "source": [
    "def my_function(*fname):\n",
    "    print(fname[0])\n",
    "    print(fname[1])       \n",
    "my_function(\"shaikh\",\"adnan\")"
   ]
  },
  {
   "cell_type": "code",
   "execution_count": 13,
   "id": "e7d8e7ce",
   "metadata": {},
   "outputs": [
    {
     "name": "stdout",
     "output_type": "stream",
     "text": [
      "hello adnan your course name python\n"
     ]
    }
   ],
   "source": [
    "def my_function(name,course_name):\n",
    "    print(\"hello\",name,\"your course name\",course_name)\n",
    "my_function(\"adnan\",\"python\")"
   ]
  },
  {
   "cell_type": "code",
   "execution_count": 1,
   "id": "71a7cab1",
   "metadata": {},
   "outputs": [
    {
     "name": "stdout",
     "output_type": "stream",
     "text": [
      "addition: 30\n"
     ]
    }
   ],
   "source": [
    "def calculator(a,b):\n",
    "    add=a+b\n",
    "    return add\n",
    "var=calculator(20,10)\n",
    "print(\"addition:\",var)"
   ]
  },
  {
   "cell_type": "code",
   "execution_count": 14,
   "id": "081121ba",
   "metadata": {},
   "outputs": [
    {
     "name": "stdout",
     "output_type": "stream",
     "text": [
      "10\n",
      "20\n",
      "30\n"
     ]
    }
   ],
   "source": [
    "def calculator(a,b):\n",
    "    var=a+b\n",
    "    return var\n",
    "f=calculator(int(input()),int(input()))\n",
    "print(f)"
   ]
  },
  {
   "cell_type": "code",
   "execution_count": 1,
   "id": "29809845",
   "metadata": {},
   "outputs": [
    {
     "name": "stdout",
     "output_type": "stream",
     "text": [
      "15\n"
     ]
    }
   ],
   "source": [
    "def my_function():\n",
    "    a=10\n",
    "    b=5\n",
    "    c=a+b\n",
    "    return c\n",
    "var=my_function()\n",
    "print(var)"
   ]
  },
  {
   "cell_type": "code",
   "execution_count": 20,
   "id": "ee2a20d2",
   "metadata": {},
   "outputs": [
    {
     "name": "stdout",
     "output_type": "stream",
     "text": [
      "Enter your number20\n",
      "Enter your second number2\n",
      "addtion: 22\n"
     ]
    }
   ],
   "source": [
    "def add():\n",
    "    a=int(input(\"Enter your number\"))\n",
    "    b=int(input(\"Enter your second number\"))\n",
    "    c=a+b\n",
    "    print(\"addtion:\",c)\n",
    "add()"
   ]
  },
  {
   "cell_type": "code",
   "execution_count": 21,
   "id": "6bee1b58",
   "metadata": {},
   "outputs": [
    {
     "name": "stdout",
     "output_type": "stream",
     "text": [
      "Enter your number202\n",
      "Enter your second number1\n",
      "addtion: 203\n"
     ]
    }
   ],
   "source": [
    "add()"
   ]
  },
  {
   "cell_type": "code",
   "execution_count": 1,
   "id": "55649d31",
   "metadata": {},
   "outputs": [
    {
     "ename": "NameError",
     "evalue": "name 'add' is not defined",
     "output_type": "error",
     "traceback": [
      "\u001b[1;31m---------------------------------------------------------------------------\u001b[0m",
      "\u001b[1;31mNameError\u001b[0m                                 Traceback (most recent call last)",
      "Input \u001b[1;32mIn [1]\u001b[0m, in \u001b[0;36m<cell line: 1>\u001b[1;34m()\u001b[0m\n\u001b[1;32m----> 1\u001b[0m \u001b[43madd\u001b[49m()\n",
      "\u001b[1;31mNameError\u001b[0m: name 'add' is not defined"
     ]
    }
   ],
   "source": [
    "add()"
   ]
  },
  {
   "cell_type": "code",
   "execution_count": 16,
   "id": "5dc89d43",
   "metadata": {},
   "outputs": [
    {
     "name": "stdout",
     "output_type": "stream",
     "text": [
      "6\n",
      "21\n"
     ]
    }
   ],
   "source": [
    "def sum(n):\n",
    "    if n==1:\n",
    "        return 1\n",
    "    else:\n",
    "        return(n+sum(n-1))\n",
    "n=int(input())\n",
    "z=sum(n)\n",
    "print(z)"
   ]
  },
  {
   "cell_type": "code",
   "execution_count": 17,
   "id": "f6bf63c6",
   "metadata": {},
   "outputs": [
    {
     "name": "stdout",
     "output_type": "stream",
     "text": [
      "adnan\n",
      "shaikh\n"
     ]
    }
   ],
   "source": [
    "def fun():\n",
    "    def function():\n",
    "        print(\"adnan\")\n",
    "    function()\n",
    "    print(\"shaikh\")\n",
    "fun()"
   ]
  },
  {
   "cell_type": "code",
   "execution_count": 18,
   "id": "1ea44ae4",
   "metadata": {},
   "outputs": [
    {
     "name": "stdout",
     "output_type": "stream",
     "text": [
      "adnan 22\n"
     ]
    }
   ],
   "source": [
    "def function(name,age):\n",
    "    print(name,age)\n",
    "function(\"adnan\",\"22\")"
   ]
  },
  {
   "cell_type": "code",
   "execution_count": 86,
   "id": "612963e3",
   "metadata": {},
   "outputs": [
    {
     "name": "stdout",
     "output_type": "stream",
     "text": [
      "(16, 4, 60, 1.6666666666666667)\n"
     ]
    }
   ],
   "source": [
    "def func(a,b):\n",
    "    add =a+b\n",
    "    sub = a-b\n",
    "    multi = a*b\n",
    "    div = a/b\n",
    "    return add,sub,multi,div\n",
    "res = func(10,6)\n",
    "print(res)"
   ]
  },
  {
   "cell_type": "code",
   "execution_count": 96,
   "id": "b02c69d5",
   "metadata": {},
   "outputs": [
    {
     "name": "stdout",
     "output_type": "stream",
     "text": [
      "Enter your number202\n",
      "Enter your second number120\n",
      "addtion: 322\n"
     ]
    }
   ],
   "source": [
    "add()"
   ]
  },
  {
   "cell_type": "code",
   "execution_count": 45,
   "id": "76067b41",
   "metadata": {},
   "outputs": [
    {
     "name": "stdout",
     "output_type": "stream",
     "text": [
      "Enter your number20\n",
      "Enter your second number1201\n",
      "addtion: 1221\n"
     ]
    }
   ],
   "source": [
    "add()"
   ]
  },
  {
   "cell_type": "code",
   "execution_count": 3,
   "id": "f198fe70",
   "metadata": {},
   "outputs": [
    {
     "name": "stdout",
     "output_type": "stream",
     "text": [
      "20\n"
     ]
    }
   ],
   "source": [
    "def outer_fun(a,b):\n",
    "    square=a**2\n",
    "    def addition(a,b):\n",
    "        return a+b\n",
    "    add=addition(a,b)\n",
    "    return add + 5\n",
    "result=outer_fun(5,10)\n",
    "print(result)"
   ]
  },
  {
   "cell_type": "code",
   "execution_count": 4,
   "id": "8dc9394a",
   "metadata": {},
   "outputs": [
    {
     "name": "stdout",
     "output_type": "stream",
     "text": [
      "55\n"
     ]
    }
   ],
   "source": [
    "def f(sum):\n",
    "    if sum:\n",
    "        return sum+ f(sum-1)\n",
    "    else:\n",
    "        return 0\n",
    "var=f(10)\n",
    "print(var)"
   ]
  },
  {
   "cell_type": "code",
   "execution_count": 9,
   "id": "20f08e63",
   "metadata": {},
   "outputs": [
    {
     "name": "stdout",
     "output_type": "stream",
     "text": [
      "name: adnan salary: 12000\n",
      "name: akbar salary: 9000\n"
     ]
    }
   ],
   "source": [
    "def function(name,salary=9000):\n",
    "    print(\"name:\",name,\"salary:\",salary)\n",
    "    \n",
    "function(\"adnan\",12000)\n",
    "function(\"akbar\")"
   ]
  },
  {
   "cell_type": "code",
   "execution_count": 49,
   "id": "5b33c601",
   "metadata": {},
   "outputs": [
    {
     "name": "stdout",
     "output_type": "stream",
     "text": [
      "(1, 3, 5, 7, 9, 11, 13, 15, 17, 19, 21, 23, 25, 27, 29)\n"
     ]
    }
   ],
   "source": [
    "print(tuple(range(1,30,2)))"
   ]
  },
  {
   "cell_type": "code",
   "execution_count": 6,
   "id": "5794942f",
   "metadata": {},
   "outputs": [
    {
     "name": "stdout",
     "output_type": "stream",
     "text": [
      "9765625\n"
     ]
    }
   ],
   "source": [
    "def outer_fun(a, b):\n",
    "    def inner_fun(c, d):\n",
    "        return c ** d\n",
    "    return inner_fun(a, b)\n",
    "\n",
    "res = outer_fun(5, 10)\n",
    "print(res)"
   ]
  },
  {
   "cell_type": "code",
   "execution_count": 31,
   "id": "be18e021",
   "metadata": {},
   "outputs": [
    {
     "name": "stdout",
     "output_type": "stream",
     "text": [
      "100\n"
     ]
    }
   ],
   "source": [
    "res=outer_fun(20,5)\n",
    "print(res)"
   ]
  },
  {
   "cell_type": "code",
   "execution_count": 32,
   "id": "c8df48c8",
   "metadata": {},
   "outputs": [
    {
     "name": "stdout",
     "output_type": "stream",
     "text": [
      "4\n"
     ]
    }
   ],
   "source": [
    "res=outer_fun(2,2)\n",
    "print(res)"
   ]
  },
  {
   "cell_type": "code",
   "execution_count": 32,
   "id": "9119f3d3",
   "metadata": {},
   "outputs": [
    {
     "name": "stdout",
     "output_type": "stream",
     "text": [
      "name adnan age 22\n"
     ]
    }
   ],
   "source": [
    "def f(*kid):\n",
    "    print(\"name\",\"adnan\",\"age\",\"22\")\n",
    "f()"
   ]
  },
  {
   "cell_type": "code",
   "execution_count": 1,
   "id": "3761aa36",
   "metadata": {},
   "outputs": [
    {
     "name": "stdout",
     "output_type": "stream",
     "text": [
      "5\n",
      "15\n"
     ]
    }
   ],
   "source": [
    "def recursion(n):\n",
    "    if n==1:\n",
    "        return 1\n",
    "    else:\n",
    "        return n+recursion(n-1)\n",
    "n=int(input())\n",
    "var=recursion(n)\n",
    "print(var)"
   ]
  },
  {
   "cell_type": "code",
   "execution_count": 7,
   "id": "61691687",
   "metadata": {},
   "outputs": [
    {
     "name": "stdout",
     "output_type": "stream",
     "text": [
      "10\n",
      "even number\n"
     ]
    }
   ],
   "source": [
    "def even(n):\n",
    "    if n%2==0:\n",
    "        print(\"even number\")\n",
    "    else:\n",
    "        print(\"odd number\")\n",
    "n=int(input())\n",
    "var=even(n)"
   ]
  },
  {
   "cell_type": "code",
   "execution_count": 23,
   "id": "adb3dd95",
   "metadata": {},
   "outputs": [
    {
     "name": "stdout",
     "output_type": "stream",
     "text": [
      "15\n"
     ]
    }
   ],
   "source": [
    "def function(a,b):\n",
    "    var=a+b\n",
    "    print(var) \n",
    "function(10,5)\n",
    "    "
   ]
  },
  {
   "cell_type": "code",
   "execution_count": null,
   "id": "ab4ab98a",
   "metadata": {},
   "outputs": [],
   "source": [
    "def function(n):\n",
    "    if n==1:\n",
    "        return 1\n",
    "    return function+n(n-1)\n"
   ]
  },
  {
   "cell_type": "code",
   "execution_count": 8,
   "id": "f2262013",
   "metadata": {},
   "outputs": [
    {
     "name": "stdout",
     "output_type": "stream",
     "text": [
      "[2, 4, 4]\n"
     ]
    }
   ],
   "source": [
    "lst=[1,2,3,4,4,5]\n",
    "lst2=[i for i in lst if i%2==0]\n",
    "print(lst2)"
   ]
  },
  {
   "cell_type": "code",
   "execution_count": 37,
   "id": "16a788e7",
   "metadata": {},
   "outputs": [
    {
     "name": "stdout",
     "output_type": "stream",
     "text": [
      "9\n",
      "10\n",
      "11\n",
      "12\n"
     ]
    }
   ],
   "source": [
    "list1=[1,2,3,4]\n",
    "list2=[5,6,7,8]\n",
    "for i in list1:\n",
    "    for j in list2:\n",
    "        n=i+j\n",
    "    print(n)"
   ]
  },
  {
   "cell_type": "code",
   "execution_count": 4,
   "id": "4648fee3",
   "metadata": {},
   "outputs": [
    {
     "name": "stdout",
     "output_type": "stream",
     "text": [
      "This function returns the factorial of a given number.\n"
     ]
    }
   ],
   "source": [
    "def factorial(x,y):\n",
    "    \"\"\"This function returns the factorial of a given number.\"\"\"\n",
    "    return x,y\n",
    "\n",
    "# access doc string\n",
    "print(factorial.__doc__)"
   ]
  },
  {
   "cell_type": "code",
   "execution_count": 5,
   "id": "3f876d4f",
   "metadata": {},
   "outputs": [
    {
     "name": "stdout",
     "output_type": "stream",
     "text": [
      "(15, 5, 50, 2.0)\n"
     ]
    }
   ],
   "source": [
    "def add(num1,num2):\n",
    "    add=num1+num2\n",
    "    sub=num1-num2\n",
    "    mul=num1*num2\n",
    "    div=num1/num2\n",
    "    return add ,sub,mul,div\n",
    "var=fun(10,5)\n",
    "print(var)"
   ]
  },
  {
   "cell_type": "code",
   "execution_count": 13,
   "id": "dc05ba56",
   "metadata": {},
   "outputs": [
    {
     "name": "stdout",
     "output_type": "stream",
     "text": [
      "value of x inside inner function is : 700\n",
      "value of x inside outer function is : 700\n"
     ]
    }
   ],
   "source": [
    "def outer_func():\n",
    "    x = 777\n",
    "    def inner_func():\n",
    "        # local variable now acts as global variable\n",
    "        nonlocal x\n",
    "        x = 700\n",
    "        print(\"value of x inside inner function is :\", x)\n",
    "\n",
    "    inner_func()\n",
    "    print(\"value of x inside outer function is :\", x)\n",
    "\n",
    "outer_func()"
   ]
  },
  {
   "cell_type": "code",
   "execution_count": 12,
   "id": "c31eac5f",
   "metadata": {},
   "outputs": [
    {
     "name": "stdout",
     "output_type": "stream",
     "text": [
      "factorial of a number is: 6\n"
     ]
    }
   ],
   "source": [
    "def factorial(n):\n",
    "    if n == 0:\n",
    "        return 1\n",
    "    else:\n",
    "        return n * factorial(n - 1)\n",
    "print(\"factorial of a number is:\", factorial(3))"
   ]
  },
  {
   "cell_type": "code",
   "execution_count": 45,
   "id": "6a72e4e4",
   "metadata": {},
   "outputs": [
    {
     "name": "stdout",
     "output_type": "stream",
     "text": [
      "n\n",
      "a\n",
      "m\n",
      "e\n"
     ]
    }
   ],
   "source": [
    "def display_person(**args):\n",
    "    for i in args:\n",
    "        print(i)\n",
    "display_person(n=\"Emma\", a=\"25\",m=\"akbar\",e=\"moin\")"
   ]
  },
  {
   "cell_type": "code",
   "execution_count": 46,
   "id": "e6591da6",
   "metadata": {},
   "outputs": [
    {
     "name": "stdout",
     "output_type": "stream",
     "text": [
      "25\n",
      "75\n",
      "55\n",
      "10\n",
      "20\n"
     ]
    }
   ],
   "source": [
    "def fun(*data):\n",
    "    for i in data:\n",
    "        print(i)\n",
    "fun(25,75,55)\n",
    "fun(10,20)        "
   ]
  },
  {
   "cell_type": "code",
   "execution_count": 50,
   "id": "8ea4668a",
   "metadata": {},
   "outputs": [
    {
     "name": "stdout",
     "output_type": "stream",
     "text": [
      "Emma 25\n"
     ]
    }
   ],
   "source": [
    "def fun1(name, age):\n",
    "    print(name, age)\n",
    "\n",
    "fun1('Emma', 25)"
   ]
  },
  {
   "cell_type": "code",
   "execution_count": 57,
   "id": "432cd016",
   "metadata": {},
   "outputs": [
    {
     "name": "stdout",
     "output_type": "stream",
     "text": [
      "20\n",
      "40\n",
      "60\n",
      "80\n",
      "100\n"
     ]
    }
   ],
   "source": [
    "def number(*a):\n",
    "    for i in a:\n",
    "        print(i)\n",
    "number(20,40,60)\n",
    "number(80,100)"
   ]
  },
  {
   "cell_type": "code",
   "execution_count": 50,
   "id": "a02a752b",
   "metadata": {},
   "outputs": [
    {
     "name": "stdout",
     "output_type": "stream",
     "text": [
      "Enter your number5\n",
      "Enter your second number5\n",
      "addtion: 10\n"
     ]
    }
   ],
   "source": [
    "add()"
   ]
  },
  {
   "cell_type": "code",
   "execution_count": 61,
   "id": "ec8a1dce",
   "metadata": {},
   "outputs": [
    {
     "name": "stdout",
     "output_type": "stream",
     "text": [
      "15\n"
     ]
    }
   ],
   "source": [
    "def outer_fun(a, b):\n",
    "    def inner_fun(c, d):\n",
    "        return c + d\n",
    "\n",
    "    return inner_fun(a, b)\n",
    "    return a\n",
    "\n",
    "result = outer_fun(5, 10)\n",
    "print(result)"
   ]
  },
  {
   "cell_type": "code",
   "execution_count": 73,
   "id": "64b65cde",
   "metadata": {},
   "outputs": [
    {
     "name": "stdout",
     "output_type": "stream",
     "text": [
      "120\n"
     ]
    }
   ],
   "source": [
    "def function(n):\n",
    "    if n==1:\n",
    "        return 1\n",
    "    else:\n",
    "        return n*functions(n-1)\n",
    "var=function(5)\n",
    "print(var)"
   ]
  },
  {
   "cell_type": "code",
   "execution_count": 39,
   "id": "f383425f",
   "metadata": {},
   "outputs": [
    {
     "name": "stdout",
     "output_type": "stream",
     "text": [
      "[0, 2, 4, 6, 8, 10]\n"
     ]
    }
   ],
   "source": [
    "l1=[i for i in range(0,11,2)]\n",
    "print(l1)"
   ]
  },
  {
   "cell_type": "code",
   "execution_count": 41,
   "id": "a57b3239",
   "metadata": {},
   "outputs": [
    {
     "name": "stdout",
     "output_type": "stream",
     "text": [
      "[1, 3, 5, 7, 9, 11]\n"
     ]
    }
   ],
   "source": [
    "l2=[n+1 for n in l1]\n",
    "print(l2)"
   ]
  },
  {
   "cell_type": "code",
   "execution_count": 13,
   "id": "0eab552a",
   "metadata": {},
   "outputs": [
    {
     "name": "stdout",
     "output_type": "stream",
     "text": [
      "{3, 'shoaib', 'akbar', 'adnan'}\n"
     ]
    }
   ],
   "source": [
    "l={\"adnan\",\"akbar\",\"shoaib\"}\n",
    "l.add(3)\n",
    "print(l)"
   ]
  },
  {
   "cell_type": "code",
   "execution_count": null,
   "id": "351a0c1f",
   "metadata": {},
   "outputs": [],
   "source": []
  },
  {
   "cell_type": "code",
   "execution_count": null,
   "id": "459df254",
   "metadata": {},
   "outputs": [],
   "source": []
  }
 ],
 "metadata": {
  "kernelspec": {
   "display_name": "Python 3 (ipykernel)",
   "language": "python",
   "name": "python3"
  },
  "language_info": {
   "codemirror_mode": {
    "name": "ipython",
    "version": 3
   },
   "file_extension": ".py",
   "mimetype": "text/x-python",
   "name": "python",
   "nbconvert_exporter": "python",
   "pygments_lexer": "ipython3",
   "version": "3.10.4"
  }
 },
 "nbformat": 4,
 "nbformat_minor": 5
}
