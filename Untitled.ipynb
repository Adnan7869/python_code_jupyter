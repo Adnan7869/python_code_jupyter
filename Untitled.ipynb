{
 "cells": [
  {
   "cell_type": "code",
   "execution_count": 17,
   "id": "e3c29b70",
   "metadata": {},
   "outputs": [
    {
     "name": "stdout",
     "output_type": "stream",
     "text": [
      "my function fifth\n",
      "my function is six\n",
      "my function third\n",
      "my function fourth\n"
     ]
    }
   ],
   "source": [
    "def working(func):\n",
    "    def inner():\n",
    "        func()\n",
    "        print('my function third')\n",
    "        print('my function fourth')\n",
    "    return inner\n",
    "\n",
    "def noworking(func):\n",
    "    def inner():\n",
    "        \n",
    "        print(\"my function fifth\")\n",
    "        print(\"my function is six\")\n",
    "    return inner\n",
    "@working\n",
    "@noworking\n",
    "def work():\n",
    "    print('my function first')\n",
    "    print('my function second')\n",
    "work()"
   ]
  },
  {
   "cell_type": "code",
   "execution_count": 13,
   "id": "479c5008",
   "metadata": {},
   "outputs": [
    {
     "name": "stdout",
     "output_type": "stream",
     "text": [
      "[4, 5, 3, 4]\n"
     ]
    }
   ],
   "source": [
    "a=[4,54,3,4,5,6,4,23]\n",
    "# ouput [4,5,3,4]\n",
    "# "
   ]
  },
  {
   "cell_type": "code",
   "execution_count": 14,
   "id": "27c1ae6c",
   "metadata": {},
   "outputs": [
    {
     "name": "stdout",
     "output_type": "stream",
     "text": [
      "23\n"
     ]
    }
   ],
   "source": [
    "a=[4,54,3,4,5,6,4,23]\n",
    "for i in a:\n",
    "    pass\n",
    "print(i)"
   ]
  },
  {
   "cell_type": "code",
   "execution_count": 15,
   "id": "7b477f20",
   "metadata": {},
   "outputs": [
    {
     "name": "stdout",
     "output_type": "stream",
     "text": [
      "0\n",
      "1\n",
      "1\n",
      "2\n",
      "3\n",
      "5\n",
      "8\n",
      "13\n",
      "21\n",
      "34\n"
     ]
    }
   ],
   "source": [
    "def a(n):\n",
    "    if n<=1:\n",
    "        return n\n",
    "#     p,v=0,1\n",
    "#     count=1\n",
    "#     while count<n:\n",
    "#         b=p+v\n",
    "#         p=v\n",
    "#         v=b\n",
    "#         count+=1\n",
    "#     return v\n",
    "n=10\n",
    "i=0\n",
    "while i<n:\n",
    "    print(a(i))\n",
    "    i+=1"
   ]
  },
  {
   "cell_type": "code",
   "execution_count": 5,
   "id": "11b58fb9",
   "metadata": {},
   "outputs": [
    {
     "name": "stdout",
     "output_type": "stream",
     "text": [
      "3\n"
     ]
    }
   ],
   "source": [
    "lst = [1,1,2,2,3]\n",
    "for i in lst:\n",
    "    if lst.count(i)<2:\n",
    "        print(i)"
   ]
  },
  {
   "cell_type": "code",
   "execution_count": 40,
   "id": "92f42ce4",
   "metadata": {},
   "outputs": [
    {
     "name": "stdout",
     "output_type": "stream",
     "text": [
      "[1, 4]\n"
     ]
    }
   ],
   "source": [
    "lst = [2,3,5]\n",
    "x = []\n",
    "c = max(lst)\n",
    "for i in range(1,c):\n",
    "    if i not in lst:\n",
    "        x.append(i)\n",
    "print(x)"
   ]
  },
  {
   "cell_type": "code",
   "execution_count": 32,
   "id": "734aef80",
   "metadata": {},
   "outputs": [
    {
     "name": "stdout",
     "output_type": "stream",
     "text": [
      "8\n",
      "9\n"
     ]
    }
   ],
   "source": [
    "a=[7,10]\n",
    "b=max(a)\n",
    "for i in range(a[0],b):\n",
    "    if i not in a:\n",
    "        print(i)"
   ]
  },
  {
   "cell_type": "code",
   "execution_count": 13,
   "id": "c5aad73a",
   "metadata": {},
   "outputs": [
    {
     "name": "stdout",
     "output_type": "stream",
     "text": [
      "2\n"
     ]
    }
   ],
   "source": [
    "lst = ['1221','xyz','kk', 'aba', 'abc']\n",
    "\n",
    "count=0\n",
    "for i in range(len(lst)):\n",
    "    if len(lst[i]) > 2 :\n",
    "        if lst[i].isalnum and lst[i][::-1] == lst[i][0::]:\n",
    "            count +=1\n",
    "print(count)"
   ]
  },
  {
   "cell_type": "code",
   "execution_count": 48,
   "id": "ada5033a",
   "metadata": {},
   "outputs": [
    {
     "name": "stdout",
     "output_type": "stream",
     "text": [
      "no\n"
     ]
    }
   ],
   "source": [
    "lst = [1,3,4,5,88,43]\n",
    "x = [65,57,8,6,31,56]\n",
    "c=[]\n",
    "for i in lst:\n",
    "    if i in x:\n",
    "        c.extend(lst)\n",
    "        c.extend(x)\n",
    "        print(c)\n",
    "        break\n",
    "else:\n",
    "    print(\"no\")\n",
    "    \n",
    "    \n",
    "# print(c)        "
   ]
  },
  {
   "cell_type": "code",
   "execution_count": 9,
   "id": "59ed76ef",
   "metadata": {},
   "outputs": [
    {
     "name": "stdout",
     "output_type": "stream",
     "text": [
      "Enter a list1,2,3,4,2,1\n",
      "1,2,3,4,2,1 occurs 1 times(s)\n"
     ]
    }
   ],
   "source": [
    "numbers = input(\"Enter a list\").split()\n",
    "frequency = {}\n",
    "\n",
    "for num in numbers:\n",
    "    if num in frequency:\n",
    "        frequency[num] += 1\n",
    "    else:\n",
    "        frequency[num] = 1\n",
    "\n",
    "for num,freq in frequency.items():\n",
    "    print(num,\"occurs\",freq,\"times(s)\")"
   ]
  },
  {
   "cell_type": "code",
   "execution_count": 44,
   "id": "3c52237f",
   "metadata": {},
   "outputs": [
    {
     "name": "stdout",
     "output_type": "stream",
     "text": [
      "1\n",
      "3\n",
      "5\n",
      "7\n"
     ]
    }
   ],
   "source": [
    "lst = [1,3,4,5,7,4,4]\n",
    "for i in lst:\n",
    "    if lst.count(i)<2:\n",
    "        print(i)"
   ]
  },
  {
   "cell_type": "code",
   "execution_count": 9,
   "id": "cba6464f",
   "metadata": {},
   "outputs": [
    {
     "name": "stdout",
     "output_type": "stream",
     "text": [
      "(34, 22)\n"
     ]
    }
   ],
   "source": [
    "a=[(1,2),(23,9),(34,22),(10,11)]\n",
    "b=[3,4]\n",
    "c=max(a, key=lambda x: abs(x[0]-b[0]+x[1]-b[1]))\n",
    "print(c)"
   ]
  },
  {
   "cell_type": "code",
   "execution_count": 14,
   "id": "694a750c",
   "metadata": {},
   "outputs": [
    {
     "name": "stdout",
     "output_type": "stream",
     "text": [
      "11\n"
     ]
    }
   ],
   "source": [
    "a=[7,8,9,2,4,11,45]\n",
    "b=[12]\n",
    "c=min(a,key=lambda x: abs(x-b[0]))\n",
    "print(c)"
   ]
  },
  {
   "cell_type": "code",
   "execution_count": 58,
   "id": "c9b42976",
   "metadata": {},
   "outputs": [
    {
     "name": "stdout",
     "output_type": "stream",
     "text": [
      "[1, 3, 4, 5, 88, 43, 65, 57, 8, 3, 6, 31, 56]\n"
     ]
    }
   ],
   "source": [
    "lst = [1,3,4,5,88,43]\n",
    "x = [65,57,8,3,6,31,56]\n",
    "c=None\n",
    "for i in lst:\n",
    "    for j in x:\n",
    "        if i == j:\n",
    "            c = lst + x\n",
    "            print(c)\n",
    "            break"
   ]
  },
  {
   "cell_type": "code",
   "execution_count": 1,
   "id": "3a260f09",
   "metadata": {},
   "outputs": [
    {
     "name": "stdout",
     "output_type": "stream",
     "text": [
      "False\n"
     ]
    }
   ],
   "source": [
    "a = \"python\"\n",
    "b = \"pythoN\"\n",
    "if a == b:\n",
    "    print(True)\n",
    "else:\n",
    "    print(False)"
   ]
  },
  {
   "cell_type": "code",
   "execution_count": null,
   "id": "489aeaf6",
   "metadata": {},
   "outputs": [],
   "source": []
  },
  {
   "cell_type": "code",
   "execution_count": null,
   "id": "0cbb8da2",
   "metadata": {},
   "outputs": [],
   "source": []
  }
 ],
 "metadata": {
  "kernelspec": {
   "display_name": "Python 3 (ipykernel)",
   "language": "python",
   "name": "python3"
  },
  "language_info": {
   "codemirror_mode": {
    "name": "ipython",
    "version": 3
   },
   "file_extension": ".py",
   "mimetype": "text/x-python",
   "name": "python",
   "nbconvert_exporter": "python",
   "pygments_lexer": "ipython3",
   "version": "3.10.4"
  }
 },
 "nbformat": 4,
 "nbformat_minor": 5
}
