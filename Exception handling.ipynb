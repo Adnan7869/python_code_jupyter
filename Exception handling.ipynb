{
 "cells": [
  {
   "cell_type": "code",
   "execution_count": 9,
   "id": "e161331e",
   "metadata": {
    "scrolled": true
   },
   "outputs": [
    {
     "name": "stdout",
     "output_type": "stream",
     "text": [
      "division by zero\n",
      "inside except\n"
     ]
    }
   ],
   "source": [
    "a=10\n",
    "b=0\n",
    "try:\n",
    "    c=a/b\n",
    "    print(c)\n",
    "except ZeroDivisionError as obj:\n",
    "    print(obj)\n",
    "except nameError as ob:\n",
    "    print(ob)\n",
    "print(\"inside except\")\n"
   ]
  },
  {
   "cell_type": "code",
   "execution_count": 27,
   "id": "71f3ef4d",
   "metadata": {},
   "outputs": [
    {
     "name": "stdout",
     "output_type": "stream",
     "text": [
      "key by value: {3}\n"
     ]
    }
   ],
   "source": [
    "d={1: 2,\n",
    "   3: 4,\n",
    "  5:6}\n",
    "value = {i for i in d if d[i]==4}\n",
    "print(\"key by value:\",value)"
   ]
  },
  {
   "cell_type": "code",
   "execution_count": null,
   "id": "041e098f",
   "metadata": {},
   "outputs": [],
   "source": [
    "\n"
   ]
  }
 ],
 "metadata": {
  "kernelspec": {
   "display_name": "Python 3 (ipykernel)",
   "language": "python",
   "name": "python3"
  },
  "language_info": {
   "codemirror_mode": {
    "name": "ipython",
    "version": 3
   },
   "file_extension": ".py",
   "mimetype": "text/x-python",
   "name": "python",
   "nbconvert_exporter": "python",
   "pygments_lexer": "ipython3",
   "version": "3.10.4"
  }
 },
 "nbformat": 4,
 "nbformat_minor": 5
}
