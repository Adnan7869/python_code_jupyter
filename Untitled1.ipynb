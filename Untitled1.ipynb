{
 "cells": [
  {
   "cell_type": "code",
   "execution_count": 11,
   "id": "0ebe7e9c",
   "metadata": {},
   "outputs": [
    {
     "name": "stdout",
     "output_type": "stream",
     "text": [
      "present element 4\n"
     ]
    }
   ],
   "source": [
    "\n",
    "def binary_search(a,n):\n",
    "    x=0\n",
    "    y=len(a)-1\n",
    "    z=0\n",
    "    while x<=y:\n",
    "        z=(y+x)//2\n",
    "        if a[z]<n:\n",
    "            x=z+1\n",
    "        \n",
    "        elif a[z]>n:\n",
    "            y=z-1\n",
    "        \n",
    "        else:\n",
    "            return z\n",
    "        \n",
    "    return -1\n",
    "a=[6,9,4,3,8,45]\n",
    "n=8\n",
    "result=binary_search(a,n)\n",
    "if result!=-1:\n",
    "    print('present element',str(result))\n",
    "else:\n",
    "    print('not present')\n",
    "\n",
    "    "
   ]
  },
  {
   "cell_type": "code",
   "execution_count": null,
   "id": "c7d96456",
   "metadata": {},
   "outputs": [],
   "source": [
    "# This is models.py file\n",
    "class Product(models.Model):\n",
    "    product_name=models.Charfield(max_length=100)\n",
    "    product_price=models.Integerfield()\n",
    "    \n",
    "class Product_category(models.Model):\n",
    "    product_id=models.foreignkey(Product, ondelete=models.cascade)\n",
    "    category_type=model.Charfield(max_length=100)\n",
    "    \n",
    "\n"
   ]
  },
  {
   "cell_type": "code",
   "execution_count": null,
   "id": "e157399e",
   "metadata": {},
   "outputs": [],
   "source": [
    "# This is serializer.py file\n",
    "from rest_framework import serializers\n",
    "from .models import *\n",
    "\n",
    "class ProductSerilaizer(serializer.ModelSerializer):\n",
    "    class Meta:\n",
    "        Model=Product\n",
    "        fields='__all__'\n",
    "        \n",
    "class CategorySerializer(serializers,ModelSerializer):\n",
    "    class Meta:\n",
    "        Model= Product_category\n",
    "        fields='__all__'\n",
    "        \n",
    "        "
   ]
  },
  {
   "cell_type": "code",
   "execution_count": 1,
   "id": "0862d8d5",
   "metadata": {},
   "outputs": [
    {
     "ename": "ModuleNotFoundError",
     "evalue": "No module named 'serializer'",
     "output_type": "error",
     "traceback": [
      "\u001b[1;31m---------------------------------------------------------------------------\u001b[0m",
      "\u001b[1;31mModuleNotFoundError\u001b[0m                       Traceback (most recent call last)",
      "Input \u001b[1;32mIn [1]\u001b[0m, in \u001b[0;36m<cell line: 2>\u001b[1;34m()\u001b[0m\n\u001b[0;32m      1\u001b[0m \u001b[38;5;66;03m# This is views.py file\\\u001b[39;00m\n\u001b[1;32m----> 2\u001b[0m \u001b[38;5;28;01mfrom\u001b[39;00m \u001b[38;5;21;01mserializer\u001b[39;00m \u001b[38;5;28;01mimport\u001b[39;00m \u001b[38;5;241m*\u001b[39m\n\u001b[0;32m      3\u001b[0m \u001b[38;5;28;01mfrom\u001b[39;00m \u001b[38;5;21;01mrest_framework\u001b[39;00m\u001b[38;5;21;01m.\u001b[39;00m\u001b[38;5;21;01mviews\u001b[39;00m \u001b[38;5;28;01mimport\u001b[39;00m viewset\n\u001b[0;32m      5\u001b[0m \u001b[38;5;28;01mclass\u001b[39;00m \u001b[38;5;21;01mMyproduct\u001b[39;00m(viewsets\u001b[38;5;241m.\u001b[39mModelViewSet):\n",
      "\u001b[1;31mModuleNotFoundError\u001b[0m: No module named 'serializer'"
     ]
    }
   ],
   "source": [
    "# This is views.py file\\\n",
    "from serializer import *\n",
    "from rest_framework.views import viewset\n",
    "\n",
    "class Myproduct(viewsets.ModelViewSet):\n",
    "    serializer_class=ProductSerializer\n",
    "    queryset=Product.objects.all()\n",
    "    "
   ]
  },
  {
   "cell_type": "code",
   "execution_count": null,
   "id": "0b1479a6",
   "metadata": {},
   "outputs": [],
   "source": [
    "# This is urls.py\n",
    "from django.urls import path, include\n",
    "from rest_framework.routers import DefaultRouter\n",
    "\n",
    "router=DefaultRouter()\n",
    "router.register()"
   ]
  }
 ],
 "metadata": {
  "kernelspec": {
   "display_name": "Python 3 (ipykernel)",
   "language": "python",
   "name": "python3"
  },
  "language_info": {
   "codemirror_mode": {
    "name": "ipython",
    "version": 3
   },
   "file_extension": ".py",
   "mimetype": "text/x-python",
   "name": "python",
   "nbconvert_exporter": "python",
   "pygments_lexer": "ipython3",
   "version": "3.10.4"
  }
 },
 "nbformat": 4,
 "nbformat_minor": 5
}
