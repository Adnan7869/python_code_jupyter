{
 "cells": [
  {
   "cell_type": "code",
   "execution_count": 4,
   "id": "6e2b650e",
   "metadata": {},
   "outputs": [
    {
     "name": "stdout",
     "output_type": "stream",
     "text": [
      "total iteration required 3\n"
     ]
    }
   ],
   "source": [
    "count=0\n",
    "number=200\n",
    "while number > 10:\n",
    "#     divided by 3\n",
    "    number=number / 3\n",
    "#     incearse count\n",
    "    count=count+1\n",
    "print(\"total iteration required\",count)"
   ]
  },
  {
   "cell_type": "code",
   "execution_count": 2,
   "id": "04bc5261",
   "metadata": {},
   "outputs": [
    {
     "name": "stdout",
     "output_type": "stream",
     "text": [
      "Enter any number between 100 and 500 600\n",
      "Incorrect number, Please enter correct number:\n",
      "Enter a Number between 100 and 500 600\n",
      "Incorrect number, Please enter correct number:\n",
      "Enter a Number between 100 and 500 500\n",
      "Given Number is correct 500\n"
     ]
    }
   ],
   "source": [
    "number = int(input('Enter any number between 100 and 500 '))\n",
    "# number greater than 100 and less than 500\n",
    "while number < 100 or number > 500:\n",
    "    print('Incorrect number, Please enter correct number:')\n",
    "    number= int(input('Enter a Number between 100 and 500 '))\n",
    "else:\n",
    "    print(\"Given Number is correct\", number)"
   ]
  },
  {
   "cell_type": "code",
   "execution_count": 2,
   "id": "5e54f876",
   "metadata": {},
   "outputs": [
    {
     "name": "stdout",
     "output_type": "stream",
     "text": [
      "13\n",
      "13 odd number\n",
      "12 even number\n",
      "11 odd number\n",
      "10 even number\n",
      "9 odd number\n",
      "8 even number\n",
      "7 odd number\n",
      "6 even number\n",
      "5 odd number\n",
      "4 even number\n",
      "3 odd number\n",
      "2 even number\n",
      "1 odd number\n"
     ]
    }
   ],
   "source": [
    "n=int(input())\n",
    "while n > 0:\n",
    "    if n%2==0:\n",
    "        print(n,\"even number\")\n",
    "    else:\n",
    "        print(n,\"odd number\")\n",
    "    n=n-1"
   ]
  },
  {
   "cell_type": "code",
   "execution_count": 7,
   "id": "5f03a4d3",
   "metadata": {},
   "outputs": [
    {
     "name": "stdout",
     "output_type": "stream",
     "text": [
      "adnan"
     ]
    }
   ],
   "source": [
    "name=\"adnan12shaikh\"\n",
    "size=len(name)\n",
    "i=0\n",
    "while i < size:\n",
    "    if name[i].isdecimal():\n",
    "        break;\n",
    "    print(name[i],end='')\n",
    "    i=i+1"
   ]
  },
  {
   "cell_type": "code",
   "execution_count": 15,
   "id": "219bcf9f",
   "metadata": {},
   "outputs": [
    {
     "name": "stdout",
     "output_type": "stream",
     "text": [
      "2 9 "
     ]
    }
   ],
   "source": [
    "name = 'Jesaa29Roy'\n",
    "\n",
    "size = len(name)\n",
    "i = -1\n",
    "# iterate loop till the last character\n",
    "while i < size - 1:\n",
    "    i = i + 1\n",
    "    # skip while loop body if current character is not alphabet\n",
    "    if not name[i].isdecimal():\n",
    "        continue\n",
    "    # print current character\n",
    "    print(name[i], end=' ')"
   ]
  },
  {
   "cell_type": "code",
   "execution_count": 10,
   "id": "58011913",
   "metadata": {},
   "outputs": [
    {
     "name": "stdout",
     "output_type": "stream",
     "text": [
      "*  \n",
      "*  *  \n",
      "*  *  *  \n",
      "*  *  *  *  \n"
     ]
    }
   ],
   "source": [
    "i=1\n",
    "while i < 5:\n",
    "    j=0\n",
    "    while j < i:\n",
    "        print('*',end='  ')\n",
    "        j=j+1\n",
    "    print('')\n",
    "    i=i+1"
   ]
  },
  {
   "cell_type": "code",
   "execution_count": 25,
   "id": "5bcc99ac",
   "metadata": {},
   "outputs": [
    {
     "name": "stdout",
     "output_type": "stream",
     "text": [
      "      * \n",
      "     * * \n",
      "    * * * \n",
      "   * * * * \n",
      "  * * * * * \n",
      " * * * * * * \n",
      "* * * * * * * \n",
      "* * * * * * * \n",
      " * * * * * * \n",
      "  * * * * * \n",
      "   * * * * \n",
      "    * * * \n",
      "     * * \n",
      "      * \n"
     ]
    }
   ],
   "source": [
    "i=1\n",
    "while i < 8:\n",
    "    for k in range(1,8-i):\n",
    "        print(' ',end='')\n",
    "    for j in range(1,i+1):\n",
    "        print('*',end=' ')\n",
    "    print('')\n",
    "    i=i+1\n",
    "    \n",
    "for i in range(7,0,-1):\n",
    "    for k in range(1,8-i):\n",
    "        print(' ',end='')\n",
    "    for j in range(1,i+1):\n",
    "        print('*',end=' ')\n",
    "    print('')"
   ]
  },
  {
   "cell_type": "code",
   "execution_count": 29,
   "id": "83159b28",
   "metadata": {},
   "outputs": [
    {
     "name": "stdout",
     "output_type": "stream",
     "text": [
      "sum 0\n",
      "sum 2\n",
      "sum 2\n",
      "sum 6\n"
     ]
    }
   ],
   "source": [
    "n=2\n",
    "i=1\n",
    "sum=0\n",
    "count=0\n",
    "while count<n:\n",
    "    if i%2==0:\n",
    "        sum=sum+i\n",
    "        count=count+1\n",
    "    i=i+1\n",
    "    print('sum',sum)"
   ]
  },
  {
   "cell_type": "code",
   "execution_count": null,
   "id": "9e157761",
   "metadata": {},
   "outputs": [],
   "source": []
  },
  {
   "cell_type": "code",
   "execution_count": null,
   "id": "e6e5a30a",
   "metadata": {},
   "outputs": [],
   "source": []
  },
  {
   "cell_type": "code",
   "execution_count": null,
   "id": "2c0262bb",
   "metadata": {},
   "outputs": [],
   "source": []
  },
  {
   "cell_type": "code",
   "execution_count": null,
   "id": "ea6a8c7a",
   "metadata": {},
   "outputs": [],
   "source": []
  },
  {
   "cell_type": "code",
   "execution_count": null,
   "id": "3c6637c8",
   "metadata": {},
   "outputs": [],
   "source": []
  },
  {
   "cell_type": "code",
   "execution_count": null,
   "id": "3810a5a3",
   "metadata": {},
   "outputs": [],
   "source": []
  }
 ],
 "metadata": {
  "kernelspec": {
   "display_name": "Python 3 (ipykernel)",
   "language": "python",
   "name": "python3"
  },
  "language_info": {
   "codemirror_mode": {
    "name": "ipython",
    "version": 3
   },
   "file_extension": ".py",
   "mimetype": "text/x-python",
   "name": "python",
   "nbconvert_exporter": "python",
   "pygments_lexer": "ipython3",
   "version": "3.10.4"
  },
  "vscode": {
   "interpreter": {
    "hash": "4916b217e943d8ea39d820c4d7ab9398109338374d3454ef47f4a96b029b8aae"
   }
  }
 },
 "nbformat": 4,
 "nbformat_minor": 5
}
