{
 "cells": [
  {
   "cell_type": "markdown",
   "id": "bb14e3ca",
   "metadata": {},
   "source": [
    "# operater keyword (and,or ,not,in ,is)"
   ]
  },
  {
   "cell_type": "code",
   "execution_count": 26,
   "id": "25c43537",
   "metadata": {},
   "outputs": [
    {
     "name": "stdout",
     "output_type": "stream",
     "text": [
      "False\n"
     ]
    }
   ],
   "source": [
    "# a=10\n",
    "# b=9\n",
    "# if a > b and b > a:\n",
    "#     print(\"yes a g than b\")\n",
    "# if a > b or b < a:\n",
    "#     print(\"yes b is less then a\",bool())\n",
    "\n",
    "    \n",
    "x=10\n",
    "b=5\n",
    "z=x < b and b < x\n",
    "print(z)\n",
    "\n",
    "\n",
    "    "
   ]
  },
  {
   "cell_type": "code",
   "execution_count": 20,
   "id": "93ca00cd",
   "metadata": {},
   "outputs": [
    {
     "name": "stdout",
     "output_type": "stream",
     "text": [
      "12\n"
     ]
    }
   ],
   "source": [
    "v1=\"1\"\n",
    "v2=\"2\"\n",
    "c=(v1+v2)\n",
    "print(c)\n"
   ]
  },
  {
   "cell_type": "code",
   "execution_count": 32,
   "id": "5a0e2b73",
   "metadata": {},
   "outputs": [
    {
     "name": "stdout",
     "output_type": "stream",
     "text": [
      "\n",
      "Here is a list of the Python keywords.  Enter any keyword to get more help.\n",
      "\n",
      "False               class               from                or\n",
      "None                continue            global              pass\n",
      "True                def                 if                  raise\n",
      "and                 del                 import              return\n",
      "as                  elif                in                  try\n",
      "assert              else                is                  while\n",
      "async               except              lambda              with\n",
      "await               finally             nonlocal            yield\n",
      "break               for                 not                 \n",
      "\n",
      "None\n"
     ]
    }
   ],
   "source": [
    "print(help('keywords'))"
   ]
  },
  {
   "cell_type": "code",
   "execution_count": 41,
   "id": "3192d83c",
   "metadata": {},
   "outputs": [
    {
     "name": "stdout",
     "output_type": "stream",
     "text": [
      "17\n",
      "your age is less\n"
     ]
    }
   ],
   "source": [
    "age=int(input())\n",
    "if  age >= 18:\n",
    "    print(\"your eligibal\")\n",
    "elif age >3 or age <17 :\n",
    "    print(\"your age is less\")\n",
    "else :\n",
    "    print(\"s\")"
   ]
  },
  {
   "cell_type": "code",
   "execution_count": 2,
   "id": "1460ad31",
   "metadata": {},
   "outputs": [
    {
     "name": "stdout",
     "output_type": "stream",
     "text": [
      "is not present\n"
     ]
    }
   ],
   "source": [
    "l1=2\n",
    "l2=1\n",
    "if l2 is l1:\n",
    "    print(\"is present\")\n",
    "else:\n",
    "    print(\"is not present\")"
   ]
  },
  {
   "cell_type": "code",
   "execution_count": 69,
   "id": "24e11d2d",
   "metadata": {},
   "outputs": [
    {
     "name": "stdout",
     "output_type": "stream",
     "text": [
      "1\n",
      "2\n",
      "4\n",
      "5\n"
     ]
    }
   ],
   "source": [
    "n=0\n",
    "while n < 5:\n",
    "    n=n+1\n",
    "    if n==3:\n",
    "        continue\n",
    "    print(n)"
   ]
  },
  {
   "cell_type": "code",
   "execution_count": 70,
   "id": "50eed1d0",
   "metadata": {},
   "outputs": [],
   "source": [
    "l=[1,2,3,4]\n",
    "for i in l:\n",
    "    if i ==3:\n",
    "        pass"
   ]
  },
  {
   "cell_type": "code",
   "execution_count": 76,
   "id": "28020fe9",
   "metadata": {},
   "outputs": [
    {
     "name": "stdout",
     "output_type": "stream",
     "text": [
      "tuple\n"
     ]
    }
   ],
   "source": [
    "l=(1,2,3,4)\n",
    "print(type(l).__name__)"
   ]
  },
  {
   "cell_type": "code",
   "execution_count": 4,
   "id": "4674549b",
   "metadata": {},
   "outputs": [
    {
     "name": "stdout",
     "output_type": "stream",
     "text": [
      "{1: 2, 2: [1]}\n"
     ]
    }
   ],
   "source": [
    "d={1:2,\n",
    "  2:[1]}\n",
    "print(d)"
   ]
  },
  {
   "cell_type": "code",
   "execution_count": 39,
   "id": "f69073a3",
   "metadata": {},
   "outputs": [
    {
     "name": "stdout",
     "output_type": "stream",
     "text": [
      "(2.2+0j)\n",
      "<class 'complex'>\n"
     ]
    },
    {
     "ename": "NameError",
     "evalue": "name 'l' is not defined",
     "output_type": "error",
     "traceback": [
      "\u001b[1;31m---------------------------------------------------------------------------\u001b[0m",
      "\u001b[1;31mNameError\u001b[0m                                 Traceback (most recent call last)",
      "Input \u001b[1;32mIn [39]\u001b[0m, in \u001b[0;36m<cell line: 5>\u001b[1;34m()\u001b[0m\n\u001b[0;32m      3\u001b[0m \u001b[38;5;28mprint\u001b[39m(\u001b[38;5;28mtype\u001b[39m(l))\n\u001b[0;32m      4\u001b[0m \u001b[38;5;28;01mdel\u001b[39;00m l\n\u001b[1;32m----> 5\u001b[0m \u001b[38;5;28mprint\u001b[39m(\u001b[43ml\u001b[49m)\n",
      "\u001b[1;31mNameError\u001b[0m: name 'l' is not defined"
     ]
    }
   ],
   "source": [
    "l=complex(2.2)\n",
    "print(l)\n",
    "print(type(l))\n",
    "del l\n",
    "print(l)"
   ]
  },
  {
   "cell_type": "code",
   "execution_count": 43,
   "id": "2ebbc6ac",
   "metadata": {},
   "outputs": [
    {
     "name": "stdout",
     "output_type": "stream",
     "text": [
      "<class 'int'>\n"
     ]
    }
   ],
   "source": [
    "current_temperature=200\n",
    "print(type(current_temperature))"
   ]
  },
  {
   "cell_type": "code",
   "execution_count": 56,
   "id": "d6562886",
   "metadata": {},
   "outputs": [
    {
     "name": "stdout",
     "output_type": "stream",
     "text": [
      "0\n",
      "1\n",
      "2\n",
      "3\n",
      "5\n",
      "6\n",
      "7\n",
      "shanawaz\n",
      "23\n",
      "akbarali\n"
     ]
    }
   ],
   "source": [
    "name,age,Name=\"shanawaz\",23,\"akbarali\"\n",
    "for i in range(len(name)):\n",
    "    if i == 4:\n",
    "        continue\n",
    "    print(i)\n",
    "print(name)\n",
    "print(age)\n",
    "print(Name)"
   ]
  },
  {
   "cell_type": "code",
   "execution_count": 6,
   "id": "4d5a3e54",
   "metadata": {},
   "outputs": [
    {
     "name": "stdout",
     "output_type": "stream",
     "text": [
      "2604647186768\n",
      "2604647186736\n"
     ]
    }
   ],
   "source": [
    "n=3\n",
    "m=4\n",
    "print(id(m))\n",
    "print(id(n))"
   ]
  },
  {
   "cell_type": "code",
   "execution_count": 238,
   "id": "cd9045ea",
   "metadata": {},
   "outputs": [
    {
     "name": "stdout",
     "output_type": "stream",
     "text": [
      "4133\n",
      "12412\n"
     ]
    }
   ],
   "source": [
    "x=2\n",
    "y=1\n",
    "import sys\n",
    "print(sys.getrefcount(x))\n",
    "print(sys.getrefcount(y))"
   ]
  },
  {
   "cell_type": "code",
   "execution_count": 13,
   "id": "7806489a",
   "metadata": {},
   "outputs": [
    {
     "name": "stdout",
     "output_type": "stream",
     "text": [
      "(1, 2, 3, 4)\n"
     ]
    }
   ],
   "source": [
    "tup=1,2,3,4\n",
    "tup=a,b,c,d\n",
    "print(tup)"
   ]
  },
  {
   "cell_type": "code",
   "execution_count": 12,
   "id": "b367c785",
   "metadata": {},
   "outputs": [
    {
     "name": "stdout",
     "output_type": "stream",
     "text": [
      "1 2 3 4\n"
     ]
    }
   ],
   "source": [
    "t=(1,2,3,4)\n",
    "a,b,c,d=t\n",
    "print(a,b,c,d)"
   ]
  },
  {
   "cell_type": "code",
   "execution_count": 16,
   "id": "89c489f3",
   "metadata": {},
   "outputs": [
    {
     "name": "stdout",
     "output_type": "stream",
     "text": [
      "jms\n"
     ]
    }
   ],
   "source": [
    "st=\"james\"\n",
    "x=st[0:5:2]\n",
    "print(x)"
   ]
  },
  {
   "cell_type": "code",
   "execution_count": 17,
   "id": "edb992a7",
   "metadata": {},
   "outputs": [
    {
     "name": "stdout",
     "output_type": "stream",
     "text": [
      "[10, 20, 30, 40]\n",
      "[10, 20, 30, 40]\n"
     ]
    }
   ],
   "source": [
    "a = [10, 20]\n",
    "b = a\n",
    "b += [30, 40]\n",
    "print(a)\n",
    "print(b)"
   ]
  },
  {
   "cell_type": "code",
   "execution_count": 21,
   "id": "4e0a2ec0",
   "metadata": {},
   "outputs": [],
   "source": [
    "x = 10\n",
    "y = 50\n",
    "if x ** 2 > 100 and y < 100:\n",
    "    print(x, y)"
   ]
  },
  {
   "cell_type": "code",
   "execution_count": 22,
   "id": "c0982f7a",
   "metadata": {},
   "outputs": [
    {
     "name": "stdout",
     "output_type": "stream",
     "text": [
      "50\n"
     ]
    }
   ],
   "source": [
    "x = 100\n",
    "y = 50\n",
    "print(x and y)"
   ]
  },
  {
   "cell_type": "code",
   "execution_count": 57,
   "id": "92437e8d",
   "metadata": {},
   "outputs": [
    {
     "name": "stdout",
     "output_type": "stream",
     "text": [
      "* * * * *  \n",
      "* * * *  \n",
      "* * *  \n",
      "* *  \n",
      "*  \n"
     ]
    }
   ],
   "source": [
    "for i in range(5,0,-1):\n",
    "    for k in range(1,5-i):\n",
    "        print('',end='')\n",
    "    for j in range(1,i+1):\n",
    "        print(\"*\",end=' ')\n",
    "    print(' ')\n",
    "    "
   ]
  },
  {
   "cell_type": "code",
   "execution_count": 78,
   "id": "7c33cfd1",
   "metadata": {},
   "outputs": [
    {
     "name": "stdout",
     "output_type": "stream",
     "text": [
      "2\n",
      "2 x 1 = 2\n",
      "2 x 2 = 4\n",
      "2 x 3 = 6\n",
      "2 x 4 = 8\n",
      "2 x 5 = 10\n",
      "2 x 6 = 12\n",
      "2 x 7 = 14\n",
      "2 x 8 = 16\n",
      "2 x 9 = 18\n",
      "2 x 10 = 20\n"
     ]
    }
   ],
   "source": [
    "num=int(input())\n",
    "for i in range(1,11):\n",
    "    print(num,'x',i,'=',num*i)"
   ]
  },
  {
   "cell_type": "code",
   "execution_count": 86,
   "id": "ebfb51da",
   "metadata": {},
   "outputs": [
    {
     "name": "stdout",
     "output_type": "stream",
     "text": [
      "2\n",
      "[2, 4, 6, 8, 10, 12, 14, 16, 18, 20]\n"
     ]
    }
   ],
   "source": [
    "a=int(input())\n",
    "k=[k*a for k in range(1,11)]\n",
    "print(k)"
   ]
  },
  {
   "cell_type": "code",
   "execution_count": 89,
   "id": "2a048397",
   "metadata": {},
   "outputs": [
    {
     "name": "stdout",
     "output_type": "stream",
     "text": [
      "-8 -5 -4\n"
     ]
    }
   ],
   "source": [
    "a = 7\n",
    "b = 4\n",
    "c = 3\n",
    "print(~a, ~b, ~c)\n",
    "# Output -8 -5 -4"
   ]
  },
  {
   "cell_type": "code",
   "execution_count": 91,
   "id": "ce2c4d6a",
   "metadata": {},
   "outputs": [
    {
     "name": "stdout",
     "output_type": "stream",
     "text": [
      "-7\n"
     ]
    }
   ],
   "source": [
    "x=6\n",
    "print(~x)"
   ]
  },
  {
   "cell_type": "code",
   "execution_count": 1,
   "id": "ef76faea",
   "metadata": {},
   "outputs": [
    {
     "name": "stdout",
     "output_type": "stream",
     "text": [
      "34\n"
     ]
    }
   ],
   "source": [
    "# Function for nth Fibonacci number\n",
    "def Fibonacci(n):\n",
    "\n",
    "\t# Check if input is 0 then it will\n",
    "\t# print incorrect input\n",
    "\tif n < 0:\n",
    "\t\tprint(\"Incorrect input\")\n",
    "\n",
    "\t# Check if n is 0\n",
    "\t# then it will return 0\n",
    "\telif n == 0:\n",
    "\t\treturn 0\n",
    "\n",
    "\t# Check if n is 1,2\n",
    "\t# it will return 1\n",
    "\telif n == 1 or n == 2:\n",
    "\t\treturn 1\n",
    "\n",
    "\telse:\n",
    "\t\treturn Fibonacci(n-1) + Fibonacci(n-2)\n",
    "\n",
    "# Driver Program\n",
    "print(Fibonacci(9))\n",
    "\n",
    "# This code is contributed by Saket Modi\n",
    "# then corrected and improved by Himanshu Kanojiya\n"
   ]
  },
  {
   "cell_type": "code",
   "execution_count": null,
   "id": "d379e223",
   "metadata": {},
   "outputs": [],
   "source": []
  },
  {
   "cell_type": "code",
   "execution_count": null,
   "id": "9917d708",
   "metadata": {},
   "outputs": [],
   "source": []
  },
  {
   "cell_type": "code",
   "execution_count": null,
   "id": "530af648",
   "metadata": {},
   "outputs": [],
   "source": []
  },
  {
   "cell_type": "code",
   "execution_count": null,
   "id": "0787fa84",
   "metadata": {},
   "outputs": [],
   "source": []
  }
 ],
 "metadata": {
  "kernelspec": {
   "display_name": "Python 3 (ipykernel)",
   "language": "python",
   "name": "python3"
  },
  "language_info": {
   "codemirror_mode": {
    "name": "ipython",
    "version": 3
   },
   "file_extension": ".py",
   "mimetype": "text/x-python",
   "name": "python",
   "nbconvert_exporter": "python",
   "pygments_lexer": "ipython3",
   "version": "3.10.4"
  }
 },
 "nbformat": 4,
 "nbformat_minor": 5
}
